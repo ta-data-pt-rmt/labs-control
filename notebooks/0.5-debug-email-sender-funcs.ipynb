{
 "cells": [
  {
   "cell_type": "code",
   "execution_count": 10,
   "metadata": {},
   "outputs": [
    {
     "name": "stdout",
     "output_type": "stream",
     "text": [
      "The autoreload extension is already loaded. To reload it, use:\n",
      "  %reload_ext autoreload\n"
     ]
    }
   ],
   "source": [
    "%load_ext autoreload\n",
    "%autoreload 2\n",
    "import pandas as pd\n",
    "import numpy as np\n",
    "import logging\n",
    "#from dev.settings import WEEKS_DICT, STUDENT_EMAILS\n",
    "#from dev.email_sender import _get_completed_and_pending_labs\n",
    "\n",
    "# logger\n",
    "logger = logging.getLogger(__name__)"
   ]
  },
  {
   "cell_type": "code",
   "execution_count": 13,
   "metadata": {},
   "outputs": [],
   "source": [
    "STUDENT_EMAILS = {\n",
    "    \"Adrian Flores\" : \"adrianfg88@gmail.com\",\n",
    "    \"Aferdita Zherka Zherka\" : \"zherka.aferdita@outlook.com\",\n",
    "    \"Alicia Andrés\" : \"aliciaandressalguero@gmail.com\",\n",
    "    \"Amelie Haberland\" : \"amelie.haberland@ironhack.com\",\n",
    "    \"Angela Arredondo Mendoza\" : \"angela.arredondo99@gmail.com\",\n",
    "    \"Damiano Serra\" : \"damsvpn@protonmail.com\",\n",
    "    \"Daniel J Mendez Borges\" : \"djmborges92@gmail.com\",\n",
    "    \"Fabio Blank Da Costa\" : \"fabioblankc@gmail.com\",\n",
    "    \"Federico Cavanagh\" : \"fedecavanagh@live.com\",\n",
    "    \"Francisco Javier De Las Heras Jimenez\" : \"javierherasjimenez@hotmail.com\",\n",
    "    \"Gregor Seegers\" : \"gregor.seegers@gmail.com\",\n",
    "    \"Joaquin Valentin\" : \"quino117@hotmail.com\",\n",
    "    \"Manouk Meilof\" : \"manoukmeilof@gmail.com\",\n",
    "    \"Marc Gavaldà\" : \"gavalda.marc@gmail.com\",\n",
    "    \"María Vázquez Casares\" : \"maria.vazquez.casares@gmail.com\",\n",
    "    \"Max Grempel\" : \"maximilian.grempel@gmail.com\",\n",
    "    \"Shilei Tan Tan\" : \"tanshilei@gmail.com\",\n",
    "    \"Óscar Iglesias Roqueiro\" : \"roque.ourense@gmail.com\",\n",
    "    \"Suparna Mandal\" : \"suparna.sahoo@gmail.com\",\n",
    "    \"Vanessa Andrade\" : \"anvergara95@gmail.com\"\n",
    "}"
   ]
  },
  {
   "cell_type": "code",
   "execution_count": 4,
   "metadata": {},
   "outputs": [],
   "source": [
    "labs_with_weeks = pd.read_csv(r\"C:\\Users\\crocs\\OneDrive - Universidade de Lisboa\\Ambiente de Trabalho\\Gonçalo\\Jobs\\Ironhack-TA\\labs-control\\labs_with_weeks.csv\")"
   ]
  },
  {
   "cell_type": "code",
   "execution_count": 7,
   "metadata": {},
   "outputs": [
    {
     "data": {
      "text/html": [
       "<div>\n",
       "<style scoped>\n",
       "    .dataframe tbody tr th:only-of-type {\n",
       "        vertical-align: middle;\n",
       "    }\n",
       "\n",
       "    .dataframe tbody tr th {\n",
       "        vertical-align: top;\n",
       "    }\n",
       "\n",
       "    .dataframe thead th {\n",
       "        text-align: right;\n",
       "    }\n",
       "</style>\n",
       "<table border=\"1\" class=\"dataframe\">\n",
       "  <thead>\n",
       "    <tr style=\"text-align: right;\">\n",
       "      <th></th>\n",
       "      <th>Unnamed: 0</th>\n",
       "      <th>student_name</th>\n",
       "      <th>lab</th>\n",
       "      <th>required</th>\n",
       "      <th>lab_status</th>\n",
       "      <th>submission_date</th>\n",
       "      <th>Week</th>\n",
       "      <th>Lab_name</th>\n",
       "      <th>week_nr</th>\n",
       "    </tr>\n",
       "  </thead>\n",
       "  <tbody>\n",
       "    <tr>\n",
       "      <th>0</th>\n",
       "      <td>0</td>\n",
       "      <td>Adrian Flores</td>\n",
       "      <td>Lab Git</td>\n",
       "      <td>Required</td>\n",
       "      <td>Delivered</td>\n",
       "      <td>07/09/2022</td>\n",
       "      <td>Week 1</td>\n",
       "      <td>Lab Git</td>\n",
       "      <td>1</td>\n",
       "    </tr>\n",
       "    <tr>\n",
       "      <th>1</th>\n",
       "      <td>1</td>\n",
       "      <td>Adrian Flores</td>\n",
       "      <td>Lab Lists</td>\n",
       "      <td>Required</td>\n",
       "      <td>Delivered</td>\n",
       "      <td>09/09/2022</td>\n",
       "      <td>Week 1</td>\n",
       "      <td>Lab Lists</td>\n",
       "      <td>1</td>\n",
       "    </tr>\n",
       "    <tr>\n",
       "      <th>2</th>\n",
       "      <td>2</td>\n",
       "      <td>Adrian Flores</td>\n",
       "      <td>Lab Dicts, sets, tuples</td>\n",
       "      <td>Required</td>\n",
       "      <td>Delivered</td>\n",
       "      <td>10/09/2022</td>\n",
       "      <td>Week 1</td>\n",
       "      <td>Lab Dicts, sets, tuples</td>\n",
       "      <td>1</td>\n",
       "    </tr>\n",
       "    <tr>\n",
       "      <th>3</th>\n",
       "      <td>3</td>\n",
       "      <td>Adrian Flores</td>\n",
       "      <td>Lab Strings</td>\n",
       "      <td>Required</td>\n",
       "      <td>Delivered</td>\n",
       "      <td>14/09/2022</td>\n",
       "      <td>Week 1</td>\n",
       "      <td>Lab Strings</td>\n",
       "      <td>1</td>\n",
       "    </tr>\n",
       "    <tr>\n",
       "      <th>4</th>\n",
       "      <td>4</td>\n",
       "      <td>Adrian Flores</td>\n",
       "      <td>Lab Intro to pandas</td>\n",
       "      <td>Required</td>\n",
       "      <td>Delivered</td>\n",
       "      <td>17/09/2022</td>\n",
       "      <td>Week 2</td>\n",
       "      <td>Lab Intro to pandas</td>\n",
       "      <td>2</td>\n",
       "    </tr>\n",
       "  </tbody>\n",
       "</table>\n",
       "</div>"
      ],
      "text/plain": [
       "   Unnamed: 0   student_name                      lab  required lab_status  \\\n",
       "0           0  Adrian Flores                  Lab Git  Required  Delivered   \n",
       "1           1  Adrian Flores                Lab Lists  Required  Delivered   \n",
       "2           2  Adrian Flores  Lab Dicts, sets, tuples  Required  Delivered   \n",
       "3           3  Adrian Flores              Lab Strings  Required  Delivered   \n",
       "4           4  Adrian Flores      Lab Intro to pandas  Required  Delivered   \n",
       "\n",
       "  submission_date    Week                 Lab_name  week_nr  \n",
       "0      07/09/2022  Week 1                  Lab Git        1  \n",
       "1      09/09/2022  Week 1                Lab Lists        1  \n",
       "2      10/09/2022  Week 1  Lab Dicts, sets, tuples        1  \n",
       "3      14/09/2022  Week 1              Lab Strings        1  \n",
       "4      17/09/2022  Week 2      Lab Intro to pandas        2  "
      ]
     },
     "execution_count": 7,
     "metadata": {},
     "output_type": "execute_result"
    }
   ],
   "source": [
    "labs_with_weeks.head()"
   ]
  },
  {
   "cell_type": "code",
   "execution_count": 8,
   "metadata": {},
   "outputs": [],
   "source": [
    "labs_with_weeks[\"week_nr\"] = labs_with_weeks['Week'].str.extract('(\\d+)').astype(int)\n",
    "# filter based on current week input\n",
    "labs_with_weeks = (\n",
    "    labs_with_weeks.loc[labs_with_weeks[\"week_nr\"] <= int(20)]\n",
    ")\n"
   ]
  },
  {
   "cell_type": "code",
   "execution_count": 17,
   "metadata": {},
   "outputs": [
    {
     "data": {
      "text/plain": [
       "array(['Adrian Flores', 'Aferdita Zherka Zherka', 'Alicia Andrés',\n",
       "       'Amelie Haberland', 'Angela Arredondo Mendoza', 'Damiano Serra',\n",
       "       'Daniel J Mendez Borges', 'Fabio Blank Da Costa',\n",
       "       'Federico Cavanagh', 'Francisco Javier De Las Heras Jimenez',\n",
       "       'Gregor Seegers', 'Joaquin Valentin', 'Manouk Meilof',\n",
       "       'Marc Gavaldà', 'María Vázquez Casares', 'Max Grempel',\n",
       "       'Shilei Tan Tan', 'Suparna Mandal', 'Vanessa Andrade',\n",
       "       'Óscar Iglesias Roqueiro'], dtype=object)"
      ]
     },
     "execution_count": 17,
     "metadata": {},
     "output_type": "execute_result"
    }
   ],
   "source": [
    "labs_with_weeks[\"student_name\"].unique()"
   ]
  },
  {
   "cell_type": "code",
   "execution_count": 15,
   "metadata": {},
   "outputs": [],
   "source": [
    "student_list = STUDENT_EMAILS.keys()"
   ]
  },
  {
   "cell_type": "code",
   "execution_count": 16,
   "metadata": {},
   "outputs": [
    {
     "name": "stdout",
     "output_type": "stream",
     "text": [
      "28 delivered and 2 pending\n",
      "    labs for Adrian Flores, so far.\n",
      "16 delivered and 14 pending\n",
      "    labs for Aferdita Zherka Zherka, so far.\n",
      "25 delivered and 5 pending\n",
      "    labs for Alicia Andrés, so far.\n",
      "21 delivered and 9 pending\n",
      "    labs for Amelie Haberland, so far.\n",
      "0 delivered and 0 pending\n",
      "    labs for Angela Arredondo Mendonza, so far.\n",
      "28 delivered and 2 pending\n",
      "    labs for Damiano Serra, so far.\n",
      "18 delivered and 12 pending\n",
      "    labs for Daniel J Mendez Borges, so far.\n",
      "26 delivered and 4 pending\n",
      "    labs for Fabio Blank Da Costa, so far.\n",
      "28 delivered and 2 pending\n",
      "    labs for Federico Cavanagh, so far.\n",
      "28 delivered and 2 pending\n",
      "    labs for Francisco Javier De Las Heras Jimenez, so far.\n",
      "29 delivered and 1 pending\n",
      "    labs for Gregor Seegers, so far.\n",
      "28 delivered and 2 pending\n",
      "    labs for Joaquin Valentin, so far.\n",
      "8 delivered and 22 pending\n",
      "    labs for Manouk Meilof, so far.\n",
      "28 delivered and 2 pending\n",
      "    labs for Marc Gavaldà, so far.\n",
      "23 delivered and 7 pending\n",
      "    labs for María Vázquez Casares, so far.\n",
      "20 delivered and 10 pending\n",
      "    labs for Max Grempel, so far.\n",
      "30 delivered and 0 pending\n",
      "    labs for Shilei Tan Tan, so far.\n",
      "27 delivered and 3 pending\n",
      "    labs for Óscar Iglesias Roqueiro, so far.\n",
      "27 delivered and 3 pending\n",
      "    labs for Suparna Mandal, so far.\n",
      "7 delivered and 23 pending\n",
      "    labs for Vanessa Andrade, so far.\n"
     ]
    }
   ],
   "source": [
    "for student in student_list:\n",
    "    # filter by student\n",
    "    student_sub = labs_with_weeks[labs_with_weeks[\"student_name\"] == student]\n",
    "\n",
    "    # filter only for required labs\n",
    "    student_sub = student_sub[student_sub[\"required\"]== \"Required\"]\n",
    "\n",
    "    # count delivered and not delivered labs\n",
    "    delivered_labs = (\n",
    "        student_sub[student_sub[\"lab_status\"]== \"Delivered\"][\"Lab_name\"]\n",
    "        .unique()\n",
    "        .tolist()\n",
    "    )\n",
    "    pending_labs =(\n",
    "        student_sub[student_sub[\"lab_status\"]== \"Pending\"][\"Lab_name\"]\n",
    "        .unique()\n",
    "        .tolist()\n",
    "    )\n",
    "    print(f\"\"\"{len(delivered_labs)} delivered and {len(pending_labs)} pending\n",
    "    labs for {student}, so far.\"\"\")\n",
    "    # wrap up results in a list\n",
    "    labs_results = [ delivered_labs, pending_labs]\n",
    "    #print(labs_results)"
   ]
  },
  {
   "cell_type": "code",
   "execution_count": null,
   "metadata": {},
   "outputs": [],
   "source": []
  }
 ],
 "metadata": {
  "kernelspec": {
   "display_name": "base",
   "language": "python",
   "name": "python3"
  },
  "language_info": {
   "codemirror_mode": {
    "name": "ipython",
    "version": 3
   },
   "file_extension": ".py",
   "mimetype": "text/x-python",
   "name": "python",
   "nbconvert_exporter": "python",
   "pygments_lexer": "ipython3",
   "version": "3.9.12"
  },
  "orig_nbformat": 4,
  "vscode": {
   "interpreter": {
    "hash": "758018e35442099ca24f66f81fc165fa46ae3aa2023b3c332338340c44279a69"
   }
  }
 },
 "nbformat": 4,
 "nbformat_minor": 2
}
