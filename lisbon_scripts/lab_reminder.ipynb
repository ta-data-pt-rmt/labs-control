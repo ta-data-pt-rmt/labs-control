{
 "cells": [
  {
   "cell_type": "code",
   "execution_count": 2,
   "metadata": {},
   "outputs": [],
   "source": [
    "# import openpyxl\n",
    "# import pandas as pd\n",
    "\n",
    "# import smtplib\n",
    "# from email.mime.text import MIMEText\n",
    "# from email.mime.multipart import MIMEMultipart\n",
    "\n",
    "# import time\n",
    "# import random"
   ]
  },
  {
   "cell_type": "code",
   "execution_count": 3,
   "metadata": {},
   "outputs": [
    {
     "name": "stdout",
     "output_type": "stream",
     "text": [
      "['anasilva', 'anamatias', 'augusto', 'barbara', 'cecilia', 'eunice', 'goncalo', 'joao', 'miguel', 'gladys']\n"
     ]
    }
   ],
   "source": [
    "book = openpyxl.load_workbook('Labs.xlsx')\n",
    "print(book.sheetnames)"
   ]
  },
  {
   "cell_type": "markdown",
   "metadata": {},
   "source": [
    "## progress functions"
   ]
  },
  {
   "cell_type": "code",
   "execution_count": 4,
   "metadata": {},
   "outputs": [],
   "source": [
    "def lab_progress(student):\n",
    "    sheet = book[student]\n",
    "    total = 43\n",
    "    done = 0\n",
    "\n",
    "    for c in range(2,7,2):\n",
    "        for r in range(1,30):\n",
    "            d=sheet.cell(row=r,column=c)\n",
    "            if d.value == 'Delivered':\n",
    "                done += 1\n",
    "    \n",
    "    percent = round(done/total * 100, 2)\n",
    "    \n",
    "    return f\"{student} - Lab progress: {done}/{total} ({percent}%)\""
   ]
  },
  {
   "cell_type": "code",
   "execution_count": 1,
   "metadata": {},
   "outputs": [],
   "source": [
    "def students_progress(list):\n",
    "    done_list = []\n",
    "    percent_list = []\n",
    "    name_list =[]\n",
    "    for name in list:\n",
    "        sheet = book[name]\n",
    "        total = 43\n",
    "        done = 0\n",
    "\n",
    "        for c in range(2,7,2):\n",
    "            for r in range(1,30):\n",
    "                d=sheet.cell(row=r,column=c)\n",
    "                if d.value == 'Delivered':\n",
    "                    done += 1\n",
    "                percent = round(done/total * 100, 2)\n",
    "        \n",
    "        name_list.append(name)\n",
    "        done_list.append(f\"{done}/{total}\")\n",
    "        percent_list.append(f\"{percent}%\")\n",
    "    \n",
    "    df = pd.DataFrame(zip(name_list, done_list, percent_list),\n",
    "        columns =['Students', 'Lab completed', 'Percentage'])\n",
    "\n",
    "    return df"
   ]
  },
  {
   "cell_type": "markdown",
   "metadata": {},
   "source": [
    "## weekly functions"
   ]
  },
  {
   "cell_type": "code",
   "execution_count": 6,
   "metadata": {},
   "outputs": [],
   "source": [
    "def week1(student):\n",
    "    sheet = book[student]\n",
    "    week = sheet['A3':'B7']\n",
    "\n",
    "    week_lab = [c1.value for c1, c2 in week]\n",
    "    week_check = [c2.value for c1, c2 in week]\n",
    "\n",
    "    df = pd.DataFrame(list(zip(week_lab, week_check)),\n",
    "                columns =['Week 1 Labs', 'Status'])\n",
    "    \n",
    "    return df "
   ]
  },
  {
   "cell_type": "code",
   "execution_count": 7,
   "metadata": {},
   "outputs": [
    {
     "data": {
      "text/html": [
       "<div>\n",
       "<style scoped>\n",
       "    .dataframe tbody tr th:only-of-type {\n",
       "        vertical-align: middle;\n",
       "    }\n",
       "\n",
       "    .dataframe tbody tr th {\n",
       "        vertical-align: top;\n",
       "    }\n",
       "\n",
       "    .dataframe thead th {\n",
       "        text-align: right;\n",
       "    }\n",
       "</style>\n",
       "<table border=\"1\" class=\"dataframe\">\n",
       "  <thead>\n",
       "    <tr style=\"text-align: right;\">\n",
       "      <th></th>\n",
       "      <th>Week 1 Labs</th>\n",
       "      <th>Status</th>\n",
       "    </tr>\n",
       "  </thead>\n",
       "  <tbody>\n",
       "    <tr>\n",
       "      <th>0</th>\n",
       "      <td>List Comprehensions</td>\n",
       "      <td>Delivered</td>\n",
       "    </tr>\n",
       "    <tr>\n",
       "      <th>1</th>\n",
       "      <td>Dicts, Sets and Tuples</td>\n",
       "      <td>Delivered</td>\n",
       "    </tr>\n",
       "    <tr>\n",
       "      <th>2</th>\n",
       "      <td>String Operations</td>\n",
       "      <td>Delivered</td>\n",
       "    </tr>\n",
       "    <tr>\n",
       "      <th>3</th>\n",
       "      <td>Numpy</td>\n",
       "      <td>Delivered</td>\n",
       "    </tr>\n",
       "    <tr>\n",
       "      <th>4</th>\n",
       "      <td>Intro Pandas</td>\n",
       "      <td>Delivered</td>\n",
       "    </tr>\n",
       "  </tbody>\n",
       "</table>\n",
       "</div>"
      ],
      "text/plain": [
       "              Week 1 Labs     Status\n",
       "0     List Comprehensions  Delivered\n",
       "1  Dicts, Sets and Tuples  Delivered\n",
       "2       String Operations  Delivered\n",
       "3                   Numpy  Delivered\n",
       "4            Intro Pandas  Delivered"
      ]
     },
     "execution_count": 7,
     "metadata": {},
     "output_type": "execute_result"
    }
   ],
   "source": [
    "week1('gladys')"
   ]
  },
  {
   "cell_type": "code",
   "execution_count": 8,
   "metadata": {},
   "outputs": [],
   "source": [
    "def week2(student):\n",
    "    sheet = book[student]\n",
    "    week = sheet['C3':'D10']\n",
    "\n",
    "    week_lab = [c1.value for c1, c2 in week]\n",
    "    week_check = [c2.value for c1, c2 in week]\n",
    "\n",
    "    df = pd.DataFrame(list(zip(week_lab, week_check)),\n",
    "                columns =['Week 2 Labs', 'Status'])\n",
    "    \n",
    "    return df "
   ]
  },
  {
   "cell_type": "code",
   "execution_count": 9,
   "metadata": {},
   "outputs": [
    {
     "data": {
      "text/html": [
       "<div>\n",
       "<style scoped>\n",
       "    .dataframe tbody tr th:only-of-type {\n",
       "        vertical-align: middle;\n",
       "    }\n",
       "\n",
       "    .dataframe tbody tr th {\n",
       "        vertical-align: top;\n",
       "    }\n",
       "\n",
       "    .dataframe thead th {\n",
       "        text-align: right;\n",
       "    }\n",
       "</style>\n",
       "<table border=\"1\" class=\"dataframe\">\n",
       "  <thead>\n",
       "    <tr style=\"text-align: right;\">\n",
       "      <th></th>\n",
       "      <th>Week 2 Labs</th>\n",
       "      <th>Status</th>\n",
       "    </tr>\n",
       "  </thead>\n",
       "  <tbody>\n",
       "    <tr>\n",
       "      <th>0</th>\n",
       "      <td>MySql First Queries</td>\n",
       "      <td>Delivered</td>\n",
       "    </tr>\n",
       "    <tr>\n",
       "      <th>1</th>\n",
       "      <td>MySql Select</td>\n",
       "      <td>Delivered</td>\n",
       "    </tr>\n",
       "    <tr>\n",
       "      <th>2</th>\n",
       "      <td>Action MySql</td>\n",
       "      <td>Delivered</td>\n",
       "    </tr>\n",
       "    <tr>\n",
       "      <th>3</th>\n",
       "      <td>Dataframe Calculations</td>\n",
       "      <td>Delivered</td>\n",
       "    </tr>\n",
       "    <tr>\n",
       "      <th>4</th>\n",
       "      <td>Advanced Pandas</td>\n",
       "      <td>Not delivered</td>\n",
       "    </tr>\n",
       "    <tr>\n",
       "      <th>5</th>\n",
       "      <td>Import Export</td>\n",
       "      <td>Not delivered</td>\n",
       "    </tr>\n",
       "    <tr>\n",
       "      <th>6</th>\n",
       "      <td>Data Cleaning</td>\n",
       "      <td>Delivered</td>\n",
       "    </tr>\n",
       "    <tr>\n",
       "      <th>7</th>\n",
       "      <td>Lambda Functions</td>\n",
       "      <td>Not delivered</td>\n",
       "    </tr>\n",
       "  </tbody>\n",
       "</table>\n",
       "</div>"
      ],
      "text/plain": [
       "              Week 2 Labs         Status\n",
       "0     MySql First Queries      Delivered\n",
       "1            MySql Select      Delivered\n",
       "2            Action MySql      Delivered\n",
       "3  Dataframe Calculations      Delivered\n",
       "4         Advanced Pandas  Not delivered\n",
       "5           Import Export  Not delivered\n",
       "6           Data Cleaning      Delivered\n",
       "7        Lambda Functions  Not delivered"
      ]
     },
     "execution_count": 9,
     "metadata": {},
     "output_type": "execute_result"
    }
   ],
   "source": [
    "week2('gladys')"
   ]
  },
  {
   "cell_type": "code",
   "execution_count": 10,
   "metadata": {},
   "outputs": [],
   "source": [
    "def week3(student):\n",
    "    sheet = book[student]\n",
    "    week = sheet['E3':'F7']\n",
    "\n",
    "    week_lab = [c1.value for c1, c2 in week]\n",
    "    week_check = [c2.value for c1, c2 in week]\n",
    "\n",
    "    df = pd.DataFrame(list(zip(week_lab, week_check)),\n",
    "                columns =['Week 3 Labs', 'Status'])\n",
    "    \n",
    "    return df "
   ]
  },
  {
   "cell_type": "code",
   "execution_count": 11,
   "metadata": {},
   "outputs": [
    {
     "data": {
      "text/html": [
       "<div>\n",
       "<style scoped>\n",
       "    .dataframe tbody tr th:only-of-type {\n",
       "        vertical-align: middle;\n",
       "    }\n",
       "\n",
       "    .dataframe tbody tr th {\n",
       "        vertical-align: top;\n",
       "    }\n",
       "\n",
       "    .dataframe thead th {\n",
       "        text-align: right;\n",
       "    }\n",
       "</style>\n",
       "<table border=\"1\" class=\"dataframe\">\n",
       "  <thead>\n",
       "    <tr style=\"text-align: right;\">\n",
       "      <th></th>\n",
       "      <th>Week 3 Labs</th>\n",
       "      <th>Status</th>\n",
       "    </tr>\n",
       "  </thead>\n",
       "  <tbody>\n",
       "    <tr>\n",
       "      <th>0</th>\n",
       "      <td>Api Scavenger</td>\n",
       "      <td>Delivered</td>\n",
       "    </tr>\n",
       "    <tr>\n",
       "      <th>1</th>\n",
       "      <td>Web Scraping</td>\n",
       "      <td>Not delivered</td>\n",
       "    </tr>\n",
       "    <tr>\n",
       "      <th>2</th>\n",
       "      <td>Pandas Deep Dive</td>\n",
       "      <td>Delivered</td>\n",
       "    </tr>\n",
       "    <tr>\n",
       "      <th>3</th>\n",
       "      <td>Advanced Regex</td>\n",
       "      <td>Not delivered</td>\n",
       "    </tr>\n",
       "    <tr>\n",
       "      <th>4</th>\n",
       "      <td>Matplotlib Seaborn</td>\n",
       "      <td>Not delivered</td>\n",
       "    </tr>\n",
       "  </tbody>\n",
       "</table>\n",
       "</div>"
      ],
      "text/plain": [
       "          Week 3 Labs         Status\n",
       "0       Api Scavenger      Delivered\n",
       "1        Web Scraping  Not delivered\n",
       "2    Pandas Deep Dive      Delivered\n",
       "3      Advanced Regex  Not delivered\n",
       "4  Matplotlib Seaborn  Not delivered"
      ]
     },
     "execution_count": 11,
     "metadata": {},
     "output_type": "execute_result"
    }
   ],
   "source": [
    "week3('gladys')"
   ]
  },
  {
   "cell_type": "code",
   "execution_count": 12,
   "metadata": {},
   "outputs": [],
   "source": [
    "def week4(student):\n",
    "    sheet = book[student]\n",
    "    week = sheet['A13':'B18']\n",
    "\n",
    "    week_lab = [c1.value for c1, c2 in week]\n",
    "    week_check = [c2.value for c1, c2 in week]\n",
    "\n",
    "    df = pd.DataFrame(list(zip(week_lab, week_check)),\n",
    "                columns =['Week 4 Labs', 'Status'])\n",
    "    \n",
    "    return df "
   ]
  },
  {
   "cell_type": "code",
   "execution_count": 13,
   "metadata": {},
   "outputs": [
    {
     "data": {
      "text/html": [
       "<div>\n",
       "<style scoped>\n",
       "    .dataframe tbody tr th:only-of-type {\n",
       "        vertical-align: middle;\n",
       "    }\n",
       "\n",
       "    .dataframe tbody tr th {\n",
       "        vertical-align: top;\n",
       "    }\n",
       "\n",
       "    .dataframe thead th {\n",
       "        text-align: right;\n",
       "    }\n",
       "</style>\n",
       "<table border=\"1\" class=\"dataframe\">\n",
       "  <thead>\n",
       "    <tr style=\"text-align: right;\">\n",
       "      <th></th>\n",
       "      <th>Week 4 Labs</th>\n",
       "      <th>Status</th>\n",
       "    </tr>\n",
       "  </thead>\n",
       "  <tbody>\n",
       "    <tr>\n",
       "      <th>0</th>\n",
       "      <td>Intro Bi Tableau</td>\n",
       "      <td>Delivered</td>\n",
       "    </tr>\n",
       "    <tr>\n",
       "      <th>1</th>\n",
       "      <td>Bi Analysis Tableau</td>\n",
       "      <td>Delivered</td>\n",
       "    </tr>\n",
       "    <tr>\n",
       "      <th>2</th>\n",
       "      <td>Pivot Table Correlation</td>\n",
       "      <td>Not delivered</td>\n",
       "    </tr>\n",
       "    <tr>\n",
       "      <th>3</th>\n",
       "      <td>Descriptive Stats</td>\n",
       "      <td>Not delivered</td>\n",
       "    </tr>\n",
       "    <tr>\n",
       "      <th>4</th>\n",
       "      <td>Subsetting Descriptive Stats</td>\n",
       "      <td>Delivered</td>\n",
       "    </tr>\n",
       "    <tr>\n",
       "      <th>5</th>\n",
       "      <td>Regression Analysis</td>\n",
       "      <td>Delivered</td>\n",
       "    </tr>\n",
       "  </tbody>\n",
       "</table>\n",
       "</div>"
      ],
      "text/plain": [
       "                    Week 4 Labs         Status\n",
       "0              Intro Bi Tableau      Delivered\n",
       "1           Bi Analysis Tableau      Delivered\n",
       "2       Pivot Table Correlation  Not delivered\n",
       "3             Descriptive Stats  Not delivered\n",
       "4  Subsetting Descriptive Stats      Delivered\n",
       "5           Regression Analysis      Delivered"
      ]
     },
     "execution_count": 13,
     "metadata": {},
     "output_type": "execute_result"
    }
   ],
   "source": [
    "week4('gladys')"
   ]
  },
  {
   "cell_type": "markdown",
   "metadata": {},
   "source": [
    "## mail function"
   ]
  },
  {
   "cell_type": "code",
   "execution_count": 14,
   "metadata": {},
   "outputs": [],
   "source": [
    "def send_email(student, email):\n",
    "    sender='gmawarni9@gmail.com'\n",
    "    password='your pass'\n",
    "\n",
    "    receiver= email\n",
    "    \n",
    "    \n",
    "    msg = MIMEMultipart()\n",
    "    msg[\"From\"] = 'Gladys - Data TA'\n",
    "    msg['Subject'] = \"Weekly Lab Summary\"\n",
    "    html = \"\"\"\\\n",
    "    <html>\n",
    "    \n",
    "      <head><p> Weekly Lab Summary  </p></head>\n",
    "      <body>\n",
    "        {0}\n",
    "        {1}\n",
    "        <br>\n",
    "      </body>\n",
    "      \n",
    "    </html>\n",
    "    \"\"\".format(week3(student).to_html(), week4(student).to_html())\n",
    "\n",
    "    text = lab_progress(student)\n",
    "\n",
    "    part1 = MIMEText(html, 'html')\n",
    "    part2 = MIMEText(text, 'plain')\n",
    "\n",
    "    msg.attach(part1)\n",
    "    msg.attach(part2)\n",
    "\n",
    "\n",
    "    server= smtplib.SMTP('smtp.gmail.com',587)\n",
    "    server.starttls()\n",
    "    server.login(sender,password)\n",
    "    server.sendmail(sender,receiver,msg.as_string())\n",
    "    \n",
    "    sleep_time = random.random()*3\n",
    "    time.sleep(sleep_time)"
   ]
  },
  {
   "cell_type": "code",
   "execution_count": 15,
   "metadata": {},
   "outputs": [],
   "source": [
    "def send_mail_progress(email, li):\n",
    "    sender='gmawarni9@gmail.com'\n",
    "    password= 'your pass'\n",
    "\n",
    "    receiver= email\n",
    "    msg = MIMEMultipart()\n",
    "\n",
    "    msg[\"From\"] = 'Gladys - Data TA'\n",
    "    msg['Subject'] = \"Weekly Lab Progress\"\n",
    "\n",
    "    html = \"\"\"\\\n",
    "    <html>\n",
    "  \n",
    "      <body>\n",
    "        {0}\n",
    "        <br>\n",
    "      </body>\n",
    "      \n",
    "    </html>\n",
    "    \"\"\".format(students_progress(li).to_html())\n",
    "\n",
    "    part1 = MIMEText(html, 'html')\n",
    "\n",
    "    msg.attach(part1)\n",
    "\n",
    "\n",
    "    server= smtplib.SMTP('smtp.gmail.com',587)\n",
    "    server.starttls()\n",
    "    server.login(sender,password)\n",
    "    server.sendmail(sender,receiver,msg.as_string())"
   ]
  },
  {
   "cell_type": "code",
   "execution_count": 16,
   "metadata": {},
   "outputs": [],
   "source": [
    "students = {'anasilva' : 'silva.aps06@gmail.com', \n",
    "            'anamatias' : 'ana@ramalhomatias.com', \n",
    "            'augusto' : 'eira.augusto.jr@gmail.com', \n",
    "            'barbara' : 'bnbmuniz@hotmail.com', \n",
    "            'cecilia' : 'cecil.mezzera@gmail.com', \n",
    "            'eunice' : 'eltazevedo@gmail.com', \n",
    "            'goncalo' : 'gjpcalvinho@gmail.com', \n",
    "            'joao' : 'joaompbatista@gmail.com', \n",
    "            'miguel' : 'migueltalambas4@gmail.com',\n",
    "            'gladys' : 'gladysmawarni@gmail.com'}"
   ]
  },
  {
   "cell_type": "code",
   "execution_count": 17,
   "metadata": {},
   "outputs": [
    {
     "name": "stdout",
     "output_type": "stream",
     "text": [
      "anasilva silva.aps06@gmail.com\n",
      "anamatias ana@ramalhomatias.com\n",
      "augusto eira.augusto.jr@gmail.com\n",
      "barbara bnbmuniz@hotmail.com\n",
      "cecilia cecil.mezzera@gmail.com\n",
      "eunice eltazevedo@gmail.com\n",
      "goncalo gjpcalvinho@gmail.com\n",
      "joao joaompbatista@gmail.com\n",
      "miguel migueltalambas4@gmail.com\n",
      "gladys gladysmawarni@gmail.com\n"
     ]
    }
   ],
   "source": [
    "for name in students:\n",
    "    print(name, students[name])"
   ]
  },
  {
   "cell_type": "code",
   "execution_count": 18,
   "metadata": {},
   "outputs": [],
   "source": [
    "test = {'gladys': 'gladysmawarni@gmail.com'}\n",
    "\n",
    "for name in test:\n",
    "    send_email(name, test[name])"
   ]
  },
  {
   "cell_type": "code",
   "execution_count": 5,
   "metadata": {},
   "outputs": [
    {
     "data": {
      "text/html": [
       "<div>\n",
       "<style scoped>\n",
       "    .dataframe tbody tr th:only-of-type {\n",
       "        vertical-align: middle;\n",
       "    }\n",
       "\n",
       "    .dataframe tbody tr th {\n",
       "        vertical-align: top;\n",
       "    }\n",
       "\n",
       "    .dataframe thead th {\n",
       "        text-align: right;\n",
       "    }\n",
       "</style>\n",
       "<table border=\"1\" class=\"dataframe\">\n",
       "  <thead>\n",
       "    <tr style=\"text-align: right;\">\n",
       "      <th></th>\n",
       "      <th>Students</th>\n",
       "      <th>Lab completed</th>\n",
       "      <th>Percentage</th>\n",
       "    </tr>\n",
       "  </thead>\n",
       "  <tbody>\n",
       "    <tr>\n",
       "      <th>0</th>\n",
       "      <td>anasilva</td>\n",
       "      <td>21/43</td>\n",
       "      <td>48.84%</td>\n",
       "    </tr>\n",
       "    <tr>\n",
       "      <th>1</th>\n",
       "      <td>anamatias</td>\n",
       "      <td>20/43</td>\n",
       "      <td>46.51%</td>\n",
       "    </tr>\n",
       "    <tr>\n",
       "      <th>2</th>\n",
       "      <td>augusto</td>\n",
       "      <td>3/43</td>\n",
       "      <td>6.98%</td>\n",
       "    </tr>\n",
       "    <tr>\n",
       "      <th>3</th>\n",
       "      <td>barbara</td>\n",
       "      <td>16/43</td>\n",
       "      <td>37.21%</td>\n",
       "    </tr>\n",
       "    <tr>\n",
       "      <th>4</th>\n",
       "      <td>cecilia</td>\n",
       "      <td>23/43</td>\n",
       "      <td>53.49%</td>\n",
       "    </tr>\n",
       "    <tr>\n",
       "      <th>5</th>\n",
       "      <td>eunice</td>\n",
       "      <td>20/43</td>\n",
       "      <td>46.51%</td>\n",
       "    </tr>\n",
       "    <tr>\n",
       "      <th>6</th>\n",
       "      <td>goncalo</td>\n",
       "      <td>24/43</td>\n",
       "      <td>55.81%</td>\n",
       "    </tr>\n",
       "    <tr>\n",
       "      <th>7</th>\n",
       "      <td>joao</td>\n",
       "      <td>19/43</td>\n",
       "      <td>44.19%</td>\n",
       "    </tr>\n",
       "    <tr>\n",
       "      <th>8</th>\n",
       "      <td>miguel</td>\n",
       "      <td>13/43</td>\n",
       "      <td>30.23%</td>\n",
       "    </tr>\n",
       "  </tbody>\n",
       "</table>\n",
       "</div>"
      ],
      "text/plain": [
       "    Students Lab completed Percentage\n",
       "0   anasilva         21/43     48.84%\n",
       "1  anamatias         20/43     46.51%\n",
       "2    augusto          3/43      6.98%\n",
       "3    barbara         16/43     37.21%\n",
       "4    cecilia         23/43     53.49%\n",
       "5     eunice         20/43     46.51%\n",
       "6    goncalo         24/43     55.81%\n",
       "7       joao         19/43     44.19%\n",
       "8     miguel         13/43     30.23%"
      ]
     },
     "execution_count": 5,
     "metadata": {},
     "output_type": "execute_result"
    }
   ],
   "source": [
    "student_list = book.sheetnames[:-1]\n",
    "students_progress(student_list)"
   ]
  },
  {
   "cell_type": "code",
   "execution_count": 13,
   "metadata": {},
   "outputs": [],
   "source": [
    "send_mail_progress('gladysmawarni@gmail.com', student_list)"
   ]
  },
  {
   "cell_type": "code",
   "execution_count": 19,
   "metadata": {},
   "outputs": [],
   "source": [
    "# for name in students:\n",
    "#      send_email(name, students[name])"
   ]
  },
  {
   "cell_type": "code",
   "execution_count": null,
   "metadata": {},
   "outputs": [],
   "source": []
  }
 ],
 "metadata": {
  "interpreter": {
   "hash": "bb2397f6023f7180ab7c4bc0a2e7b37c07346fc62ee2578ea436a4f88c094a88"
  },
  "kernelspec": {
   "display_name": "Python 3 (ipykernel)",
   "language": "python",
   "name": "python3"
  },
  "language_info": {
   "codemirror_mode": {
    "name": "ipython",
    "version": 3
   },
   "file_extension": ".py",
   "mimetype": "text/x-python",
   "name": "python",
   "nbconvert_exporter": "python",
   "pygments_lexer": "ipython3",
   "version": "3.9.12"
  }
 },
 "nbformat": 4,
 "nbformat_minor": 2
}
