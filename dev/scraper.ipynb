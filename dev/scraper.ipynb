{
 "cells": [
  {
   "cell_type": "code",
   "execution_count": 121,
   "metadata": {},
   "outputs": [],
   "source": [
    "import pandas as pd\n",
    "from bs4 import BeautifulSoup\n",
    "\n",
    "from selenium import webdriver\n",
    "from selenium.webdriver.common.keys import Keys\n",
    "from selenium.webdriver.chrome.service import Service\n",
    "from selenium.webdriver.common.by import By\n",
    "from webdriver_manager.chrome import ChromeDriverManager\n",
    "import requests\n",
    "\n",
    "import pathlib\n",
    "\n",
    "import time\n",
    "\n",
    "from email.message import EmailMessage\n",
    "import ssl\n",
    "import smtplib\n",
    "import getpass"
   ]
  },
  {
   "cell_type": "code",
   "execution_count": 209,
   "metadata": {},
   "outputs": [
    {
     "name": "stdout",
     "output_type": "stream",
     "text": [
      "Please, insert week number here: 9\n"
     ]
    }
   ],
   "source": [
    "# Get the current week number\n",
    "week_number_email = int(input(\"Please, insert week number here: \"))"
   ]
  },
  {
   "cell_type": "code",
   "execution_count": null,
   "metadata": {},
   "outputs": [],
   "source": [
    "email_sender = \"ta-data-pt-rmt@ironhack.com\"\n",
    "email_password = getpass.getpass(\"Your password (token provided by google for Python app):\")"
   ]
  },
  {
   "cell_type": "code",
   "execution_count": 94,
   "metadata": {},
   "outputs": [
    {
     "name": "stderr",
     "output_type": "stream",
     "text": [
      "[WDM] - Downloading: 100%|█████████████████| 8.41M/8.41M [00:00<00:00, 28.6MB/s]\n"
     ]
    }
   ],
   "source": [
    "#Create driver instance:\n",
    "driver = webdriver.Chrome(service=Service(ChromeDriverManager().install()))\n"
   ]
  },
  {
   "cell_type": "code",
   "execution_count": 95,
   "metadata": {},
   "outputs": [],
   "source": [
    "# Define path for secrets.txt:\n",
    "\n",
    "DATA_PATH =  pathlib.Path()\n",
    "\n",
    "with open(DATA_PATH.joinpath('secrets.txt')) as f:\n",
    "    secrets = f.read().splitlines() "
   ]
  },
  {
   "cell_type": "code",
   "execution_count": 96,
   "metadata": {},
   "outputs": [],
   "source": [
    "# Open the website:\n",
    "driver.get('https://campus-tools.ironhack.com/#/cohorts/618138e279542a002c897068/show/course_progress/assignments')\n",
    "\n"
   ]
  },
  {
   "cell_type": "code",
   "execution_count": 97,
   "metadata": {},
   "outputs": [],
   "source": [
    "# E-mail box:\n",
    "email_box = driver.find_element(By.ID, \"identifierId\")\n",
    "\n",
    "email_box.clear()\n",
    "\n",
    "email_box.send_keys(secrets[0])\n",
    "\n"
   ]
  },
  {
   "cell_type": "code",
   "execution_count": 98,
   "metadata": {},
   "outputs": [],
   "source": [
    "# Advance button:\n",
    "advance_1 = driver.find_element(By.ID, \"identifierNext\")\n",
    "\n",
    "advance_1.click()"
   ]
  },
  {
   "cell_type": "code",
   "execution_count": 99,
   "metadata": {},
   "outputs": [],
   "source": [
    "# Password box:\n",
    "pass_box = driver.find_element(By.NAME, \"password\")\n",
    "time.sleep(0.5)\n",
    "pass_box.clear()\n",
    "time.sleep(1.5)\n",
    "pass_box.send_keys(secrets[1])\n"
   ]
  },
  {
   "cell_type": "code",
   "execution_count": 100,
   "metadata": {},
   "outputs": [],
   "source": [
    "# Advance button:\n",
    "advance_2 = driver.find_element(By.ID, \"passwordNext\")\n",
    "time.sleep(1.5)\n",
    "advance_2.click()"
   ]
  },
  {
   "cell_type": "code",
   "execution_count": 101,
   "metadata": {},
   "outputs": [],
   "source": [
    "# Get student portal link again because sometimes the previous page gets stuck\n",
    "driver.get('https://campus-tools.ironhack.com/#/cohorts/618138e279542a002c897068/show/course_progress/assignments')\n"
   ]
  },
  {
   "cell_type": "code",
   "execution_count": 16,
   "metadata": {},
   "outputs": [],
   "source": [
    "#Find all rows of Weeks Separators and store in variable:\n",
    "\n",
    "weeks_table = driver.find_elements(By.CSS_SELECTOR,\"tr[class^='MuiTableRow-root']\")\n",
    "\n"
   ]
  },
  {
   "cell_type": "code",
   "execution_count": 17,
   "metadata": {},
   "outputs": [
    {
     "name": "stdout",
     "output_type": "stream",
     "text": [
      "Week 1\n",
      "Lab Strings\n",
      "Required\n",
      "20  Students grabbed.\n",
      "['Week 1', 'Lab Strings\\nRequired', 'Adrian Flores', 'Delivered', '14/9/2022']\n"
     ]
    },
    {
     "name": "stderr",
     "output_type": "stream",
     "text": [
      "/var/folders/yc/p9m4grcn3n58sspfj1mcsgyr0000gn/T/ipykernel_2148/117283708.py:57: FutureWarning: The frame.append method is deprecated and will be removed from pandas in a future version. Use pandas.concat instead.\n",
      "  labs_overall = ( labs_overall.append(pd.Series(\n",
      "/var/folders/yc/p9m4grcn3n58sspfj1mcsgyr0000gn/T/ipykernel_2148/117283708.py:57: FutureWarning: The frame.append method is deprecated and will be removed from pandas in a future version. Use pandas.concat instead.\n",
      "  labs_overall = ( labs_overall.append(pd.Series(\n",
      "/var/folders/yc/p9m4grcn3n58sspfj1mcsgyr0000gn/T/ipykernel_2148/117283708.py:57: FutureWarning: The frame.append method is deprecated and will be removed from pandas in a future version. Use pandas.concat instead.\n",
      "  labs_overall = ( labs_overall.append(pd.Series(\n",
      "/var/folders/yc/p9m4grcn3n58sspfj1mcsgyr0000gn/T/ipykernel_2148/117283708.py:57: FutureWarning: The frame.append method is deprecated and will be removed from pandas in a future version. Use pandas.concat instead.\n",
      "  labs_overall = ( labs_overall.append(pd.Series(\n"
     ]
    },
    {
     "name": "stdout",
     "output_type": "stream",
     "text": [
      "['Week 1', 'Lab Strings\\nRequired', 'Aferdita Zherka Zherka', 'Delivered', '17/9/2022']\n",
      "['Week 1', 'Lab Strings\\nRequired', 'Alicia Andrés', 'Delivered', '25/9/2022']\n",
      "['Week 1', 'Lab Strings\\nRequired', 'Amelie Haberland', 'Delivered', '1/10/2022']\n",
      "['Week 1', 'Lab Strings\\nRequired', 'Angela Arredondo Mendoza', 'Delivered', '14/9/2022']\n",
      "['Week 1', 'Lab Strings\\nRequired', 'Damiano Serra', 'Delivered', '18/9/2022']\n"
     ]
    },
    {
     "name": "stderr",
     "output_type": "stream",
     "text": [
      "/var/folders/yc/p9m4grcn3n58sspfj1mcsgyr0000gn/T/ipykernel_2148/117283708.py:57: FutureWarning: The frame.append method is deprecated and will be removed from pandas in a future version. Use pandas.concat instead.\n",
      "  labs_overall = ( labs_overall.append(pd.Series(\n",
      "/var/folders/yc/p9m4grcn3n58sspfj1mcsgyr0000gn/T/ipykernel_2148/117283708.py:57: FutureWarning: The frame.append method is deprecated and will be removed from pandas in a future version. Use pandas.concat instead.\n",
      "  labs_overall = ( labs_overall.append(pd.Series(\n"
     ]
    },
    {
     "name": "stdout",
     "output_type": "stream",
     "text": [
      "['Week 1', 'Lab Strings\\nRequired', 'Daniel J Mendez Borges', 'Delivered', '17/9/2022']\n",
      "['Week 1', 'Lab Strings\\nRequired', 'Fabio Blank Da Costa', 'Delivered', '17/9/2022']\n",
      "['Week 1', 'Lab Strings\\nRequired', 'Federico Cavanagh', 'Delivered', '14/9/2022']\n",
      "['Week 1', 'Lab Strings\\nRequired', 'Francisco Javier De Las Heras Jimenez', 'Delivered', '13/9/2022']\n",
      "['Week 1', 'Lab Strings\\nRequired', 'Gregor Seegers', 'Delivered', '14/9/2022']\n"
     ]
    },
    {
     "name": "stderr",
     "output_type": "stream",
     "text": [
      "/var/folders/yc/p9m4grcn3n58sspfj1mcsgyr0000gn/T/ipykernel_2148/117283708.py:57: FutureWarning: The frame.append method is deprecated and will be removed from pandas in a future version. Use pandas.concat instead.\n",
      "  labs_overall = ( labs_overall.append(pd.Series(\n",
      "/var/folders/yc/p9m4grcn3n58sspfj1mcsgyr0000gn/T/ipykernel_2148/117283708.py:57: FutureWarning: The frame.append method is deprecated and will be removed from pandas in a future version. Use pandas.concat instead.\n",
      "  labs_overall = ( labs_overall.append(pd.Series(\n",
      "/var/folders/yc/p9m4grcn3n58sspfj1mcsgyr0000gn/T/ipykernel_2148/117283708.py:57: FutureWarning: The frame.append method is deprecated and will be removed from pandas in a future version. Use pandas.concat instead.\n",
      "  labs_overall = ( labs_overall.append(pd.Series(\n",
      "/var/folders/yc/p9m4grcn3n58sspfj1mcsgyr0000gn/T/ipykernel_2148/117283708.py:57: FutureWarning: The frame.append method is deprecated and will be removed from pandas in a future version. Use pandas.concat instead.\n",
      "  labs_overall = ( labs_overall.append(pd.Series(\n",
      "/var/folders/yc/p9m4grcn3n58sspfj1mcsgyr0000gn/T/ipykernel_2148/117283708.py:57: FutureWarning: The frame.append method is deprecated and will be removed from pandas in a future version. Use pandas.concat instead.\n",
      "  labs_overall = ( labs_overall.append(pd.Series(\n"
     ]
    },
    {
     "name": "stdout",
     "output_type": "stream",
     "text": [
      "['Week 1', 'Lab Strings\\nRequired', 'Joaquin Valentin', 'Delivered', '23/9/2022']\n",
      "['Week 1', 'Lab Strings\\nRequired', 'Manouk Meilof', 'Delivered', '23/9/2022']\n",
      "['Week 1', 'Lab Strings\\nRequired', 'Marc Gavaldà', 'Delivered', '13/11/2022']\n",
      "['Week 1', 'Lab Strings\\nRequired', 'María Vázquez Casares', 'Delivered', '3/10/2022']\n"
     ]
    },
    {
     "name": "stderr",
     "output_type": "stream",
     "text": [
      "/var/folders/yc/p9m4grcn3n58sspfj1mcsgyr0000gn/T/ipykernel_2148/117283708.py:57: FutureWarning: The frame.append method is deprecated and will be removed from pandas in a future version. Use pandas.concat instead.\n",
      "  labs_overall = ( labs_overall.append(pd.Series(\n",
      "/var/folders/yc/p9m4grcn3n58sspfj1mcsgyr0000gn/T/ipykernel_2148/117283708.py:57: FutureWarning: The frame.append method is deprecated and will be removed from pandas in a future version. Use pandas.concat instead.\n",
      "  labs_overall = ( labs_overall.append(pd.Series(\n",
      "/var/folders/yc/p9m4grcn3n58sspfj1mcsgyr0000gn/T/ipykernel_2148/117283708.py:57: FutureWarning: The frame.append method is deprecated and will be removed from pandas in a future version. Use pandas.concat instead.\n",
      "  labs_overall = ( labs_overall.append(pd.Series(\n",
      "/var/folders/yc/p9m4grcn3n58sspfj1mcsgyr0000gn/T/ipykernel_2148/117283708.py:57: FutureWarning: The frame.append method is deprecated and will be removed from pandas in a future version. Use pandas.concat instead.\n",
      "  labs_overall = ( labs_overall.append(pd.Series(\n"
     ]
    },
    {
     "name": "stdout",
     "output_type": "stream",
     "text": [
      "['Week 1', 'Lab Strings\\nRequired', 'Max Grempel', 'Delivered', '14/9/2022']\n",
      "['Week 1', 'Lab Strings\\nRequired', 'Shilei Tan Tan', 'Delivered', '16/9/2022']\n",
      "['Week 1', 'Lab Strings\\nRequired', 'Óscar Iglesias Roqueiro', 'Delivered', '13/9/2022']\n",
      "['Week 1', 'Lab Strings\\nRequired', 'Suparna Mandal', '', '']\n",
      "['Week 1', 'Lab Strings\\nRequired', 'Vanessa Andrade', '', '']\n",
      "finished grabbing students info for lab Lab Strings\n",
      "Required of Week 1\n"
     ]
    },
    {
     "name": "stderr",
     "output_type": "stream",
     "text": [
      "/var/folders/yc/p9m4grcn3n58sspfj1mcsgyr0000gn/T/ipykernel_2148/117283708.py:57: FutureWarning: The frame.append method is deprecated and will be removed from pandas in a future version. Use pandas.concat instead.\n",
      "  labs_overall = ( labs_overall.append(pd.Series(\n",
      "/var/folders/yc/p9m4grcn3n58sspfj1mcsgyr0000gn/T/ipykernel_2148/117283708.py:57: FutureWarning: The frame.append method is deprecated and will be removed from pandas in a future version. Use pandas.concat instead.\n",
      "  labs_overall = ( labs_overall.append(pd.Series(\n",
      "/var/folders/yc/p9m4grcn3n58sspfj1mcsgyr0000gn/T/ipykernel_2148/117283708.py:57: FutureWarning: The frame.append method is deprecated and will be removed from pandas in a future version. Use pandas.concat instead.\n",
      "  labs_overall = ( labs_overall.append(pd.Series(\n",
      "/var/folders/yc/p9m4grcn3n58sspfj1mcsgyr0000gn/T/ipykernel_2148/117283708.py:57: FutureWarning: The frame.append method is deprecated and will be removed from pandas in a future version. Use pandas.concat instead.\n",
      "  labs_overall = ( labs_overall.append(pd.Series(\n",
      "/var/folders/yc/p9m4grcn3n58sspfj1mcsgyr0000gn/T/ipykernel_2148/117283708.py:57: FutureWarning: The frame.append method is deprecated and will be removed from pandas in a future version. Use pandas.concat instead.\n",
      "  labs_overall = ( labs_overall.append(pd.Series(\n"
     ]
    },
    {
     "name": "stdout",
     "output_type": "stream",
     "text": [
      "Lab Dicts, sets, tuples\n",
      "Required\n",
      "20  Students grabbed.\n",
      "['Week 1', 'Lab Dicts, sets, tuples\\nRequired', 'Adrian Flores', 'Delivered', '10/9/2022']\n",
      "['Week 1', 'Lab Dicts, sets, tuples\\nRequired', 'Aferdita Zherka Zherka', 'Delivered', '14/9/2022']\n"
     ]
    },
    {
     "name": "stderr",
     "output_type": "stream",
     "text": [
      "/var/folders/yc/p9m4grcn3n58sspfj1mcsgyr0000gn/T/ipykernel_2148/117283708.py:57: FutureWarning: The frame.append method is deprecated and will be removed from pandas in a future version. Use pandas.concat instead.\n",
      "  labs_overall = ( labs_overall.append(pd.Series(\n",
      "/var/folders/yc/p9m4grcn3n58sspfj1mcsgyr0000gn/T/ipykernel_2148/117283708.py:57: FutureWarning: The frame.append method is deprecated and will be removed from pandas in a future version. Use pandas.concat instead.\n",
      "  labs_overall = ( labs_overall.append(pd.Series(\n",
      "/var/folders/yc/p9m4grcn3n58sspfj1mcsgyr0000gn/T/ipykernel_2148/117283708.py:57: FutureWarning: The frame.append method is deprecated and will be removed from pandas in a future version. Use pandas.concat instead.\n",
      "  labs_overall = ( labs_overall.append(pd.Series(\n",
      "/var/folders/yc/p9m4grcn3n58sspfj1mcsgyr0000gn/T/ipykernel_2148/117283708.py:57: FutureWarning: The frame.append method is deprecated and will be removed from pandas in a future version. Use pandas.concat instead.\n",
      "  labs_overall = ( labs_overall.append(pd.Series(\n",
      "/var/folders/yc/p9m4grcn3n58sspfj1mcsgyr0000gn/T/ipykernel_2148/117283708.py:57: FutureWarning: The frame.append method is deprecated and will be removed from pandas in a future version. Use pandas.concat instead.\n",
      "  labs_overall = ( labs_overall.append(pd.Series(\n"
     ]
    },
    {
     "name": "stdout",
     "output_type": "stream",
     "text": [
      "['Week 1', 'Lab Dicts, sets, tuples\\nRequired', 'Alicia Andrés', 'Delivered', '24/9/2022']\n",
      "['Week 1', 'Lab Dicts, sets, tuples\\nRequired', 'Amelie Haberland', 'Delivered', '22/9/2022']\n",
      "['Week 1', 'Lab Dicts, sets, tuples\\nRequired', 'Angela Arredondo Mendoza', 'Delivered', '15/9/2022']\n",
      "['Week 1', 'Lab Dicts, sets, tuples\\nRequired', 'Damiano Serra', 'Delivered', '13/9/2022']\n",
      "['Week 1', 'Lab Dicts, sets, tuples\\nRequired', 'Daniel J Mendez Borges', 'Delivered', '16/9/2022']\n"
     ]
    },
    {
     "name": "stderr",
     "output_type": "stream",
     "text": [
      "/var/folders/yc/p9m4grcn3n58sspfj1mcsgyr0000gn/T/ipykernel_2148/117283708.py:57: FutureWarning: The frame.append method is deprecated and will be removed from pandas in a future version. Use pandas.concat instead.\n",
      "  labs_overall = ( labs_overall.append(pd.Series(\n",
      "/var/folders/yc/p9m4grcn3n58sspfj1mcsgyr0000gn/T/ipykernel_2148/117283708.py:57: FutureWarning: The frame.append method is deprecated and will be removed from pandas in a future version. Use pandas.concat instead.\n",
      "  labs_overall = ( labs_overall.append(pd.Series(\n",
      "/var/folders/yc/p9m4grcn3n58sspfj1mcsgyr0000gn/T/ipykernel_2148/117283708.py:57: FutureWarning: The frame.append method is deprecated and will be removed from pandas in a future version. Use pandas.concat instead.\n",
      "  labs_overall = ( labs_overall.append(pd.Series(\n",
      "/var/folders/yc/p9m4grcn3n58sspfj1mcsgyr0000gn/T/ipykernel_2148/117283708.py:57: FutureWarning: The frame.append method is deprecated and will be removed from pandas in a future version. Use pandas.concat instead.\n",
      "  labs_overall = ( labs_overall.append(pd.Series(\n",
      "/var/folders/yc/p9m4grcn3n58sspfj1mcsgyr0000gn/T/ipykernel_2148/117283708.py:57: FutureWarning: The frame.append method is deprecated and will be removed from pandas in a future version. Use pandas.concat instead.\n",
      "  labs_overall = ( labs_overall.append(pd.Series(\n"
     ]
    },
    {
     "name": "stdout",
     "output_type": "stream",
     "text": [
      "['Week 1', 'Lab Dicts, sets, tuples\\nRequired', 'Fabio Blank Da Costa', 'Delivered', '11/9/2022']\n",
      "['Week 1', 'Lab Dicts, sets, tuples\\nRequired', 'Federico Cavanagh', 'Delivered', '13/9/2022']\n",
      "['Week 1', 'Lab Dicts, sets, tuples\\nRequired', 'Francisco Javier De Las Heras Jimenez', 'Delivered', '13/9/2022']\n",
      "['Week 1', 'Lab Dicts, sets, tuples\\nRequired', 'Gregor Seegers', 'Delivered', '11/9/2022']\n",
      "['Week 1', 'Lab Dicts, sets, tuples\\nRequired', 'Joaquin Valentin', 'Delivered', '12/9/2022']\n"
     ]
    },
    {
     "name": "stderr",
     "output_type": "stream",
     "text": [
      "/var/folders/yc/p9m4grcn3n58sspfj1mcsgyr0000gn/T/ipykernel_2148/117283708.py:57: FutureWarning: The frame.append method is deprecated and will be removed from pandas in a future version. Use pandas.concat instead.\n",
      "  labs_overall = ( labs_overall.append(pd.Series(\n",
      "/var/folders/yc/p9m4grcn3n58sspfj1mcsgyr0000gn/T/ipykernel_2148/117283708.py:57: FutureWarning: The frame.append method is deprecated and will be removed from pandas in a future version. Use pandas.concat instead.\n",
      "  labs_overall = ( labs_overall.append(pd.Series(\n",
      "/var/folders/yc/p9m4grcn3n58sspfj1mcsgyr0000gn/T/ipykernel_2148/117283708.py:57: FutureWarning: The frame.append method is deprecated and will be removed from pandas in a future version. Use pandas.concat instead.\n",
      "  labs_overall = ( labs_overall.append(pd.Series(\n",
      "/var/folders/yc/p9m4grcn3n58sspfj1mcsgyr0000gn/T/ipykernel_2148/117283708.py:57: FutureWarning: The frame.append method is deprecated and will be removed from pandas in a future version. Use pandas.concat instead.\n",
      "  labs_overall = ( labs_overall.append(pd.Series(\n"
     ]
    },
    {
     "name": "stdout",
     "output_type": "stream",
     "text": [
      "['Week 1', 'Lab Dicts, sets, tuples\\nRequired', 'Manouk Meilof', 'Delivered', '13/9/2022']\n",
      "['Week 1', 'Lab Dicts, sets, tuples\\nRequired', 'Marc Gavaldà', 'Delivered', '11/9/2022']\n",
      "['Week 1', 'Lab Dicts, sets, tuples\\nRequired', 'María Vázquez Casares', 'Delivered', '24/9/2022']\n",
      "['Week 1', 'Lab Dicts, sets, tuples\\nRequired', 'Max Grempel', 'Delivered', '12/9/2022']\n"
     ]
    },
    {
     "name": "stderr",
     "output_type": "stream",
     "text": [
      "/var/folders/yc/p9m4grcn3n58sspfj1mcsgyr0000gn/T/ipykernel_2148/117283708.py:57: FutureWarning: The frame.append method is deprecated and will be removed from pandas in a future version. Use pandas.concat instead.\n",
      "  labs_overall = ( labs_overall.append(pd.Series(\n",
      "/var/folders/yc/p9m4grcn3n58sspfj1mcsgyr0000gn/T/ipykernel_2148/117283708.py:57: FutureWarning: The frame.append method is deprecated and will be removed from pandas in a future version. Use pandas.concat instead.\n",
      "  labs_overall = ( labs_overall.append(pd.Series(\n",
      "/var/folders/yc/p9m4grcn3n58sspfj1mcsgyr0000gn/T/ipykernel_2148/117283708.py:57: FutureWarning: The frame.append method is deprecated and will be removed from pandas in a future version. Use pandas.concat instead.\n",
      "  labs_overall = ( labs_overall.append(pd.Series(\n",
      "/var/folders/yc/p9m4grcn3n58sspfj1mcsgyr0000gn/T/ipykernel_2148/117283708.py:57: FutureWarning: The frame.append method is deprecated and will be removed from pandas in a future version. Use pandas.concat instead.\n",
      "  labs_overall = ( labs_overall.append(pd.Series(\n",
      "/var/folders/yc/p9m4grcn3n58sspfj1mcsgyr0000gn/T/ipykernel_2148/117283708.py:57: FutureWarning: The frame.append method is deprecated and will be removed from pandas in a future version. Use pandas.concat instead.\n",
      "  labs_overall = ( labs_overall.append(pd.Series(\n"
     ]
    },
    {
     "name": "stdout",
     "output_type": "stream",
     "text": [
      "['Week 1', 'Lab Dicts, sets, tuples\\nRequired', 'Shilei Tan Tan', 'Delivered', '12/9/2022']\n",
      "['Week 1', 'Lab Dicts, sets, tuples\\nRequired', 'Suparna Mandal', 'Delivered', '28/9/2022']\n",
      "['Week 1', 'Lab Dicts, sets, tuples\\nRequired', 'Óscar Iglesias Roqueiro', 'Delivered', '13/9/2022']\n",
      "['Week 1', 'Lab Dicts, sets, tuples\\nRequired', 'Vanessa Andrade', '', '']\n",
      "finished grabbing students info for lab Lab Dicts, sets, tuples\n",
      "Required of Week 1\n"
     ]
    },
    {
     "name": "stderr",
     "output_type": "stream",
     "text": [
      "/var/folders/yc/p9m4grcn3n58sspfj1mcsgyr0000gn/T/ipykernel_2148/117283708.py:57: FutureWarning: The frame.append method is deprecated and will be removed from pandas in a future version. Use pandas.concat instead.\n",
      "  labs_overall = ( labs_overall.append(pd.Series(\n"
     ]
    },
    {
     "name": "stdout",
     "output_type": "stream",
     "text": [
      "Lab Lists\n",
      "Required\n",
      "20  Students grabbed.\n",
      "['Week 1', 'Lab Lists\\nRequired', 'Adrian Flores', 'Delivered', '9/9/2022']\n",
      "['Week 1', 'Lab Lists\\nRequired', 'Aferdita Zherka Zherka', 'Delivered', '13/9/2022']\n",
      "['Week 1', 'Lab Lists\\nRequired', 'Alicia Andrés', 'Delivered', '13/9/2022']\n"
     ]
    },
    {
     "name": "stderr",
     "output_type": "stream",
     "text": [
      "/var/folders/yc/p9m4grcn3n58sspfj1mcsgyr0000gn/T/ipykernel_2148/117283708.py:57: FutureWarning: The frame.append method is deprecated and will be removed from pandas in a future version. Use pandas.concat instead.\n",
      "  labs_overall = ( labs_overall.append(pd.Series(\n",
      "/var/folders/yc/p9m4grcn3n58sspfj1mcsgyr0000gn/T/ipykernel_2148/117283708.py:57: FutureWarning: The frame.append method is deprecated and will be removed from pandas in a future version. Use pandas.concat instead.\n",
      "  labs_overall = ( labs_overall.append(pd.Series(\n",
      "/var/folders/yc/p9m4grcn3n58sspfj1mcsgyr0000gn/T/ipykernel_2148/117283708.py:57: FutureWarning: The frame.append method is deprecated and will be removed from pandas in a future version. Use pandas.concat instead.\n",
      "  labs_overall = ( labs_overall.append(pd.Series(\n",
      "/var/folders/yc/p9m4grcn3n58sspfj1mcsgyr0000gn/T/ipykernel_2148/117283708.py:57: FutureWarning: The frame.append method is deprecated and will be removed from pandas in a future version. Use pandas.concat instead.\n",
      "  labs_overall = ( labs_overall.append(pd.Series(\n"
     ]
    },
    {
     "name": "stdout",
     "output_type": "stream",
     "text": [
      "['Week 1', 'Lab Lists\\nRequired', 'Amelie Haberland', 'Delivered', '11/9/2022']\n",
      "['Week 1', 'Lab Lists\\nRequired', 'Angela Arredondo Mendoza', 'Delivered', '11/9/2022']\n",
      "['Week 1', 'Lab Lists\\nRequired', 'Damiano Serra', 'Delivered', '10/9/2022']\n"
     ]
    },
    {
     "name": "stderr",
     "output_type": "stream",
     "text": [
      "/var/folders/yc/p9m4grcn3n58sspfj1mcsgyr0000gn/T/ipykernel_2148/117283708.py:57: FutureWarning: The frame.append method is deprecated and will be removed from pandas in a future version. Use pandas.concat instead.\n",
      "  labs_overall = ( labs_overall.append(pd.Series(\n",
      "/var/folders/yc/p9m4grcn3n58sspfj1mcsgyr0000gn/T/ipykernel_2148/117283708.py:57: FutureWarning: The frame.append method is deprecated and will be removed from pandas in a future version. Use pandas.concat instead.\n",
      "  labs_overall = ( labs_overall.append(pd.Series(\n",
      "/var/folders/yc/p9m4grcn3n58sspfj1mcsgyr0000gn/T/ipykernel_2148/117283708.py:57: FutureWarning: The frame.append method is deprecated and will be removed from pandas in a future version. Use pandas.concat instead.\n",
      "  labs_overall = ( labs_overall.append(pd.Series(\n",
      "/var/folders/yc/p9m4grcn3n58sspfj1mcsgyr0000gn/T/ipykernel_2148/117283708.py:57: FutureWarning: The frame.append method is deprecated and will be removed from pandas in a future version. Use pandas.concat instead.\n",
      "  labs_overall = ( labs_overall.append(pd.Series(\n",
      "/var/folders/yc/p9m4grcn3n58sspfj1mcsgyr0000gn/T/ipykernel_2148/117283708.py:57: FutureWarning: The frame.append method is deprecated and will be removed from pandas in a future version. Use pandas.concat instead.\n",
      "  labs_overall = ( labs_overall.append(pd.Series(\n"
     ]
    },
    {
     "name": "stdout",
     "output_type": "stream",
     "text": [
      "['Week 1', 'Lab Lists\\nRequired', 'Daniel J Mendez Borges', 'Delivered', '9/9/2022']\n",
      "['Week 1', 'Lab Lists\\nRequired', 'Fabio Blank Da Costa', 'Delivered', '9/9/2022']\n",
      "['Week 1', 'Lab Lists\\nRequired', 'Federico Cavanagh', 'Delivered', '10/9/2022']\n",
      "['Week 1', 'Lab Lists\\nRequired', 'Francisco Javier De Las Heras Jimenez', 'Delivered', '10/9/2022']\n",
      "['Week 1', 'Lab Lists\\nRequired', 'Gregor Seegers', 'Delivered', '9/9/2022']\n"
     ]
    },
    {
     "name": "stderr",
     "output_type": "stream",
     "text": [
      "/var/folders/yc/p9m4grcn3n58sspfj1mcsgyr0000gn/T/ipykernel_2148/117283708.py:57: FutureWarning: The frame.append method is deprecated and will be removed from pandas in a future version. Use pandas.concat instead.\n",
      "  labs_overall = ( labs_overall.append(pd.Series(\n",
      "/var/folders/yc/p9m4grcn3n58sspfj1mcsgyr0000gn/T/ipykernel_2148/117283708.py:57: FutureWarning: The frame.append method is deprecated and will be removed from pandas in a future version. Use pandas.concat instead.\n",
      "  labs_overall = ( labs_overall.append(pd.Series(\n",
      "/var/folders/yc/p9m4grcn3n58sspfj1mcsgyr0000gn/T/ipykernel_2148/117283708.py:57: FutureWarning: The frame.append method is deprecated and will be removed from pandas in a future version. Use pandas.concat instead.\n",
      "  labs_overall = ( labs_overall.append(pd.Series(\n",
      "/var/folders/yc/p9m4grcn3n58sspfj1mcsgyr0000gn/T/ipykernel_2148/117283708.py:57: FutureWarning: The frame.append method is deprecated and will be removed from pandas in a future version. Use pandas.concat instead.\n",
      "  labs_overall = ( labs_overall.append(pd.Series(\n",
      "/var/folders/yc/p9m4grcn3n58sspfj1mcsgyr0000gn/T/ipykernel_2148/117283708.py:57: FutureWarning: The frame.append method is deprecated and will be removed from pandas in a future version. Use pandas.concat instead.\n",
      "  labs_overall = ( labs_overall.append(pd.Series(\n"
     ]
    },
    {
     "name": "stdout",
     "output_type": "stream",
     "text": [
      "['Week 1', 'Lab Lists\\nRequired', 'Joaquin Valentin', 'Delivered', '9/9/2022']\n",
      "['Week 1', 'Lab Lists\\nRequired', 'Manouk Meilof', 'Delivered', '9/9/2022']\n",
      "['Week 1', 'Lab Lists\\nRequired', 'Marc Gavaldà', 'Delivered', '9/9/2022']\n",
      "['Week 1', 'Lab Lists\\nRequired', 'María Vázquez Casares', 'Delivered', '13/9/2022']\n",
      "['Week 1', 'Lab Lists\\nRequired', 'Max Grempel', 'Delivered', '9/9/2022']\n",
      "['Week 1', 'Lab Lists\\nRequired', 'Shilei Tan Tan', 'Delivered', '11/9/2022']\n",
      "['Week 1', 'Lab Lists\\nRequired', 'Suparna Mandal', 'Delivered', '13/9/2022']\n",
      "['Week 1', 'Lab Lists\\nRequired', 'Vanessa Andrade', 'Delivered', '28/9/2022']\n"
     ]
    },
    {
     "name": "stderr",
     "output_type": "stream",
     "text": [
      "/var/folders/yc/p9m4grcn3n58sspfj1mcsgyr0000gn/T/ipykernel_2148/117283708.py:57: FutureWarning: The frame.append method is deprecated and will be removed from pandas in a future version. Use pandas.concat instead.\n",
      "  labs_overall = ( labs_overall.append(pd.Series(\n",
      "/var/folders/yc/p9m4grcn3n58sspfj1mcsgyr0000gn/T/ipykernel_2148/117283708.py:57: FutureWarning: The frame.append method is deprecated and will be removed from pandas in a future version. Use pandas.concat instead.\n",
      "  labs_overall = ( labs_overall.append(pd.Series(\n",
      "/var/folders/yc/p9m4grcn3n58sspfj1mcsgyr0000gn/T/ipykernel_2148/117283708.py:57: FutureWarning: The frame.append method is deprecated and will be removed from pandas in a future version. Use pandas.concat instead.\n",
      "  labs_overall = ( labs_overall.append(pd.Series(\n",
      "/var/folders/yc/p9m4grcn3n58sspfj1mcsgyr0000gn/T/ipykernel_2148/117283708.py:57: FutureWarning: The frame.append method is deprecated and will be removed from pandas in a future version. Use pandas.concat instead.\n",
      "  labs_overall = ( labs_overall.append(pd.Series(\n",
      "/var/folders/yc/p9m4grcn3n58sspfj1mcsgyr0000gn/T/ipykernel_2148/117283708.py:57: FutureWarning: The frame.append method is deprecated and will be removed from pandas in a future version. Use pandas.concat instead.\n",
      "  labs_overall = ( labs_overall.append(pd.Series(\n"
     ]
    },
    {
     "name": "stdout",
     "output_type": "stream",
     "text": [
      "['Week 1', 'Lab Lists\\nRequired', 'Óscar Iglesias Roqueiro', 'Delivered', '9/9/2022']\n",
      "finished grabbing students info for lab Lab Lists\n",
      "Required of Week 1\n"
     ]
    },
    {
     "name": "stderr",
     "output_type": "stream",
     "text": [
      "/var/folders/yc/p9m4grcn3n58sspfj1mcsgyr0000gn/T/ipykernel_2148/117283708.py:57: FutureWarning: The frame.append method is deprecated and will be removed from pandas in a future version. Use pandas.concat instead.\n",
      "  labs_overall = ( labs_overall.append(pd.Series(\n"
     ]
    },
    {
     "name": "stdout",
     "output_type": "stream",
     "text": [
      "Lab Git\n",
      "Required\n",
      "20  Students grabbed.\n",
      "['Week 1', 'Lab Git\\nRequired', 'Adrian Flores', 'Delivered', '7/9/2022']\n",
      "['Week 1', 'Lab Git\\nRequired', 'Aferdita Zherka Zherka', 'Delivered', '7/9/2022']\n",
      "['Week 1', 'Lab Git\\nRequired', 'Alicia Andrés', 'Delivered', '8/9/2022']\n"
     ]
    },
    {
     "name": "stderr",
     "output_type": "stream",
     "text": [
      "/var/folders/yc/p9m4grcn3n58sspfj1mcsgyr0000gn/T/ipykernel_2148/117283708.py:57: FutureWarning: The frame.append method is deprecated and will be removed from pandas in a future version. Use pandas.concat instead.\n",
      "  labs_overall = ( labs_overall.append(pd.Series(\n",
      "/var/folders/yc/p9m4grcn3n58sspfj1mcsgyr0000gn/T/ipykernel_2148/117283708.py:57: FutureWarning: The frame.append method is deprecated and will be removed from pandas in a future version. Use pandas.concat instead.\n",
      "  labs_overall = ( labs_overall.append(pd.Series(\n",
      "/var/folders/yc/p9m4grcn3n58sspfj1mcsgyr0000gn/T/ipykernel_2148/117283708.py:57: FutureWarning: The frame.append method is deprecated and will be removed from pandas in a future version. Use pandas.concat instead.\n",
      "  labs_overall = ( labs_overall.append(pd.Series(\n",
      "/var/folders/yc/p9m4grcn3n58sspfj1mcsgyr0000gn/T/ipykernel_2148/117283708.py:57: FutureWarning: The frame.append method is deprecated and will be removed from pandas in a future version. Use pandas.concat instead.\n",
      "  labs_overall = ( labs_overall.append(pd.Series(\n",
      "/var/folders/yc/p9m4grcn3n58sspfj1mcsgyr0000gn/T/ipykernel_2148/117283708.py:57: FutureWarning: The frame.append method is deprecated and will be removed from pandas in a future version. Use pandas.concat instead.\n",
      "  labs_overall = ( labs_overall.append(pd.Series(\n"
     ]
    },
    {
     "name": "stdout",
     "output_type": "stream",
     "text": [
      "['Week 1', 'Lab Git\\nRequired', 'Amelie Haberland', 'Delivered', '7/9/2022']\n",
      "['Week 1', 'Lab Git\\nRequired', 'Angela Arredondo Mendoza', 'Delivered', '8/9/2022']\n",
      "['Week 1', 'Lab Git\\nRequired', 'Damiano Serra', 'Delivered', '7/9/2022']\n",
      "['Week 1', 'Lab Git\\nRequired', 'Daniel J Mendez Borges', 'Delivered', '8/9/2022']\n",
      "['Week 1', 'Lab Git\\nRequired', 'Fabio Blank Da Costa', 'Delivered', '9/9/2022']\n"
     ]
    },
    {
     "name": "stderr",
     "output_type": "stream",
     "text": [
      "/var/folders/yc/p9m4grcn3n58sspfj1mcsgyr0000gn/T/ipykernel_2148/117283708.py:57: FutureWarning: The frame.append method is deprecated and will be removed from pandas in a future version. Use pandas.concat instead.\n",
      "  labs_overall = ( labs_overall.append(pd.Series(\n",
      "/var/folders/yc/p9m4grcn3n58sspfj1mcsgyr0000gn/T/ipykernel_2148/117283708.py:57: FutureWarning: The frame.append method is deprecated and will be removed from pandas in a future version. Use pandas.concat instead.\n",
      "  labs_overall = ( labs_overall.append(pd.Series(\n",
      "/var/folders/yc/p9m4grcn3n58sspfj1mcsgyr0000gn/T/ipykernel_2148/117283708.py:57: FutureWarning: The frame.append method is deprecated and will be removed from pandas in a future version. Use pandas.concat instead.\n",
      "  labs_overall = ( labs_overall.append(pd.Series(\n",
      "/var/folders/yc/p9m4grcn3n58sspfj1mcsgyr0000gn/T/ipykernel_2148/117283708.py:57: FutureWarning: The frame.append method is deprecated and will be removed from pandas in a future version. Use pandas.concat instead.\n",
      "  labs_overall = ( labs_overall.append(pd.Series(\n",
      "/var/folders/yc/p9m4grcn3n58sspfj1mcsgyr0000gn/T/ipykernel_2148/117283708.py:57: FutureWarning: The frame.append method is deprecated and will be removed from pandas in a future version. Use pandas.concat instead.\n",
      "  labs_overall = ( labs_overall.append(pd.Series(\n"
     ]
    },
    {
     "name": "stdout",
     "output_type": "stream",
     "text": [
      "['Week 1', 'Lab Git\\nRequired', 'Federico Cavanagh', 'Delivered', '7/9/2022']\n",
      "['Week 1', 'Lab Git\\nRequired', 'Francisco Javier De Las Heras Jimenez', 'Delivered', '7/9/2022']\n",
      "['Week 1', 'Lab Git\\nRequired', 'Gregor Seegers', 'Delivered', '7/9/2022']\n",
      "['Week 1', 'Lab Git\\nRequired', 'Joaquin Valentin', 'Delivered', '6/9/2022']\n",
      "['Week 1', 'Lab Git\\nRequired', 'Manouk Meilof', 'Delivered', '7/9/2022']\n"
     ]
    },
    {
     "name": "stderr",
     "output_type": "stream",
     "text": [
      "/var/folders/yc/p9m4grcn3n58sspfj1mcsgyr0000gn/T/ipykernel_2148/117283708.py:57: FutureWarning: The frame.append method is deprecated and will be removed from pandas in a future version. Use pandas.concat instead.\n",
      "  labs_overall = ( labs_overall.append(pd.Series(\n",
      "/var/folders/yc/p9m4grcn3n58sspfj1mcsgyr0000gn/T/ipykernel_2148/117283708.py:57: FutureWarning: The frame.append method is deprecated and will be removed from pandas in a future version. Use pandas.concat instead.\n",
      "  labs_overall = ( labs_overall.append(pd.Series(\n",
      "/var/folders/yc/p9m4grcn3n58sspfj1mcsgyr0000gn/T/ipykernel_2148/117283708.py:57: FutureWarning: The frame.append method is deprecated and will be removed from pandas in a future version. Use pandas.concat instead.\n",
      "  labs_overall = ( labs_overall.append(pd.Series(\n",
      "/var/folders/yc/p9m4grcn3n58sspfj1mcsgyr0000gn/T/ipykernel_2148/117283708.py:57: FutureWarning: The frame.append method is deprecated and will be removed from pandas in a future version. Use pandas.concat instead.\n",
      "  labs_overall = ( labs_overall.append(pd.Series(\n"
     ]
    },
    {
     "name": "stdout",
     "output_type": "stream",
     "text": [
      "['Week 1', 'Lab Git\\nRequired', 'Marc Gavaldà', 'Delivered', '7/9/2022']\n",
      "['Week 1', 'Lab Git\\nRequired', 'María Vázquez Casares', 'Delivered', '11/9/2022']\n",
      "['Week 1', 'Lab Git\\nRequired', 'Max Grempel', 'Delivered', '6/9/2022']\n",
      "['Week 1', 'Lab Git\\nRequired', 'Shilei Tan Tan', 'Delivered', '8/9/2022']\n",
      "['Week 1', 'Lab Git\\nRequired', 'Suparna Mandal', 'Delivered', '7/9/2022']\n"
     ]
    },
    {
     "name": "stderr",
     "output_type": "stream",
     "text": [
      "/var/folders/yc/p9m4grcn3n58sspfj1mcsgyr0000gn/T/ipykernel_2148/117283708.py:57: FutureWarning: The frame.append method is deprecated and will be removed from pandas in a future version. Use pandas.concat instead.\n",
      "  labs_overall = ( labs_overall.append(pd.Series(\n",
      "/var/folders/yc/p9m4grcn3n58sspfj1mcsgyr0000gn/T/ipykernel_2148/117283708.py:57: FutureWarning: The frame.append method is deprecated and will be removed from pandas in a future version. Use pandas.concat instead.\n",
      "  labs_overall = ( labs_overall.append(pd.Series(\n",
      "/var/folders/yc/p9m4grcn3n58sspfj1mcsgyr0000gn/T/ipykernel_2148/117283708.py:57: FutureWarning: The frame.append method is deprecated and will be removed from pandas in a future version. Use pandas.concat instead.\n",
      "  labs_overall = ( labs_overall.append(pd.Series(\n",
      "/var/folders/yc/p9m4grcn3n58sspfj1mcsgyr0000gn/T/ipykernel_2148/117283708.py:57: FutureWarning: The frame.append method is deprecated and will be removed from pandas in a future version. Use pandas.concat instead.\n",
      "  labs_overall = ( labs_overall.append(pd.Series(\n",
      "/var/folders/yc/p9m4grcn3n58sspfj1mcsgyr0000gn/T/ipykernel_2148/117283708.py:57: FutureWarning: The frame.append method is deprecated and will be removed from pandas in a future version. Use pandas.concat instead.\n",
      "  labs_overall = ( labs_overall.append(pd.Series(\n"
     ]
    },
    {
     "name": "stdout",
     "output_type": "stream",
     "text": [
      "['Week 1', 'Lab Git\\nRequired', 'Vanessa Andrade', 'Delivered', '28/9/2022']\n",
      "['Week 1', 'Lab Git\\nRequired', 'Óscar Iglesias Roqueiro', 'Delivered', '7/9/2022']\n",
      "finished grabbing students info for lab Lab Git\n",
      "Required of Week 1\n"
     ]
    },
    {
     "name": "stderr",
     "output_type": "stream",
     "text": [
      "/var/folders/yc/p9m4grcn3n58sspfj1mcsgyr0000gn/T/ipykernel_2148/117283708.py:57: FutureWarning: The frame.append method is deprecated and will be removed from pandas in a future version. Use pandas.concat instead.\n",
      "  labs_overall = ( labs_overall.append(pd.Series(\n"
     ]
    },
    {
     "name": "stdout",
     "output_type": "stream",
     "text": [
      "Week 2\n",
      "Lab DataFrame Calculations\n",
      "Required\n",
      "20  Students grabbed.\n",
      "['Week 2', 'Lab DataFrame Calculations\\nRequired', 'Adrian Flores', 'Delivered', '23/9/2022']\n",
      "['Week 2', 'Lab DataFrame Calculations\\nRequired', 'Aferdita Zherka Zherka', 'Delivered', '27/9/2022']\n",
      "['Week 2', 'Lab DataFrame Calculations\\nRequired', 'Alicia Andrés', 'Delivered', '4/10/2022']\n"
     ]
    },
    {
     "name": "stderr",
     "output_type": "stream",
     "text": [
      "/var/folders/yc/p9m4grcn3n58sspfj1mcsgyr0000gn/T/ipykernel_2148/117283708.py:57: FutureWarning: The frame.append method is deprecated and will be removed from pandas in a future version. Use pandas.concat instead.\n",
      "  labs_overall = ( labs_overall.append(pd.Series(\n",
      "/var/folders/yc/p9m4grcn3n58sspfj1mcsgyr0000gn/T/ipykernel_2148/117283708.py:57: FutureWarning: The frame.append method is deprecated and will be removed from pandas in a future version. Use pandas.concat instead.\n",
      "  labs_overall = ( labs_overall.append(pd.Series(\n",
      "/var/folders/yc/p9m4grcn3n58sspfj1mcsgyr0000gn/T/ipykernel_2148/117283708.py:57: FutureWarning: The frame.append method is deprecated and will be removed from pandas in a future version. Use pandas.concat instead.\n",
      "  labs_overall = ( labs_overall.append(pd.Series(\n",
      "/var/folders/yc/p9m4grcn3n58sspfj1mcsgyr0000gn/T/ipykernel_2148/117283708.py:57: FutureWarning: The frame.append method is deprecated and will be removed from pandas in a future version. Use pandas.concat instead.\n",
      "  labs_overall = ( labs_overall.append(pd.Series(\n"
     ]
    },
    {
     "name": "stdout",
     "output_type": "stream",
     "text": [
      "['Week 2', 'Lab DataFrame Calculations\\nRequired', 'Amelie Haberland', 'Delivered', '2/10/2022']\n",
      "['Week 2', 'Lab DataFrame Calculations\\nRequired', 'Angela Arredondo Mendoza', 'Delivered', '24/9/2022']\n",
      "['Week 2', 'Lab DataFrame Calculations\\nRequired', 'Damiano Serra', 'Delivered', '26/9/2022']\n",
      "['Week 2', 'Lab DataFrame Calculations\\nRequired', 'Daniel J Mendez Borges', 'Delivered', '10/10/2022']\n"
     ]
    },
    {
     "name": "stderr",
     "output_type": "stream",
     "text": [
      "/var/folders/yc/p9m4grcn3n58sspfj1mcsgyr0000gn/T/ipykernel_2148/117283708.py:57: FutureWarning: The frame.append method is deprecated and will be removed from pandas in a future version. Use pandas.concat instead.\n",
      "  labs_overall = ( labs_overall.append(pd.Series(\n",
      "/var/folders/yc/p9m4grcn3n58sspfj1mcsgyr0000gn/T/ipykernel_2148/117283708.py:57: FutureWarning: The frame.append method is deprecated and will be removed from pandas in a future version. Use pandas.concat instead.\n",
      "  labs_overall = ( labs_overall.append(pd.Series(\n",
      "/var/folders/yc/p9m4grcn3n58sspfj1mcsgyr0000gn/T/ipykernel_2148/117283708.py:57: FutureWarning: The frame.append method is deprecated and will be removed from pandas in a future version. Use pandas.concat instead.\n",
      "  labs_overall = ( labs_overall.append(pd.Series(\n",
      "/var/folders/yc/p9m4grcn3n58sspfj1mcsgyr0000gn/T/ipykernel_2148/117283708.py:57: FutureWarning: The frame.append method is deprecated and will be removed from pandas in a future version. Use pandas.concat instead.\n",
      "  labs_overall = ( labs_overall.append(pd.Series(\n"
     ]
    },
    {
     "name": "stdout",
     "output_type": "stream",
     "text": [
      "['Week 2', 'Lab DataFrame Calculations\\nRequired', 'Fabio Blank Da Costa', 'Delivered', '1/10/2022']\n",
      "['Week 2', 'Lab DataFrame Calculations\\nRequired', 'Federico Cavanagh', 'Delivered', '22/9/2022']\n",
      "['Week 2', 'Lab DataFrame Calculations\\nRequired', 'Francisco Javier De Las Heras Jimenez', 'Delivered', '1/10/2022']\n",
      "['Week 2', 'Lab DataFrame Calculations\\nRequired', 'Gregor Seegers', 'Delivered', '23/9/2022']\n",
      "['Week 2', 'Lab DataFrame Calculations\\nRequired', 'Joaquin Valentin', 'Delivered', '26/9/2022']\n"
     ]
    },
    {
     "name": "stderr",
     "output_type": "stream",
     "text": [
      "/var/folders/yc/p9m4grcn3n58sspfj1mcsgyr0000gn/T/ipykernel_2148/117283708.py:57: FutureWarning: The frame.append method is deprecated and will be removed from pandas in a future version. Use pandas.concat instead.\n",
      "  labs_overall = ( labs_overall.append(pd.Series(\n",
      "/var/folders/yc/p9m4grcn3n58sspfj1mcsgyr0000gn/T/ipykernel_2148/117283708.py:57: FutureWarning: The frame.append method is deprecated and will be removed from pandas in a future version. Use pandas.concat instead.\n",
      "  labs_overall = ( labs_overall.append(pd.Series(\n",
      "/var/folders/yc/p9m4grcn3n58sspfj1mcsgyr0000gn/T/ipykernel_2148/117283708.py:57: FutureWarning: The frame.append method is deprecated and will be removed from pandas in a future version. Use pandas.concat instead.\n",
      "  labs_overall = ( labs_overall.append(pd.Series(\n",
      "/var/folders/yc/p9m4grcn3n58sspfj1mcsgyr0000gn/T/ipykernel_2148/117283708.py:57: FutureWarning: The frame.append method is deprecated and will be removed from pandas in a future version. Use pandas.concat instead.\n",
      "  labs_overall = ( labs_overall.append(pd.Series(\n",
      "/var/folders/yc/p9m4grcn3n58sspfj1mcsgyr0000gn/T/ipykernel_2148/117283708.py:57: FutureWarning: The frame.append method is deprecated and will be removed from pandas in a future version. Use pandas.concat instead.\n",
      "  labs_overall = ( labs_overall.append(pd.Series(\n"
     ]
    },
    {
     "name": "stdout",
     "output_type": "stream",
     "text": [
      "['Week 2', 'Lab DataFrame Calculations\\nRequired', 'Marc Gavaldà', 'Delivered', '25/9/2022']\n",
      "['Week 2', 'Lab DataFrame Calculations\\nRequired', 'María Vázquez Casares', 'Delivered', '11/11/2022']\n",
      "['Week 2', 'Lab DataFrame Calculations\\nRequired', 'Max Grempel', 'Delivered', '21/9/2022']\n",
      "['Week 2', 'Lab DataFrame Calculations\\nRequired', 'Shilei Tan Tan', 'Delivered', '27/9/2022']\n",
      "['Week 2', 'Lab DataFrame Calculations\\nRequired', 'Suparna Mandal', 'Delivered', '14/11/2022']\n"
     ]
    },
    {
     "name": "stderr",
     "output_type": "stream",
     "text": [
      "/var/folders/yc/p9m4grcn3n58sspfj1mcsgyr0000gn/T/ipykernel_2148/117283708.py:57: FutureWarning: The frame.append method is deprecated and will be removed from pandas in a future version. Use pandas.concat instead.\n",
      "  labs_overall = ( labs_overall.append(pd.Series(\n",
      "/var/folders/yc/p9m4grcn3n58sspfj1mcsgyr0000gn/T/ipykernel_2148/117283708.py:57: FutureWarning: The frame.append method is deprecated and will be removed from pandas in a future version. Use pandas.concat instead.\n",
      "  labs_overall = ( labs_overall.append(pd.Series(\n",
      "/var/folders/yc/p9m4grcn3n58sspfj1mcsgyr0000gn/T/ipykernel_2148/117283708.py:57: FutureWarning: The frame.append method is deprecated and will be removed from pandas in a future version. Use pandas.concat instead.\n",
      "  labs_overall = ( labs_overall.append(pd.Series(\n",
      "/var/folders/yc/p9m4grcn3n58sspfj1mcsgyr0000gn/T/ipykernel_2148/117283708.py:57: FutureWarning: The frame.append method is deprecated and will be removed from pandas in a future version. Use pandas.concat instead.\n",
      "  labs_overall = ( labs_overall.append(pd.Series(\n",
      "/var/folders/yc/p9m4grcn3n58sspfj1mcsgyr0000gn/T/ipykernel_2148/117283708.py:57: FutureWarning: The frame.append method is deprecated and will be removed from pandas in a future version. Use pandas.concat instead.\n",
      "  labs_overall = ( labs_overall.append(pd.Series(\n"
     ]
    },
    {
     "name": "stdout",
     "output_type": "stream",
     "text": [
      "['Week 2', 'Lab DataFrame Calculations\\nRequired', 'Óscar Iglesias Roqueiro', 'Delivered', '25/9/2022']\n",
      "['Week 2', 'Lab DataFrame Calculations\\nRequired', 'Manouk Meilof', '', '']\n",
      "['Week 2', 'Lab DataFrame Calculations\\nRequired', 'Vanessa Andrade', '', '']\n",
      "finished grabbing students info for lab Lab DataFrame Calculations\n",
      "Required of Week 2\n"
     ]
    },
    {
     "name": "stderr",
     "output_type": "stream",
     "text": [
      "/var/folders/yc/p9m4grcn3n58sspfj1mcsgyr0000gn/T/ipykernel_2148/117283708.py:57: FutureWarning: The frame.append method is deprecated and will be removed from pandas in a future version. Use pandas.concat instead.\n",
      "  labs_overall = ( labs_overall.append(pd.Series(\n",
      "/var/folders/yc/p9m4grcn3n58sspfj1mcsgyr0000gn/T/ipykernel_2148/117283708.py:57: FutureWarning: The frame.append method is deprecated and will be removed from pandas in a future version. Use pandas.concat instead.\n",
      "  labs_overall = ( labs_overall.append(pd.Series(\n"
     ]
    },
    {
     "name": "stdout",
     "output_type": "stream",
     "text": [
      "Lab Data Cleaning\n",
      "Required\n",
      "20  Students grabbed.\n",
      "['Week 2', 'Lab Data Cleaning\\nRequired', 'Adrian Flores', 'Delivered', '18/9/2022']\n",
      "['Week 2', 'Lab Data Cleaning\\nRequired', 'Aferdita Zherka Zherka', 'Delivered', '22/9/2022']\n",
      "['Week 2', 'Lab Data Cleaning\\nRequired', 'Alicia Andrés', 'Delivered', '4/10/2022']\n"
     ]
    },
    {
     "name": "stderr",
     "output_type": "stream",
     "text": [
      "/var/folders/yc/p9m4grcn3n58sspfj1mcsgyr0000gn/T/ipykernel_2148/117283708.py:57: FutureWarning: The frame.append method is deprecated and will be removed from pandas in a future version. Use pandas.concat instead.\n",
      "  labs_overall = ( labs_overall.append(pd.Series(\n",
      "/var/folders/yc/p9m4grcn3n58sspfj1mcsgyr0000gn/T/ipykernel_2148/117283708.py:57: FutureWarning: The frame.append method is deprecated and will be removed from pandas in a future version. Use pandas.concat instead.\n",
      "  labs_overall = ( labs_overall.append(pd.Series(\n",
      "/var/folders/yc/p9m4grcn3n58sspfj1mcsgyr0000gn/T/ipykernel_2148/117283708.py:57: FutureWarning: The frame.append method is deprecated and will be removed from pandas in a future version. Use pandas.concat instead.\n",
      "  labs_overall = ( labs_overall.append(pd.Series(\n",
      "/var/folders/yc/p9m4grcn3n58sspfj1mcsgyr0000gn/T/ipykernel_2148/117283708.py:57: FutureWarning: The frame.append method is deprecated and will be removed from pandas in a future version. Use pandas.concat instead.\n",
      "  labs_overall = ( labs_overall.append(pd.Series(\n",
      "/var/folders/yc/p9m4grcn3n58sspfj1mcsgyr0000gn/T/ipykernel_2148/117283708.py:57: FutureWarning: The frame.append method is deprecated and will be removed from pandas in a future version. Use pandas.concat instead.\n",
      "  labs_overall = ( labs_overall.append(pd.Series(\n"
     ]
    },
    {
     "name": "stdout",
     "output_type": "stream",
     "text": [
      "['Week 2', 'Lab Data Cleaning\\nRequired', 'Amelie Haberland', 'Delivered', '27/9/2022']\n",
      "['Week 2', 'Lab Data Cleaning\\nRequired', 'Angela Arredondo Mendoza', 'Delivered', '22/9/2022']\n",
      "['Week 2', 'Lab Data Cleaning\\nRequired', 'Damiano Serra', 'Delivered', '22/9/2022']\n",
      "['Week 2', 'Lab Data Cleaning\\nRequired', 'Daniel J Mendez Borges', 'Delivered', '22/9/2022']\n",
      "['Week 2', 'Lab Data Cleaning\\nRequired', 'Fabio Blank Da Costa', 'Delivered', '17/9/2022']\n"
     ]
    },
    {
     "name": "stderr",
     "output_type": "stream",
     "text": [
      "/var/folders/yc/p9m4grcn3n58sspfj1mcsgyr0000gn/T/ipykernel_2148/117283708.py:57: FutureWarning: The frame.append method is deprecated and will be removed from pandas in a future version. Use pandas.concat instead.\n",
      "  labs_overall = ( labs_overall.append(pd.Series(\n",
      "/var/folders/yc/p9m4grcn3n58sspfj1mcsgyr0000gn/T/ipykernel_2148/117283708.py:57: FutureWarning: The frame.append method is deprecated and will be removed from pandas in a future version. Use pandas.concat instead.\n",
      "  labs_overall = ( labs_overall.append(pd.Series(\n",
      "/var/folders/yc/p9m4grcn3n58sspfj1mcsgyr0000gn/T/ipykernel_2148/117283708.py:57: FutureWarning: The frame.append method is deprecated and will be removed from pandas in a future version. Use pandas.concat instead.\n",
      "  labs_overall = ( labs_overall.append(pd.Series(\n",
      "/var/folders/yc/p9m4grcn3n58sspfj1mcsgyr0000gn/T/ipykernel_2148/117283708.py:57: FutureWarning: The frame.append method is deprecated and will be removed from pandas in a future version. Use pandas.concat instead.\n",
      "  labs_overall = ( labs_overall.append(pd.Series(\n",
      "/var/folders/yc/p9m4grcn3n58sspfj1mcsgyr0000gn/T/ipykernel_2148/117283708.py:57: FutureWarning: The frame.append method is deprecated and will be removed from pandas in a future version. Use pandas.concat instead.\n",
      "  labs_overall = ( labs_overall.append(pd.Series(\n"
     ]
    },
    {
     "name": "stdout",
     "output_type": "stream",
     "text": [
      "['Week 2', 'Lab Data Cleaning\\nRequired', 'Federico Cavanagh', 'Delivered', '18/9/2022']\n",
      "['Week 2', 'Lab Data Cleaning\\nRequired', 'Francisco Javier De Las Heras Jimenez', 'Delivered', '19/9/2022']\n",
      "['Week 2', 'Lab Data Cleaning\\nRequired', 'Gregor Seegers', 'Delivered', '19/9/2022']\n",
      "['Week 2', 'Lab Data Cleaning\\nRequired', 'Joaquin Valentin', 'Delivered', '20/9/2022']\n"
     ]
    },
    {
     "name": "stderr",
     "output_type": "stream",
     "text": [
      "/var/folders/yc/p9m4grcn3n58sspfj1mcsgyr0000gn/T/ipykernel_2148/117283708.py:57: FutureWarning: The frame.append method is deprecated and will be removed from pandas in a future version. Use pandas.concat instead.\n",
      "  labs_overall = ( labs_overall.append(pd.Series(\n",
      "/var/folders/yc/p9m4grcn3n58sspfj1mcsgyr0000gn/T/ipykernel_2148/117283708.py:57: FutureWarning: The frame.append method is deprecated and will be removed from pandas in a future version. Use pandas.concat instead.\n",
      "  labs_overall = ( labs_overall.append(pd.Series(\n",
      "/var/folders/yc/p9m4grcn3n58sspfj1mcsgyr0000gn/T/ipykernel_2148/117283708.py:57: FutureWarning: The frame.append method is deprecated and will be removed from pandas in a future version. Use pandas.concat instead.\n",
      "  labs_overall = ( labs_overall.append(pd.Series(\n",
      "/var/folders/yc/p9m4grcn3n58sspfj1mcsgyr0000gn/T/ipykernel_2148/117283708.py:57: FutureWarning: The frame.append method is deprecated and will be removed from pandas in a future version. Use pandas.concat instead.\n",
      "  labs_overall = ( labs_overall.append(pd.Series(\n"
     ]
    },
    {
     "name": "stdout",
     "output_type": "stream",
     "text": [
      "['Week 2', 'Lab Data Cleaning\\nRequired', 'Manouk Meilof', 'Delivered', '23/9/2022']\n",
      "['Week 2', 'Lab Data Cleaning\\nRequired', 'Marc Gavaldà', 'Delivered', '16/9/2022']\n",
      "['Week 2', 'Lab Data Cleaning\\nRequired', 'María Vázquez Casares', 'Delivered', '11/11/2022']\n",
      "['Week 2', 'Lab Data Cleaning\\nRequired', 'Max Grempel', 'Delivered', '27/9/2022']\n",
      "['Week 2', 'Lab Data Cleaning\\nRequired', 'Shilei Tan Tan', 'Delivered', '27/9/2022']\n"
     ]
    },
    {
     "name": "stderr",
     "output_type": "stream",
     "text": [
      "/var/folders/yc/p9m4grcn3n58sspfj1mcsgyr0000gn/T/ipykernel_2148/117283708.py:57: FutureWarning: The frame.append method is deprecated and will be removed from pandas in a future version. Use pandas.concat instead.\n",
      "  labs_overall = ( labs_overall.append(pd.Series(\n",
      "/var/folders/yc/p9m4grcn3n58sspfj1mcsgyr0000gn/T/ipykernel_2148/117283708.py:57: FutureWarning: The frame.append method is deprecated and will be removed from pandas in a future version. Use pandas.concat instead.\n",
      "  labs_overall = ( labs_overall.append(pd.Series(\n",
      "/var/folders/yc/p9m4grcn3n58sspfj1mcsgyr0000gn/T/ipykernel_2148/117283708.py:57: FutureWarning: The frame.append method is deprecated and will be removed from pandas in a future version. Use pandas.concat instead.\n",
      "  labs_overall = ( labs_overall.append(pd.Series(\n",
      "/var/folders/yc/p9m4grcn3n58sspfj1mcsgyr0000gn/T/ipykernel_2148/117283708.py:57: FutureWarning: The frame.append method is deprecated and will be removed from pandas in a future version. Use pandas.concat instead.\n",
      "  labs_overall = ( labs_overall.append(pd.Series(\n",
      "/var/folders/yc/p9m4grcn3n58sspfj1mcsgyr0000gn/T/ipykernel_2148/117283708.py:57: FutureWarning: The frame.append method is deprecated and will be removed from pandas in a future version. Use pandas.concat instead.\n",
      "  labs_overall = ( labs_overall.append(pd.Series(\n"
     ]
    },
    {
     "name": "stdout",
     "output_type": "stream",
     "text": [
      "['Week 2', 'Lab Data Cleaning\\nRequired', 'Suparna Mandal', 'Delivered', '24/9/2022']\n",
      "['Week 2', 'Lab Data Cleaning\\nRequired', 'Óscar Iglesias Roqueiro', 'Delivered', '23/9/2022']\n",
      "['Week 2', 'Lab Data Cleaning\\nRequired', 'Vanessa Andrade', '', '']\n",
      "finished grabbing students info for lab Lab Data Cleaning\n",
      "Required of Week 2\n"
     ]
    },
    {
     "name": "stderr",
     "output_type": "stream",
     "text": [
      "/var/folders/yc/p9m4grcn3n58sspfj1mcsgyr0000gn/T/ipykernel_2148/117283708.py:57: FutureWarning: The frame.append method is deprecated and will be removed from pandas in a future version. Use pandas.concat instead.\n",
      "  labs_overall = ( labs_overall.append(pd.Series(\n"
     ]
    },
    {
     "name": "stdout",
     "output_type": "stream",
     "text": [
      "Lab Import-Export\n",
      "Required\n",
      "20  Students grabbed.\n",
      "['Week 2', 'Lab Import-Export\\nRequired', 'Adrian Flores', 'Delivered', '18/9/2022']\n",
      "['Week 2', 'Lab Import-Export\\nRequired', 'Aferdita Zherka Zherka', 'Delivered', '22/9/2022']\n",
      "['Week 2', 'Lab Import-Export\\nRequired', 'Alicia Andrés', 'Delivered', '27/9/2022']\n"
     ]
    },
    {
     "name": "stderr",
     "output_type": "stream",
     "text": [
      "/var/folders/yc/p9m4grcn3n58sspfj1mcsgyr0000gn/T/ipykernel_2148/117283708.py:57: FutureWarning: The frame.append method is deprecated and will be removed from pandas in a future version. Use pandas.concat instead.\n",
      "  labs_overall = ( labs_overall.append(pd.Series(\n",
      "/var/folders/yc/p9m4grcn3n58sspfj1mcsgyr0000gn/T/ipykernel_2148/117283708.py:57: FutureWarning: The frame.append method is deprecated and will be removed from pandas in a future version. Use pandas.concat instead.\n",
      "  labs_overall = ( labs_overall.append(pd.Series(\n",
      "/var/folders/yc/p9m4grcn3n58sspfj1mcsgyr0000gn/T/ipykernel_2148/117283708.py:57: FutureWarning: The frame.append method is deprecated and will be removed from pandas in a future version. Use pandas.concat instead.\n",
      "  labs_overall = ( labs_overall.append(pd.Series(\n",
      "/var/folders/yc/p9m4grcn3n58sspfj1mcsgyr0000gn/T/ipykernel_2148/117283708.py:57: FutureWarning: The frame.append method is deprecated and will be removed from pandas in a future version. Use pandas.concat instead.\n",
      "  labs_overall = ( labs_overall.append(pd.Series(\n",
      "/var/folders/yc/p9m4grcn3n58sspfj1mcsgyr0000gn/T/ipykernel_2148/117283708.py:57: FutureWarning: The frame.append method is deprecated and will be removed from pandas in a future version. Use pandas.concat instead.\n",
      "  labs_overall = ( labs_overall.append(pd.Series(\n"
     ]
    },
    {
     "name": "stdout",
     "output_type": "stream",
     "text": [
      "['Week 2', 'Lab Import-Export\\nRequired', 'Amelie Haberland', 'Delivered', '21/9/2022']\n",
      "['Week 2', 'Lab Import-Export\\nRequired', 'Angela Arredondo Mendoza', 'Delivered', '18/9/2022']\n",
      "['Week 2', 'Lab Import-Export\\nRequired', 'Damiano Serra', 'Delivered', '22/9/2022']\n",
      "['Week 2', 'Lab Import-Export\\nRequired', 'Daniel J Mendez Borges', 'Delivered', '17/9/2022']\n"
     ]
    },
    {
     "name": "stderr",
     "output_type": "stream",
     "text": [
      "/var/folders/yc/p9m4grcn3n58sspfj1mcsgyr0000gn/T/ipykernel_2148/117283708.py:57: FutureWarning: The frame.append method is deprecated and will be removed from pandas in a future version. Use pandas.concat instead.\n",
      "  labs_overall = ( labs_overall.append(pd.Series(\n",
      "/var/folders/yc/p9m4grcn3n58sspfj1mcsgyr0000gn/T/ipykernel_2148/117283708.py:57: FutureWarning: The frame.append method is deprecated and will be removed from pandas in a future version. Use pandas.concat instead.\n",
      "  labs_overall = ( labs_overall.append(pd.Series(\n",
      "/var/folders/yc/p9m4grcn3n58sspfj1mcsgyr0000gn/T/ipykernel_2148/117283708.py:57: FutureWarning: The frame.append method is deprecated and will be removed from pandas in a future version. Use pandas.concat instead.\n",
      "  labs_overall = ( labs_overall.append(pd.Series(\n",
      "/var/folders/yc/p9m4grcn3n58sspfj1mcsgyr0000gn/T/ipykernel_2148/117283708.py:57: FutureWarning: The frame.append method is deprecated and will be removed from pandas in a future version. Use pandas.concat instead.\n",
      "  labs_overall = ( labs_overall.append(pd.Series(\n"
     ]
    },
    {
     "name": "stdout",
     "output_type": "stream",
     "text": [
      "['Week 2', 'Lab Import-Export\\nRequired', 'Fabio Blank Da Costa', 'Delivered', '17/9/2022']\n",
      "['Week 2', 'Lab Import-Export\\nRequired', 'Federico Cavanagh', 'Delivered', '17/9/2022']\n",
      "['Week 2', 'Lab Import-Export\\nRequired', 'Francisco Javier De Las Heras Jimenez', 'Delivered', '17/9/2022']\n",
      "['Week 2', 'Lab Import-Export\\nRequired', 'Gregor Seegers', 'Delivered', '16/9/2022']\n"
     ]
    },
    {
     "name": "stderr",
     "output_type": "stream",
     "text": [
      "/var/folders/yc/p9m4grcn3n58sspfj1mcsgyr0000gn/T/ipykernel_2148/117283708.py:57: FutureWarning: The frame.append method is deprecated and will be removed from pandas in a future version. Use pandas.concat instead.\n",
      "  labs_overall = ( labs_overall.append(pd.Series(\n",
      "/var/folders/yc/p9m4grcn3n58sspfj1mcsgyr0000gn/T/ipykernel_2148/117283708.py:57: FutureWarning: The frame.append method is deprecated and will be removed from pandas in a future version. Use pandas.concat instead.\n",
      "  labs_overall = ( labs_overall.append(pd.Series(\n",
      "/var/folders/yc/p9m4grcn3n58sspfj1mcsgyr0000gn/T/ipykernel_2148/117283708.py:57: FutureWarning: The frame.append method is deprecated and will be removed from pandas in a future version. Use pandas.concat instead.\n",
      "  labs_overall = ( labs_overall.append(pd.Series(\n",
      "/var/folders/yc/p9m4grcn3n58sspfj1mcsgyr0000gn/T/ipykernel_2148/117283708.py:57: FutureWarning: The frame.append method is deprecated and will be removed from pandas in a future version. Use pandas.concat instead.\n",
      "  labs_overall = ( labs_overall.append(pd.Series(\n",
      "/var/folders/yc/p9m4grcn3n58sspfj1mcsgyr0000gn/T/ipykernel_2148/117283708.py:57: FutureWarning: The frame.append method is deprecated and will be removed from pandas in a future version. Use pandas.concat instead.\n",
      "  labs_overall = ( labs_overall.append(pd.Series(\n"
     ]
    },
    {
     "name": "stdout",
     "output_type": "stream",
     "text": [
      "['Week 2', 'Lab Import-Export\\nRequired', 'Joaquin Valentin', 'Delivered', '18/9/2022']\n",
      "['Week 2', 'Lab Import-Export\\nRequired', 'Manouk Meilof', 'Delivered', '18/9/2022']\n",
      "['Week 2', 'Lab Import-Export\\nRequired', 'Marc Gavaldà', 'Delivered', '15/9/2022']\n",
      "['Week 2', 'Lab Import-Export\\nRequired', 'María Vázquez Casares', 'Delivered', '24/9/2022']\n",
      "['Week 2', 'Lab Import-Export\\nRequired', 'Max Grempel', 'Delivered', '19/9/2022']\n"
     ]
    },
    {
     "name": "stderr",
     "output_type": "stream",
     "text": [
      "/var/folders/yc/p9m4grcn3n58sspfj1mcsgyr0000gn/T/ipykernel_2148/117283708.py:57: FutureWarning: The frame.append method is deprecated and will be removed from pandas in a future version. Use pandas.concat instead.\n",
      "  labs_overall = ( labs_overall.append(pd.Series(\n",
      "/var/folders/yc/p9m4grcn3n58sspfj1mcsgyr0000gn/T/ipykernel_2148/117283708.py:57: FutureWarning: The frame.append method is deprecated and will be removed from pandas in a future version. Use pandas.concat instead.\n",
      "  labs_overall = ( labs_overall.append(pd.Series(\n",
      "/var/folders/yc/p9m4grcn3n58sspfj1mcsgyr0000gn/T/ipykernel_2148/117283708.py:57: FutureWarning: The frame.append method is deprecated and will be removed from pandas in a future version. Use pandas.concat instead.\n",
      "  labs_overall = ( labs_overall.append(pd.Series(\n",
      "/var/folders/yc/p9m4grcn3n58sspfj1mcsgyr0000gn/T/ipykernel_2148/117283708.py:57: FutureWarning: The frame.append method is deprecated and will be removed from pandas in a future version. Use pandas.concat instead.\n",
      "  labs_overall = ( labs_overall.append(pd.Series(\n"
     ]
    },
    {
     "name": "stdout",
     "output_type": "stream",
     "text": [
      "['Week 2', 'Lab Import-Export\\nRequired', 'Shilei Tan Tan', 'Delivered', '16/9/2022']\n",
      "['Week 2', 'Lab Import-Export\\nRequired', 'Suparna Mandal', 'Delivered', '24/9/2022']\n",
      "['Week 2', 'Lab Import-Export\\nRequired', 'Óscar Iglesias Roqueiro', 'Delivered', '19/9/2022']\n",
      "['Week 2', 'Lab Import-Export\\nRequired', 'Vanessa Andrade', '', '']\n",
      "finished grabbing students info for lab Lab Import-Export\n",
      "Required of Week 2\n"
     ]
    },
    {
     "name": "stderr",
     "output_type": "stream",
     "text": [
      "/var/folders/yc/p9m4grcn3n58sspfj1mcsgyr0000gn/T/ipykernel_2148/117283708.py:57: FutureWarning: The frame.append method is deprecated and will be removed from pandas in a future version. Use pandas.concat instead.\n",
      "  labs_overall = ( labs_overall.append(pd.Series(\n",
      "/var/folders/yc/p9m4grcn3n58sspfj1mcsgyr0000gn/T/ipykernel_2148/117283708.py:57: FutureWarning: The frame.append method is deprecated and will be removed from pandas in a future version. Use pandas.concat instead.\n",
      "  labs_overall = ( labs_overall.append(pd.Series(\n"
     ]
    },
    {
     "name": "stdout",
     "output_type": "stream",
     "text": [
      "Lab Intro to pandas\n",
      "Required\n",
      "20  Students grabbed.\n",
      "['Week 2', 'Lab Intro to pandas\\nRequired', 'Adrian Flores', 'Delivered', '17/9/2022']\n",
      "['Week 2', 'Lab Intro to pandas\\nRequired', 'Aferdita Zherka Zherka', 'Delivered', '21/9/2022']\n",
      "['Week 2', 'Lab Intro to pandas\\nRequired', 'Alicia Andrés', 'Delivered', '27/9/2022']\n"
     ]
    },
    {
     "name": "stderr",
     "output_type": "stream",
     "text": [
      "/var/folders/yc/p9m4grcn3n58sspfj1mcsgyr0000gn/T/ipykernel_2148/117283708.py:57: FutureWarning: The frame.append method is deprecated and will be removed from pandas in a future version. Use pandas.concat instead.\n",
      "  labs_overall = ( labs_overall.append(pd.Series(\n",
      "/var/folders/yc/p9m4grcn3n58sspfj1mcsgyr0000gn/T/ipykernel_2148/117283708.py:57: FutureWarning: The frame.append method is deprecated and will be removed from pandas in a future version. Use pandas.concat instead.\n",
      "  labs_overall = ( labs_overall.append(pd.Series(\n",
      "/var/folders/yc/p9m4grcn3n58sspfj1mcsgyr0000gn/T/ipykernel_2148/117283708.py:57: FutureWarning: The frame.append method is deprecated and will be removed from pandas in a future version. Use pandas.concat instead.\n",
      "  labs_overall = ( labs_overall.append(pd.Series(\n",
      "/var/folders/yc/p9m4grcn3n58sspfj1mcsgyr0000gn/T/ipykernel_2148/117283708.py:57: FutureWarning: The frame.append method is deprecated and will be removed from pandas in a future version. Use pandas.concat instead.\n",
      "  labs_overall = ( labs_overall.append(pd.Series(\n",
      "/var/folders/yc/p9m4grcn3n58sspfj1mcsgyr0000gn/T/ipykernel_2148/117283708.py:57: FutureWarning: The frame.append method is deprecated and will be removed from pandas in a future version. Use pandas.concat instead.\n",
      "  labs_overall = ( labs_overall.append(pd.Series(\n"
     ]
    },
    {
     "name": "stdout",
     "output_type": "stream",
     "text": [
      "['Week 2', 'Lab Intro to pandas\\nRequired', 'Amelie Haberland', 'Delivered', '16/9/2022']\n",
      "['Week 2', 'Lab Intro to pandas\\nRequired', 'Angela Arredondo Mendoza', 'Delivered', '18/9/2022']\n",
      "['Week 2', 'Lab Intro to pandas\\nRequired', 'Damiano Serra', 'Delivered', '16/9/2022']\n",
      "['Week 2', 'Lab Intro to pandas\\nRequired', 'Daniel J Mendez Borges', 'Delivered', '17/9/2022']\n",
      "['Week 2', 'Lab Intro to pandas\\nRequired', 'Fabio Blank Da Costa', 'Delivered', '13/9/2022']\n"
     ]
    },
    {
     "name": "stderr",
     "output_type": "stream",
     "text": [
      "/var/folders/yc/p9m4grcn3n58sspfj1mcsgyr0000gn/T/ipykernel_2148/117283708.py:57: FutureWarning: The frame.append method is deprecated and will be removed from pandas in a future version. Use pandas.concat instead.\n",
      "  labs_overall = ( labs_overall.append(pd.Series(\n",
      "/var/folders/yc/p9m4grcn3n58sspfj1mcsgyr0000gn/T/ipykernel_2148/117283708.py:57: FutureWarning: The frame.append method is deprecated and will be removed from pandas in a future version. Use pandas.concat instead.\n",
      "  labs_overall = ( labs_overall.append(pd.Series(\n",
      "/var/folders/yc/p9m4grcn3n58sspfj1mcsgyr0000gn/T/ipykernel_2148/117283708.py:57: FutureWarning: The frame.append method is deprecated and will be removed from pandas in a future version. Use pandas.concat instead.\n",
      "  labs_overall = ( labs_overall.append(pd.Series(\n",
      "/var/folders/yc/p9m4grcn3n58sspfj1mcsgyr0000gn/T/ipykernel_2148/117283708.py:57: FutureWarning: The frame.append method is deprecated and will be removed from pandas in a future version. Use pandas.concat instead.\n",
      "  labs_overall = ( labs_overall.append(pd.Series(\n",
      "/var/folders/yc/p9m4grcn3n58sspfj1mcsgyr0000gn/T/ipykernel_2148/117283708.py:57: FutureWarning: The frame.append method is deprecated and will be removed from pandas in a future version. Use pandas.concat instead.\n",
      "  labs_overall = ( labs_overall.append(pd.Series(\n"
     ]
    },
    {
     "name": "stdout",
     "output_type": "stream",
     "text": [
      "['Week 2', 'Lab Intro to pandas\\nRequired', 'Federico Cavanagh', 'Delivered', '14/9/2022']\n",
      "['Week 2', 'Lab Intro to pandas\\nRequired', 'Francisco Javier De Las Heras Jimenez', 'Delivered', '13/9/2022']\n",
      "['Week 2', 'Lab Intro to pandas\\nRequired', 'Gregor Seegers', 'Delivered', '14/9/2022']\n",
      "['Week 2', 'Lab Intro to pandas\\nRequired', 'Joaquin Valentin', 'Delivered', '15/9/2022']\n"
     ]
    },
    {
     "name": "stderr",
     "output_type": "stream",
     "text": [
      "/var/folders/yc/p9m4grcn3n58sspfj1mcsgyr0000gn/T/ipykernel_2148/117283708.py:57: FutureWarning: The frame.append method is deprecated and will be removed from pandas in a future version. Use pandas.concat instead.\n",
      "  labs_overall = ( labs_overall.append(pd.Series(\n",
      "/var/folders/yc/p9m4grcn3n58sspfj1mcsgyr0000gn/T/ipykernel_2148/117283708.py:57: FutureWarning: The frame.append method is deprecated and will be removed from pandas in a future version. Use pandas.concat instead.\n",
      "  labs_overall = ( labs_overall.append(pd.Series(\n",
      "/var/folders/yc/p9m4grcn3n58sspfj1mcsgyr0000gn/T/ipykernel_2148/117283708.py:57: FutureWarning: The frame.append method is deprecated and will be removed from pandas in a future version. Use pandas.concat instead.\n",
      "  labs_overall = ( labs_overall.append(pd.Series(\n",
      "/var/folders/yc/p9m4grcn3n58sspfj1mcsgyr0000gn/T/ipykernel_2148/117283708.py:57: FutureWarning: The frame.append method is deprecated and will be removed from pandas in a future version. Use pandas.concat instead.\n",
      "  labs_overall = ( labs_overall.append(pd.Series(\n"
     ]
    },
    {
     "name": "stdout",
     "output_type": "stream",
     "text": [
      "['Week 2', 'Lab Intro to pandas\\nRequired', 'Manouk Meilof', 'Delivered', '13/9/2022']\n",
      "['Week 2', 'Lab Intro to pandas\\nRequired', 'Marc Gavaldà', 'Delivered', '13/9/2022']\n",
      "['Week 2', 'Lab Intro to pandas\\nRequired', 'María Vázquez Casares', 'Delivered', '13/9/2022']\n",
      "['Week 2', 'Lab Intro to pandas\\nRequired', 'Max Grempel', 'Delivered', '15/9/2022']\n",
      "['Week 2', 'Lab Intro to pandas\\nRequired', 'Shilei Tan Tan', 'Delivered', '15/9/2022']\n"
     ]
    },
    {
     "name": "stderr",
     "output_type": "stream",
     "text": [
      "/var/folders/yc/p9m4grcn3n58sspfj1mcsgyr0000gn/T/ipykernel_2148/117283708.py:57: FutureWarning: The frame.append method is deprecated and will be removed from pandas in a future version. Use pandas.concat instead.\n",
      "  labs_overall = ( labs_overall.append(pd.Series(\n",
      "/var/folders/yc/p9m4grcn3n58sspfj1mcsgyr0000gn/T/ipykernel_2148/117283708.py:57: FutureWarning: The frame.append method is deprecated and will be removed from pandas in a future version. Use pandas.concat instead.\n",
      "  labs_overall = ( labs_overall.append(pd.Series(\n",
      "/var/folders/yc/p9m4grcn3n58sspfj1mcsgyr0000gn/T/ipykernel_2148/117283708.py:57: FutureWarning: The frame.append method is deprecated and will be removed from pandas in a future version. Use pandas.concat instead.\n",
      "  labs_overall = ( labs_overall.append(pd.Series(\n",
      "/var/folders/yc/p9m4grcn3n58sspfj1mcsgyr0000gn/T/ipykernel_2148/117283708.py:57: FutureWarning: The frame.append method is deprecated and will be removed from pandas in a future version. Use pandas.concat instead.\n",
      "  labs_overall = ( labs_overall.append(pd.Series(\n",
      "/var/folders/yc/p9m4grcn3n58sspfj1mcsgyr0000gn/T/ipykernel_2148/117283708.py:57: FutureWarning: The frame.append method is deprecated and will be removed from pandas in a future version. Use pandas.concat instead.\n",
      "  labs_overall = ( labs_overall.append(pd.Series(\n"
     ]
    },
    {
     "name": "stdout",
     "output_type": "stream",
     "text": [
      "['Week 2', 'Lab Intro to pandas\\nRequired', 'Suparna Mandal', 'Delivered', '14/9/2022']\n",
      "['Week 2', 'Lab Intro to pandas\\nRequired', 'Vanessa Andrade', 'Delivered', '28/9/2022']\n",
      "['Week 2', 'Lab Intro to pandas\\nRequired', 'Óscar Iglesias Roqueiro', 'Delivered', '15/9/2022']\n",
      "finished grabbing students info for lab Lab Intro to pandas\n",
      "Required of Week 2\n"
     ]
    },
    {
     "name": "stderr",
     "output_type": "stream",
     "text": [
      "/var/folders/yc/p9m4grcn3n58sspfj1mcsgyr0000gn/T/ipykernel_2148/117283708.py:57: FutureWarning: The frame.append method is deprecated and will be removed from pandas in a future version. Use pandas.concat instead.\n",
      "  labs_overall = ( labs_overall.append(pd.Series(\n"
     ]
    },
    {
     "name": "stdout",
     "output_type": "stream",
     "text": [
      "Week 3\n",
      "Lab Descriptive Stats\n",
      "Required\n",
      "20  Students grabbed.\n",
      "['Week 3', 'Lab Descriptive Stats\\nRequired', 'Adrian Flores', 'Delivered', '27/9/2022']\n",
      "['Week 3', 'Lab Descriptive Stats\\nRequired', 'Aferdita Zherka Zherka', 'Delivered', '16/11/2022']\n",
      "['Week 3', 'Lab Descriptive Stats\\nRequired', 'Alicia Andrés', 'Delivered', '6/10/2022']\n"
     ]
    },
    {
     "name": "stderr",
     "output_type": "stream",
     "text": [
      "/var/folders/yc/p9m4grcn3n58sspfj1mcsgyr0000gn/T/ipykernel_2148/117283708.py:57: FutureWarning: The frame.append method is deprecated and will be removed from pandas in a future version. Use pandas.concat instead.\n",
      "  labs_overall = ( labs_overall.append(pd.Series(\n",
      "/var/folders/yc/p9m4grcn3n58sspfj1mcsgyr0000gn/T/ipykernel_2148/117283708.py:57: FutureWarning: The frame.append method is deprecated and will be removed from pandas in a future version. Use pandas.concat instead.\n",
      "  labs_overall = ( labs_overall.append(pd.Series(\n",
      "/var/folders/yc/p9m4grcn3n58sspfj1mcsgyr0000gn/T/ipykernel_2148/117283708.py:57: FutureWarning: The frame.append method is deprecated and will be removed from pandas in a future version. Use pandas.concat instead.\n",
      "  labs_overall = ( labs_overall.append(pd.Series(\n",
      "/var/folders/yc/p9m4grcn3n58sspfj1mcsgyr0000gn/T/ipykernel_2148/117283708.py:57: FutureWarning: The frame.append method is deprecated and will be removed from pandas in a future version. Use pandas.concat instead.\n",
      "  labs_overall = ( labs_overall.append(pd.Series(\n"
     ]
    },
    {
     "name": "stdout",
     "output_type": "stream",
     "text": [
      "['Week 3', 'Lab Descriptive Stats\\nRequired', 'Amelie Haberland', 'Delivered', '11/10/2022']\n",
      "['Week 3', 'Lab Descriptive Stats\\nRequired', 'Angela Arredondo Mendoza', 'Delivered', '1/10/2022']\n",
      "['Week 3', 'Lab Descriptive Stats\\nRequired', 'Damiano Serra', 'Delivered', '2/10/2022']\n",
      "['Week 3', 'Lab Descriptive Stats\\nRequired', 'Fabio Blank Da Costa', 'Delivered', '3/10/2022']\n"
     ]
    },
    {
     "name": "stderr",
     "output_type": "stream",
     "text": [
      "/var/folders/yc/p9m4grcn3n58sspfj1mcsgyr0000gn/T/ipykernel_2148/117283708.py:57: FutureWarning: The frame.append method is deprecated and will be removed from pandas in a future version. Use pandas.concat instead.\n",
      "  labs_overall = ( labs_overall.append(pd.Series(\n",
      "/var/folders/yc/p9m4grcn3n58sspfj1mcsgyr0000gn/T/ipykernel_2148/117283708.py:57: FutureWarning: The frame.append method is deprecated and will be removed from pandas in a future version. Use pandas.concat instead.\n",
      "  labs_overall = ( labs_overall.append(pd.Series(\n",
      "/var/folders/yc/p9m4grcn3n58sspfj1mcsgyr0000gn/T/ipykernel_2148/117283708.py:57: FutureWarning: The frame.append method is deprecated and will be removed from pandas in a future version. Use pandas.concat instead.\n",
      "  labs_overall = ( labs_overall.append(pd.Series(\n",
      "/var/folders/yc/p9m4grcn3n58sspfj1mcsgyr0000gn/T/ipykernel_2148/117283708.py:57: FutureWarning: The frame.append method is deprecated and will be removed from pandas in a future version. Use pandas.concat instead.\n",
      "  labs_overall = ( labs_overall.append(pd.Series(\n"
     ]
    },
    {
     "name": "stdout",
     "output_type": "stream",
     "text": [
      "['Week 3', 'Lab Descriptive Stats\\nRequired', 'Federico Cavanagh', 'Delivered', '28/9/2022']\n",
      "['Week 3', 'Lab Descriptive Stats\\nRequired', 'Francisco Javier De Las Heras Jimenez', 'Delivered', '27/9/2022']\n",
      "['Week 3', 'Lab Descriptive Stats\\nRequired', 'Gregor Seegers', 'Delivered', '28/9/2022']\n",
      "['Week 3', 'Lab Descriptive Stats\\nRequired', 'Joaquin Valentin', 'Delivered', '28/9/2022']\n",
      "['Week 3', 'Lab Descriptive Stats\\nRequired', 'Marc Gavaldà', 'Delivered', '27/9/2022']\n"
     ]
    },
    {
     "name": "stderr",
     "output_type": "stream",
     "text": [
      "/var/folders/yc/p9m4grcn3n58sspfj1mcsgyr0000gn/T/ipykernel_2148/117283708.py:57: FutureWarning: The frame.append method is deprecated and will be removed from pandas in a future version. Use pandas.concat instead.\n",
      "  labs_overall = ( labs_overall.append(pd.Series(\n",
      "/var/folders/yc/p9m4grcn3n58sspfj1mcsgyr0000gn/T/ipykernel_2148/117283708.py:57: FutureWarning: The frame.append method is deprecated and will be removed from pandas in a future version. Use pandas.concat instead.\n",
      "  labs_overall = ( labs_overall.append(pd.Series(\n",
      "/var/folders/yc/p9m4grcn3n58sspfj1mcsgyr0000gn/T/ipykernel_2148/117283708.py:57: FutureWarning: The frame.append method is deprecated and will be removed from pandas in a future version. Use pandas.concat instead.\n",
      "  labs_overall = ( labs_overall.append(pd.Series(\n",
      "/var/folders/yc/p9m4grcn3n58sspfj1mcsgyr0000gn/T/ipykernel_2148/117283708.py:57: FutureWarning: The frame.append method is deprecated and will be removed from pandas in a future version. Use pandas.concat instead.\n",
      "  labs_overall = ( labs_overall.append(pd.Series(\n",
      "/var/folders/yc/p9m4grcn3n58sspfj1mcsgyr0000gn/T/ipykernel_2148/117283708.py:57: FutureWarning: The frame.append method is deprecated and will be removed from pandas in a future version. Use pandas.concat instead.\n",
      "  labs_overall = ( labs_overall.append(pd.Series(\n"
     ]
    },
    {
     "name": "stdout",
     "output_type": "stream",
     "text": [
      "['Week 3', 'Lab Descriptive Stats\\nRequired', 'Max Grempel', 'Delivered', '10/10/2022']\n",
      "['Week 3', 'Lab Descriptive Stats\\nRequired', 'Shilei Tan Tan', 'Delivered', '3/10/2022']\n",
      "['Week 3', 'Lab Descriptive Stats\\nRequired', 'Óscar Iglesias Roqueiro', 'Delivered', '29/9/2022']\n",
      "['Week 3', 'Lab Descriptive Stats\\nRequired', 'Daniel J Mendez Borges', '', '']\n"
     ]
    },
    {
     "name": "stderr",
     "output_type": "stream",
     "text": [
      "/var/folders/yc/p9m4grcn3n58sspfj1mcsgyr0000gn/T/ipykernel_2148/117283708.py:57: FutureWarning: The frame.append method is deprecated and will be removed from pandas in a future version. Use pandas.concat instead.\n",
      "  labs_overall = ( labs_overall.append(pd.Series(\n",
      "/var/folders/yc/p9m4grcn3n58sspfj1mcsgyr0000gn/T/ipykernel_2148/117283708.py:57: FutureWarning: The frame.append method is deprecated and will be removed from pandas in a future version. Use pandas.concat instead.\n",
      "  labs_overall = ( labs_overall.append(pd.Series(\n",
      "/var/folders/yc/p9m4grcn3n58sspfj1mcsgyr0000gn/T/ipykernel_2148/117283708.py:57: FutureWarning: The frame.append method is deprecated and will be removed from pandas in a future version. Use pandas.concat instead.\n",
      "  labs_overall = ( labs_overall.append(pd.Series(\n",
      "/var/folders/yc/p9m4grcn3n58sspfj1mcsgyr0000gn/T/ipykernel_2148/117283708.py:57: FutureWarning: The frame.append method is deprecated and will be removed from pandas in a future version. Use pandas.concat instead.\n",
      "  labs_overall = ( labs_overall.append(pd.Series(\n"
     ]
    },
    {
     "name": "stdout",
     "output_type": "stream",
     "text": [
      "['Week 3', 'Lab Descriptive Stats\\nRequired', 'Manouk Meilof', '', '']\n",
      "['Week 3', 'Lab Descriptive Stats\\nRequired', 'María Vázquez Casares', '', '']\n",
      "['Week 3', 'Lab Descriptive Stats\\nRequired', 'Suparna Mandal', '', '']\n",
      "['Week 3', 'Lab Descriptive Stats\\nRequired', 'Vanessa Andrade', '', '']\n",
      "finished grabbing students info for lab Lab Descriptive Stats\n",
      "Required of Week 3\n"
     ]
    },
    {
     "name": "stderr",
     "output_type": "stream",
     "text": [
      "/var/folders/yc/p9m4grcn3n58sspfj1mcsgyr0000gn/T/ipykernel_2148/117283708.py:57: FutureWarning: The frame.append method is deprecated and will be removed from pandas in a future version. Use pandas.concat instead.\n",
      "  labs_overall = ( labs_overall.append(pd.Series(\n",
      "/var/folders/yc/p9m4grcn3n58sspfj1mcsgyr0000gn/T/ipykernel_2148/117283708.py:57: FutureWarning: The frame.append method is deprecated and will be removed from pandas in a future version. Use pandas.concat instead.\n",
      "  labs_overall = ( labs_overall.append(pd.Series(\n",
      "/var/folders/yc/p9m4grcn3n58sspfj1mcsgyr0000gn/T/ipykernel_2148/117283708.py:57: FutureWarning: The frame.append method is deprecated and will be removed from pandas in a future version. Use pandas.concat instead.\n",
      "  labs_overall = ( labs_overall.append(pd.Series(\n"
     ]
    },
    {
     "name": "stdout",
     "output_type": "stream",
     "text": [
      "Lab Advanced Pandas\n",
      "Required\n",
      "20  Students grabbed.\n",
      "['Week 3', 'Lab Advanced Pandas\\nRequired', 'Adrian Flores', 'Delivered', '25/9/2022']\n",
      "['Week 3', 'Lab Advanced Pandas\\nRequired', 'Aferdita Zherka Zherka', 'Delivered', '17/10/2022']\n",
      "['Week 3', 'Lab Advanced Pandas\\nRequired', 'Alicia Andrés', 'Delivered', '6/10/2022']\n"
     ]
    },
    {
     "name": "stderr",
     "output_type": "stream",
     "text": [
      "/var/folders/yc/p9m4grcn3n58sspfj1mcsgyr0000gn/T/ipykernel_2148/117283708.py:57: FutureWarning: The frame.append method is deprecated and will be removed from pandas in a future version. Use pandas.concat instead.\n",
      "  labs_overall = ( labs_overall.append(pd.Series(\n",
      "/var/folders/yc/p9m4grcn3n58sspfj1mcsgyr0000gn/T/ipykernel_2148/117283708.py:57: FutureWarning: The frame.append method is deprecated and will be removed from pandas in a future version. Use pandas.concat instead.\n",
      "  labs_overall = ( labs_overall.append(pd.Series(\n",
      "/var/folders/yc/p9m4grcn3n58sspfj1mcsgyr0000gn/T/ipykernel_2148/117283708.py:57: FutureWarning: The frame.append method is deprecated and will be removed from pandas in a future version. Use pandas.concat instead.\n",
      "  labs_overall = ( labs_overall.append(pd.Series(\n",
      "/var/folders/yc/p9m4grcn3n58sspfj1mcsgyr0000gn/T/ipykernel_2148/117283708.py:57: FutureWarning: The frame.append method is deprecated and will be removed from pandas in a future version. Use pandas.concat instead.\n",
      "  labs_overall = ( labs_overall.append(pd.Series(\n",
      "/var/folders/yc/p9m4grcn3n58sspfj1mcsgyr0000gn/T/ipykernel_2148/117283708.py:57: FutureWarning: The frame.append method is deprecated and will be removed from pandas in a future version. Use pandas.concat instead.\n",
      "  labs_overall = ( labs_overall.append(pd.Series(\n"
     ]
    },
    {
     "name": "stdout",
     "output_type": "stream",
     "text": [
      "['Week 3', 'Lab Advanced Pandas\\nRequired', 'Amelie Haberland', 'Delivered', '5/10/2022']\n",
      "['Week 3', 'Lab Advanced Pandas\\nRequired', 'Angela Arredondo Mendoza', 'Delivered', '30/9/2022']\n",
      "['Week 3', 'Lab Advanced Pandas\\nRequired', 'Damiano Serra', 'Delivered', '26/9/2022']\n",
      "['Week 3', 'Lab Advanced Pandas\\nRequired', 'Daniel J Mendez Borges', 'Delivered', '18/10/2022']\n"
     ]
    },
    {
     "name": "stderr",
     "output_type": "stream",
     "text": [
      "/var/folders/yc/p9m4grcn3n58sspfj1mcsgyr0000gn/T/ipykernel_2148/117283708.py:57: FutureWarning: The frame.append method is deprecated and will be removed from pandas in a future version. Use pandas.concat instead.\n",
      "  labs_overall = ( labs_overall.append(pd.Series(\n",
      "/var/folders/yc/p9m4grcn3n58sspfj1mcsgyr0000gn/T/ipykernel_2148/117283708.py:57: FutureWarning: The frame.append method is deprecated and will be removed from pandas in a future version. Use pandas.concat instead.\n",
      "  labs_overall = ( labs_overall.append(pd.Series(\n",
      "/var/folders/yc/p9m4grcn3n58sspfj1mcsgyr0000gn/T/ipykernel_2148/117283708.py:57: FutureWarning: The frame.append method is deprecated and will be removed from pandas in a future version. Use pandas.concat instead.\n",
      "  labs_overall = ( labs_overall.append(pd.Series(\n",
      "/var/folders/yc/p9m4grcn3n58sspfj1mcsgyr0000gn/T/ipykernel_2148/117283708.py:57: FutureWarning: The frame.append method is deprecated and will be removed from pandas in a future version. Use pandas.concat instead.\n",
      "  labs_overall = ( labs_overall.append(pd.Series(\n"
     ]
    },
    {
     "name": "stdout",
     "output_type": "stream",
     "text": [
      "['Week 3', 'Lab Advanced Pandas\\nRequired', 'Fabio Blank Da Costa', 'Delivered', '2/10/2022']\n",
      "['Week 3', 'Lab Advanced Pandas\\nRequired', 'Federico Cavanagh', 'Delivered', '24/9/2022']\n",
      "['Week 3', 'Lab Advanced Pandas\\nRequired', 'Francisco Javier De Las Heras Jimenez', 'Delivered', '27/9/2022']\n",
      "['Week 3', 'Lab Advanced Pandas\\nRequired', 'Gregor Seegers', 'Delivered', '25/9/2022']\n",
      "['Week 3', 'Lab Advanced Pandas\\nRequired', 'Joaquin Valentin', 'Delivered', '26/9/2022']\n"
     ]
    },
    {
     "name": "stderr",
     "output_type": "stream",
     "text": [
      "/var/folders/yc/p9m4grcn3n58sspfj1mcsgyr0000gn/T/ipykernel_2148/117283708.py:57: FutureWarning: The frame.append method is deprecated and will be removed from pandas in a future version. Use pandas.concat instead.\n",
      "  labs_overall = ( labs_overall.append(pd.Series(\n",
      "/var/folders/yc/p9m4grcn3n58sspfj1mcsgyr0000gn/T/ipykernel_2148/117283708.py:57: FutureWarning: The frame.append method is deprecated and will be removed from pandas in a future version. Use pandas.concat instead.\n",
      "  labs_overall = ( labs_overall.append(pd.Series(\n",
      "/var/folders/yc/p9m4grcn3n58sspfj1mcsgyr0000gn/T/ipykernel_2148/117283708.py:57: FutureWarning: The frame.append method is deprecated and will be removed from pandas in a future version. Use pandas.concat instead.\n",
      "  labs_overall = ( labs_overall.append(pd.Series(\n",
      "/var/folders/yc/p9m4grcn3n58sspfj1mcsgyr0000gn/T/ipykernel_2148/117283708.py:57: FutureWarning: The frame.append method is deprecated and will be removed from pandas in a future version. Use pandas.concat instead.\n",
      "  labs_overall = ( labs_overall.append(pd.Series(\n",
      "/var/folders/yc/p9m4grcn3n58sspfj1mcsgyr0000gn/T/ipykernel_2148/117283708.py:57: FutureWarning: The frame.append method is deprecated and will be removed from pandas in a future version. Use pandas.concat instead.\n",
      "  labs_overall = ( labs_overall.append(pd.Series(\n"
     ]
    },
    {
     "name": "stdout",
     "output_type": "stream",
     "text": [
      "['Week 3', 'Lab Advanced Pandas\\nRequired', 'Marc Gavaldà', 'Delivered', '26/9/2022']\n",
      "['Week 3', 'Lab Advanced Pandas\\nRequired', 'María Vázquez Casares', 'Delivered', '11/11/2022']\n",
      "['Week 3', 'Lab Advanced Pandas\\nRequired', 'Max Grempel', 'Delivered', '1/10/2022']\n",
      "['Week 3', 'Lab Advanced Pandas\\nRequired', 'Shilei Tan Tan', 'Delivered', '1/10/2022']\n"
     ]
    },
    {
     "name": "stderr",
     "output_type": "stream",
     "text": [
      "/var/folders/yc/p9m4grcn3n58sspfj1mcsgyr0000gn/T/ipykernel_2148/117283708.py:57: FutureWarning: The frame.append method is deprecated and will be removed from pandas in a future version. Use pandas.concat instead.\n",
      "  labs_overall = ( labs_overall.append(pd.Series(\n",
      "/var/folders/yc/p9m4grcn3n58sspfj1mcsgyr0000gn/T/ipykernel_2148/117283708.py:57: FutureWarning: The frame.append method is deprecated and will be removed from pandas in a future version. Use pandas.concat instead.\n",
      "  labs_overall = ( labs_overall.append(pd.Series(\n",
      "/var/folders/yc/p9m4grcn3n58sspfj1mcsgyr0000gn/T/ipykernel_2148/117283708.py:57: FutureWarning: The frame.append method is deprecated and will be removed from pandas in a future version. Use pandas.concat instead.\n",
      "  labs_overall = ( labs_overall.append(pd.Series(\n",
      "/var/folders/yc/p9m4grcn3n58sspfj1mcsgyr0000gn/T/ipykernel_2148/117283708.py:57: FutureWarning: The frame.append method is deprecated and will be removed from pandas in a future version. Use pandas.concat instead.\n",
      "  labs_overall = ( labs_overall.append(pd.Series(\n",
      "/var/folders/yc/p9m4grcn3n58sspfj1mcsgyr0000gn/T/ipykernel_2148/117283708.py:57: FutureWarning: The frame.append method is deprecated and will be removed from pandas in a future version. Use pandas.concat instead.\n",
      "  labs_overall = ( labs_overall.append(pd.Series(\n"
     ]
    },
    {
     "name": "stdout",
     "output_type": "stream",
     "text": [
      "['Week 3', 'Lab Advanced Pandas\\nRequired', 'Suparna Mandal', 'Delivered', '16/11/2022']\n",
      "['Week 3', 'Lab Advanced Pandas\\nRequired', 'Vanessa Andrade', 'Delivered', '11/10/2022']\n",
      "['Week 3', 'Lab Advanced Pandas\\nRequired', 'Óscar Iglesias Roqueiro', 'Delivered', '26/9/2022']\n",
      "['Week 3', 'Lab Advanced Pandas\\nRequired', 'Manouk Meilof', '', '']\n",
      "finished grabbing students info for lab Lab Advanced Pandas\n",
      "Required of Week 3\n"
     ]
    },
    {
     "name": "stderr",
     "output_type": "stream",
     "text": [
      "/var/folders/yc/p9m4grcn3n58sspfj1mcsgyr0000gn/T/ipykernel_2148/117283708.py:57: FutureWarning: The frame.append method is deprecated and will be removed from pandas in a future version. Use pandas.concat instead.\n",
      "  labs_overall = ( labs_overall.append(pd.Series(\n"
     ]
    },
    {
     "name": "stdout",
     "output_type": "stream",
     "text": [
      "Week 4\n",
      "Lab Regression Analysis\n",
      "Required\n",
      "20  Students grabbed.\n",
      "['Week 4', 'Lab Regression Analysis\\nRequired', 'Adrian Flores', 'Delivered', '1/10/2022']\n",
      "['Week 4', 'Lab Regression Analysis\\nRequired', 'Aferdita Zherka Zherka', 'Delivered', '16/11/2022']\n"
     ]
    },
    {
     "name": "stderr",
     "output_type": "stream",
     "text": [
      "/var/folders/yc/p9m4grcn3n58sspfj1mcsgyr0000gn/T/ipykernel_2148/117283708.py:57: FutureWarning: The frame.append method is deprecated and will be removed from pandas in a future version. Use pandas.concat instead.\n",
      "  labs_overall = ( labs_overall.append(pd.Series(\n",
      "/var/folders/yc/p9m4grcn3n58sspfj1mcsgyr0000gn/T/ipykernel_2148/117283708.py:57: FutureWarning: The frame.append method is deprecated and will be removed from pandas in a future version. Use pandas.concat instead.\n",
      "  labs_overall = ( labs_overall.append(pd.Series(\n",
      "/var/folders/yc/p9m4grcn3n58sspfj1mcsgyr0000gn/T/ipykernel_2148/117283708.py:57: FutureWarning: The frame.append method is deprecated and will be removed from pandas in a future version. Use pandas.concat instead.\n",
      "  labs_overall = ( labs_overall.append(pd.Series(\n",
      "/var/folders/yc/p9m4grcn3n58sspfj1mcsgyr0000gn/T/ipykernel_2148/117283708.py:57: FutureWarning: The frame.append method is deprecated and will be removed from pandas in a future version. Use pandas.concat instead.\n",
      "  labs_overall = ( labs_overall.append(pd.Series(\n"
     ]
    },
    {
     "name": "stdout",
     "output_type": "stream",
     "text": [
      "['Week 4', 'Lab Regression Analysis\\nRequired', 'Alicia Andrés', 'Delivered', '17/10/2022']\n",
      "['Week 4', 'Lab Regression Analysis\\nRequired', 'Angela Arredondo Mendoza', 'Delivered', '9/10/2022']\n",
      "['Week 4', 'Lab Regression Analysis\\nRequired', 'Damiano Serra', 'Delivered', '3/10/2022']\n",
      "['Week 4', 'Lab Regression Analysis\\nRequired', 'Fabio Blank Da Costa', 'Delivered', '3/10/2022']\n",
      "['Week 4', 'Lab Regression Analysis\\nRequired', 'Federico Cavanagh', 'Delivered', '2/10/2022']\n"
     ]
    },
    {
     "name": "stderr",
     "output_type": "stream",
     "text": [
      "/var/folders/yc/p9m4grcn3n58sspfj1mcsgyr0000gn/T/ipykernel_2148/117283708.py:57: FutureWarning: The frame.append method is deprecated and will be removed from pandas in a future version. Use pandas.concat instead.\n",
      "  labs_overall = ( labs_overall.append(pd.Series(\n",
      "/var/folders/yc/p9m4grcn3n58sspfj1mcsgyr0000gn/T/ipykernel_2148/117283708.py:57: FutureWarning: The frame.append method is deprecated and will be removed from pandas in a future version. Use pandas.concat instead.\n",
      "  labs_overall = ( labs_overall.append(pd.Series(\n",
      "/var/folders/yc/p9m4grcn3n58sspfj1mcsgyr0000gn/T/ipykernel_2148/117283708.py:57: FutureWarning: The frame.append method is deprecated and will be removed from pandas in a future version. Use pandas.concat instead.\n",
      "  labs_overall = ( labs_overall.append(pd.Series(\n",
      "/var/folders/yc/p9m4grcn3n58sspfj1mcsgyr0000gn/T/ipykernel_2148/117283708.py:57: FutureWarning: The frame.append method is deprecated and will be removed from pandas in a future version. Use pandas.concat instead.\n",
      "  labs_overall = ( labs_overall.append(pd.Series(\n",
      "/var/folders/yc/p9m4grcn3n58sspfj1mcsgyr0000gn/T/ipykernel_2148/117283708.py:57: FutureWarning: The frame.append method is deprecated and will be removed from pandas in a future version. Use pandas.concat instead.\n",
      "  labs_overall = ( labs_overall.append(pd.Series(\n"
     ]
    },
    {
     "name": "stdout",
     "output_type": "stream",
     "text": [
      "['Week 4', 'Lab Regression Analysis\\nRequired', 'Francisco Javier De Las Heras Jimenez', 'Delivered', '4/10/2022']\n",
      "['Week 4', 'Lab Regression Analysis\\nRequired', 'Gregor Seegers', 'Delivered', '5/10/2022']\n",
      "['Week 4', 'Lab Regression Analysis\\nRequired', 'Joaquin Valentin', 'Delivered', '4/10/2022']\n",
      "['Week 4', 'Lab Regression Analysis\\nRequired', 'Marc Gavaldà', 'Delivered', '5/10/2022']\n"
     ]
    },
    {
     "name": "stderr",
     "output_type": "stream",
     "text": [
      "/var/folders/yc/p9m4grcn3n58sspfj1mcsgyr0000gn/T/ipykernel_2148/117283708.py:57: FutureWarning: The frame.append method is deprecated and will be removed from pandas in a future version. Use pandas.concat instead.\n",
      "  labs_overall = ( labs_overall.append(pd.Series(\n",
      "/var/folders/yc/p9m4grcn3n58sspfj1mcsgyr0000gn/T/ipykernel_2148/117283708.py:57: FutureWarning: The frame.append method is deprecated and will be removed from pandas in a future version. Use pandas.concat instead.\n",
      "  labs_overall = ( labs_overall.append(pd.Series(\n",
      "/var/folders/yc/p9m4grcn3n58sspfj1mcsgyr0000gn/T/ipykernel_2148/117283708.py:57: FutureWarning: The frame.append method is deprecated and will be removed from pandas in a future version. Use pandas.concat instead.\n",
      "  labs_overall = ( labs_overall.append(pd.Series(\n",
      "/var/folders/yc/p9m4grcn3n58sspfj1mcsgyr0000gn/T/ipykernel_2148/117283708.py:57: FutureWarning: The frame.append method is deprecated and will be removed from pandas in a future version. Use pandas.concat instead.\n",
      "  labs_overall = ( labs_overall.append(pd.Series(\n"
     ]
    },
    {
     "name": "stdout",
     "output_type": "stream",
     "text": [
      "['Week 4', 'Lab Regression Analysis\\nRequired', 'María Vázquez Casares', 'Delivered', '12/11/2022']\n",
      "['Week 4', 'Lab Regression Analysis\\nRequired', 'Max Grempel', 'Delivered', '11/10/2022']\n",
      "['Week 4', 'Lab Regression Analysis\\nRequired', 'Shilei Tan Tan', 'Delivered', '13/10/2022']\n",
      "['Week 4', 'Lab Regression Analysis\\nRequired', 'Suparna Mandal', 'Delivered', '13/10/2022']\n"
     ]
    },
    {
     "name": "stderr",
     "output_type": "stream",
     "text": [
      "/var/folders/yc/p9m4grcn3n58sspfj1mcsgyr0000gn/T/ipykernel_2148/117283708.py:57: FutureWarning: The frame.append method is deprecated and will be removed from pandas in a future version. Use pandas.concat instead.\n",
      "  labs_overall = ( labs_overall.append(pd.Series(\n",
      "/var/folders/yc/p9m4grcn3n58sspfj1mcsgyr0000gn/T/ipykernel_2148/117283708.py:57: FutureWarning: The frame.append method is deprecated and will be removed from pandas in a future version. Use pandas.concat instead.\n",
      "  labs_overall = ( labs_overall.append(pd.Series(\n",
      "/var/folders/yc/p9m4grcn3n58sspfj1mcsgyr0000gn/T/ipykernel_2148/117283708.py:57: FutureWarning: The frame.append method is deprecated and will be removed from pandas in a future version. Use pandas.concat instead.\n",
      "  labs_overall = ( labs_overall.append(pd.Series(\n",
      "/var/folders/yc/p9m4grcn3n58sspfj1mcsgyr0000gn/T/ipykernel_2148/117283708.py:57: FutureWarning: The frame.append method is deprecated and will be removed from pandas in a future version. Use pandas.concat instead.\n",
      "  labs_overall = ( labs_overall.append(pd.Series(\n",
      "/var/folders/yc/p9m4grcn3n58sspfj1mcsgyr0000gn/T/ipykernel_2148/117283708.py:57: FutureWarning: The frame.append method is deprecated and will be removed from pandas in a future version. Use pandas.concat instead.\n",
      "  labs_overall = ( labs_overall.append(pd.Series(\n"
     ]
    },
    {
     "name": "stdout",
     "output_type": "stream",
     "text": [
      "['Week 4', 'Lab Regression Analysis\\nRequired', 'Vanessa Andrade', 'Delivered', '11/10/2022']\n",
      "['Week 4', 'Lab Regression Analysis\\nRequired', 'Óscar Iglesias Roqueiro', 'Delivered', '3/10/2022']\n",
      "['Week 4', 'Lab Regression Analysis\\nRequired', 'Amelie Haberland', '', '']\n",
      "['Week 4', 'Lab Regression Analysis\\nRequired', 'Daniel J Mendez Borges', '', '']\n"
     ]
    },
    {
     "name": "stderr",
     "output_type": "stream",
     "text": [
      "/var/folders/yc/p9m4grcn3n58sspfj1mcsgyr0000gn/T/ipykernel_2148/117283708.py:57: FutureWarning: The frame.append method is deprecated and will be removed from pandas in a future version. Use pandas.concat instead.\n",
      "  labs_overall = ( labs_overall.append(pd.Series(\n",
      "/var/folders/yc/p9m4grcn3n58sspfj1mcsgyr0000gn/T/ipykernel_2148/117283708.py:57: FutureWarning: The frame.append method is deprecated and will be removed from pandas in a future version. Use pandas.concat instead.\n",
      "  labs_overall = ( labs_overall.append(pd.Series(\n"
     ]
    },
    {
     "name": "stdout",
     "output_type": "stream",
     "text": [
      "['Week 4', 'Lab Regression Analysis\\nRequired', 'Manouk Meilof', '', '']\n",
      "finished grabbing students info for lab Lab Regression Analysis\n",
      "Required of Week 4\n",
      "Lab Matplotlib & Seaborn\n",
      "Required\n",
      "20  Students grabbed.\n",
      "['Week 4', 'Lab Matplotlib & Seaborn\\nRequired', 'Adrian Flores', 'Delivered', '1/10/2022']\n",
      "['Week 4', 'Lab Matplotlib & Seaborn\\nRequired', 'Aferdita Zherka Zherka', 'Delivered', '16/11/2022']\n",
      "['Week 4', 'Lab Matplotlib & Seaborn\\nRequired', 'Alicia Andrés', 'Delivered', '17/10/2022']\n"
     ]
    },
    {
     "name": "stderr",
     "output_type": "stream",
     "text": [
      "/var/folders/yc/p9m4grcn3n58sspfj1mcsgyr0000gn/T/ipykernel_2148/117283708.py:57: FutureWarning: The frame.append method is deprecated and will be removed from pandas in a future version. Use pandas.concat instead.\n",
      "  labs_overall = ( labs_overall.append(pd.Series(\n",
      "/var/folders/yc/p9m4grcn3n58sspfj1mcsgyr0000gn/T/ipykernel_2148/117283708.py:57: FutureWarning: The frame.append method is deprecated and will be removed from pandas in a future version. Use pandas.concat instead.\n",
      "  labs_overall = ( labs_overall.append(pd.Series(\n",
      "/var/folders/yc/p9m4grcn3n58sspfj1mcsgyr0000gn/T/ipykernel_2148/117283708.py:57: FutureWarning: The frame.append method is deprecated and will be removed from pandas in a future version. Use pandas.concat instead.\n",
      "  labs_overall = ( labs_overall.append(pd.Series(\n",
      "/var/folders/yc/p9m4grcn3n58sspfj1mcsgyr0000gn/T/ipykernel_2148/117283708.py:57: FutureWarning: The frame.append method is deprecated and will be removed from pandas in a future version. Use pandas.concat instead.\n",
      "  labs_overall = ( labs_overall.append(pd.Series(\n"
     ]
    },
    {
     "name": "stdout",
     "output_type": "stream",
     "text": [
      "['Week 4', 'Lab Matplotlib & Seaborn\\nRequired', 'Angela Arredondo Mendoza', 'Delivered', '7/10/2022']\n",
      "['Week 4', 'Lab Matplotlib & Seaborn\\nRequired', 'Damiano Serra', 'Delivered', '2/10/2022']\n",
      "['Week 4', 'Lab Matplotlib & Seaborn\\nRequired', 'Daniel J Mendez Borges', 'Delivered', '11/11/2022']\n",
      "['Week 4', 'Lab Matplotlib & Seaborn\\nRequired', 'Fabio Blank Da Costa', 'Delivered', '2/10/2022']\n"
     ]
    },
    {
     "name": "stderr",
     "output_type": "stream",
     "text": [
      "/var/folders/yc/p9m4grcn3n58sspfj1mcsgyr0000gn/T/ipykernel_2148/117283708.py:57: FutureWarning: The frame.append method is deprecated and will be removed from pandas in a future version. Use pandas.concat instead.\n",
      "  labs_overall = ( labs_overall.append(pd.Series(\n",
      "/var/folders/yc/p9m4grcn3n58sspfj1mcsgyr0000gn/T/ipykernel_2148/117283708.py:57: FutureWarning: The frame.append method is deprecated and will be removed from pandas in a future version. Use pandas.concat instead.\n",
      "  labs_overall = ( labs_overall.append(pd.Series(\n",
      "/var/folders/yc/p9m4grcn3n58sspfj1mcsgyr0000gn/T/ipykernel_2148/117283708.py:57: FutureWarning: The frame.append method is deprecated and will be removed from pandas in a future version. Use pandas.concat instead.\n",
      "  labs_overall = ( labs_overall.append(pd.Series(\n",
      "/var/folders/yc/p9m4grcn3n58sspfj1mcsgyr0000gn/T/ipykernel_2148/117283708.py:57: FutureWarning: The frame.append method is deprecated and will be removed from pandas in a future version. Use pandas.concat instead.\n",
      "  labs_overall = ( labs_overall.append(pd.Series(\n"
     ]
    },
    {
     "name": "stdout",
     "output_type": "stream",
     "text": [
      "['Week 4', 'Lab Matplotlib & Seaborn\\nRequired', 'Federico Cavanagh', 'Delivered', '1/10/2022']\n",
      "['Week 4', 'Lab Matplotlib & Seaborn\\nRequired', 'Francisco Javier De Las Heras Jimenez', 'Delivered', '6/10/2022']\n",
      "['Week 4', 'Lab Matplotlib & Seaborn\\nRequired', 'Gregor Seegers', 'Delivered', '2/10/2022']\n",
      "['Week 4', 'Lab Matplotlib & Seaborn\\nRequired', 'Joaquin Valentin', 'Delivered', '1/10/2022']\n"
     ]
    },
    {
     "name": "stderr",
     "output_type": "stream",
     "text": [
      "/var/folders/yc/p9m4grcn3n58sspfj1mcsgyr0000gn/T/ipykernel_2148/117283708.py:57: FutureWarning: The frame.append method is deprecated and will be removed from pandas in a future version. Use pandas.concat instead.\n",
      "  labs_overall = ( labs_overall.append(pd.Series(\n",
      "/var/folders/yc/p9m4grcn3n58sspfj1mcsgyr0000gn/T/ipykernel_2148/117283708.py:57: FutureWarning: The frame.append method is deprecated and will be removed from pandas in a future version. Use pandas.concat instead.\n",
      "  labs_overall = ( labs_overall.append(pd.Series(\n",
      "/var/folders/yc/p9m4grcn3n58sspfj1mcsgyr0000gn/T/ipykernel_2148/117283708.py:57: FutureWarning: The frame.append method is deprecated and will be removed from pandas in a future version. Use pandas.concat instead.\n",
      "  labs_overall = ( labs_overall.append(pd.Series(\n",
      "/var/folders/yc/p9m4grcn3n58sspfj1mcsgyr0000gn/T/ipykernel_2148/117283708.py:57: FutureWarning: The frame.append method is deprecated and will be removed from pandas in a future version. Use pandas.concat instead.\n",
      "  labs_overall = ( labs_overall.append(pd.Series(\n"
     ]
    },
    {
     "name": "stdout",
     "output_type": "stream",
     "text": [
      "['Week 4', 'Lab Matplotlib & Seaborn\\nRequired', 'Marc Gavaldà', 'Delivered', '3/10/2022']\n",
      "['Week 4', 'Lab Matplotlib & Seaborn\\nRequired', 'María Vázquez Casares', 'Delivered', '13/11/2022']\n",
      "['Week 4', 'Lab Matplotlib & Seaborn\\nRequired', 'Max Grempel', 'Delivered', '29/10/2022']\n",
      "['Week 4', 'Lab Matplotlib & Seaborn\\nRequired', 'Shilei Tan Tan', 'Delivered', '10/10/2022']\n"
     ]
    },
    {
     "name": "stderr",
     "output_type": "stream",
     "text": [
      "/var/folders/yc/p9m4grcn3n58sspfj1mcsgyr0000gn/T/ipykernel_2148/117283708.py:57: FutureWarning: The frame.append method is deprecated and will be removed from pandas in a future version. Use pandas.concat instead.\n",
      "  labs_overall = ( labs_overall.append(pd.Series(\n",
      "/var/folders/yc/p9m4grcn3n58sspfj1mcsgyr0000gn/T/ipykernel_2148/117283708.py:57: FutureWarning: The frame.append method is deprecated and will be removed from pandas in a future version. Use pandas.concat instead.\n",
      "  labs_overall = ( labs_overall.append(pd.Series(\n",
      "/var/folders/yc/p9m4grcn3n58sspfj1mcsgyr0000gn/T/ipykernel_2148/117283708.py:57: FutureWarning: The frame.append method is deprecated and will be removed from pandas in a future version. Use pandas.concat instead.\n",
      "  labs_overall = ( labs_overall.append(pd.Series(\n",
      "/var/folders/yc/p9m4grcn3n58sspfj1mcsgyr0000gn/T/ipykernel_2148/117283708.py:57: FutureWarning: The frame.append method is deprecated and will be removed from pandas in a future version. Use pandas.concat instead.\n",
      "  labs_overall = ( labs_overall.append(pd.Series(\n"
     ]
    },
    {
     "name": "stdout",
     "output_type": "stream",
     "text": [
      "['Week 4', 'Lab Matplotlib & Seaborn\\nRequired', 'Vanessa Andrade', 'Delivered', '11/10/2022']\n",
      "['Week 4', 'Lab Matplotlib & Seaborn\\nRequired', 'Óscar Iglesias Roqueiro', 'Delivered', '2/10/2022']\n",
      "['Week 4', 'Lab Matplotlib & Seaborn\\nRequired', 'Amelie Haberland', '', '']\n",
      "['Week 4', 'Lab Matplotlib & Seaborn\\nRequired', 'Manouk Meilof', '', '']\n"
     ]
    },
    {
     "name": "stderr",
     "output_type": "stream",
     "text": [
      "/var/folders/yc/p9m4grcn3n58sspfj1mcsgyr0000gn/T/ipykernel_2148/117283708.py:57: FutureWarning: The frame.append method is deprecated and will be removed from pandas in a future version. Use pandas.concat instead.\n",
      "  labs_overall = ( labs_overall.append(pd.Series(\n",
      "/var/folders/yc/p9m4grcn3n58sspfj1mcsgyr0000gn/T/ipykernel_2148/117283708.py:57: FutureWarning: The frame.append method is deprecated and will be removed from pandas in a future version. Use pandas.concat instead.\n",
      "  labs_overall = ( labs_overall.append(pd.Series(\n",
      "/var/folders/yc/p9m4grcn3n58sspfj1mcsgyr0000gn/T/ipykernel_2148/117283708.py:57: FutureWarning: The frame.append method is deprecated and will be removed from pandas in a future version. Use pandas.concat instead.\n",
      "  labs_overall = ( labs_overall.append(pd.Series(\n",
      "/var/folders/yc/p9m4grcn3n58sspfj1mcsgyr0000gn/T/ipykernel_2148/117283708.py:57: FutureWarning: The frame.append method is deprecated and will be removed from pandas in a future version. Use pandas.concat instead.\n",
      "  labs_overall = ( labs_overall.append(pd.Series(\n"
     ]
    },
    {
     "name": "stdout",
     "output_type": "stream",
     "text": [
      "['Week 4', 'Lab Matplotlib & Seaborn\\nRequired', 'Suparna Mandal', '', '']\n",
      "finished grabbing students info for lab Lab Matplotlib & Seaborn\n",
      "Required of Week 4\n",
      "Lab Subsetting and Descriptive Stats\n",
      "Required\n",
      "20  Students grabbed.\n",
      "['Week 4', 'Lab Subsetting and Descriptive Stats\\nRequired', 'Adrian Flores', 'Delivered', '27/9/2022']\n",
      "['Week 4', 'Lab Subsetting and Descriptive Stats\\nRequired', 'Aferdita Zherka Zherka', 'Delivered', '16/11/2022']\n",
      "['Week 4', 'Lab Subsetting and Descriptive Stats\\nRequired', 'Alicia Andrés', 'Delivered', '10/10/2022']\n"
     ]
    },
    {
     "name": "stderr",
     "output_type": "stream",
     "text": [
      "/var/folders/yc/p9m4grcn3n58sspfj1mcsgyr0000gn/T/ipykernel_2148/117283708.py:57: FutureWarning: The frame.append method is deprecated and will be removed from pandas in a future version. Use pandas.concat instead.\n",
      "  labs_overall = ( labs_overall.append(pd.Series(\n",
      "/var/folders/yc/p9m4grcn3n58sspfj1mcsgyr0000gn/T/ipykernel_2148/117283708.py:57: FutureWarning: The frame.append method is deprecated and will be removed from pandas in a future version. Use pandas.concat instead.\n",
      "  labs_overall = ( labs_overall.append(pd.Series(\n",
      "/var/folders/yc/p9m4grcn3n58sspfj1mcsgyr0000gn/T/ipykernel_2148/117283708.py:57: FutureWarning: The frame.append method is deprecated and will be removed from pandas in a future version. Use pandas.concat instead.\n",
      "  labs_overall = ( labs_overall.append(pd.Series(\n",
      "/var/folders/yc/p9m4grcn3n58sspfj1mcsgyr0000gn/T/ipykernel_2148/117283708.py:57: FutureWarning: The frame.append method is deprecated and will be removed from pandas in a future version. Use pandas.concat instead.\n",
      "  labs_overall = ( labs_overall.append(pd.Series(\n"
     ]
    },
    {
     "name": "stdout",
     "output_type": "stream",
     "text": [
      "['Week 4', 'Lab Subsetting and Descriptive Stats\\nRequired', 'Angela Arredondo Mendoza', 'Delivered', '6/10/2022']\n",
      "['Week 4', 'Lab Subsetting and Descriptive Stats\\nRequired', 'Damiano Serra', 'Delivered', '29/9/2022']\n",
      "['Week 4', 'Lab Subsetting and Descriptive Stats\\nRequired', 'Daniel J Mendez Borges', 'Delivered', '11/11/2022']\n",
      "['Week 4', 'Lab Subsetting and Descriptive Stats\\nRequired', 'Fabio Blank Da Costa', 'Delivered', '2/10/2022']\n"
     ]
    },
    {
     "name": "stderr",
     "output_type": "stream",
     "text": [
      "/var/folders/yc/p9m4grcn3n58sspfj1mcsgyr0000gn/T/ipykernel_2148/117283708.py:57: FutureWarning: The frame.append method is deprecated and will be removed from pandas in a future version. Use pandas.concat instead.\n",
      "  labs_overall = ( labs_overall.append(pd.Series(\n",
      "/var/folders/yc/p9m4grcn3n58sspfj1mcsgyr0000gn/T/ipykernel_2148/117283708.py:57: FutureWarning: The frame.append method is deprecated and will be removed from pandas in a future version. Use pandas.concat instead.\n",
      "  labs_overall = ( labs_overall.append(pd.Series(\n",
      "/var/folders/yc/p9m4grcn3n58sspfj1mcsgyr0000gn/T/ipykernel_2148/117283708.py:57: FutureWarning: The frame.append method is deprecated and will be removed from pandas in a future version. Use pandas.concat instead.\n",
      "  labs_overall = ( labs_overall.append(pd.Series(\n",
      "/var/folders/yc/p9m4grcn3n58sspfj1mcsgyr0000gn/T/ipykernel_2148/117283708.py:57: FutureWarning: The frame.append method is deprecated and will be removed from pandas in a future version. Use pandas.concat instead.\n",
      "  labs_overall = ( labs_overall.append(pd.Series(\n"
     ]
    },
    {
     "name": "stdout",
     "output_type": "stream",
     "text": [
      "['Week 4', 'Lab Subsetting and Descriptive Stats\\nRequired', 'Federico Cavanagh', 'Delivered', '29/9/2022']\n",
      "['Week 4', 'Lab Subsetting and Descriptive Stats\\nRequired', 'Francisco Javier De Las Heras Jimenez', 'Delivered', '29/9/2022']\n",
      "['Week 4', 'Lab Subsetting and Descriptive Stats\\nRequired', 'Gregor Seegers', 'Delivered', '30/9/2022']\n",
      "['Week 4', 'Lab Subsetting and Descriptive Stats\\nRequired', 'Joaquin Valentin', 'Delivered', '29/9/2022']\n"
     ]
    },
    {
     "name": "stderr",
     "output_type": "stream",
     "text": [
      "/var/folders/yc/p9m4grcn3n58sspfj1mcsgyr0000gn/T/ipykernel_2148/117283708.py:57: FutureWarning: The frame.append method is deprecated and will be removed from pandas in a future version. Use pandas.concat instead.\n",
      "  labs_overall = ( labs_overall.append(pd.Series(\n",
      "/var/folders/yc/p9m4grcn3n58sspfj1mcsgyr0000gn/T/ipykernel_2148/117283708.py:57: FutureWarning: The frame.append method is deprecated and will be removed from pandas in a future version. Use pandas.concat instead.\n",
      "  labs_overall = ( labs_overall.append(pd.Series(\n",
      "/var/folders/yc/p9m4grcn3n58sspfj1mcsgyr0000gn/T/ipykernel_2148/117283708.py:57: FutureWarning: The frame.append method is deprecated and will be removed from pandas in a future version. Use pandas.concat instead.\n",
      "  labs_overall = ( labs_overall.append(pd.Series(\n",
      "/var/folders/yc/p9m4grcn3n58sspfj1mcsgyr0000gn/T/ipykernel_2148/117283708.py:57: FutureWarning: The frame.append method is deprecated and will be removed from pandas in a future version. Use pandas.concat instead.\n",
      "  labs_overall = ( labs_overall.append(pd.Series(\n"
     ]
    },
    {
     "name": "stdout",
     "output_type": "stream",
     "text": [
      "['Week 4', 'Lab Subsetting and Descriptive Stats\\nRequired', 'Marc Gavaldà', 'Delivered', '27/9/2022']\n",
      "['Week 4', 'Lab Subsetting and Descriptive Stats\\nRequired', 'María Vázquez Casares', 'Delivered', '9/10/2022']\n",
      "['Week 4', 'Lab Subsetting and Descriptive Stats\\nRequired', 'Max Grempel', 'Delivered', '10/10/2022']\n",
      "['Week 4', 'Lab Subsetting and Descriptive Stats\\nRequired', 'Shilei Tan Tan', 'Delivered', '3/10/2022']\n"
     ]
    },
    {
     "name": "stderr",
     "output_type": "stream",
     "text": [
      "/var/folders/yc/p9m4grcn3n58sspfj1mcsgyr0000gn/T/ipykernel_2148/117283708.py:57: FutureWarning: The frame.append method is deprecated and will be removed from pandas in a future version. Use pandas.concat instead.\n",
      "  labs_overall = ( labs_overall.append(pd.Series(\n",
      "/var/folders/yc/p9m4grcn3n58sspfj1mcsgyr0000gn/T/ipykernel_2148/117283708.py:57: FutureWarning: The frame.append method is deprecated and will be removed from pandas in a future version. Use pandas.concat instead.\n",
      "  labs_overall = ( labs_overall.append(pd.Series(\n",
      "/var/folders/yc/p9m4grcn3n58sspfj1mcsgyr0000gn/T/ipykernel_2148/117283708.py:57: FutureWarning: The frame.append method is deprecated and will be removed from pandas in a future version. Use pandas.concat instead.\n",
      "  labs_overall = ( labs_overall.append(pd.Series(\n",
      "/var/folders/yc/p9m4grcn3n58sspfj1mcsgyr0000gn/T/ipykernel_2148/117283708.py:57: FutureWarning: The frame.append method is deprecated and will be removed from pandas in a future version. Use pandas.concat instead.\n",
      "  labs_overall = ( labs_overall.append(pd.Series(\n"
     ]
    },
    {
     "name": "stdout",
     "output_type": "stream",
     "text": [
      "['Week 4', 'Lab Subsetting and Descriptive Stats\\nRequired', 'Suparna Mandal', 'Delivered', '4/10/2022']\n",
      "['Week 4', 'Lab Subsetting and Descriptive Stats\\nRequired', 'Vanessa Andrade', 'Delivered', '11/10/2022']\n",
      "['Week 4', 'Lab Subsetting and Descriptive Stats\\nRequired', 'Óscar Iglesias Roqueiro', 'Delivered', '29/9/2022']\n",
      "['Week 4', 'Lab Subsetting and Descriptive Stats\\nRequired', 'Amelie Haberland', '', '']\n"
     ]
    },
    {
     "name": "stderr",
     "output_type": "stream",
     "text": [
      "/var/folders/yc/p9m4grcn3n58sspfj1mcsgyr0000gn/T/ipykernel_2148/117283708.py:57: FutureWarning: The frame.append method is deprecated and will be removed from pandas in a future version. Use pandas.concat instead.\n",
      "  labs_overall = ( labs_overall.append(pd.Series(\n",
      "/var/folders/yc/p9m4grcn3n58sspfj1mcsgyr0000gn/T/ipykernel_2148/117283708.py:57: FutureWarning: The frame.append method is deprecated and will be removed from pandas in a future version. Use pandas.concat instead.\n",
      "  labs_overall = ( labs_overall.append(pd.Series(\n",
      "/var/folders/yc/p9m4grcn3n58sspfj1mcsgyr0000gn/T/ipykernel_2148/117283708.py:57: FutureWarning: The frame.append method is deprecated and will be removed from pandas in a future version. Use pandas.concat instead.\n",
      "  labs_overall = ( labs_overall.append(pd.Series(\n",
      "/var/folders/yc/p9m4grcn3n58sspfj1mcsgyr0000gn/T/ipykernel_2148/117283708.py:57: FutureWarning: The frame.append method is deprecated and will be removed from pandas in a future version. Use pandas.concat instead.\n",
      "  labs_overall = ( labs_overall.append(pd.Series(\n"
     ]
    },
    {
     "name": "stdout",
     "output_type": "stream",
     "text": [
      "['Week 4', 'Lab Subsetting and Descriptive Stats\\nRequired', 'Manouk Meilof', '', '']\n",
      "finished grabbing students info for lab Lab Subsetting and Descriptive Stats\n",
      "Required of Week 4\n",
      "Week 6\n",
      "Lab MySQL Actions\n",
      "Required\n",
      "20  Students grabbed.\n",
      "['Week 6', 'Lab MySQL Actions\\nRequired', 'Adrian Flores', 'Delivered', '16/10/2022']\n",
      "['Week 6', 'Lab MySQL Actions\\nRequired', 'Alicia Andrés', 'Delivered', '24/10/2022']\n",
      "['Week 6', 'Lab MySQL Actions\\nRequired', 'Amelie Haberland', 'Delivered', '29/10/2022']\n"
     ]
    },
    {
     "name": "stderr",
     "output_type": "stream",
     "text": [
      "/var/folders/yc/p9m4grcn3n58sspfj1mcsgyr0000gn/T/ipykernel_2148/117283708.py:57: FutureWarning: The frame.append method is deprecated and will be removed from pandas in a future version. Use pandas.concat instead.\n",
      "  labs_overall = ( labs_overall.append(pd.Series(\n",
      "/var/folders/yc/p9m4grcn3n58sspfj1mcsgyr0000gn/T/ipykernel_2148/117283708.py:57: FutureWarning: The frame.append method is deprecated and will be removed from pandas in a future version. Use pandas.concat instead.\n",
      "  labs_overall = ( labs_overall.append(pd.Series(\n",
      "/var/folders/yc/p9m4grcn3n58sspfj1mcsgyr0000gn/T/ipykernel_2148/117283708.py:57: FutureWarning: The frame.append method is deprecated and will be removed from pandas in a future version. Use pandas.concat instead.\n",
      "  labs_overall = ( labs_overall.append(pd.Series(\n",
      "/var/folders/yc/p9m4grcn3n58sspfj1mcsgyr0000gn/T/ipykernel_2148/117283708.py:57: FutureWarning: The frame.append method is deprecated and will be removed from pandas in a future version. Use pandas.concat instead.\n",
      "  labs_overall = ( labs_overall.append(pd.Series(\n"
     ]
    },
    {
     "name": "stdout",
     "output_type": "stream",
     "text": [
      "['Week 6', 'Lab MySQL Actions\\nRequired', 'Angela Arredondo Mendoza', 'Delivered', '21/10/2022']\n",
      "['Week 6', 'Lab MySQL Actions\\nRequired', 'Damiano Serra', 'Delivered', '17/10/2022']\n",
      "['Week 6', 'Lab MySQL Actions\\nRequired', 'Fabio Blank Da Costa', 'Delivered', '18/10/2022']\n",
      "['Week 6', 'Lab MySQL Actions\\nRequired', 'Federico Cavanagh', 'Delivered', '18/10/2022']\n"
     ]
    },
    {
     "name": "stderr",
     "output_type": "stream",
     "text": [
      "/var/folders/yc/p9m4grcn3n58sspfj1mcsgyr0000gn/T/ipykernel_2148/117283708.py:57: FutureWarning: The frame.append method is deprecated and will be removed from pandas in a future version. Use pandas.concat instead.\n",
      "  labs_overall = ( labs_overall.append(pd.Series(\n",
      "/var/folders/yc/p9m4grcn3n58sspfj1mcsgyr0000gn/T/ipykernel_2148/117283708.py:57: FutureWarning: The frame.append method is deprecated and will be removed from pandas in a future version. Use pandas.concat instead.\n",
      "  labs_overall = ( labs_overall.append(pd.Series(\n",
      "/var/folders/yc/p9m4grcn3n58sspfj1mcsgyr0000gn/T/ipykernel_2148/117283708.py:57: FutureWarning: The frame.append method is deprecated and will be removed from pandas in a future version. Use pandas.concat instead.\n",
      "  labs_overall = ( labs_overall.append(pd.Series(\n",
      "/var/folders/yc/p9m4grcn3n58sspfj1mcsgyr0000gn/T/ipykernel_2148/117283708.py:57: FutureWarning: The frame.append method is deprecated and will be removed from pandas in a future version. Use pandas.concat instead.\n",
      "  labs_overall = ( labs_overall.append(pd.Series(\n"
     ]
    },
    {
     "name": "stdout",
     "output_type": "stream",
     "text": [
      "['Week 6', 'Lab MySQL Actions\\nRequired', 'Francisco Javier De Las Heras Jimenez', 'Delivered', '20/10/2022']\n",
      "['Week 6', 'Lab MySQL Actions\\nRequired', 'Gregor Seegers', 'Delivered', '17/10/2022']\n",
      "['Week 6', 'Lab MySQL Actions\\nRequired', 'Joaquin Valentin', 'Delivered', '20/10/2022']\n"
     ]
    },
    {
     "name": "stderr",
     "output_type": "stream",
     "text": [
      "/var/folders/yc/p9m4grcn3n58sspfj1mcsgyr0000gn/T/ipykernel_2148/117283708.py:57: FutureWarning: The frame.append method is deprecated and will be removed from pandas in a future version. Use pandas.concat instead.\n",
      "  labs_overall = ( labs_overall.append(pd.Series(\n",
      "/var/folders/yc/p9m4grcn3n58sspfj1mcsgyr0000gn/T/ipykernel_2148/117283708.py:57: FutureWarning: The frame.append method is deprecated and will be removed from pandas in a future version. Use pandas.concat instead.\n",
      "  labs_overall = ( labs_overall.append(pd.Series(\n",
      "/var/folders/yc/p9m4grcn3n58sspfj1mcsgyr0000gn/T/ipykernel_2148/117283708.py:57: FutureWarning: The frame.append method is deprecated and will be removed from pandas in a future version. Use pandas.concat instead.\n",
      "  labs_overall = ( labs_overall.append(pd.Series(\n"
     ]
    },
    {
     "name": "stdout",
     "output_type": "stream",
     "text": [
      "['Week 6', 'Lab MySQL Actions\\nRequired', 'Marc Gavaldà', 'Delivered', '16/10/2022']\n",
      "['Week 6', 'Lab MySQL Actions\\nRequired', 'María Vázquez Casares', 'Delivered', '29/10/2022']\n",
      "['Week 6', 'Lab MySQL Actions\\nRequired', 'Shilei Tan Tan', 'Delivered', '1/11/2022']\n",
      "['Week 6', 'Lab MySQL Actions\\nRequired', 'Suparna Mandal', 'Delivered', '18/10/2022']\n"
     ]
    },
    {
     "name": "stderr",
     "output_type": "stream",
     "text": [
      "/var/folders/yc/p9m4grcn3n58sspfj1mcsgyr0000gn/T/ipykernel_2148/117283708.py:57: FutureWarning: The frame.append method is deprecated and will be removed from pandas in a future version. Use pandas.concat instead.\n",
      "  labs_overall = ( labs_overall.append(pd.Series(\n",
      "/var/folders/yc/p9m4grcn3n58sspfj1mcsgyr0000gn/T/ipykernel_2148/117283708.py:57: FutureWarning: The frame.append method is deprecated and will be removed from pandas in a future version. Use pandas.concat instead.\n",
      "  labs_overall = ( labs_overall.append(pd.Series(\n",
      "/var/folders/yc/p9m4grcn3n58sspfj1mcsgyr0000gn/T/ipykernel_2148/117283708.py:57: FutureWarning: The frame.append method is deprecated and will be removed from pandas in a future version. Use pandas.concat instead.\n",
      "  labs_overall = ( labs_overall.append(pd.Series(\n",
      "/var/folders/yc/p9m4grcn3n58sspfj1mcsgyr0000gn/T/ipykernel_2148/117283708.py:57: FutureWarning: The frame.append method is deprecated and will be removed from pandas in a future version. Use pandas.concat instead.\n",
      "  labs_overall = ( labs_overall.append(pd.Series(\n",
      "/var/folders/yc/p9m4grcn3n58sspfj1mcsgyr0000gn/T/ipykernel_2148/117283708.py:57: FutureWarning: The frame.append method is deprecated and will be removed from pandas in a future version. Use pandas.concat instead.\n",
      "  labs_overall = ( labs_overall.append(pd.Series(\n"
     ]
    },
    {
     "name": "stdout",
     "output_type": "stream",
     "text": [
      "['Week 6', 'Lab MySQL Actions\\nRequired', 'Óscar Iglesias Roqueiro', 'Delivered', '16/10/2022']\n",
      "['Week 6', 'Lab MySQL Actions\\nRequired', 'Aferdita Zherka Zherka', '', '']\n",
      "['Week 6', 'Lab MySQL Actions\\nRequired', 'Daniel J Mendez Borges', '', '']\n",
      "['Week 6', 'Lab MySQL Actions\\nRequired', 'Manouk Meilof', '', '']\n",
      "['Week 6', 'Lab MySQL Actions\\nRequired', 'Max Grempel', '', '']\n"
     ]
    },
    {
     "name": "stderr",
     "output_type": "stream",
     "text": [
      "/var/folders/yc/p9m4grcn3n58sspfj1mcsgyr0000gn/T/ipykernel_2148/117283708.py:57: FutureWarning: The frame.append method is deprecated and will be removed from pandas in a future version. Use pandas.concat instead.\n",
      "  labs_overall = ( labs_overall.append(pd.Series(\n",
      "/var/folders/yc/p9m4grcn3n58sspfj1mcsgyr0000gn/T/ipykernel_2148/117283708.py:57: FutureWarning: The frame.append method is deprecated and will be removed from pandas in a future version. Use pandas.concat instead.\n",
      "  labs_overall = ( labs_overall.append(pd.Series(\n",
      "/var/folders/yc/p9m4grcn3n58sspfj1mcsgyr0000gn/T/ipykernel_2148/117283708.py:57: FutureWarning: The frame.append method is deprecated and will be removed from pandas in a future version. Use pandas.concat instead.\n",
      "  labs_overall = ( labs_overall.append(pd.Series(\n",
      "/var/folders/yc/p9m4grcn3n58sspfj1mcsgyr0000gn/T/ipykernel_2148/117283708.py:57: FutureWarning: The frame.append method is deprecated and will be removed from pandas in a future version. Use pandas.concat instead.\n",
      "  labs_overall = ( labs_overall.append(pd.Series(\n"
     ]
    },
    {
     "name": "stdout",
     "output_type": "stream",
     "text": [
      "['Week 6', 'Lab MySQL Actions\\nRequired', 'Vanessa Andrade', '', '']\n",
      "finished grabbing students info for lab Lab MySQL Actions\n",
      "Required of Week 6\n",
      "Lab MySQL First Queries\n",
      "Required\n",
      "20  Students grabbed.\n",
      "['Week 6', 'Lab MySQL First Queries\\nRequired', 'Adrian Flores', 'Delivered', '14/10/2022']\n",
      "['Week 6', 'Lab MySQL First Queries\\nRequired', 'Alicia Andrés', 'Delivered', '18/10/2022']\n",
      "['Week 6', 'Lab MySQL First Queries\\nRequired', 'Amelie Haberland', 'Delivered', '17/10/2022']\n"
     ]
    },
    {
     "name": "stderr",
     "output_type": "stream",
     "text": [
      "/var/folders/yc/p9m4grcn3n58sspfj1mcsgyr0000gn/T/ipykernel_2148/117283708.py:57: FutureWarning: The frame.append method is deprecated and will be removed from pandas in a future version. Use pandas.concat instead.\n",
      "  labs_overall = ( labs_overall.append(pd.Series(\n",
      "/var/folders/yc/p9m4grcn3n58sspfj1mcsgyr0000gn/T/ipykernel_2148/117283708.py:57: FutureWarning: The frame.append method is deprecated and will be removed from pandas in a future version. Use pandas.concat instead.\n",
      "  labs_overall = ( labs_overall.append(pd.Series(\n",
      "/var/folders/yc/p9m4grcn3n58sspfj1mcsgyr0000gn/T/ipykernel_2148/117283708.py:57: FutureWarning: The frame.append method is deprecated and will be removed from pandas in a future version. Use pandas.concat instead.\n",
      "  labs_overall = ( labs_overall.append(pd.Series(\n",
      "/var/folders/yc/p9m4grcn3n58sspfj1mcsgyr0000gn/T/ipykernel_2148/117283708.py:57: FutureWarning: The frame.append method is deprecated and will be removed from pandas in a future version. Use pandas.concat instead.\n",
      "  labs_overall = ( labs_overall.append(pd.Series(\n"
     ]
    },
    {
     "name": "stdout",
     "output_type": "stream",
     "text": [
      "['Week 6', 'Lab MySQL First Queries\\nRequired', 'Angela Arredondo Mendoza', 'Delivered', '14/10/2022']\n",
      "['Week 6', 'Lab MySQL First Queries\\nRequired', 'Damiano Serra', 'Delivered', '14/10/2022']\n",
      "['Week 6', 'Lab MySQL First Queries\\nRequired', 'Fabio Blank Da Costa', 'Delivered', '18/10/2022']\n",
      "['Week 6', 'Lab MySQL First Queries\\nRequired', 'Federico Cavanagh', 'Delivered', '15/10/2022']\n"
     ]
    },
    {
     "name": "stderr",
     "output_type": "stream",
     "text": [
      "/var/folders/yc/p9m4grcn3n58sspfj1mcsgyr0000gn/T/ipykernel_2148/117283708.py:57: FutureWarning: The frame.append method is deprecated and will be removed from pandas in a future version. Use pandas.concat instead.\n",
      "  labs_overall = ( labs_overall.append(pd.Series(\n",
      "/var/folders/yc/p9m4grcn3n58sspfj1mcsgyr0000gn/T/ipykernel_2148/117283708.py:57: FutureWarning: The frame.append method is deprecated and will be removed from pandas in a future version. Use pandas.concat instead.\n",
      "  labs_overall = ( labs_overall.append(pd.Series(\n",
      "/var/folders/yc/p9m4grcn3n58sspfj1mcsgyr0000gn/T/ipykernel_2148/117283708.py:57: FutureWarning: The frame.append method is deprecated and will be removed from pandas in a future version. Use pandas.concat instead.\n",
      "  labs_overall = ( labs_overall.append(pd.Series(\n",
      "/var/folders/yc/p9m4grcn3n58sspfj1mcsgyr0000gn/T/ipykernel_2148/117283708.py:57: FutureWarning: The frame.append method is deprecated and will be removed from pandas in a future version. Use pandas.concat instead.\n",
      "  labs_overall = ( labs_overall.append(pd.Series(\n"
     ]
    },
    {
     "name": "stdout",
     "output_type": "stream",
     "text": [
      "['Week 6', 'Lab MySQL First Queries\\nRequired', 'Francisco Javier De Las Heras Jimenez', 'Delivered', '15/10/2022']\n",
      "['Week 6', 'Lab MySQL First Queries\\nRequired', 'Gregor Seegers', 'Delivered', '16/10/2022']\n",
      "['Week 6', 'Lab MySQL First Queries\\nRequired', 'Joaquin Valentin', 'Delivered', '16/10/2022']\n"
     ]
    },
    {
     "name": "stderr",
     "output_type": "stream",
     "text": [
      "/var/folders/yc/p9m4grcn3n58sspfj1mcsgyr0000gn/T/ipykernel_2148/117283708.py:57: FutureWarning: The frame.append method is deprecated and will be removed from pandas in a future version. Use pandas.concat instead.\n",
      "  labs_overall = ( labs_overall.append(pd.Series(\n",
      "/var/folders/yc/p9m4grcn3n58sspfj1mcsgyr0000gn/T/ipykernel_2148/117283708.py:57: FutureWarning: The frame.append method is deprecated and will be removed from pandas in a future version. Use pandas.concat instead.\n",
      "  labs_overall = ( labs_overall.append(pd.Series(\n",
      "/var/folders/yc/p9m4grcn3n58sspfj1mcsgyr0000gn/T/ipykernel_2148/117283708.py:57: FutureWarning: The frame.append method is deprecated and will be removed from pandas in a future version. Use pandas.concat instead.\n",
      "  labs_overall = ( labs_overall.append(pd.Series(\n",
      "/var/folders/yc/p9m4grcn3n58sspfj1mcsgyr0000gn/T/ipykernel_2148/117283708.py:57: FutureWarning: The frame.append method is deprecated and will be removed from pandas in a future version. Use pandas.concat instead.\n",
      "  labs_overall = ( labs_overall.append(pd.Series(\n"
     ]
    },
    {
     "name": "stdout",
     "output_type": "stream",
     "text": [
      "['Week 6', 'Lab MySQL First Queries\\nRequired', 'Manouk Meilof', 'Delivered', '17/10/2022']\n",
      "['Week 6', 'Lab MySQL First Queries\\nRequired', 'Marc Gavaldà', 'Delivered', '14/10/2022']\n",
      "['Week 6', 'Lab MySQL First Queries\\nRequired', 'María Vázquez Casares', 'Delivered', '16/10/2022']\n",
      "['Week 6', 'Lab MySQL First Queries\\nRequired', 'Max Grempel', 'Delivered', '29/10/2022']\n"
     ]
    },
    {
     "name": "stderr",
     "output_type": "stream",
     "text": [
      "/var/folders/yc/p9m4grcn3n58sspfj1mcsgyr0000gn/T/ipykernel_2148/117283708.py:57: FutureWarning: The frame.append method is deprecated and will be removed from pandas in a future version. Use pandas.concat instead.\n",
      "  labs_overall = ( labs_overall.append(pd.Series(\n",
      "/var/folders/yc/p9m4grcn3n58sspfj1mcsgyr0000gn/T/ipykernel_2148/117283708.py:57: FutureWarning: The frame.append method is deprecated and will be removed from pandas in a future version. Use pandas.concat instead.\n",
      "  labs_overall = ( labs_overall.append(pd.Series(\n",
      "/var/folders/yc/p9m4grcn3n58sspfj1mcsgyr0000gn/T/ipykernel_2148/117283708.py:57: FutureWarning: The frame.append method is deprecated and will be removed from pandas in a future version. Use pandas.concat instead.\n",
      "  labs_overall = ( labs_overall.append(pd.Series(\n",
      "/var/folders/yc/p9m4grcn3n58sspfj1mcsgyr0000gn/T/ipykernel_2148/117283708.py:57: FutureWarning: The frame.append method is deprecated and will be removed from pandas in a future version. Use pandas.concat instead.\n",
      "  labs_overall = ( labs_overall.append(pd.Series(\n"
     ]
    },
    {
     "name": "stdout",
     "output_type": "stream",
     "text": [
      "['Week 6', 'Lab MySQL First Queries\\nRequired', 'Shilei Tan Tan', 'Delivered', '15/10/2022']\n",
      "['Week 6', 'Lab MySQL First Queries\\nRequired', 'Óscar Iglesias Roqueiro', 'Delivered', '14/10/2022']\n",
      "['Week 6', 'Lab MySQL First Queries\\nRequired', 'Aferdita Zherka Zherka', '', '']\n",
      "['Week 6', 'Lab MySQL First Queries\\nRequired', 'Daniel J Mendez Borges', '', '']\n"
     ]
    },
    {
     "name": "stderr",
     "output_type": "stream",
     "text": [
      "/var/folders/yc/p9m4grcn3n58sspfj1mcsgyr0000gn/T/ipykernel_2148/117283708.py:57: FutureWarning: The frame.append method is deprecated and will be removed from pandas in a future version. Use pandas.concat instead.\n",
      "  labs_overall = ( labs_overall.append(pd.Series(\n",
      "/var/folders/yc/p9m4grcn3n58sspfj1mcsgyr0000gn/T/ipykernel_2148/117283708.py:57: FutureWarning: The frame.append method is deprecated and will be removed from pandas in a future version. Use pandas.concat instead.\n",
      "  labs_overall = ( labs_overall.append(pd.Series(\n",
      "/var/folders/yc/p9m4grcn3n58sspfj1mcsgyr0000gn/T/ipykernel_2148/117283708.py:57: FutureWarning: The frame.append method is deprecated and will be removed from pandas in a future version. Use pandas.concat instead.\n",
      "  labs_overall = ( labs_overall.append(pd.Series(\n",
      "/var/folders/yc/p9m4grcn3n58sspfj1mcsgyr0000gn/T/ipykernel_2148/117283708.py:57: FutureWarning: The frame.append method is deprecated and will be removed from pandas in a future version. Use pandas.concat instead.\n",
      "  labs_overall = ( labs_overall.append(pd.Series(\n"
     ]
    },
    {
     "name": "stdout",
     "output_type": "stream",
     "text": [
      "['Week 6', 'Lab MySQL First Queries\\nRequired', 'Suparna Mandal', '', '']\n",
      "['Week 6', 'Lab MySQL First Queries\\nRequired', 'Vanessa Andrade', '', '']\n",
      "finished grabbing students info for lab Lab MySQL First Queries\n",
      "Required of Week 6\n",
      "Week 7\n",
      "Lab MySQL Select\n",
      "Required\n",
      "20  Students grabbed.\n",
      "['Week 7', 'Lab MySQL Select\\nRequired', 'Federico Cavanagh', 'Delivered', '24/10/2022']\n",
      "['Week 7', 'Lab MySQL Select\\nRequired', 'Gregor Seegers', 'Delivered', '27/10/2022']\n",
      "['Week 7', 'Lab MySQL Select\\nRequired', 'Joaquin Valentin', 'Delivered', '29/10/2022']\n"
     ]
    },
    {
     "name": "stderr",
     "output_type": "stream",
     "text": [
      "/var/folders/yc/p9m4grcn3n58sspfj1mcsgyr0000gn/T/ipykernel_2148/117283708.py:57: FutureWarning: The frame.append method is deprecated and will be removed from pandas in a future version. Use pandas.concat instead.\n",
      "  labs_overall = ( labs_overall.append(pd.Series(\n",
      "/var/folders/yc/p9m4grcn3n58sspfj1mcsgyr0000gn/T/ipykernel_2148/117283708.py:57: FutureWarning: The frame.append method is deprecated and will be removed from pandas in a future version. Use pandas.concat instead.\n",
      "  labs_overall = ( labs_overall.append(pd.Series(\n",
      "/var/folders/yc/p9m4grcn3n58sspfj1mcsgyr0000gn/T/ipykernel_2148/117283708.py:57: FutureWarning: The frame.append method is deprecated and will be removed from pandas in a future version. Use pandas.concat instead.\n",
      "  labs_overall = ( labs_overall.append(pd.Series(\n",
      "/var/folders/yc/p9m4grcn3n58sspfj1mcsgyr0000gn/T/ipykernel_2148/117283708.py:57: FutureWarning: The frame.append method is deprecated and will be removed from pandas in a future version. Use pandas.concat instead.\n",
      "  labs_overall = ( labs_overall.append(pd.Series(\n"
     ]
    },
    {
     "name": "stdout",
     "output_type": "stream",
     "text": [
      "['Week 7', 'Lab MySQL Select\\nRequired', 'Óscar Iglesias Roqueiro', 'Delivered', '19/10/2022']\n",
      "['Week 7', 'Lab MySQL Select\\nRequired', 'Adrian Flores', '', '']\n",
      "['Week 7', 'Lab MySQL Select\\nRequired', 'Aferdita Zherka Zherka', '', '']\n",
      "['Week 7', 'Lab MySQL Select\\nRequired', 'Alicia Andrés', '', '']\n",
      "['Week 7', 'Lab MySQL Select\\nRequired', 'Amelie Haberland', '', '']\n"
     ]
    },
    {
     "name": "stderr",
     "output_type": "stream",
     "text": [
      "/var/folders/yc/p9m4grcn3n58sspfj1mcsgyr0000gn/T/ipykernel_2148/117283708.py:57: FutureWarning: The frame.append method is deprecated and will be removed from pandas in a future version. Use pandas.concat instead.\n",
      "  labs_overall = ( labs_overall.append(pd.Series(\n",
      "/var/folders/yc/p9m4grcn3n58sspfj1mcsgyr0000gn/T/ipykernel_2148/117283708.py:57: FutureWarning: The frame.append method is deprecated and will be removed from pandas in a future version. Use pandas.concat instead.\n",
      "  labs_overall = ( labs_overall.append(pd.Series(\n",
      "/var/folders/yc/p9m4grcn3n58sspfj1mcsgyr0000gn/T/ipykernel_2148/117283708.py:57: FutureWarning: The frame.append method is deprecated and will be removed from pandas in a future version. Use pandas.concat instead.\n",
      "  labs_overall = ( labs_overall.append(pd.Series(\n",
      "/var/folders/yc/p9m4grcn3n58sspfj1mcsgyr0000gn/T/ipykernel_2148/117283708.py:57: FutureWarning: The frame.append method is deprecated and will be removed from pandas in a future version. Use pandas.concat instead.\n",
      "  labs_overall = ( labs_overall.append(pd.Series(\n"
     ]
    },
    {
     "name": "stdout",
     "output_type": "stream",
     "text": [
      "['Week 7', 'Lab MySQL Select\\nRequired', 'Angela Arredondo Mendoza', '', '']\n",
      "['Week 7', 'Lab MySQL Select\\nRequired', 'Damiano Serra', '', '']\n",
      "['Week 7', 'Lab MySQL Select\\nRequired', 'Daniel J Mendez Borges', '', '']\n",
      "['Week 7', 'Lab MySQL Select\\nRequired', 'Fabio Blank Da Costa', '', '']\n"
     ]
    },
    {
     "name": "stderr",
     "output_type": "stream",
     "text": [
      "/var/folders/yc/p9m4grcn3n58sspfj1mcsgyr0000gn/T/ipykernel_2148/117283708.py:57: FutureWarning: The frame.append method is deprecated and will be removed from pandas in a future version. Use pandas.concat instead.\n",
      "  labs_overall = ( labs_overall.append(pd.Series(\n",
      "/var/folders/yc/p9m4grcn3n58sspfj1mcsgyr0000gn/T/ipykernel_2148/117283708.py:57: FutureWarning: The frame.append method is deprecated and will be removed from pandas in a future version. Use pandas.concat instead.\n",
      "  labs_overall = ( labs_overall.append(pd.Series(\n",
      "/var/folders/yc/p9m4grcn3n58sspfj1mcsgyr0000gn/T/ipykernel_2148/117283708.py:57: FutureWarning: The frame.append method is deprecated and will be removed from pandas in a future version. Use pandas.concat instead.\n",
      "  labs_overall = ( labs_overall.append(pd.Series(\n",
      "/var/folders/yc/p9m4grcn3n58sspfj1mcsgyr0000gn/T/ipykernel_2148/117283708.py:57: FutureWarning: The frame.append method is deprecated and will be removed from pandas in a future version. Use pandas.concat instead.\n",
      "  labs_overall = ( labs_overall.append(pd.Series(\n"
     ]
    },
    {
     "name": "stdout",
     "output_type": "stream",
     "text": [
      "['Week 7', 'Lab MySQL Select\\nRequired', 'Francisco Javier De Las Heras Jimenez', '', '']\n",
      "['Week 7', 'Lab MySQL Select\\nRequired', 'Manouk Meilof', '', '']\n",
      "['Week 7', 'Lab MySQL Select\\nRequired', 'Marc Gavaldà', '', '']\n",
      "['Week 7', 'Lab MySQL Select\\nRequired', 'María Vázquez Casares', '', '']\n"
     ]
    },
    {
     "name": "stderr",
     "output_type": "stream",
     "text": [
      "/var/folders/yc/p9m4grcn3n58sspfj1mcsgyr0000gn/T/ipykernel_2148/117283708.py:57: FutureWarning: The frame.append method is deprecated and will be removed from pandas in a future version. Use pandas.concat instead.\n",
      "  labs_overall = ( labs_overall.append(pd.Series(\n",
      "/var/folders/yc/p9m4grcn3n58sspfj1mcsgyr0000gn/T/ipykernel_2148/117283708.py:57: FutureWarning: The frame.append method is deprecated and will be removed from pandas in a future version. Use pandas.concat instead.\n",
      "  labs_overall = ( labs_overall.append(pd.Series(\n",
      "/var/folders/yc/p9m4grcn3n58sspfj1mcsgyr0000gn/T/ipykernel_2148/117283708.py:57: FutureWarning: The frame.append method is deprecated and will be removed from pandas in a future version. Use pandas.concat instead.\n",
      "  labs_overall = ( labs_overall.append(pd.Series(\n",
      "/var/folders/yc/p9m4grcn3n58sspfj1mcsgyr0000gn/T/ipykernel_2148/117283708.py:57: FutureWarning: The frame.append method is deprecated and will be removed from pandas in a future version. Use pandas.concat instead.\n",
      "  labs_overall = ( labs_overall.append(pd.Series(\n"
     ]
    },
    {
     "name": "stdout",
     "output_type": "stream",
     "text": [
      "['Week 7', 'Lab MySQL Select\\nRequired', 'Max Grempel', '', '']\n",
      "['Week 7', 'Lab MySQL Select\\nRequired', 'Shilei Tan Tan', '', '']\n",
      "['Week 7', 'Lab MySQL Select\\nRequired', 'Suparna Mandal', '', '']\n",
      "['Week 7', 'Lab MySQL Select\\nRequired', 'Vanessa Andrade', '', '']\n",
      "finished grabbing students info for lab Lab MySQL Select\n",
      "Required of Week 7\n"
     ]
    },
    {
     "name": "stderr",
     "output_type": "stream",
     "text": [
      "/var/folders/yc/p9m4grcn3n58sspfj1mcsgyr0000gn/T/ipykernel_2148/117283708.py:57: FutureWarning: The frame.append method is deprecated and will be removed from pandas in a future version. Use pandas.concat instead.\n",
      "  labs_overall = ( labs_overall.append(pd.Series(\n",
      "/var/folders/yc/p9m4grcn3n58sspfj1mcsgyr0000gn/T/ipykernel_2148/117283708.py:57: FutureWarning: The frame.append method is deprecated and will be removed from pandas in a future version. Use pandas.concat instead.\n",
      "  labs_overall = ( labs_overall.append(pd.Series(\n",
      "/var/folders/yc/p9m4grcn3n58sspfj1mcsgyr0000gn/T/ipykernel_2148/117283708.py:57: FutureWarning: The frame.append method is deprecated and will be removed from pandas in a future version. Use pandas.concat instead.\n",
      "  labs_overall = ( labs_overall.append(pd.Series(\n",
      "/var/folders/yc/p9m4grcn3n58sspfj1mcsgyr0000gn/T/ipykernel_2148/117283708.py:57: FutureWarning: The frame.append method is deprecated and will be removed from pandas in a future version. Use pandas.concat instead.\n",
      "  labs_overall = ( labs_overall.append(pd.Series(\n"
     ]
    },
    {
     "name": "stdout",
     "output_type": "stream",
     "text": [
      "Week 8\n",
      "Lab API Scavenger\n",
      "Required\n",
      "20  Students grabbed.\n",
      "['Week 8', 'Lab API Scavenger\\nRequired', 'Adrian Flores', 'Delivered', '31/10/2022']\n",
      "['Week 8', 'Lab API Scavenger\\nRequired', 'Federico Cavanagh', 'Delivered', '4/11/2022']\n"
     ]
    },
    {
     "name": "stderr",
     "output_type": "stream",
     "text": [
      "/var/folders/yc/p9m4grcn3n58sspfj1mcsgyr0000gn/T/ipykernel_2148/117283708.py:57: FutureWarning: The frame.append method is deprecated and will be removed from pandas in a future version. Use pandas.concat instead.\n",
      "  labs_overall = ( labs_overall.append(pd.Series(\n",
      "/var/folders/yc/p9m4grcn3n58sspfj1mcsgyr0000gn/T/ipykernel_2148/117283708.py:57: FutureWarning: The frame.append method is deprecated and will be removed from pandas in a future version. Use pandas.concat instead.\n",
      "  labs_overall = ( labs_overall.append(pd.Series(\n",
      "/var/folders/yc/p9m4grcn3n58sspfj1mcsgyr0000gn/T/ipykernel_2148/117283708.py:57: FutureWarning: The frame.append method is deprecated and will be removed from pandas in a future version. Use pandas.concat instead.\n",
      "  labs_overall = ( labs_overall.append(pd.Series(\n"
     ]
    },
    {
     "name": "stdout",
     "output_type": "stream",
     "text": [
      "['Week 8', 'Lab API Scavenger\\nRequired', 'Francisco Javier De Las Heras Jimenez', 'Delivered', '14/11/2022']\n",
      "['Week 8', 'Lab API Scavenger\\nRequired', 'Gregor Seegers', 'Delivered', '6/11/2022']\n",
      "['Week 8', 'Lab API Scavenger\\nRequired', 'Joaquin Valentin', 'Delivered', '8/11/2022']\n",
      "['Week 8', 'Lab API Scavenger\\nRequired', 'Marc Gavaldà', 'Delivered', '2/11/2022']\n",
      "['Week 8', 'Lab API Scavenger\\nRequired', 'Óscar Iglesias Roqueiro', 'Delivered', '7/11/2022']\n"
     ]
    },
    {
     "name": "stderr",
     "output_type": "stream",
     "text": [
      "/var/folders/yc/p9m4grcn3n58sspfj1mcsgyr0000gn/T/ipykernel_2148/117283708.py:57: FutureWarning: The frame.append method is deprecated and will be removed from pandas in a future version. Use pandas.concat instead.\n",
      "  labs_overall = ( labs_overall.append(pd.Series(\n",
      "/var/folders/yc/p9m4grcn3n58sspfj1mcsgyr0000gn/T/ipykernel_2148/117283708.py:57: FutureWarning: The frame.append method is deprecated and will be removed from pandas in a future version. Use pandas.concat instead.\n",
      "  labs_overall = ( labs_overall.append(pd.Series(\n",
      "/var/folders/yc/p9m4grcn3n58sspfj1mcsgyr0000gn/T/ipykernel_2148/117283708.py:57: FutureWarning: The frame.append method is deprecated and will be removed from pandas in a future version. Use pandas.concat instead.\n",
      "  labs_overall = ( labs_overall.append(pd.Series(\n",
      "/var/folders/yc/p9m4grcn3n58sspfj1mcsgyr0000gn/T/ipykernel_2148/117283708.py:57: FutureWarning: The frame.append method is deprecated and will be removed from pandas in a future version. Use pandas.concat instead.\n",
      "  labs_overall = ( labs_overall.append(pd.Series(\n",
      "/var/folders/yc/p9m4grcn3n58sspfj1mcsgyr0000gn/T/ipykernel_2148/117283708.py:57: FutureWarning: The frame.append method is deprecated and will be removed from pandas in a future version. Use pandas.concat instead.\n",
      "  labs_overall = ( labs_overall.append(pd.Series(\n"
     ]
    },
    {
     "name": "stdout",
     "output_type": "stream",
     "text": [
      "['Week 8', 'Lab API Scavenger\\nRequired', 'Aferdita Zherka Zherka', '', '']\n",
      "['Week 8', 'Lab API Scavenger\\nRequired', 'Alicia Andrés', '', '']\n",
      "['Week 8', 'Lab API Scavenger\\nRequired', 'Amelie Haberland', '', '']\n",
      "['Week 8', 'Lab API Scavenger\\nRequired', 'Angela Arredondo Mendoza', '', '']\n",
      "['Week 8', 'Lab API Scavenger\\nRequired', 'Damiano Serra', '', '']\n"
     ]
    },
    {
     "name": "stderr",
     "output_type": "stream",
     "text": [
      "/var/folders/yc/p9m4grcn3n58sspfj1mcsgyr0000gn/T/ipykernel_2148/117283708.py:57: FutureWarning: The frame.append method is deprecated and will be removed from pandas in a future version. Use pandas.concat instead.\n",
      "  labs_overall = ( labs_overall.append(pd.Series(\n",
      "/var/folders/yc/p9m4grcn3n58sspfj1mcsgyr0000gn/T/ipykernel_2148/117283708.py:57: FutureWarning: The frame.append method is deprecated and will be removed from pandas in a future version. Use pandas.concat instead.\n",
      "  labs_overall = ( labs_overall.append(pd.Series(\n",
      "/var/folders/yc/p9m4grcn3n58sspfj1mcsgyr0000gn/T/ipykernel_2148/117283708.py:57: FutureWarning: The frame.append method is deprecated and will be removed from pandas in a future version. Use pandas.concat instead.\n",
      "  labs_overall = ( labs_overall.append(pd.Series(\n",
      "/var/folders/yc/p9m4grcn3n58sspfj1mcsgyr0000gn/T/ipykernel_2148/117283708.py:57: FutureWarning: The frame.append method is deprecated and will be removed from pandas in a future version. Use pandas.concat instead.\n",
      "  labs_overall = ( labs_overall.append(pd.Series(\n"
     ]
    },
    {
     "name": "stdout",
     "output_type": "stream",
     "text": [
      "['Week 8', 'Lab API Scavenger\\nRequired', 'Daniel J Mendez Borges', '', '']\n",
      "['Week 8', 'Lab API Scavenger\\nRequired', 'Fabio Blank Da Costa', '', '']\n",
      "['Week 8', 'Lab API Scavenger\\nRequired', 'Manouk Meilof', '', '']\n",
      "['Week 8', 'Lab API Scavenger\\nRequired', 'María Vázquez Casares', '', '']\n"
     ]
    },
    {
     "name": "stderr",
     "output_type": "stream",
     "text": [
      "/var/folders/yc/p9m4grcn3n58sspfj1mcsgyr0000gn/T/ipykernel_2148/117283708.py:57: FutureWarning: The frame.append method is deprecated and will be removed from pandas in a future version. Use pandas.concat instead.\n",
      "  labs_overall = ( labs_overall.append(pd.Series(\n",
      "/var/folders/yc/p9m4grcn3n58sspfj1mcsgyr0000gn/T/ipykernel_2148/117283708.py:57: FutureWarning: The frame.append method is deprecated and will be removed from pandas in a future version. Use pandas.concat instead.\n",
      "  labs_overall = ( labs_overall.append(pd.Series(\n",
      "/var/folders/yc/p9m4grcn3n58sspfj1mcsgyr0000gn/T/ipykernel_2148/117283708.py:57: FutureWarning: The frame.append method is deprecated and will be removed from pandas in a future version. Use pandas.concat instead.\n",
      "  labs_overall = ( labs_overall.append(pd.Series(\n",
      "/var/folders/yc/p9m4grcn3n58sspfj1mcsgyr0000gn/T/ipykernel_2148/117283708.py:57: FutureWarning: The frame.append method is deprecated and will be removed from pandas in a future version. Use pandas.concat instead.\n",
      "  labs_overall = ( labs_overall.append(pd.Series(\n"
     ]
    },
    {
     "name": "stdout",
     "output_type": "stream",
     "text": [
      "['Week 8', 'Lab API Scavenger\\nRequired', 'Max Grempel', '', '']\n",
      "['Week 8', 'Lab API Scavenger\\nRequired', 'Shilei Tan Tan', '', '']\n",
      "['Week 8', 'Lab API Scavenger\\nRequired', 'Suparna Mandal', '', '']\n",
      "['Week 8', 'Lab API Scavenger\\nRequired', 'Vanessa Andrade', '', '']\n",
      "finished grabbing students info for lab Lab API Scavenger\n",
      "Required of Week 8\n"
     ]
    },
    {
     "name": "stderr",
     "output_type": "stream",
     "text": [
      "/var/folders/yc/p9m4grcn3n58sspfj1mcsgyr0000gn/T/ipykernel_2148/117283708.py:57: FutureWarning: The frame.append method is deprecated and will be removed from pandas in a future version. Use pandas.concat instead.\n",
      "  labs_overall = ( labs_overall.append(pd.Series(\n",
      "/var/folders/yc/p9m4grcn3n58sspfj1mcsgyr0000gn/T/ipykernel_2148/117283708.py:57: FutureWarning: The frame.append method is deprecated and will be removed from pandas in a future version. Use pandas.concat instead.\n",
      "  labs_overall = ( labs_overall.append(pd.Series(\n",
      "/var/folders/yc/p9m4grcn3n58sspfj1mcsgyr0000gn/T/ipykernel_2148/117283708.py:57: FutureWarning: The frame.append method is deprecated and will be removed from pandas in a future version. Use pandas.concat instead.\n",
      "  labs_overall = ( labs_overall.append(pd.Series(\n",
      "/var/folders/yc/p9m4grcn3n58sspfj1mcsgyr0000gn/T/ipykernel_2148/117283708.py:57: FutureWarning: The frame.append method is deprecated and will be removed from pandas in a future version. Use pandas.concat instead.\n",
      "  labs_overall = ( labs_overall.append(pd.Series(\n"
     ]
    },
    {
     "name": "stdout",
     "output_type": "stream",
     "text": [
      "Lab Web Scraping\n",
      "Required\n",
      "20  Students grabbed.\n",
      "['Week 8', 'Lab Web Scraping\\nRequired', 'Adrian Flores', 'Delivered', '30/10/2022']\n",
      "['Week 8', 'Lab Web Scraping\\nRequired', 'Alicia Andrés', 'Delivered', '12/11/2022']\n"
     ]
    },
    {
     "name": "stderr",
     "output_type": "stream",
     "text": [
      "/var/folders/yc/p9m4grcn3n58sspfj1mcsgyr0000gn/T/ipykernel_2148/117283708.py:57: FutureWarning: The frame.append method is deprecated and will be removed from pandas in a future version. Use pandas.concat instead.\n",
      "  labs_overall = ( labs_overall.append(pd.Series(\n",
      "/var/folders/yc/p9m4grcn3n58sspfj1mcsgyr0000gn/T/ipykernel_2148/117283708.py:57: FutureWarning: The frame.append method is deprecated and will be removed from pandas in a future version. Use pandas.concat instead.\n",
      "  labs_overall = ( labs_overall.append(pd.Series(\n",
      "/var/folders/yc/p9m4grcn3n58sspfj1mcsgyr0000gn/T/ipykernel_2148/117283708.py:57: FutureWarning: The frame.append method is deprecated and will be removed from pandas in a future version. Use pandas.concat instead.\n",
      "  labs_overall = ( labs_overall.append(pd.Series(\n",
      "/var/folders/yc/p9m4grcn3n58sspfj1mcsgyr0000gn/T/ipykernel_2148/117283708.py:57: FutureWarning: The frame.append method is deprecated and will be removed from pandas in a future version. Use pandas.concat instead.\n",
      "  labs_overall = ( labs_overall.append(pd.Series(\n"
     ]
    },
    {
     "name": "stdout",
     "output_type": "stream",
     "text": [
      "['Week 8', 'Lab Web Scraping\\nRequired', 'Amelie Haberland', 'Delivered', '6/11/2022']\n",
      "['Week 8', 'Lab Web Scraping\\nRequired', 'Angela Arredondo Mendoza', 'Delivered', '10/11/2022']\n",
      "['Week 8', 'Lab Web Scraping\\nRequired', 'Damiano Serra', 'Delivered', '12/11/2022']\n",
      "['Week 8', 'Lab Web Scraping\\nRequired', 'Federico Cavanagh', 'Delivered', '2/11/2022']\n"
     ]
    },
    {
     "name": "stderr",
     "output_type": "stream",
     "text": [
      "/var/folders/yc/p9m4grcn3n58sspfj1mcsgyr0000gn/T/ipykernel_2148/117283708.py:57: FutureWarning: The frame.append method is deprecated and will be removed from pandas in a future version. Use pandas.concat instead.\n",
      "  labs_overall = ( labs_overall.append(pd.Series(\n",
      "/var/folders/yc/p9m4grcn3n58sspfj1mcsgyr0000gn/T/ipykernel_2148/117283708.py:57: FutureWarning: The frame.append method is deprecated and will be removed from pandas in a future version. Use pandas.concat instead.\n",
      "  labs_overall = ( labs_overall.append(pd.Series(\n",
      "/var/folders/yc/p9m4grcn3n58sspfj1mcsgyr0000gn/T/ipykernel_2148/117283708.py:57: FutureWarning: The frame.append method is deprecated and will be removed from pandas in a future version. Use pandas.concat instead.\n",
      "  labs_overall = ( labs_overall.append(pd.Series(\n",
      "/var/folders/yc/p9m4grcn3n58sspfj1mcsgyr0000gn/T/ipykernel_2148/117283708.py:57: FutureWarning: The frame.append method is deprecated and will be removed from pandas in a future version. Use pandas.concat instead.\n",
      "  labs_overall = ( labs_overall.append(pd.Series(\n"
     ]
    },
    {
     "name": "stdout",
     "output_type": "stream",
     "text": [
      "['Week 8', 'Lab Web Scraping\\nRequired', 'Francisco Javier De Las Heras Jimenez', 'Delivered', '9/11/2022']\n",
      "['Week 8', 'Lab Web Scraping\\nRequired', 'Gregor Seegers', 'Delivered', '6/11/2022']\n",
      "['Week 8', 'Lab Web Scraping\\nRequired', 'Joaquin Valentin', 'Delivered', '7/11/2022']\n",
      "['Week 8', 'Lab Web Scraping\\nRequired', 'Marc Gavaldà', 'Delivered', '30/10/2022']\n"
     ]
    },
    {
     "name": "stderr",
     "output_type": "stream",
     "text": [
      "/var/folders/yc/p9m4grcn3n58sspfj1mcsgyr0000gn/T/ipykernel_2148/117283708.py:57: FutureWarning: The frame.append method is deprecated and will be removed from pandas in a future version. Use pandas.concat instead.\n",
      "  labs_overall = ( labs_overall.append(pd.Series(\n",
      "/var/folders/yc/p9m4grcn3n58sspfj1mcsgyr0000gn/T/ipykernel_2148/117283708.py:57: FutureWarning: The frame.append method is deprecated and will be removed from pandas in a future version. Use pandas.concat instead.\n",
      "  labs_overall = ( labs_overall.append(pd.Series(\n",
      "/var/folders/yc/p9m4grcn3n58sspfj1mcsgyr0000gn/T/ipykernel_2148/117283708.py:57: FutureWarning: The frame.append method is deprecated and will be removed from pandas in a future version. Use pandas.concat instead.\n",
      "  labs_overall = ( labs_overall.append(pd.Series(\n",
      "/var/folders/yc/p9m4grcn3n58sspfj1mcsgyr0000gn/T/ipykernel_2148/117283708.py:57: FutureWarning: The frame.append method is deprecated and will be removed from pandas in a future version. Use pandas.concat instead.\n",
      "  labs_overall = ( labs_overall.append(pd.Series(\n"
     ]
    },
    {
     "name": "stdout",
     "output_type": "stream",
     "text": [
      "['Week 8', 'Lab Web Scraping\\nRequired', 'María Vázquez Casares', 'Delivered', '6/11/2022']\n",
      "['Week 8', 'Lab Web Scraping\\nRequired', 'Shilei Tan Tan', 'Delivered', '8/11/2022']\n",
      "['Week 8', 'Lab Web Scraping\\nRequired', 'Óscar Iglesias Roqueiro', 'Delivered', '2/11/2022']\n",
      "['Week 8', 'Lab Web Scraping\\nRequired', 'Aferdita Zherka Zherka', '', '']\n"
     ]
    },
    {
     "name": "stderr",
     "output_type": "stream",
     "text": [
      "/var/folders/yc/p9m4grcn3n58sspfj1mcsgyr0000gn/T/ipykernel_2148/117283708.py:57: FutureWarning: The frame.append method is deprecated and will be removed from pandas in a future version. Use pandas.concat instead.\n",
      "  labs_overall = ( labs_overall.append(pd.Series(\n",
      "/var/folders/yc/p9m4grcn3n58sspfj1mcsgyr0000gn/T/ipykernel_2148/117283708.py:57: FutureWarning: The frame.append method is deprecated and will be removed from pandas in a future version. Use pandas.concat instead.\n",
      "  labs_overall = ( labs_overall.append(pd.Series(\n",
      "/var/folders/yc/p9m4grcn3n58sspfj1mcsgyr0000gn/T/ipykernel_2148/117283708.py:57: FutureWarning: The frame.append method is deprecated and will be removed from pandas in a future version. Use pandas.concat instead.\n",
      "  labs_overall = ( labs_overall.append(pd.Series(\n"
     ]
    },
    {
     "name": "stdout",
     "output_type": "stream",
     "text": [
      "['Week 8', 'Lab Web Scraping\\nRequired', 'Daniel J Mendez Borges', '', '']\n",
      "['Week 8', 'Lab Web Scraping\\nRequired', 'Fabio Blank Da Costa', '', '']\n",
      "['Week 8', 'Lab Web Scraping\\nRequired', 'Manouk Meilof', '', '']\n",
      "['Week 8', 'Lab Web Scraping\\nRequired', 'Max Grempel', '', '']\n"
     ]
    },
    {
     "name": "stderr",
     "output_type": "stream",
     "text": [
      "/var/folders/yc/p9m4grcn3n58sspfj1mcsgyr0000gn/T/ipykernel_2148/117283708.py:57: FutureWarning: The frame.append method is deprecated and will be removed from pandas in a future version. Use pandas.concat instead.\n",
      "  labs_overall = ( labs_overall.append(pd.Series(\n",
      "/var/folders/yc/p9m4grcn3n58sspfj1mcsgyr0000gn/T/ipykernel_2148/117283708.py:57: FutureWarning: The frame.append method is deprecated and will be removed from pandas in a future version. Use pandas.concat instead.\n",
      "  labs_overall = ( labs_overall.append(pd.Series(\n",
      "/var/folders/yc/p9m4grcn3n58sspfj1mcsgyr0000gn/T/ipykernel_2148/117283708.py:57: FutureWarning: The frame.append method is deprecated and will be removed from pandas in a future version. Use pandas.concat instead.\n",
      "  labs_overall = ( labs_overall.append(pd.Series(\n",
      "/var/folders/yc/p9m4grcn3n58sspfj1mcsgyr0000gn/T/ipykernel_2148/117283708.py:57: FutureWarning: The frame.append method is deprecated and will be removed from pandas in a future version. Use pandas.concat instead.\n",
      "  labs_overall = ( labs_overall.append(pd.Series(\n"
     ]
    },
    {
     "name": "stdout",
     "output_type": "stream",
     "text": [
      "['Week 8', 'Lab Web Scraping\\nRequired', 'Suparna Mandal', '', '']\n",
      "['Week 8', 'Lab Web Scraping\\nRequired', 'Vanessa Andrade', '', '']\n",
      "finished grabbing students info for lab Lab Web Scraping\n",
      "Required of Week 8\n"
     ]
    },
    {
     "name": "stderr",
     "output_type": "stream",
     "text": [
      "/var/folders/yc/p9m4grcn3n58sspfj1mcsgyr0000gn/T/ipykernel_2148/117283708.py:57: FutureWarning: The frame.append method is deprecated and will be removed from pandas in a future version. Use pandas.concat instead.\n",
      "  labs_overall = ( labs_overall.append(pd.Series(\n"
     ]
    },
    {
     "name": "stdout",
     "output_type": "stream",
     "text": [
      "Week 9\n",
      "Week 10\n",
      "Lab Confidence Intervals\n",
      "Required\n",
      "20  Students grabbed.\n",
      "['Week 10', 'Lab Confidence Intervals\\nRequired', 'Federico Cavanagh', 'Delivered', '15/11/2022']\n",
      "['Week 10', 'Lab Confidence Intervals\\nRequired', 'Óscar Iglesias Roqueiro', 'Delivered', '17/11/2022']\n"
     ]
    },
    {
     "name": "stderr",
     "output_type": "stream",
     "text": [
      "/var/folders/yc/p9m4grcn3n58sspfj1mcsgyr0000gn/T/ipykernel_2148/117283708.py:57: FutureWarning: The frame.append method is deprecated and will be removed from pandas in a future version. Use pandas.concat instead.\n",
      "  labs_overall = ( labs_overall.append(pd.Series(\n",
      "/var/folders/yc/p9m4grcn3n58sspfj1mcsgyr0000gn/T/ipykernel_2148/117283708.py:57: FutureWarning: The frame.append method is deprecated and will be removed from pandas in a future version. Use pandas.concat instead.\n",
      "  labs_overall = ( labs_overall.append(pd.Series(\n",
      "/var/folders/yc/p9m4grcn3n58sspfj1mcsgyr0000gn/T/ipykernel_2148/117283708.py:57: FutureWarning: The frame.append method is deprecated and will be removed from pandas in a future version. Use pandas.concat instead.\n",
      "  labs_overall = ( labs_overall.append(pd.Series(\n",
      "/var/folders/yc/p9m4grcn3n58sspfj1mcsgyr0000gn/T/ipykernel_2148/117283708.py:57: FutureWarning: The frame.append method is deprecated and will be removed from pandas in a future version. Use pandas.concat instead.\n",
      "  labs_overall = ( labs_overall.append(pd.Series(\n",
      "/var/folders/yc/p9m4grcn3n58sspfj1mcsgyr0000gn/T/ipykernel_2148/117283708.py:57: FutureWarning: The frame.append method is deprecated and will be removed from pandas in a future version. Use pandas.concat instead.\n",
      "  labs_overall = ( labs_overall.append(pd.Series(\n"
     ]
    },
    {
     "name": "stdout",
     "output_type": "stream",
     "text": [
      "['Week 10', 'Lab Confidence Intervals\\nRequired', 'Adrian Flores', '', '']\n",
      "['Week 10', 'Lab Confidence Intervals\\nRequired', 'Aferdita Zherka Zherka', '', '']\n",
      "['Week 10', 'Lab Confidence Intervals\\nRequired', 'Alicia Andrés', '', '']\n",
      "['Week 10', 'Lab Confidence Intervals\\nRequired', 'Amelie Haberland', '', '']\n",
      "['Week 10', 'Lab Confidence Intervals\\nRequired', 'Angela Arredondo Mendoza', '', '']\n"
     ]
    },
    {
     "name": "stderr",
     "output_type": "stream",
     "text": [
      "/var/folders/yc/p9m4grcn3n58sspfj1mcsgyr0000gn/T/ipykernel_2148/117283708.py:57: FutureWarning: The frame.append method is deprecated and will be removed from pandas in a future version. Use pandas.concat instead.\n",
      "  labs_overall = ( labs_overall.append(pd.Series(\n",
      "/var/folders/yc/p9m4grcn3n58sspfj1mcsgyr0000gn/T/ipykernel_2148/117283708.py:57: FutureWarning: The frame.append method is deprecated and will be removed from pandas in a future version. Use pandas.concat instead.\n",
      "  labs_overall = ( labs_overall.append(pd.Series(\n",
      "/var/folders/yc/p9m4grcn3n58sspfj1mcsgyr0000gn/T/ipykernel_2148/117283708.py:57: FutureWarning: The frame.append method is deprecated and will be removed from pandas in a future version. Use pandas.concat instead.\n",
      "  labs_overall = ( labs_overall.append(pd.Series(\n",
      "/var/folders/yc/p9m4grcn3n58sspfj1mcsgyr0000gn/T/ipykernel_2148/117283708.py:57: FutureWarning: The frame.append method is deprecated and will be removed from pandas in a future version. Use pandas.concat instead.\n",
      "  labs_overall = ( labs_overall.append(pd.Series(\n",
      "/var/folders/yc/p9m4grcn3n58sspfj1mcsgyr0000gn/T/ipykernel_2148/117283708.py:57: FutureWarning: The frame.append method is deprecated and will be removed from pandas in a future version. Use pandas.concat instead.\n",
      "  labs_overall = ( labs_overall.append(pd.Series(\n"
     ]
    },
    {
     "name": "stdout",
     "output_type": "stream",
     "text": [
      "['Week 10', 'Lab Confidence Intervals\\nRequired', 'Damiano Serra', '', '']\n",
      "['Week 10', 'Lab Confidence Intervals\\nRequired', 'Daniel J Mendez Borges', '', '']\n",
      "['Week 10', 'Lab Confidence Intervals\\nRequired', 'Fabio Blank Da Costa', '', '']\n",
      "['Week 10', 'Lab Confidence Intervals\\nRequired', 'Francisco Javier De Las Heras Jimenez', '', '']\n",
      "['Week 10', 'Lab Confidence Intervals\\nRequired', 'Gregor Seegers', '', '']\n"
     ]
    },
    {
     "name": "stderr",
     "output_type": "stream",
     "text": [
      "/var/folders/yc/p9m4grcn3n58sspfj1mcsgyr0000gn/T/ipykernel_2148/117283708.py:57: FutureWarning: The frame.append method is deprecated and will be removed from pandas in a future version. Use pandas.concat instead.\n",
      "  labs_overall = ( labs_overall.append(pd.Series(\n",
      "/var/folders/yc/p9m4grcn3n58sspfj1mcsgyr0000gn/T/ipykernel_2148/117283708.py:57: FutureWarning: The frame.append method is deprecated and will be removed from pandas in a future version. Use pandas.concat instead.\n",
      "  labs_overall = ( labs_overall.append(pd.Series(\n",
      "/var/folders/yc/p9m4grcn3n58sspfj1mcsgyr0000gn/T/ipykernel_2148/117283708.py:57: FutureWarning: The frame.append method is deprecated and will be removed from pandas in a future version. Use pandas.concat instead.\n",
      "  labs_overall = ( labs_overall.append(pd.Series(\n",
      "/var/folders/yc/p9m4grcn3n58sspfj1mcsgyr0000gn/T/ipykernel_2148/117283708.py:57: FutureWarning: The frame.append method is deprecated and will be removed from pandas in a future version. Use pandas.concat instead.\n",
      "  labs_overall = ( labs_overall.append(pd.Series(\n"
     ]
    },
    {
     "name": "stdout",
     "output_type": "stream",
     "text": [
      "['Week 10', 'Lab Confidence Intervals\\nRequired', 'Joaquin Valentin', '', '']\n",
      "['Week 10', 'Lab Confidence Intervals\\nRequired', 'Manouk Meilof', '', '']\n",
      "['Week 10', 'Lab Confidence Intervals\\nRequired', 'Marc Gavaldà', '', '']\n",
      "['Week 10', 'Lab Confidence Intervals\\nRequired', 'María Vázquez Casares', '', '']\n"
     ]
    },
    {
     "name": "stderr",
     "output_type": "stream",
     "text": [
      "/var/folders/yc/p9m4grcn3n58sspfj1mcsgyr0000gn/T/ipykernel_2148/117283708.py:57: FutureWarning: The frame.append method is deprecated and will be removed from pandas in a future version. Use pandas.concat instead.\n",
      "  labs_overall = ( labs_overall.append(pd.Series(\n",
      "/var/folders/yc/p9m4grcn3n58sspfj1mcsgyr0000gn/T/ipykernel_2148/117283708.py:57: FutureWarning: The frame.append method is deprecated and will be removed from pandas in a future version. Use pandas.concat instead.\n",
      "  labs_overall = ( labs_overall.append(pd.Series(\n",
      "/var/folders/yc/p9m4grcn3n58sspfj1mcsgyr0000gn/T/ipykernel_2148/117283708.py:57: FutureWarning: The frame.append method is deprecated and will be removed from pandas in a future version. Use pandas.concat instead.\n",
      "  labs_overall = ( labs_overall.append(pd.Series(\n",
      "/var/folders/yc/p9m4grcn3n58sspfj1mcsgyr0000gn/T/ipykernel_2148/117283708.py:57: FutureWarning: The frame.append method is deprecated and will be removed from pandas in a future version. Use pandas.concat instead.\n",
      "  labs_overall = ( labs_overall.append(pd.Series(\n",
      "/var/folders/yc/p9m4grcn3n58sspfj1mcsgyr0000gn/T/ipykernel_2148/117283708.py:57: FutureWarning: The frame.append method is deprecated and will be removed from pandas in a future version. Use pandas.concat instead.\n",
      "  labs_overall = ( labs_overall.append(pd.Series(\n"
     ]
    },
    {
     "name": "stdout",
     "output_type": "stream",
     "text": [
      "['Week 10', 'Lab Confidence Intervals\\nRequired', 'Max Grempel', '', '']\n",
      "['Week 10', 'Lab Confidence Intervals\\nRequired', 'Shilei Tan Tan', '', '']\n",
      "['Week 10', 'Lab Confidence Intervals\\nRequired', 'Suparna Mandal', '', '']\n",
      "['Week 10', 'Lab Confidence Intervals\\nRequired', 'Vanessa Andrade', '', '']\n",
      "finished grabbing students info for lab Lab Confidence Intervals\n",
      "Required of Week 10\n"
     ]
    },
    {
     "name": "stderr",
     "output_type": "stream",
     "text": [
      "/var/folders/yc/p9m4grcn3n58sspfj1mcsgyr0000gn/T/ipykernel_2148/117283708.py:57: FutureWarning: The frame.append method is deprecated and will be removed from pandas in a future version. Use pandas.concat instead.\n",
      "  labs_overall = ( labs_overall.append(pd.Series(\n"
     ]
    },
    {
     "name": "stdout",
     "output_type": "stream",
     "text": [
      "Lab Pandas Deep-dive\n",
      "Required\n",
      "20  Students grabbed.\n",
      "['Week 10', 'Lab Pandas Deep-dive\\nRequired', 'Adrian Flores', 'Delivered', '13/11/2022']\n",
      "['Week 10', 'Lab Pandas Deep-dive\\nRequired', 'Angela Arredondo Mendoza', 'Delivered', '14/11/2022']\n"
     ]
    },
    {
     "name": "stderr",
     "output_type": "stream",
     "text": [
      "/var/folders/yc/p9m4grcn3n58sspfj1mcsgyr0000gn/T/ipykernel_2148/117283708.py:57: FutureWarning: The frame.append method is deprecated and will be removed from pandas in a future version. Use pandas.concat instead.\n",
      "  labs_overall = ( labs_overall.append(pd.Series(\n",
      "/var/folders/yc/p9m4grcn3n58sspfj1mcsgyr0000gn/T/ipykernel_2148/117283708.py:57: FutureWarning: The frame.append method is deprecated and will be removed from pandas in a future version. Use pandas.concat instead.\n",
      "  labs_overall = ( labs_overall.append(pd.Series(\n",
      "/var/folders/yc/p9m4grcn3n58sspfj1mcsgyr0000gn/T/ipykernel_2148/117283708.py:57: FutureWarning: The frame.append method is deprecated and will be removed from pandas in a future version. Use pandas.concat instead.\n",
      "  labs_overall = ( labs_overall.append(pd.Series(\n"
     ]
    },
    {
     "name": "stdout",
     "output_type": "stream",
     "text": [
      "['Week 10', 'Lab Pandas Deep-dive\\nRequired', 'Federico Cavanagh', 'Delivered', '15/11/2022']\n",
      "['Week 10', 'Lab Pandas Deep-dive\\nRequired', 'Francisco Javier De Las Heras Jimenez', 'Delivered', '17/11/2022']\n",
      "['Week 10', 'Lab Pandas Deep-dive\\nRequired', 'Gregor Seegers', 'Delivered', '18/11/2022']\n",
      "['Week 10', 'Lab Pandas Deep-dive\\nRequired', 'Joaquin Valentin', 'Delivered', '15/11/2022']\n"
     ]
    },
    {
     "name": "stderr",
     "output_type": "stream",
     "text": [
      "/var/folders/yc/p9m4grcn3n58sspfj1mcsgyr0000gn/T/ipykernel_2148/117283708.py:57: FutureWarning: The frame.append method is deprecated and will be removed from pandas in a future version. Use pandas.concat instead.\n",
      "  labs_overall = ( labs_overall.append(pd.Series(\n",
      "/var/folders/yc/p9m4grcn3n58sspfj1mcsgyr0000gn/T/ipykernel_2148/117283708.py:57: FutureWarning: The frame.append method is deprecated and will be removed from pandas in a future version. Use pandas.concat instead.\n",
      "  labs_overall = ( labs_overall.append(pd.Series(\n",
      "/var/folders/yc/p9m4grcn3n58sspfj1mcsgyr0000gn/T/ipykernel_2148/117283708.py:57: FutureWarning: The frame.append method is deprecated and will be removed from pandas in a future version. Use pandas.concat instead.\n",
      "  labs_overall = ( labs_overall.append(pd.Series(\n",
      "/var/folders/yc/p9m4grcn3n58sspfj1mcsgyr0000gn/T/ipykernel_2148/117283708.py:57: FutureWarning: The frame.append method is deprecated and will be removed from pandas in a future version. Use pandas.concat instead.\n",
      "  labs_overall = ( labs_overall.append(pd.Series(\n"
     ]
    },
    {
     "name": "stdout",
     "output_type": "stream",
     "text": [
      "['Week 10', 'Lab Pandas Deep-dive\\nRequired', 'Marc Gavaldà', 'Delivered', '13/11/2022']\n",
      "['Week 10', 'Lab Pandas Deep-dive\\nRequired', 'María Vázquez Casares', 'Delivered', '12/11/2022']\n",
      "['Week 10', 'Lab Pandas Deep-dive\\nRequired', 'Suparna Mandal', 'Delivered', '14/11/2022']\n",
      "['Week 10', 'Lab Pandas Deep-dive\\nRequired', 'Óscar Iglesias Roqueiro', 'Delivered', '17/11/2022']\n"
     ]
    },
    {
     "name": "stderr",
     "output_type": "stream",
     "text": [
      "/var/folders/yc/p9m4grcn3n58sspfj1mcsgyr0000gn/T/ipykernel_2148/117283708.py:57: FutureWarning: The frame.append method is deprecated and will be removed from pandas in a future version. Use pandas.concat instead.\n",
      "  labs_overall = ( labs_overall.append(pd.Series(\n",
      "/var/folders/yc/p9m4grcn3n58sspfj1mcsgyr0000gn/T/ipykernel_2148/117283708.py:57: FutureWarning: The frame.append method is deprecated and will be removed from pandas in a future version. Use pandas.concat instead.\n",
      "  labs_overall = ( labs_overall.append(pd.Series(\n",
      "/var/folders/yc/p9m4grcn3n58sspfj1mcsgyr0000gn/T/ipykernel_2148/117283708.py:57: FutureWarning: The frame.append method is deprecated and will be removed from pandas in a future version. Use pandas.concat instead.\n",
      "  labs_overall = ( labs_overall.append(pd.Series(\n",
      "/var/folders/yc/p9m4grcn3n58sspfj1mcsgyr0000gn/T/ipykernel_2148/117283708.py:57: FutureWarning: The frame.append method is deprecated and will be removed from pandas in a future version. Use pandas.concat instead.\n",
      "  labs_overall = ( labs_overall.append(pd.Series(\n"
     ]
    },
    {
     "name": "stdout",
     "output_type": "stream",
     "text": [
      "['Week 10', 'Lab Pandas Deep-dive\\nRequired', 'Aferdita Zherka Zherka', '', '']\n",
      "['Week 10', 'Lab Pandas Deep-dive\\nRequired', 'Alicia Andrés', '', '']\n",
      "['Week 10', 'Lab Pandas Deep-dive\\nRequired', 'Amelie Haberland', '', '']\n",
      "['Week 10', 'Lab Pandas Deep-dive\\nRequired', 'Damiano Serra', '', '']\n"
     ]
    },
    {
     "name": "stderr",
     "output_type": "stream",
     "text": [
      "/var/folders/yc/p9m4grcn3n58sspfj1mcsgyr0000gn/T/ipykernel_2148/117283708.py:57: FutureWarning: The frame.append method is deprecated and will be removed from pandas in a future version. Use pandas.concat instead.\n",
      "  labs_overall = ( labs_overall.append(pd.Series(\n",
      "/var/folders/yc/p9m4grcn3n58sspfj1mcsgyr0000gn/T/ipykernel_2148/117283708.py:57: FutureWarning: The frame.append method is deprecated and will be removed from pandas in a future version. Use pandas.concat instead.\n",
      "  labs_overall = ( labs_overall.append(pd.Series(\n",
      "/var/folders/yc/p9m4grcn3n58sspfj1mcsgyr0000gn/T/ipykernel_2148/117283708.py:57: FutureWarning: The frame.append method is deprecated and will be removed from pandas in a future version. Use pandas.concat instead.\n",
      "  labs_overall = ( labs_overall.append(pd.Series(\n",
      "/var/folders/yc/p9m4grcn3n58sspfj1mcsgyr0000gn/T/ipykernel_2148/117283708.py:57: FutureWarning: The frame.append method is deprecated and will be removed from pandas in a future version. Use pandas.concat instead.\n",
      "  labs_overall = ( labs_overall.append(pd.Series(\n"
     ]
    },
    {
     "name": "stdout",
     "output_type": "stream",
     "text": [
      "['Week 10', 'Lab Pandas Deep-dive\\nRequired', 'Daniel J Mendez Borges', '', '']\n",
      "['Week 10', 'Lab Pandas Deep-dive\\nRequired', 'Fabio Blank Da Costa', '', '']\n",
      "['Week 10', 'Lab Pandas Deep-dive\\nRequired', 'Manouk Meilof', '', '']\n"
     ]
    },
    {
     "name": "stderr",
     "output_type": "stream",
     "text": [
      "/var/folders/yc/p9m4grcn3n58sspfj1mcsgyr0000gn/T/ipykernel_2148/117283708.py:57: FutureWarning: The frame.append method is deprecated and will be removed from pandas in a future version. Use pandas.concat instead.\n",
      "  labs_overall = ( labs_overall.append(pd.Series(\n",
      "/var/folders/yc/p9m4grcn3n58sspfj1mcsgyr0000gn/T/ipykernel_2148/117283708.py:57: FutureWarning: The frame.append method is deprecated and will be removed from pandas in a future version. Use pandas.concat instead.\n",
      "  labs_overall = ( labs_overall.append(pd.Series(\n",
      "/var/folders/yc/p9m4grcn3n58sspfj1mcsgyr0000gn/T/ipykernel_2148/117283708.py:57: FutureWarning: The frame.append method is deprecated and will be removed from pandas in a future version. Use pandas.concat instead.\n",
      "  labs_overall = ( labs_overall.append(pd.Series(\n",
      "/var/folders/yc/p9m4grcn3n58sspfj1mcsgyr0000gn/T/ipykernel_2148/117283708.py:57: FutureWarning: The frame.append method is deprecated and will be removed from pandas in a future version. Use pandas.concat instead.\n",
      "  labs_overall = ( labs_overall.append(pd.Series(\n"
     ]
    },
    {
     "name": "stdout",
     "output_type": "stream",
     "text": [
      "['Week 10', 'Lab Pandas Deep-dive\\nRequired', 'Max Grempel', '', '']\n",
      "['Week 10', 'Lab Pandas Deep-dive\\nRequired', 'Shilei Tan Tan', '', '']\n",
      "['Week 10', 'Lab Pandas Deep-dive\\nRequired', 'Vanessa Andrade', '', '']\n",
      "finished grabbing students info for lab Lab Pandas Deep-dive\n",
      "Required of Week 10\n"
     ]
    },
    {
     "name": "stderr",
     "output_type": "stream",
     "text": [
      "/var/folders/yc/p9m4grcn3n58sspfj1mcsgyr0000gn/T/ipykernel_2148/117283708.py:57: FutureWarning: The frame.append method is deprecated and will be removed from pandas in a future version. Use pandas.concat instead.\n",
      "  labs_overall = ( labs_overall.append(pd.Series(\n"
     ]
    },
    {
     "name": "stdout",
     "output_type": "stream",
     "text": [
      "Week 11\n",
      "Lab BI Analysis - Tableau\n",
      "Required\n",
      "20  Students grabbed.\n",
      "['Week 11', 'Lab BI Analysis - Tableau\\nRequired', 'Óscar Iglesias Roqueiro', 'Delivered', '21/11/2022']\n",
      "['Week 11', 'Lab BI Analysis - Tableau\\nRequired', 'Adrian Flores', '', '']\n",
      "['Week 11', 'Lab BI Analysis - Tableau\\nRequired', 'Aferdita Zherka Zherka', '', '']\n"
     ]
    },
    {
     "name": "stderr",
     "output_type": "stream",
     "text": [
      "/var/folders/yc/p9m4grcn3n58sspfj1mcsgyr0000gn/T/ipykernel_2148/117283708.py:57: FutureWarning: The frame.append method is deprecated and will be removed from pandas in a future version. Use pandas.concat instead.\n",
      "  labs_overall = ( labs_overall.append(pd.Series(\n",
      "/var/folders/yc/p9m4grcn3n58sspfj1mcsgyr0000gn/T/ipykernel_2148/117283708.py:57: FutureWarning: The frame.append method is deprecated and will be removed from pandas in a future version. Use pandas.concat instead.\n",
      "  labs_overall = ( labs_overall.append(pd.Series(\n",
      "/var/folders/yc/p9m4grcn3n58sspfj1mcsgyr0000gn/T/ipykernel_2148/117283708.py:57: FutureWarning: The frame.append method is deprecated and will be removed from pandas in a future version. Use pandas.concat instead.\n",
      "  labs_overall = ( labs_overall.append(pd.Series(\n",
      "/var/folders/yc/p9m4grcn3n58sspfj1mcsgyr0000gn/T/ipykernel_2148/117283708.py:57: FutureWarning: The frame.append method is deprecated and will be removed from pandas in a future version. Use pandas.concat instead.\n",
      "  labs_overall = ( labs_overall.append(pd.Series(\n"
     ]
    },
    {
     "name": "stdout",
     "output_type": "stream",
     "text": [
      "['Week 11', 'Lab BI Analysis - Tableau\\nRequired', 'Alicia Andrés', '', '']\n",
      "['Week 11', 'Lab BI Analysis - Tableau\\nRequired', 'Amelie Haberland', '', '']\n",
      "['Week 11', 'Lab BI Analysis - Tableau\\nRequired', 'Angela Arredondo Mendoza', '', '']\n"
     ]
    },
    {
     "name": "stderr",
     "output_type": "stream",
     "text": [
      "/var/folders/yc/p9m4grcn3n58sspfj1mcsgyr0000gn/T/ipykernel_2148/117283708.py:57: FutureWarning: The frame.append method is deprecated and will be removed from pandas in a future version. Use pandas.concat instead.\n",
      "  labs_overall = ( labs_overall.append(pd.Series(\n",
      "/var/folders/yc/p9m4grcn3n58sspfj1mcsgyr0000gn/T/ipykernel_2148/117283708.py:57: FutureWarning: The frame.append method is deprecated and will be removed from pandas in a future version. Use pandas.concat instead.\n",
      "  labs_overall = ( labs_overall.append(pd.Series(\n",
      "/var/folders/yc/p9m4grcn3n58sspfj1mcsgyr0000gn/T/ipykernel_2148/117283708.py:57: FutureWarning: The frame.append method is deprecated and will be removed from pandas in a future version. Use pandas.concat instead.\n",
      "  labs_overall = ( labs_overall.append(pd.Series(\n"
     ]
    },
    {
     "name": "stdout",
     "output_type": "stream",
     "text": [
      "['Week 11', 'Lab BI Analysis - Tableau\\nRequired', 'Damiano Serra', '', '']\n",
      "['Week 11', 'Lab BI Analysis - Tableau\\nRequired', 'Daniel J Mendez Borges', '', '']\n",
      "['Week 11', 'Lab BI Analysis - Tableau\\nRequired', 'Fabio Blank Da Costa', '', '']\n",
      "['Week 11', 'Lab BI Analysis - Tableau\\nRequired', 'Federico Cavanagh', '', '']\n"
     ]
    },
    {
     "name": "stderr",
     "output_type": "stream",
     "text": [
      "/var/folders/yc/p9m4grcn3n58sspfj1mcsgyr0000gn/T/ipykernel_2148/117283708.py:57: FutureWarning: The frame.append method is deprecated and will be removed from pandas in a future version. Use pandas.concat instead.\n",
      "  labs_overall = ( labs_overall.append(pd.Series(\n",
      "/var/folders/yc/p9m4grcn3n58sspfj1mcsgyr0000gn/T/ipykernel_2148/117283708.py:57: FutureWarning: The frame.append method is deprecated and will be removed from pandas in a future version. Use pandas.concat instead.\n",
      "  labs_overall = ( labs_overall.append(pd.Series(\n",
      "/var/folders/yc/p9m4grcn3n58sspfj1mcsgyr0000gn/T/ipykernel_2148/117283708.py:57: FutureWarning: The frame.append method is deprecated and will be removed from pandas in a future version. Use pandas.concat instead.\n",
      "  labs_overall = ( labs_overall.append(pd.Series(\n",
      "/var/folders/yc/p9m4grcn3n58sspfj1mcsgyr0000gn/T/ipykernel_2148/117283708.py:57: FutureWarning: The frame.append method is deprecated and will be removed from pandas in a future version. Use pandas.concat instead.\n",
      "  labs_overall = ( labs_overall.append(pd.Series(\n"
     ]
    },
    {
     "name": "stdout",
     "output_type": "stream",
     "text": [
      "['Week 11', 'Lab BI Analysis - Tableau\\nRequired', 'Francisco Javier De Las Heras Jimenez', '', '']\n",
      "['Week 11', 'Lab BI Analysis - Tableau\\nRequired', 'Gregor Seegers', '', '']\n",
      "['Week 11', 'Lab BI Analysis - Tableau\\nRequired', 'Joaquin Valentin', '', '']\n",
      "['Week 11', 'Lab BI Analysis - Tableau\\nRequired', 'Manouk Meilof', '', '']\n"
     ]
    },
    {
     "name": "stderr",
     "output_type": "stream",
     "text": [
      "/var/folders/yc/p9m4grcn3n58sspfj1mcsgyr0000gn/T/ipykernel_2148/117283708.py:57: FutureWarning: The frame.append method is deprecated and will be removed from pandas in a future version. Use pandas.concat instead.\n",
      "  labs_overall = ( labs_overall.append(pd.Series(\n",
      "/var/folders/yc/p9m4grcn3n58sspfj1mcsgyr0000gn/T/ipykernel_2148/117283708.py:57: FutureWarning: The frame.append method is deprecated and will be removed from pandas in a future version. Use pandas.concat instead.\n",
      "  labs_overall = ( labs_overall.append(pd.Series(\n",
      "/var/folders/yc/p9m4grcn3n58sspfj1mcsgyr0000gn/T/ipykernel_2148/117283708.py:57: FutureWarning: The frame.append method is deprecated and will be removed from pandas in a future version. Use pandas.concat instead.\n",
      "  labs_overall = ( labs_overall.append(pd.Series(\n",
      "/var/folders/yc/p9m4grcn3n58sspfj1mcsgyr0000gn/T/ipykernel_2148/117283708.py:57: FutureWarning: The frame.append method is deprecated and will be removed from pandas in a future version. Use pandas.concat instead.\n",
      "  labs_overall = ( labs_overall.append(pd.Series(\n"
     ]
    },
    {
     "name": "stdout",
     "output_type": "stream",
     "text": [
      "['Week 11', 'Lab BI Analysis - Tableau\\nRequired', 'Marc Gavaldà', '', '']\n",
      "['Week 11', 'Lab BI Analysis - Tableau\\nRequired', 'María Vázquez Casares', '', '']\n",
      "['Week 11', 'Lab BI Analysis - Tableau\\nRequired', 'Max Grempel', '', '']\n",
      "['Week 11', 'Lab BI Analysis - Tableau\\nRequired', 'Shilei Tan Tan', '', '']\n"
     ]
    },
    {
     "name": "stderr",
     "output_type": "stream",
     "text": [
      "/var/folders/yc/p9m4grcn3n58sspfj1mcsgyr0000gn/T/ipykernel_2148/117283708.py:57: FutureWarning: The frame.append method is deprecated and will be removed from pandas in a future version. Use pandas.concat instead.\n",
      "  labs_overall = ( labs_overall.append(pd.Series(\n",
      "/var/folders/yc/p9m4grcn3n58sspfj1mcsgyr0000gn/T/ipykernel_2148/117283708.py:57: FutureWarning: The frame.append method is deprecated and will be removed from pandas in a future version. Use pandas.concat instead.\n",
      "  labs_overall = ( labs_overall.append(pd.Series(\n",
      "/var/folders/yc/p9m4grcn3n58sspfj1mcsgyr0000gn/T/ipykernel_2148/117283708.py:57: FutureWarning: The frame.append method is deprecated and will be removed from pandas in a future version. Use pandas.concat instead.\n",
      "  labs_overall = ( labs_overall.append(pd.Series(\n"
     ]
    },
    {
     "name": "stdout",
     "output_type": "stream",
     "text": [
      "['Week 11', 'Lab BI Analysis - Tableau\\nRequired', 'Suparna Mandal', '', '']\n",
      "['Week 11', 'Lab BI Analysis - Tableau\\nRequired', 'Vanessa Andrade', '', '']\n",
      "finished grabbing students info for lab Lab BI Analysis - Tableau\n",
      "Required of Week 11\n"
     ]
    },
    {
     "name": "stderr",
     "output_type": "stream",
     "text": [
      "/var/folders/yc/p9m4grcn3n58sspfj1mcsgyr0000gn/T/ipykernel_2148/117283708.py:57: FutureWarning: The frame.append method is deprecated and will be removed from pandas in a future version. Use pandas.concat instead.\n",
      "  labs_overall = ( labs_overall.append(pd.Series(\n",
      "/var/folders/yc/p9m4grcn3n58sspfj1mcsgyr0000gn/T/ipykernel_2148/117283708.py:57: FutureWarning: The frame.append method is deprecated and will be removed from pandas in a future version. Use pandas.concat instead.\n",
      "  labs_overall = ( labs_overall.append(pd.Series(\n"
     ]
    },
    {
     "name": "stdout",
     "output_type": "stream",
     "text": [
      "Lab Intro to BI - Tableau\n",
      "Required\n",
      "20  Students grabbed.\n",
      "['Week 11', 'Lab Intro to BI - Tableau\\nRequired', 'Adrian Flores', 'Delivered', '20/11/2022']\n",
      "['Week 11', 'Lab Intro to BI - Tableau\\nRequired', 'Alicia Andrés', 'Delivered', '22/11/2022']\n",
      "['Week 11', 'Lab Intro to BI - Tableau\\nRequired', 'Amelie Haberland', 'Delivered', '20/11/2022']\n"
     ]
    },
    {
     "name": "stderr",
     "output_type": "stream",
     "text": [
      "/var/folders/yc/p9m4grcn3n58sspfj1mcsgyr0000gn/T/ipykernel_2148/117283708.py:57: FutureWarning: The frame.append method is deprecated and will be removed from pandas in a future version. Use pandas.concat instead.\n",
      "  labs_overall = ( labs_overall.append(pd.Series(\n",
      "/var/folders/yc/p9m4grcn3n58sspfj1mcsgyr0000gn/T/ipykernel_2148/117283708.py:57: FutureWarning: The frame.append method is deprecated and will be removed from pandas in a future version. Use pandas.concat instead.\n",
      "  labs_overall = ( labs_overall.append(pd.Series(\n",
      "/var/folders/yc/p9m4grcn3n58sspfj1mcsgyr0000gn/T/ipykernel_2148/117283708.py:57: FutureWarning: The frame.append method is deprecated and will be removed from pandas in a future version. Use pandas.concat instead.\n",
      "  labs_overall = ( labs_overall.append(pd.Series(\n",
      "/var/folders/yc/p9m4grcn3n58sspfj1mcsgyr0000gn/T/ipykernel_2148/117283708.py:57: FutureWarning: The frame.append method is deprecated and will be removed from pandas in a future version. Use pandas.concat instead.\n",
      "  labs_overall = ( labs_overall.append(pd.Series(\n"
     ]
    },
    {
     "name": "stdout",
     "output_type": "stream",
     "text": [
      "['Week 11', 'Lab Intro to BI - Tableau\\nRequired', 'Damiano Serra', 'Delivered', '20/11/2022']\n",
      "['Week 11', 'Lab Intro to BI - Tableau\\nRequired', 'Federico Cavanagh', 'Delivered', '20/11/2022']\n",
      "['Week 11', 'Lab Intro to BI - Tableau\\nRequired', 'Marc Gavaldà', 'Delivered', '20/11/2022']\n",
      "['Week 11', 'Lab Intro to BI - Tableau\\nRequired', 'Suparna Mandal', 'Delivered', '20/11/2022']\n"
     ]
    },
    {
     "name": "stderr",
     "output_type": "stream",
     "text": [
      "/var/folders/yc/p9m4grcn3n58sspfj1mcsgyr0000gn/T/ipykernel_2148/117283708.py:57: FutureWarning: The frame.append method is deprecated and will be removed from pandas in a future version. Use pandas.concat instead.\n",
      "  labs_overall = ( labs_overall.append(pd.Series(\n",
      "/var/folders/yc/p9m4grcn3n58sspfj1mcsgyr0000gn/T/ipykernel_2148/117283708.py:57: FutureWarning: The frame.append method is deprecated and will be removed from pandas in a future version. Use pandas.concat instead.\n",
      "  labs_overall = ( labs_overall.append(pd.Series(\n",
      "/var/folders/yc/p9m4grcn3n58sspfj1mcsgyr0000gn/T/ipykernel_2148/117283708.py:57: FutureWarning: The frame.append method is deprecated and will be removed from pandas in a future version. Use pandas.concat instead.\n",
      "  labs_overall = ( labs_overall.append(pd.Series(\n",
      "/var/folders/yc/p9m4grcn3n58sspfj1mcsgyr0000gn/T/ipykernel_2148/117283708.py:57: FutureWarning: The frame.append method is deprecated and will be removed from pandas in a future version. Use pandas.concat instead.\n",
      "  labs_overall = ( labs_overall.append(pd.Series(\n"
     ]
    },
    {
     "name": "stdout",
     "output_type": "stream",
     "text": [
      "['Week 11', 'Lab Intro to BI - Tableau\\nRequired', 'Óscar Iglesias Roqueiro', 'Delivered', '20/11/2022']\n",
      "['Week 11', 'Lab Intro to BI - Tableau\\nRequired', 'Aferdita Zherka Zherka', '', '']\n",
      "['Week 11', 'Lab Intro to BI - Tableau\\nRequired', 'Angela Arredondo Mendoza', '', '']\n",
      "['Week 11', 'Lab Intro to BI - Tableau\\nRequired', 'Daniel J Mendez Borges', '', '']\n"
     ]
    },
    {
     "name": "stderr",
     "output_type": "stream",
     "text": [
      "/var/folders/yc/p9m4grcn3n58sspfj1mcsgyr0000gn/T/ipykernel_2148/117283708.py:57: FutureWarning: The frame.append method is deprecated and will be removed from pandas in a future version. Use pandas.concat instead.\n",
      "  labs_overall = ( labs_overall.append(pd.Series(\n",
      "/var/folders/yc/p9m4grcn3n58sspfj1mcsgyr0000gn/T/ipykernel_2148/117283708.py:57: FutureWarning: The frame.append method is deprecated and will be removed from pandas in a future version. Use pandas.concat instead.\n",
      "  labs_overall = ( labs_overall.append(pd.Series(\n",
      "/var/folders/yc/p9m4grcn3n58sspfj1mcsgyr0000gn/T/ipykernel_2148/117283708.py:57: FutureWarning: The frame.append method is deprecated and will be removed from pandas in a future version. Use pandas.concat instead.\n",
      "  labs_overall = ( labs_overall.append(pd.Series(\n"
     ]
    },
    {
     "name": "stdout",
     "output_type": "stream",
     "text": [
      "['Week 11', 'Lab Intro to BI - Tableau\\nRequired', 'Fabio Blank Da Costa', '', '']\n",
      "['Week 11', 'Lab Intro to BI - Tableau\\nRequired', 'Francisco Javier De Las Heras Jimenez', '', '']\n",
      "['Week 11', 'Lab Intro to BI - Tableau\\nRequired', 'Gregor Seegers', '', '']\n",
      "['Week 11', 'Lab Intro to BI - Tableau\\nRequired', 'Joaquin Valentin', '', '']\n"
     ]
    },
    {
     "name": "stderr",
     "output_type": "stream",
     "text": [
      "/var/folders/yc/p9m4grcn3n58sspfj1mcsgyr0000gn/T/ipykernel_2148/117283708.py:57: FutureWarning: The frame.append method is deprecated and will be removed from pandas in a future version. Use pandas.concat instead.\n",
      "  labs_overall = ( labs_overall.append(pd.Series(\n",
      "/var/folders/yc/p9m4grcn3n58sspfj1mcsgyr0000gn/T/ipykernel_2148/117283708.py:57: FutureWarning: The frame.append method is deprecated and will be removed from pandas in a future version. Use pandas.concat instead.\n",
      "  labs_overall = ( labs_overall.append(pd.Series(\n",
      "/var/folders/yc/p9m4grcn3n58sspfj1mcsgyr0000gn/T/ipykernel_2148/117283708.py:57: FutureWarning: The frame.append method is deprecated and will be removed from pandas in a future version. Use pandas.concat instead.\n",
      "  labs_overall = ( labs_overall.append(pd.Series(\n",
      "/var/folders/yc/p9m4grcn3n58sspfj1mcsgyr0000gn/T/ipykernel_2148/117283708.py:57: FutureWarning: The frame.append method is deprecated and will be removed from pandas in a future version. Use pandas.concat instead.\n",
      "  labs_overall = ( labs_overall.append(pd.Series(\n"
     ]
    },
    {
     "name": "stdout",
     "output_type": "stream",
     "text": [
      "['Week 11', 'Lab Intro to BI - Tableau\\nRequired', 'Manouk Meilof', '', '']\n",
      "['Week 11', 'Lab Intro to BI - Tableau\\nRequired', 'María Vázquez Casares', '', '']\n",
      "['Week 11', 'Lab Intro to BI - Tableau\\nRequired', 'Max Grempel', '', '']\n",
      "['Week 11', 'Lab Intro to BI - Tableau\\nRequired', 'Shilei Tan Tan', '', '']\n"
     ]
    },
    {
     "name": "stderr",
     "output_type": "stream",
     "text": [
      "/var/folders/yc/p9m4grcn3n58sspfj1mcsgyr0000gn/T/ipykernel_2148/117283708.py:57: FutureWarning: The frame.append method is deprecated and will be removed from pandas in a future version. Use pandas.concat instead.\n",
      "  labs_overall = ( labs_overall.append(pd.Series(\n",
      "/var/folders/yc/p9m4grcn3n58sspfj1mcsgyr0000gn/T/ipykernel_2148/117283708.py:57: FutureWarning: The frame.append method is deprecated and will be removed from pandas in a future version. Use pandas.concat instead.\n",
      "  labs_overall = ( labs_overall.append(pd.Series(\n",
      "/var/folders/yc/p9m4grcn3n58sspfj1mcsgyr0000gn/T/ipykernel_2148/117283708.py:57: FutureWarning: The frame.append method is deprecated and will be removed from pandas in a future version. Use pandas.concat instead.\n",
      "  labs_overall = ( labs_overall.append(pd.Series(\n",
      "/var/folders/yc/p9m4grcn3n58sspfj1mcsgyr0000gn/T/ipykernel_2148/117283708.py:57: FutureWarning: The frame.append method is deprecated and will be removed from pandas in a future version. Use pandas.concat instead.\n",
      "  labs_overall = ( labs_overall.append(pd.Series(\n"
     ]
    },
    {
     "name": "stdout",
     "output_type": "stream",
     "text": [
      "['Week 11', 'Lab Intro to BI - Tableau\\nRequired', 'Vanessa Andrade', '', '']\n",
      "finished grabbing students info for lab Lab Intro to BI - Tableau\n",
      "Required of Week 11\n"
     ]
    },
    {
     "name": "stderr",
     "output_type": "stream",
     "text": [
      "/var/folders/yc/p9m4grcn3n58sspfj1mcsgyr0000gn/T/ipykernel_2148/117283708.py:57: FutureWarning: The frame.append method is deprecated and will be removed from pandas in a future version. Use pandas.concat instead.\n",
      "  labs_overall = ( labs_overall.append(pd.Series(\n"
     ]
    },
    {
     "name": "stdout",
     "output_type": "stream",
     "text": [
      "Week 12\n",
      "Lab Goodness of Fit\n",
      "Required\n",
      "20  Students grabbed.\n",
      "['Week 12', 'Lab Goodness of Fit\\nRequired', 'Adrian Flores', '', '']\n",
      "['Week 12', 'Lab Goodness of Fit\\nRequired', 'Aferdita Zherka Zherka', '', '']\n",
      "['Week 12', 'Lab Goodness of Fit\\nRequired', 'Alicia Andrés', '', '']\n"
     ]
    },
    {
     "name": "stderr",
     "output_type": "stream",
     "text": [
      "/var/folders/yc/p9m4grcn3n58sspfj1mcsgyr0000gn/T/ipykernel_2148/117283708.py:57: FutureWarning: The frame.append method is deprecated and will be removed from pandas in a future version. Use pandas.concat instead.\n",
      "  labs_overall = ( labs_overall.append(pd.Series(\n",
      "/var/folders/yc/p9m4grcn3n58sspfj1mcsgyr0000gn/T/ipykernel_2148/117283708.py:57: FutureWarning: The frame.append method is deprecated and will be removed from pandas in a future version. Use pandas.concat instead.\n",
      "  labs_overall = ( labs_overall.append(pd.Series(\n",
      "/var/folders/yc/p9m4grcn3n58sspfj1mcsgyr0000gn/T/ipykernel_2148/117283708.py:57: FutureWarning: The frame.append method is deprecated and will be removed from pandas in a future version. Use pandas.concat instead.\n",
      "  labs_overall = ( labs_overall.append(pd.Series(\n",
      "/var/folders/yc/p9m4grcn3n58sspfj1mcsgyr0000gn/T/ipykernel_2148/117283708.py:57: FutureWarning: The frame.append method is deprecated and will be removed from pandas in a future version. Use pandas.concat instead.\n",
      "  labs_overall = ( labs_overall.append(pd.Series(\n"
     ]
    },
    {
     "name": "stdout",
     "output_type": "stream",
     "text": [
      "['Week 12', 'Lab Goodness of Fit\\nRequired', 'Amelie Haberland', '', '']\n",
      "['Week 12', 'Lab Goodness of Fit\\nRequired', 'Angela Arredondo Mendoza', '', '']\n",
      "['Week 12', 'Lab Goodness of Fit\\nRequired', 'Damiano Serra', '', '']\n",
      "['Week 12', 'Lab Goodness of Fit\\nRequired', 'Daniel J Mendez Borges', '', '']\n"
     ]
    },
    {
     "name": "stderr",
     "output_type": "stream",
     "text": [
      "/var/folders/yc/p9m4grcn3n58sspfj1mcsgyr0000gn/T/ipykernel_2148/117283708.py:57: FutureWarning: The frame.append method is deprecated and will be removed from pandas in a future version. Use pandas.concat instead.\n",
      "  labs_overall = ( labs_overall.append(pd.Series(\n",
      "/var/folders/yc/p9m4grcn3n58sspfj1mcsgyr0000gn/T/ipykernel_2148/117283708.py:57: FutureWarning: The frame.append method is deprecated and will be removed from pandas in a future version. Use pandas.concat instead.\n",
      "  labs_overall = ( labs_overall.append(pd.Series(\n",
      "/var/folders/yc/p9m4grcn3n58sspfj1mcsgyr0000gn/T/ipykernel_2148/117283708.py:57: FutureWarning: The frame.append method is deprecated and will be removed from pandas in a future version. Use pandas.concat instead.\n",
      "  labs_overall = ( labs_overall.append(pd.Series(\n",
      "/var/folders/yc/p9m4grcn3n58sspfj1mcsgyr0000gn/T/ipykernel_2148/117283708.py:57: FutureWarning: The frame.append method is deprecated and will be removed from pandas in a future version. Use pandas.concat instead.\n",
      "  labs_overall = ( labs_overall.append(pd.Series(\n"
     ]
    },
    {
     "name": "stdout",
     "output_type": "stream",
     "text": [
      "['Week 12', 'Lab Goodness of Fit\\nRequired', 'Fabio Blank Da Costa', '', '']\n",
      "['Week 12', 'Lab Goodness of Fit\\nRequired', 'Federico Cavanagh', '', '']\n",
      "['Week 12', 'Lab Goodness of Fit\\nRequired', 'Francisco Javier De Las Heras Jimenez', '', '']\n",
      "['Week 12', 'Lab Goodness of Fit\\nRequired', 'Gregor Seegers', '', '']\n"
     ]
    },
    {
     "name": "stderr",
     "output_type": "stream",
     "text": [
      "/var/folders/yc/p9m4grcn3n58sspfj1mcsgyr0000gn/T/ipykernel_2148/117283708.py:57: FutureWarning: The frame.append method is deprecated and will be removed from pandas in a future version. Use pandas.concat instead.\n",
      "  labs_overall = ( labs_overall.append(pd.Series(\n",
      "/var/folders/yc/p9m4grcn3n58sspfj1mcsgyr0000gn/T/ipykernel_2148/117283708.py:57: FutureWarning: The frame.append method is deprecated and will be removed from pandas in a future version. Use pandas.concat instead.\n",
      "  labs_overall = ( labs_overall.append(pd.Series(\n",
      "/var/folders/yc/p9m4grcn3n58sspfj1mcsgyr0000gn/T/ipykernel_2148/117283708.py:57: FutureWarning: The frame.append method is deprecated and will be removed from pandas in a future version. Use pandas.concat instead.\n",
      "  labs_overall = ( labs_overall.append(pd.Series(\n",
      "/var/folders/yc/p9m4grcn3n58sspfj1mcsgyr0000gn/T/ipykernel_2148/117283708.py:57: FutureWarning: The frame.append method is deprecated and will be removed from pandas in a future version. Use pandas.concat instead.\n",
      "  labs_overall = ( labs_overall.append(pd.Series(\n"
     ]
    },
    {
     "name": "stdout",
     "output_type": "stream",
     "text": [
      "['Week 12', 'Lab Goodness of Fit\\nRequired', 'Joaquin Valentin', '', '']\n",
      "['Week 12', 'Lab Goodness of Fit\\nRequired', 'Manouk Meilof', '', '']\n",
      "['Week 12', 'Lab Goodness of Fit\\nRequired', 'Marc Gavaldà', '', '']\n",
      "['Week 12', 'Lab Goodness of Fit\\nRequired', 'María Vázquez Casares', '', '']\n"
     ]
    },
    {
     "name": "stderr",
     "output_type": "stream",
     "text": [
      "/var/folders/yc/p9m4grcn3n58sspfj1mcsgyr0000gn/T/ipykernel_2148/117283708.py:57: FutureWarning: The frame.append method is deprecated and will be removed from pandas in a future version. Use pandas.concat instead.\n",
      "  labs_overall = ( labs_overall.append(pd.Series(\n",
      "/var/folders/yc/p9m4grcn3n58sspfj1mcsgyr0000gn/T/ipykernel_2148/117283708.py:57: FutureWarning: The frame.append method is deprecated and will be removed from pandas in a future version. Use pandas.concat instead.\n",
      "  labs_overall = ( labs_overall.append(pd.Series(\n",
      "/var/folders/yc/p9m4grcn3n58sspfj1mcsgyr0000gn/T/ipykernel_2148/117283708.py:57: FutureWarning: The frame.append method is deprecated and will be removed from pandas in a future version. Use pandas.concat instead.\n",
      "  labs_overall = ( labs_overall.append(pd.Series(\n",
      "/var/folders/yc/p9m4grcn3n58sspfj1mcsgyr0000gn/T/ipykernel_2148/117283708.py:57: FutureWarning: The frame.append method is deprecated and will be removed from pandas in a future version. Use pandas.concat instead.\n",
      "  labs_overall = ( labs_overall.append(pd.Series(\n"
     ]
    },
    {
     "name": "stdout",
     "output_type": "stream",
     "text": [
      "['Week 12', 'Lab Goodness of Fit\\nRequired', 'Max Grempel', '', '']\n",
      "['Week 12', 'Lab Goodness of Fit\\nRequired', 'Shilei Tan Tan', '', '']\n",
      "['Week 12', 'Lab Goodness of Fit\\nRequired', 'Suparna Mandal', '', '']\n",
      "['Week 12', 'Lab Goodness of Fit\\nRequired', 'Vanessa Andrade', '', '']\n"
     ]
    },
    {
     "name": "stderr",
     "output_type": "stream",
     "text": [
      "/var/folders/yc/p9m4grcn3n58sspfj1mcsgyr0000gn/T/ipykernel_2148/117283708.py:57: FutureWarning: The frame.append method is deprecated and will be removed from pandas in a future version. Use pandas.concat instead.\n",
      "  labs_overall = ( labs_overall.append(pd.Series(\n",
      "/var/folders/yc/p9m4grcn3n58sspfj1mcsgyr0000gn/T/ipykernel_2148/117283708.py:57: FutureWarning: The frame.append method is deprecated and will be removed from pandas in a future version. Use pandas.concat instead.\n",
      "  labs_overall = ( labs_overall.append(pd.Series(\n",
      "/var/folders/yc/p9m4grcn3n58sspfj1mcsgyr0000gn/T/ipykernel_2148/117283708.py:57: FutureWarning: The frame.append method is deprecated and will be removed from pandas in a future version. Use pandas.concat instead.\n",
      "  labs_overall = ( labs_overall.append(pd.Series(\n",
      "/var/folders/yc/p9m4grcn3n58sspfj1mcsgyr0000gn/T/ipykernel_2148/117283708.py:57: FutureWarning: The frame.append method is deprecated and will be removed from pandas in a future version. Use pandas.concat instead.\n",
      "  labs_overall = ( labs_overall.append(pd.Series(\n"
     ]
    },
    {
     "name": "stdout",
     "output_type": "stream",
     "text": [
      "['Week 12', 'Lab Goodness of Fit\\nRequired', 'Óscar Iglesias Roqueiro', '', '']\n",
      "finished grabbing students info for lab Lab Goodness of Fit\n",
      "Required of Week 12\n",
      "Lab Hypothesis Testing 2\n",
      "Required\n",
      "20  Students grabbed.\n",
      "['Week 12', 'Lab Hypothesis Testing 2\\nRequired', 'Adrian Flores', '', '']\n",
      "['Week 12', 'Lab Hypothesis Testing 2\\nRequired', 'Aferdita Zherka Zherka', '', '']\n",
      "['Week 12', 'Lab Hypothesis Testing 2\\nRequired', 'Alicia Andrés', '', '']\n"
     ]
    },
    {
     "name": "stderr",
     "output_type": "stream",
     "text": [
      "/var/folders/yc/p9m4grcn3n58sspfj1mcsgyr0000gn/T/ipykernel_2148/117283708.py:57: FutureWarning: The frame.append method is deprecated and will be removed from pandas in a future version. Use pandas.concat instead.\n",
      "  labs_overall = ( labs_overall.append(pd.Series(\n",
      "/var/folders/yc/p9m4grcn3n58sspfj1mcsgyr0000gn/T/ipykernel_2148/117283708.py:57: FutureWarning: The frame.append method is deprecated and will be removed from pandas in a future version. Use pandas.concat instead.\n",
      "  labs_overall = ( labs_overall.append(pd.Series(\n",
      "/var/folders/yc/p9m4grcn3n58sspfj1mcsgyr0000gn/T/ipykernel_2148/117283708.py:57: FutureWarning: The frame.append method is deprecated and will be removed from pandas in a future version. Use pandas.concat instead.\n",
      "  labs_overall = ( labs_overall.append(pd.Series(\n",
      "/var/folders/yc/p9m4grcn3n58sspfj1mcsgyr0000gn/T/ipykernel_2148/117283708.py:57: FutureWarning: The frame.append method is deprecated and will be removed from pandas in a future version. Use pandas.concat instead.\n",
      "  labs_overall = ( labs_overall.append(pd.Series(\n"
     ]
    },
    {
     "name": "stdout",
     "output_type": "stream",
     "text": [
      "['Week 12', 'Lab Hypothesis Testing 2\\nRequired', 'Amelie Haberland', '', '']\n",
      "['Week 12', 'Lab Hypothesis Testing 2\\nRequired', 'Angela Arredondo Mendoza', '', '']\n",
      "['Week 12', 'Lab Hypothesis Testing 2\\nRequired', 'Damiano Serra', '', '']\n",
      "['Week 12', 'Lab Hypothesis Testing 2\\nRequired', 'Daniel J Mendez Borges', '', '']\n"
     ]
    },
    {
     "name": "stderr",
     "output_type": "stream",
     "text": [
      "/var/folders/yc/p9m4grcn3n58sspfj1mcsgyr0000gn/T/ipykernel_2148/117283708.py:57: FutureWarning: The frame.append method is deprecated and will be removed from pandas in a future version. Use pandas.concat instead.\n",
      "  labs_overall = ( labs_overall.append(pd.Series(\n",
      "/var/folders/yc/p9m4grcn3n58sspfj1mcsgyr0000gn/T/ipykernel_2148/117283708.py:57: FutureWarning: The frame.append method is deprecated and will be removed from pandas in a future version. Use pandas.concat instead.\n",
      "  labs_overall = ( labs_overall.append(pd.Series(\n",
      "/var/folders/yc/p9m4grcn3n58sspfj1mcsgyr0000gn/T/ipykernel_2148/117283708.py:57: FutureWarning: The frame.append method is deprecated and will be removed from pandas in a future version. Use pandas.concat instead.\n",
      "  labs_overall = ( labs_overall.append(pd.Series(\n",
      "/var/folders/yc/p9m4grcn3n58sspfj1mcsgyr0000gn/T/ipykernel_2148/117283708.py:57: FutureWarning: The frame.append method is deprecated and will be removed from pandas in a future version. Use pandas.concat instead.\n",
      "  labs_overall = ( labs_overall.append(pd.Series(\n"
     ]
    },
    {
     "name": "stdout",
     "output_type": "stream",
     "text": [
      "['Week 12', 'Lab Hypothesis Testing 2\\nRequired', 'Fabio Blank Da Costa', '', '']\n",
      "['Week 12', 'Lab Hypothesis Testing 2\\nRequired', 'Federico Cavanagh', '', '']\n",
      "['Week 12', 'Lab Hypothesis Testing 2\\nRequired', 'Francisco Javier De Las Heras Jimenez', '', '']\n"
     ]
    },
    {
     "name": "stderr",
     "output_type": "stream",
     "text": [
      "/var/folders/yc/p9m4grcn3n58sspfj1mcsgyr0000gn/T/ipykernel_2148/117283708.py:57: FutureWarning: The frame.append method is deprecated and will be removed from pandas in a future version. Use pandas.concat instead.\n",
      "  labs_overall = ( labs_overall.append(pd.Series(\n",
      "/var/folders/yc/p9m4grcn3n58sspfj1mcsgyr0000gn/T/ipykernel_2148/117283708.py:57: FutureWarning: The frame.append method is deprecated and will be removed from pandas in a future version. Use pandas.concat instead.\n",
      "  labs_overall = ( labs_overall.append(pd.Series(\n",
      "/var/folders/yc/p9m4grcn3n58sspfj1mcsgyr0000gn/T/ipykernel_2148/117283708.py:57: FutureWarning: The frame.append method is deprecated and will be removed from pandas in a future version. Use pandas.concat instead.\n",
      "  labs_overall = ( labs_overall.append(pd.Series(\n",
      "/var/folders/yc/p9m4grcn3n58sspfj1mcsgyr0000gn/T/ipykernel_2148/117283708.py:57: FutureWarning: The frame.append method is deprecated and will be removed from pandas in a future version. Use pandas.concat instead.\n",
      "  labs_overall = ( labs_overall.append(pd.Series(\n"
     ]
    },
    {
     "name": "stdout",
     "output_type": "stream",
     "text": [
      "['Week 12', 'Lab Hypothesis Testing 2\\nRequired', 'Gregor Seegers', '', '']\n",
      "['Week 12', 'Lab Hypothesis Testing 2\\nRequired', 'Joaquin Valentin', '', '']\n",
      "['Week 12', 'Lab Hypothesis Testing 2\\nRequired', 'Manouk Meilof', '', '']\n",
      "['Week 12', 'Lab Hypothesis Testing 2\\nRequired', 'Marc Gavaldà', '', '']\n"
     ]
    },
    {
     "name": "stderr",
     "output_type": "stream",
     "text": [
      "/var/folders/yc/p9m4grcn3n58sspfj1mcsgyr0000gn/T/ipykernel_2148/117283708.py:57: FutureWarning: The frame.append method is deprecated and will be removed from pandas in a future version. Use pandas.concat instead.\n",
      "  labs_overall = ( labs_overall.append(pd.Series(\n",
      "/var/folders/yc/p9m4grcn3n58sspfj1mcsgyr0000gn/T/ipykernel_2148/117283708.py:57: FutureWarning: The frame.append method is deprecated and will be removed from pandas in a future version. Use pandas.concat instead.\n",
      "  labs_overall = ( labs_overall.append(pd.Series(\n",
      "/var/folders/yc/p9m4grcn3n58sspfj1mcsgyr0000gn/T/ipykernel_2148/117283708.py:57: FutureWarning: The frame.append method is deprecated and will be removed from pandas in a future version. Use pandas.concat instead.\n",
      "  labs_overall = ( labs_overall.append(pd.Series(\n",
      "/var/folders/yc/p9m4grcn3n58sspfj1mcsgyr0000gn/T/ipykernel_2148/117283708.py:57: FutureWarning: The frame.append method is deprecated and will be removed from pandas in a future version. Use pandas.concat instead.\n",
      "  labs_overall = ( labs_overall.append(pd.Series(\n"
     ]
    },
    {
     "name": "stdout",
     "output_type": "stream",
     "text": [
      "['Week 12', 'Lab Hypothesis Testing 2\\nRequired', 'María Vázquez Casares', '', '']\n",
      "['Week 12', 'Lab Hypothesis Testing 2\\nRequired', 'Max Grempel', '', '']\n",
      "['Week 12', 'Lab Hypothesis Testing 2\\nRequired', 'Shilei Tan Tan', '', '']\n",
      "['Week 12', 'Lab Hypothesis Testing 2\\nRequired', 'Suparna Mandal', '', '']\n"
     ]
    },
    {
     "name": "stderr",
     "output_type": "stream",
     "text": [
      "/var/folders/yc/p9m4grcn3n58sspfj1mcsgyr0000gn/T/ipykernel_2148/117283708.py:57: FutureWarning: The frame.append method is deprecated and will be removed from pandas in a future version. Use pandas.concat instead.\n",
      "  labs_overall = ( labs_overall.append(pd.Series(\n",
      "/var/folders/yc/p9m4grcn3n58sspfj1mcsgyr0000gn/T/ipykernel_2148/117283708.py:57: FutureWarning: The frame.append method is deprecated and will be removed from pandas in a future version. Use pandas.concat instead.\n",
      "  labs_overall = ( labs_overall.append(pd.Series(\n",
      "/var/folders/yc/p9m4grcn3n58sspfj1mcsgyr0000gn/T/ipykernel_2148/117283708.py:57: FutureWarning: The frame.append method is deprecated and will be removed from pandas in a future version. Use pandas.concat instead.\n",
      "  labs_overall = ( labs_overall.append(pd.Series(\n",
      "/var/folders/yc/p9m4grcn3n58sspfj1mcsgyr0000gn/T/ipykernel_2148/117283708.py:57: FutureWarning: The frame.append method is deprecated and will be removed from pandas in a future version. Use pandas.concat instead.\n",
      "  labs_overall = ( labs_overall.append(pd.Series(\n"
     ]
    },
    {
     "name": "stdout",
     "output_type": "stream",
     "text": [
      "['Week 12', 'Lab Hypothesis Testing 2\\nRequired', 'Vanessa Andrade', '', '']\n",
      "['Week 12', 'Lab Hypothesis Testing 2\\nRequired', 'Óscar Iglesias Roqueiro', '', '']\n",
      "finished grabbing students info for lab Lab Hypothesis Testing 2\n",
      "Required of Week 12\n",
      "Lab Hypothesis Testing 1\n",
      "Required\n",
      "20  Students grabbed.\n",
      "['Week 12', 'Lab Hypothesis Testing 1\\nRequired', 'Adrian Flores', '', '']\n",
      "['Week 12', 'Lab Hypothesis Testing 1\\nRequired', 'Aferdita Zherka Zherka', '', '']\n",
      "['Week 12', 'Lab Hypothesis Testing 1\\nRequired', 'Alicia Andrés', '', '']\n"
     ]
    },
    {
     "name": "stderr",
     "output_type": "stream",
     "text": [
      "/var/folders/yc/p9m4grcn3n58sspfj1mcsgyr0000gn/T/ipykernel_2148/117283708.py:57: FutureWarning: The frame.append method is deprecated and will be removed from pandas in a future version. Use pandas.concat instead.\n",
      "  labs_overall = ( labs_overall.append(pd.Series(\n",
      "/var/folders/yc/p9m4grcn3n58sspfj1mcsgyr0000gn/T/ipykernel_2148/117283708.py:57: FutureWarning: The frame.append method is deprecated and will be removed from pandas in a future version. Use pandas.concat instead.\n",
      "  labs_overall = ( labs_overall.append(pd.Series(\n",
      "/var/folders/yc/p9m4grcn3n58sspfj1mcsgyr0000gn/T/ipykernel_2148/117283708.py:57: FutureWarning: The frame.append method is deprecated and will be removed from pandas in a future version. Use pandas.concat instead.\n",
      "  labs_overall = ( labs_overall.append(pd.Series(\n",
      "/var/folders/yc/p9m4grcn3n58sspfj1mcsgyr0000gn/T/ipykernel_2148/117283708.py:57: FutureWarning: The frame.append method is deprecated and will be removed from pandas in a future version. Use pandas.concat instead.\n",
      "  labs_overall = ( labs_overall.append(pd.Series(\n"
     ]
    },
    {
     "name": "stdout",
     "output_type": "stream",
     "text": [
      "['Week 12', 'Lab Hypothesis Testing 1\\nRequired', 'Amelie Haberland', '', '']\n",
      "['Week 12', 'Lab Hypothesis Testing 1\\nRequired', 'Angela Arredondo Mendoza', '', '']\n",
      "['Week 12', 'Lab Hypothesis Testing 1\\nRequired', 'Damiano Serra', '', '']\n",
      "['Week 12', 'Lab Hypothesis Testing 1\\nRequired', 'Daniel J Mendez Borges', '', '']\n"
     ]
    },
    {
     "name": "stderr",
     "output_type": "stream",
     "text": [
      "/var/folders/yc/p9m4grcn3n58sspfj1mcsgyr0000gn/T/ipykernel_2148/117283708.py:57: FutureWarning: The frame.append method is deprecated and will be removed from pandas in a future version. Use pandas.concat instead.\n",
      "  labs_overall = ( labs_overall.append(pd.Series(\n",
      "/var/folders/yc/p9m4grcn3n58sspfj1mcsgyr0000gn/T/ipykernel_2148/117283708.py:57: FutureWarning: The frame.append method is deprecated and will be removed from pandas in a future version. Use pandas.concat instead.\n",
      "  labs_overall = ( labs_overall.append(pd.Series(\n",
      "/var/folders/yc/p9m4grcn3n58sspfj1mcsgyr0000gn/T/ipykernel_2148/117283708.py:57: FutureWarning: The frame.append method is deprecated and will be removed from pandas in a future version. Use pandas.concat instead.\n",
      "  labs_overall = ( labs_overall.append(pd.Series(\n",
      "/var/folders/yc/p9m4grcn3n58sspfj1mcsgyr0000gn/T/ipykernel_2148/117283708.py:57: FutureWarning: The frame.append method is deprecated and will be removed from pandas in a future version. Use pandas.concat instead.\n",
      "  labs_overall = ( labs_overall.append(pd.Series(\n"
     ]
    },
    {
     "name": "stdout",
     "output_type": "stream",
     "text": [
      "['Week 12', 'Lab Hypothesis Testing 1\\nRequired', 'Fabio Blank Da Costa', '', '']\n",
      "['Week 12', 'Lab Hypothesis Testing 1\\nRequired', 'Federico Cavanagh', '', '']\n",
      "['Week 12', 'Lab Hypothesis Testing 1\\nRequired', 'Francisco Javier De Las Heras Jimenez', '', '']\n",
      "['Week 12', 'Lab Hypothesis Testing 1\\nRequired', 'Gregor Seegers', '', '']\n"
     ]
    },
    {
     "name": "stderr",
     "output_type": "stream",
     "text": [
      "/var/folders/yc/p9m4grcn3n58sspfj1mcsgyr0000gn/T/ipykernel_2148/117283708.py:57: FutureWarning: The frame.append method is deprecated and will be removed from pandas in a future version. Use pandas.concat instead.\n",
      "  labs_overall = ( labs_overall.append(pd.Series(\n",
      "/var/folders/yc/p9m4grcn3n58sspfj1mcsgyr0000gn/T/ipykernel_2148/117283708.py:57: FutureWarning: The frame.append method is deprecated and will be removed from pandas in a future version. Use pandas.concat instead.\n",
      "  labs_overall = ( labs_overall.append(pd.Series(\n",
      "/var/folders/yc/p9m4grcn3n58sspfj1mcsgyr0000gn/T/ipykernel_2148/117283708.py:57: FutureWarning: The frame.append method is deprecated and will be removed from pandas in a future version. Use pandas.concat instead.\n",
      "  labs_overall = ( labs_overall.append(pd.Series(\n"
     ]
    },
    {
     "name": "stdout",
     "output_type": "stream",
     "text": [
      "['Week 12', 'Lab Hypothesis Testing 1\\nRequired', 'Joaquin Valentin', '', '']\n",
      "['Week 12', 'Lab Hypothesis Testing 1\\nRequired', 'Manouk Meilof', '', '']\n",
      "['Week 12', 'Lab Hypothesis Testing 1\\nRequired', 'Marc Gavaldà', '', '']\n",
      "['Week 12', 'Lab Hypothesis Testing 1\\nRequired', 'María Vázquez Casares', '', '']\n"
     ]
    },
    {
     "name": "stderr",
     "output_type": "stream",
     "text": [
      "/var/folders/yc/p9m4grcn3n58sspfj1mcsgyr0000gn/T/ipykernel_2148/117283708.py:57: FutureWarning: The frame.append method is deprecated and will be removed from pandas in a future version. Use pandas.concat instead.\n",
      "  labs_overall = ( labs_overall.append(pd.Series(\n",
      "/var/folders/yc/p9m4grcn3n58sspfj1mcsgyr0000gn/T/ipykernel_2148/117283708.py:57: FutureWarning: The frame.append method is deprecated and will be removed from pandas in a future version. Use pandas.concat instead.\n",
      "  labs_overall = ( labs_overall.append(pd.Series(\n",
      "/var/folders/yc/p9m4grcn3n58sspfj1mcsgyr0000gn/T/ipykernel_2148/117283708.py:57: FutureWarning: The frame.append method is deprecated and will be removed from pandas in a future version. Use pandas.concat instead.\n",
      "  labs_overall = ( labs_overall.append(pd.Series(\n",
      "/var/folders/yc/p9m4grcn3n58sspfj1mcsgyr0000gn/T/ipykernel_2148/117283708.py:57: FutureWarning: The frame.append method is deprecated and will be removed from pandas in a future version. Use pandas.concat instead.\n",
      "  labs_overall = ( labs_overall.append(pd.Series(\n"
     ]
    },
    {
     "name": "stdout",
     "output_type": "stream",
     "text": [
      "['Week 12', 'Lab Hypothesis Testing 1\\nRequired', 'Max Grempel', '', '']\n",
      "['Week 12', 'Lab Hypothesis Testing 1\\nRequired', 'Shilei Tan Tan', '', '']\n",
      "['Week 12', 'Lab Hypothesis Testing 1\\nRequired', 'Suparna Mandal', '', '']\n",
      "['Week 12', 'Lab Hypothesis Testing 1\\nRequired', 'Vanessa Andrade', '', '']\n"
     ]
    },
    {
     "name": "stderr",
     "output_type": "stream",
     "text": [
      "/var/folders/yc/p9m4grcn3n58sspfj1mcsgyr0000gn/T/ipykernel_2148/117283708.py:57: FutureWarning: The frame.append method is deprecated and will be removed from pandas in a future version. Use pandas.concat instead.\n",
      "  labs_overall = ( labs_overall.append(pd.Series(\n",
      "/var/folders/yc/p9m4grcn3n58sspfj1mcsgyr0000gn/T/ipykernel_2148/117283708.py:57: FutureWarning: The frame.append method is deprecated and will be removed from pandas in a future version. Use pandas.concat instead.\n",
      "  labs_overall = ( labs_overall.append(pd.Series(\n",
      "/var/folders/yc/p9m4grcn3n58sspfj1mcsgyr0000gn/T/ipykernel_2148/117283708.py:57: FutureWarning: The frame.append method is deprecated and will be removed from pandas in a future version. Use pandas.concat instead.\n",
      "  labs_overall = ( labs_overall.append(pd.Series(\n",
      "/var/folders/yc/p9m4grcn3n58sspfj1mcsgyr0000gn/T/ipykernel_2148/117283708.py:57: FutureWarning: The frame.append method is deprecated and will be removed from pandas in a future version. Use pandas.concat instead.\n",
      "  labs_overall = ( labs_overall.append(pd.Series(\n"
     ]
    },
    {
     "name": "stdout",
     "output_type": "stream",
     "text": [
      "['Week 12', 'Lab Hypothesis Testing 1\\nRequired', 'Óscar Iglesias Roqueiro', '', '']\n",
      "finished grabbing students info for lab Lab Hypothesis Testing 1\n",
      "Required of Week 12\n"
     ]
    },
    {
     "name": "stderr",
     "output_type": "stream",
     "text": [
      "/var/folders/yc/p9m4grcn3n58sspfj1mcsgyr0000gn/T/ipykernel_2148/117283708.py:57: FutureWarning: The frame.append method is deprecated and will be removed from pandas in a future version. Use pandas.concat instead.\n",
      "  labs_overall = ( labs_overall.append(pd.Series(\n"
     ]
    },
    {
     "name": "stdout",
     "output_type": "stream",
     "text": [
      "Week 13\n",
      "Lab Intro to Scipy\n",
      "Required\n",
      "20  Students grabbed.\n",
      "['Week 13', 'Lab Intro to Scipy\\nRequired', 'Adrian Flores', '', '']\n",
      "['Week 13', 'Lab Intro to Scipy\\nRequired', 'Aferdita Zherka Zherka', '', '']\n",
      "['Week 13', 'Lab Intro to Scipy\\nRequired', 'Alicia Andrés', '', '']\n"
     ]
    },
    {
     "name": "stderr",
     "output_type": "stream",
     "text": [
      "/var/folders/yc/p9m4grcn3n58sspfj1mcsgyr0000gn/T/ipykernel_2148/117283708.py:57: FutureWarning: The frame.append method is deprecated and will be removed from pandas in a future version. Use pandas.concat instead.\n",
      "  labs_overall = ( labs_overall.append(pd.Series(\n",
      "/var/folders/yc/p9m4grcn3n58sspfj1mcsgyr0000gn/T/ipykernel_2148/117283708.py:57: FutureWarning: The frame.append method is deprecated and will be removed from pandas in a future version. Use pandas.concat instead.\n",
      "  labs_overall = ( labs_overall.append(pd.Series(\n",
      "/var/folders/yc/p9m4grcn3n58sspfj1mcsgyr0000gn/T/ipykernel_2148/117283708.py:57: FutureWarning: The frame.append method is deprecated and will be removed from pandas in a future version. Use pandas.concat instead.\n",
      "  labs_overall = ( labs_overall.append(pd.Series(\n",
      "/var/folders/yc/p9m4grcn3n58sspfj1mcsgyr0000gn/T/ipykernel_2148/117283708.py:57: FutureWarning: The frame.append method is deprecated and will be removed from pandas in a future version. Use pandas.concat instead.\n",
      "  labs_overall = ( labs_overall.append(pd.Series(\n"
     ]
    },
    {
     "name": "stdout",
     "output_type": "stream",
     "text": [
      "['Week 13', 'Lab Intro to Scipy\\nRequired', 'Amelie Haberland', '', '']\n",
      "['Week 13', 'Lab Intro to Scipy\\nRequired', 'Angela Arredondo Mendoza', '', '']\n",
      "['Week 13', 'Lab Intro to Scipy\\nRequired', 'Damiano Serra', '', '']\n",
      "['Week 13', 'Lab Intro to Scipy\\nRequired', 'Daniel J Mendez Borges', '', '']\n"
     ]
    },
    {
     "name": "stderr",
     "output_type": "stream",
     "text": [
      "/var/folders/yc/p9m4grcn3n58sspfj1mcsgyr0000gn/T/ipykernel_2148/117283708.py:57: FutureWarning: The frame.append method is deprecated and will be removed from pandas in a future version. Use pandas.concat instead.\n",
      "  labs_overall = ( labs_overall.append(pd.Series(\n",
      "/var/folders/yc/p9m4grcn3n58sspfj1mcsgyr0000gn/T/ipykernel_2148/117283708.py:57: FutureWarning: The frame.append method is deprecated and will be removed from pandas in a future version. Use pandas.concat instead.\n",
      "  labs_overall = ( labs_overall.append(pd.Series(\n",
      "/var/folders/yc/p9m4grcn3n58sspfj1mcsgyr0000gn/T/ipykernel_2148/117283708.py:57: FutureWarning: The frame.append method is deprecated and will be removed from pandas in a future version. Use pandas.concat instead.\n",
      "  labs_overall = ( labs_overall.append(pd.Series(\n"
     ]
    },
    {
     "name": "stdout",
     "output_type": "stream",
     "text": [
      "['Week 13', 'Lab Intro to Scipy\\nRequired', 'Fabio Blank Da Costa', '', '']\n",
      "['Week 13', 'Lab Intro to Scipy\\nRequired', 'Federico Cavanagh', '', '']\n",
      "['Week 13', 'Lab Intro to Scipy\\nRequired', 'Francisco Javier De Las Heras Jimenez', '', '']\n",
      "['Week 13', 'Lab Intro to Scipy\\nRequired', 'Gregor Seegers', '', '']\n"
     ]
    },
    {
     "name": "stderr",
     "output_type": "stream",
     "text": [
      "/var/folders/yc/p9m4grcn3n58sspfj1mcsgyr0000gn/T/ipykernel_2148/117283708.py:57: FutureWarning: The frame.append method is deprecated and will be removed from pandas in a future version. Use pandas.concat instead.\n",
      "  labs_overall = ( labs_overall.append(pd.Series(\n",
      "/var/folders/yc/p9m4grcn3n58sspfj1mcsgyr0000gn/T/ipykernel_2148/117283708.py:57: FutureWarning: The frame.append method is deprecated and will be removed from pandas in a future version. Use pandas.concat instead.\n",
      "  labs_overall = ( labs_overall.append(pd.Series(\n",
      "/var/folders/yc/p9m4grcn3n58sspfj1mcsgyr0000gn/T/ipykernel_2148/117283708.py:57: FutureWarning: The frame.append method is deprecated and will be removed from pandas in a future version. Use pandas.concat instead.\n",
      "  labs_overall = ( labs_overall.append(pd.Series(\n",
      "/var/folders/yc/p9m4grcn3n58sspfj1mcsgyr0000gn/T/ipykernel_2148/117283708.py:57: FutureWarning: The frame.append method is deprecated and will be removed from pandas in a future version. Use pandas.concat instead.\n",
      "  labs_overall = ( labs_overall.append(pd.Series(\n"
     ]
    },
    {
     "name": "stdout",
     "output_type": "stream",
     "text": [
      "['Week 13', 'Lab Intro to Scipy\\nRequired', 'Joaquin Valentin', '', '']\n",
      "['Week 13', 'Lab Intro to Scipy\\nRequired', 'Manouk Meilof', '', '']\n",
      "['Week 13', 'Lab Intro to Scipy\\nRequired', 'Marc Gavaldà', '', '']\n",
      "['Week 13', 'Lab Intro to Scipy\\nRequired', 'María Vázquez Casares', '', '']\n"
     ]
    },
    {
     "name": "stderr",
     "output_type": "stream",
     "text": [
      "/var/folders/yc/p9m4grcn3n58sspfj1mcsgyr0000gn/T/ipykernel_2148/117283708.py:57: FutureWarning: The frame.append method is deprecated and will be removed from pandas in a future version. Use pandas.concat instead.\n",
      "  labs_overall = ( labs_overall.append(pd.Series(\n",
      "/var/folders/yc/p9m4grcn3n58sspfj1mcsgyr0000gn/T/ipykernel_2148/117283708.py:57: FutureWarning: The frame.append method is deprecated and will be removed from pandas in a future version. Use pandas.concat instead.\n",
      "  labs_overall = ( labs_overall.append(pd.Series(\n",
      "/var/folders/yc/p9m4grcn3n58sspfj1mcsgyr0000gn/T/ipykernel_2148/117283708.py:57: FutureWarning: The frame.append method is deprecated and will be removed from pandas in a future version. Use pandas.concat instead.\n",
      "  labs_overall = ( labs_overall.append(pd.Series(\n",
      "/var/folders/yc/p9m4grcn3n58sspfj1mcsgyr0000gn/T/ipykernel_2148/117283708.py:57: FutureWarning: The frame.append method is deprecated and will be removed from pandas in a future version. Use pandas.concat instead.\n",
      "  labs_overall = ( labs_overall.append(pd.Series(\n"
     ]
    },
    {
     "name": "stdout",
     "output_type": "stream",
     "text": [
      "['Week 13', 'Lab Intro to Scipy\\nRequired', 'Max Grempel', '', '']\n",
      "['Week 13', 'Lab Intro to Scipy\\nRequired', 'Shilei Tan Tan', '', '']\n",
      "['Week 13', 'Lab Intro to Scipy\\nRequired', 'Suparna Mandal', '', '']\n",
      "['Week 13', 'Lab Intro to Scipy\\nRequired', 'Vanessa Andrade', '', '']\n"
     ]
    },
    {
     "name": "stderr",
     "output_type": "stream",
     "text": [
      "/var/folders/yc/p9m4grcn3n58sspfj1mcsgyr0000gn/T/ipykernel_2148/117283708.py:57: FutureWarning: The frame.append method is deprecated and will be removed from pandas in a future version. Use pandas.concat instead.\n",
      "  labs_overall = ( labs_overall.append(pd.Series(\n",
      "/var/folders/yc/p9m4grcn3n58sspfj1mcsgyr0000gn/T/ipykernel_2148/117283708.py:57: FutureWarning: The frame.append method is deprecated and will be removed from pandas in a future version. Use pandas.concat instead.\n",
      "  labs_overall = ( labs_overall.append(pd.Series(\n",
      "/var/folders/yc/p9m4grcn3n58sspfj1mcsgyr0000gn/T/ipykernel_2148/117283708.py:57: FutureWarning: The frame.append method is deprecated and will be removed from pandas in a future version. Use pandas.concat instead.\n",
      "  labs_overall = ( labs_overall.append(pd.Series(\n",
      "/var/folders/yc/p9m4grcn3n58sspfj1mcsgyr0000gn/T/ipykernel_2148/117283708.py:57: FutureWarning: The frame.append method is deprecated and will be removed from pandas in a future version. Use pandas.concat instead.\n",
      "  labs_overall = ( labs_overall.append(pd.Series(\n"
     ]
    },
    {
     "name": "stdout",
     "output_type": "stream",
     "text": [
      "['Week 13', 'Lab Intro to Scipy\\nRequired', 'Óscar Iglesias Roqueiro', '', '']\n",
      "finished grabbing students info for lab Lab Intro to Scipy\n",
      "Required of Week 13\n"
     ]
    },
    {
     "name": "stderr",
     "output_type": "stream",
     "text": [
      "/var/folders/yc/p9m4grcn3n58sspfj1mcsgyr0000gn/T/ipykernel_2148/117283708.py:57: FutureWarning: The frame.append method is deprecated and will be removed from pandas in a future version. Use pandas.concat instead.\n",
      "  labs_overall = ( labs_overall.append(pd.Series(\n"
     ]
    },
    {
     "name": "stdout",
     "output_type": "stream",
     "text": [
      "Week 18\n",
      "Lab Feature Extraction\n",
      "Required\n",
      "20  Students grabbed.\n",
      "['Week 18', 'Lab Feature Extraction\\nRequired', 'Adrian Flores', '', '']\n",
      "['Week 18', 'Lab Feature Extraction\\nRequired', 'Aferdita Zherka Zherka', '', '']\n"
     ]
    },
    {
     "name": "stderr",
     "output_type": "stream",
     "text": [
      "/var/folders/yc/p9m4grcn3n58sspfj1mcsgyr0000gn/T/ipykernel_2148/117283708.py:57: FutureWarning: The frame.append method is deprecated and will be removed from pandas in a future version. Use pandas.concat instead.\n",
      "  labs_overall = ( labs_overall.append(pd.Series(\n",
      "/var/folders/yc/p9m4grcn3n58sspfj1mcsgyr0000gn/T/ipykernel_2148/117283708.py:57: FutureWarning: The frame.append method is deprecated and will be removed from pandas in a future version. Use pandas.concat instead.\n",
      "  labs_overall = ( labs_overall.append(pd.Series(\n",
      "/var/folders/yc/p9m4grcn3n58sspfj1mcsgyr0000gn/T/ipykernel_2148/117283708.py:57: FutureWarning: The frame.append method is deprecated and will be removed from pandas in a future version. Use pandas.concat instead.\n",
      "  labs_overall = ( labs_overall.append(pd.Series(\n"
     ]
    },
    {
     "name": "stdout",
     "output_type": "stream",
     "text": [
      "['Week 18', 'Lab Feature Extraction\\nRequired', 'Alicia Andrés', '', '']\n",
      "['Week 18', 'Lab Feature Extraction\\nRequired', 'Amelie Haberland', '', '']\n",
      "['Week 18', 'Lab Feature Extraction\\nRequired', 'Angela Arredondo Mendoza', '', '']\n",
      "['Week 18', 'Lab Feature Extraction\\nRequired', 'Damiano Serra', '', '']\n"
     ]
    },
    {
     "name": "stderr",
     "output_type": "stream",
     "text": [
      "/var/folders/yc/p9m4grcn3n58sspfj1mcsgyr0000gn/T/ipykernel_2148/117283708.py:57: FutureWarning: The frame.append method is deprecated and will be removed from pandas in a future version. Use pandas.concat instead.\n",
      "  labs_overall = ( labs_overall.append(pd.Series(\n",
      "/var/folders/yc/p9m4grcn3n58sspfj1mcsgyr0000gn/T/ipykernel_2148/117283708.py:57: FutureWarning: The frame.append method is deprecated and will be removed from pandas in a future version. Use pandas.concat instead.\n",
      "  labs_overall = ( labs_overall.append(pd.Series(\n",
      "/var/folders/yc/p9m4grcn3n58sspfj1mcsgyr0000gn/T/ipykernel_2148/117283708.py:57: FutureWarning: The frame.append method is deprecated and will be removed from pandas in a future version. Use pandas.concat instead.\n",
      "  labs_overall = ( labs_overall.append(pd.Series(\n",
      "/var/folders/yc/p9m4grcn3n58sspfj1mcsgyr0000gn/T/ipykernel_2148/117283708.py:57: FutureWarning: The frame.append method is deprecated and will be removed from pandas in a future version. Use pandas.concat instead.\n",
      "  labs_overall = ( labs_overall.append(pd.Series(\n"
     ]
    },
    {
     "name": "stdout",
     "output_type": "stream",
     "text": [
      "['Week 18', 'Lab Feature Extraction\\nRequired', 'Daniel J Mendez Borges', '', '']\n",
      "['Week 18', 'Lab Feature Extraction\\nRequired', 'Fabio Blank Da Costa', '', '']\n",
      "['Week 18', 'Lab Feature Extraction\\nRequired', 'Federico Cavanagh', '', '']\n",
      "['Week 18', 'Lab Feature Extraction\\nRequired', 'Francisco Javier De Las Heras Jimenez', '', '']\n"
     ]
    },
    {
     "name": "stderr",
     "output_type": "stream",
     "text": [
      "/var/folders/yc/p9m4grcn3n58sspfj1mcsgyr0000gn/T/ipykernel_2148/117283708.py:57: FutureWarning: The frame.append method is deprecated and will be removed from pandas in a future version. Use pandas.concat instead.\n",
      "  labs_overall = ( labs_overall.append(pd.Series(\n",
      "/var/folders/yc/p9m4grcn3n58sspfj1mcsgyr0000gn/T/ipykernel_2148/117283708.py:57: FutureWarning: The frame.append method is deprecated and will be removed from pandas in a future version. Use pandas.concat instead.\n",
      "  labs_overall = ( labs_overall.append(pd.Series(\n",
      "/var/folders/yc/p9m4grcn3n58sspfj1mcsgyr0000gn/T/ipykernel_2148/117283708.py:57: FutureWarning: The frame.append method is deprecated and will be removed from pandas in a future version. Use pandas.concat instead.\n",
      "  labs_overall = ( labs_overall.append(pd.Series(\n",
      "/var/folders/yc/p9m4grcn3n58sspfj1mcsgyr0000gn/T/ipykernel_2148/117283708.py:57: FutureWarning: The frame.append method is deprecated and will be removed from pandas in a future version. Use pandas.concat instead.\n",
      "  labs_overall = ( labs_overall.append(pd.Series(\n"
     ]
    },
    {
     "name": "stdout",
     "output_type": "stream",
     "text": [
      "['Week 18', 'Lab Feature Extraction\\nRequired', 'Gregor Seegers', '', '']\n",
      "['Week 18', 'Lab Feature Extraction\\nRequired', 'Joaquin Valentin', '', '']\n",
      "['Week 18', 'Lab Feature Extraction\\nRequired', 'Manouk Meilof', '', '']\n",
      "['Week 18', 'Lab Feature Extraction\\nRequired', 'Marc Gavaldà', '', '']\n"
     ]
    },
    {
     "name": "stderr",
     "output_type": "stream",
     "text": [
      "/var/folders/yc/p9m4grcn3n58sspfj1mcsgyr0000gn/T/ipykernel_2148/117283708.py:57: FutureWarning: The frame.append method is deprecated and will be removed from pandas in a future version. Use pandas.concat instead.\n",
      "  labs_overall = ( labs_overall.append(pd.Series(\n",
      "/var/folders/yc/p9m4grcn3n58sspfj1mcsgyr0000gn/T/ipykernel_2148/117283708.py:57: FutureWarning: The frame.append method is deprecated and will be removed from pandas in a future version. Use pandas.concat instead.\n",
      "  labs_overall = ( labs_overall.append(pd.Series(\n",
      "/var/folders/yc/p9m4grcn3n58sspfj1mcsgyr0000gn/T/ipykernel_2148/117283708.py:57: FutureWarning: The frame.append method is deprecated and will be removed from pandas in a future version. Use pandas.concat instead.\n",
      "  labs_overall = ( labs_overall.append(pd.Series(\n",
      "/var/folders/yc/p9m4grcn3n58sspfj1mcsgyr0000gn/T/ipykernel_2148/117283708.py:57: FutureWarning: The frame.append method is deprecated and will be removed from pandas in a future version. Use pandas.concat instead.\n",
      "  labs_overall = ( labs_overall.append(pd.Series(\n"
     ]
    },
    {
     "name": "stdout",
     "output_type": "stream",
     "text": [
      "['Week 18', 'Lab Feature Extraction\\nRequired', 'María Vázquez Casares', '', '']\n",
      "['Week 18', 'Lab Feature Extraction\\nRequired', 'Max Grempel', '', '']\n",
      "['Week 18', 'Lab Feature Extraction\\nRequired', 'Shilei Tan Tan', '', '']\n"
     ]
    },
    {
     "name": "stderr",
     "output_type": "stream",
     "text": [
      "/var/folders/yc/p9m4grcn3n58sspfj1mcsgyr0000gn/T/ipykernel_2148/117283708.py:57: FutureWarning: The frame.append method is deprecated and will be removed from pandas in a future version. Use pandas.concat instead.\n",
      "  labs_overall = ( labs_overall.append(pd.Series(\n",
      "/var/folders/yc/p9m4grcn3n58sspfj1mcsgyr0000gn/T/ipykernel_2148/117283708.py:57: FutureWarning: The frame.append method is deprecated and will be removed from pandas in a future version. Use pandas.concat instead.\n",
      "  labs_overall = ( labs_overall.append(pd.Series(\n",
      "/var/folders/yc/p9m4grcn3n58sspfj1mcsgyr0000gn/T/ipykernel_2148/117283708.py:57: FutureWarning: The frame.append method is deprecated and will be removed from pandas in a future version. Use pandas.concat instead.\n",
      "  labs_overall = ( labs_overall.append(pd.Series(\n",
      "/var/folders/yc/p9m4grcn3n58sspfj1mcsgyr0000gn/T/ipykernel_2148/117283708.py:57: FutureWarning: The frame.append method is deprecated and will be removed from pandas in a future version. Use pandas.concat instead.\n",
      "  labs_overall = ( labs_overall.append(pd.Series(\n"
     ]
    },
    {
     "name": "stdout",
     "output_type": "stream",
     "text": [
      "['Week 18', 'Lab Feature Extraction\\nRequired', 'Suparna Mandal', '', '']\n",
      "['Week 18', 'Lab Feature Extraction\\nRequired', 'Vanessa Andrade', '', '']\n",
      "['Week 18', 'Lab Feature Extraction\\nRequired', 'Óscar Iglesias Roqueiro', '', '']\n",
      "finished grabbing students info for lab Lab Feature Extraction\n",
      "Required of Week 18\n"
     ]
    },
    {
     "name": "stderr",
     "output_type": "stream",
     "text": [
      "/var/folders/yc/p9m4grcn3n58sspfj1mcsgyr0000gn/T/ipykernel_2148/117283708.py:57: FutureWarning: The frame.append method is deprecated and will be removed from pandas in a future version. Use pandas.concat instead.\n",
      "  labs_overall = ( labs_overall.append(pd.Series(\n"
     ]
    },
    {
     "name": "stdout",
     "output_type": "stream",
     "text": [
      "Lab Intro to AI\n",
      "Required\n",
      "20  Students grabbed.\n",
      "['Week 18', 'Lab Intro to AI\\nRequired', 'Adrian Flores', '', '']\n",
      "['Week 18', 'Lab Intro to AI\\nRequired', 'Aferdita Zherka Zherka', '', '']\n",
      "['Week 18', 'Lab Intro to AI\\nRequired', 'Alicia Andrés', '', '']\n"
     ]
    },
    {
     "name": "stderr",
     "output_type": "stream",
     "text": [
      "/var/folders/yc/p9m4grcn3n58sspfj1mcsgyr0000gn/T/ipykernel_2148/117283708.py:57: FutureWarning: The frame.append method is deprecated and will be removed from pandas in a future version. Use pandas.concat instead.\n",
      "  labs_overall = ( labs_overall.append(pd.Series(\n",
      "/var/folders/yc/p9m4grcn3n58sspfj1mcsgyr0000gn/T/ipykernel_2148/117283708.py:57: FutureWarning: The frame.append method is deprecated and will be removed from pandas in a future version. Use pandas.concat instead.\n",
      "  labs_overall = ( labs_overall.append(pd.Series(\n",
      "/var/folders/yc/p9m4grcn3n58sspfj1mcsgyr0000gn/T/ipykernel_2148/117283708.py:57: FutureWarning: The frame.append method is deprecated and will be removed from pandas in a future version. Use pandas.concat instead.\n",
      "  labs_overall = ( labs_overall.append(pd.Series(\n",
      "/var/folders/yc/p9m4grcn3n58sspfj1mcsgyr0000gn/T/ipykernel_2148/117283708.py:57: FutureWarning: The frame.append method is deprecated and will be removed from pandas in a future version. Use pandas.concat instead.\n",
      "  labs_overall = ( labs_overall.append(pd.Series(\n"
     ]
    },
    {
     "name": "stdout",
     "output_type": "stream",
     "text": [
      "['Week 18', 'Lab Intro to AI\\nRequired', 'Amelie Haberland', '', '']\n",
      "['Week 18', 'Lab Intro to AI\\nRequired', 'Angela Arredondo Mendoza', '', '']\n",
      "['Week 18', 'Lab Intro to AI\\nRequired', 'Damiano Serra', '', '']\n",
      "['Week 18', 'Lab Intro to AI\\nRequired', 'Daniel J Mendez Borges', '', '']\n"
     ]
    },
    {
     "name": "stderr",
     "output_type": "stream",
     "text": [
      "/var/folders/yc/p9m4grcn3n58sspfj1mcsgyr0000gn/T/ipykernel_2148/117283708.py:57: FutureWarning: The frame.append method is deprecated and will be removed from pandas in a future version. Use pandas.concat instead.\n",
      "  labs_overall = ( labs_overall.append(pd.Series(\n",
      "/var/folders/yc/p9m4grcn3n58sspfj1mcsgyr0000gn/T/ipykernel_2148/117283708.py:57: FutureWarning: The frame.append method is deprecated and will be removed from pandas in a future version. Use pandas.concat instead.\n",
      "  labs_overall = ( labs_overall.append(pd.Series(\n",
      "/var/folders/yc/p9m4grcn3n58sspfj1mcsgyr0000gn/T/ipykernel_2148/117283708.py:57: FutureWarning: The frame.append method is deprecated and will be removed from pandas in a future version. Use pandas.concat instead.\n",
      "  labs_overall = ( labs_overall.append(pd.Series(\n",
      "/var/folders/yc/p9m4grcn3n58sspfj1mcsgyr0000gn/T/ipykernel_2148/117283708.py:57: FutureWarning: The frame.append method is deprecated and will be removed from pandas in a future version. Use pandas.concat instead.\n",
      "  labs_overall = ( labs_overall.append(pd.Series(\n"
     ]
    },
    {
     "name": "stdout",
     "output_type": "stream",
     "text": [
      "['Week 18', 'Lab Intro to AI\\nRequired', 'Fabio Blank Da Costa', '', '']\n",
      "['Week 18', 'Lab Intro to AI\\nRequired', 'Federico Cavanagh', '', '']\n",
      "['Week 18', 'Lab Intro to AI\\nRequired', 'Francisco Javier De Las Heras Jimenez', '', '']\n",
      "['Week 18', 'Lab Intro to AI\\nRequired', 'Gregor Seegers', '', '']\n"
     ]
    },
    {
     "name": "stderr",
     "output_type": "stream",
     "text": [
      "/var/folders/yc/p9m4grcn3n58sspfj1mcsgyr0000gn/T/ipykernel_2148/117283708.py:57: FutureWarning: The frame.append method is deprecated and will be removed from pandas in a future version. Use pandas.concat instead.\n",
      "  labs_overall = ( labs_overall.append(pd.Series(\n",
      "/var/folders/yc/p9m4grcn3n58sspfj1mcsgyr0000gn/T/ipykernel_2148/117283708.py:57: FutureWarning: The frame.append method is deprecated and will be removed from pandas in a future version. Use pandas.concat instead.\n",
      "  labs_overall = ( labs_overall.append(pd.Series(\n",
      "/var/folders/yc/p9m4grcn3n58sspfj1mcsgyr0000gn/T/ipykernel_2148/117283708.py:57: FutureWarning: The frame.append method is deprecated and will be removed from pandas in a future version. Use pandas.concat instead.\n",
      "  labs_overall = ( labs_overall.append(pd.Series(\n"
     ]
    },
    {
     "name": "stdout",
     "output_type": "stream",
     "text": [
      "['Week 18', 'Lab Intro to AI\\nRequired', 'Joaquin Valentin', '', '']\n",
      "['Week 18', 'Lab Intro to AI\\nRequired', 'Manouk Meilof', '', '']\n",
      "['Week 18', 'Lab Intro to AI\\nRequired', 'Marc Gavaldà', '', '']\n",
      "['Week 18', 'Lab Intro to AI\\nRequired', 'María Vázquez Casares', '', '']\n"
     ]
    },
    {
     "name": "stderr",
     "output_type": "stream",
     "text": [
      "/var/folders/yc/p9m4grcn3n58sspfj1mcsgyr0000gn/T/ipykernel_2148/117283708.py:57: FutureWarning: The frame.append method is deprecated and will be removed from pandas in a future version. Use pandas.concat instead.\n",
      "  labs_overall = ( labs_overall.append(pd.Series(\n",
      "/var/folders/yc/p9m4grcn3n58sspfj1mcsgyr0000gn/T/ipykernel_2148/117283708.py:57: FutureWarning: The frame.append method is deprecated and will be removed from pandas in a future version. Use pandas.concat instead.\n",
      "  labs_overall = ( labs_overall.append(pd.Series(\n",
      "/var/folders/yc/p9m4grcn3n58sspfj1mcsgyr0000gn/T/ipykernel_2148/117283708.py:57: FutureWarning: The frame.append method is deprecated and will be removed from pandas in a future version. Use pandas.concat instead.\n",
      "  labs_overall = ( labs_overall.append(pd.Series(\n",
      "/var/folders/yc/p9m4grcn3n58sspfj1mcsgyr0000gn/T/ipykernel_2148/117283708.py:57: FutureWarning: The frame.append method is deprecated and will be removed from pandas in a future version. Use pandas.concat instead.\n",
      "  labs_overall = ( labs_overall.append(pd.Series(\n"
     ]
    },
    {
     "name": "stdout",
     "output_type": "stream",
     "text": [
      "['Week 18', 'Lab Intro to AI\\nRequired', 'Max Grempel', '', '']\n",
      "['Week 18', 'Lab Intro to AI\\nRequired', 'Shilei Tan Tan', '', '']\n",
      "['Week 18', 'Lab Intro to AI\\nRequired', 'Suparna Mandal', '', '']\n",
      "['Week 18', 'Lab Intro to AI\\nRequired', 'Vanessa Andrade', '', '']\n"
     ]
    },
    {
     "name": "stderr",
     "output_type": "stream",
     "text": [
      "/var/folders/yc/p9m4grcn3n58sspfj1mcsgyr0000gn/T/ipykernel_2148/117283708.py:57: FutureWarning: The frame.append method is deprecated and will be removed from pandas in a future version. Use pandas.concat instead.\n",
      "  labs_overall = ( labs_overall.append(pd.Series(\n",
      "/var/folders/yc/p9m4grcn3n58sspfj1mcsgyr0000gn/T/ipykernel_2148/117283708.py:57: FutureWarning: The frame.append method is deprecated and will be removed from pandas in a future version. Use pandas.concat instead.\n",
      "  labs_overall = ( labs_overall.append(pd.Series(\n",
      "/var/folders/yc/p9m4grcn3n58sspfj1mcsgyr0000gn/T/ipykernel_2148/117283708.py:57: FutureWarning: The frame.append method is deprecated and will be removed from pandas in a future version. Use pandas.concat instead.\n",
      "  labs_overall = ( labs_overall.append(pd.Series(\n",
      "/var/folders/yc/p9m4grcn3n58sspfj1mcsgyr0000gn/T/ipykernel_2148/117283708.py:57: FutureWarning: The frame.append method is deprecated and will be removed from pandas in a future version. Use pandas.concat instead.\n",
      "  labs_overall = ( labs_overall.append(pd.Series(\n"
     ]
    },
    {
     "name": "stdout",
     "output_type": "stream",
     "text": [
      "['Week 18', 'Lab Intro to AI\\nRequired', 'Óscar Iglesias Roqueiro', '', '']\n",
      "finished grabbing students info for lab Lab Intro to AI\n",
      "Required of Week 18\n"
     ]
    },
    {
     "name": "stderr",
     "output_type": "stream",
     "text": [
      "/var/folders/yc/p9m4grcn3n58sspfj1mcsgyr0000gn/T/ipykernel_2148/117283708.py:57: FutureWarning: The frame.append method is deprecated and will be removed from pandas in a future version. Use pandas.concat instead.\n",
      "  labs_overall = ( labs_overall.append(pd.Series(\n"
     ]
    },
    {
     "name": "stdout",
     "output_type": "stream",
     "text": [
      "Week 19\n",
      "Lab Imbalance\n",
      "Required\n",
      "20  Students grabbed.\n",
      "['Week 19', 'Lab Imbalance\\nRequired', 'Adrian Flores', '', '']\n",
      "['Week 19', 'Lab Imbalance\\nRequired', 'Aferdita Zherka Zherka', '', '']\n",
      "['Week 19', 'Lab Imbalance\\nRequired', 'Alicia Andrés', '', '']\n"
     ]
    },
    {
     "name": "stderr",
     "output_type": "stream",
     "text": [
      "/var/folders/yc/p9m4grcn3n58sspfj1mcsgyr0000gn/T/ipykernel_2148/117283708.py:57: FutureWarning: The frame.append method is deprecated and will be removed from pandas in a future version. Use pandas.concat instead.\n",
      "  labs_overall = ( labs_overall.append(pd.Series(\n",
      "/var/folders/yc/p9m4grcn3n58sspfj1mcsgyr0000gn/T/ipykernel_2148/117283708.py:57: FutureWarning: The frame.append method is deprecated and will be removed from pandas in a future version. Use pandas.concat instead.\n",
      "  labs_overall = ( labs_overall.append(pd.Series(\n",
      "/var/folders/yc/p9m4grcn3n58sspfj1mcsgyr0000gn/T/ipykernel_2148/117283708.py:57: FutureWarning: The frame.append method is deprecated and will be removed from pandas in a future version. Use pandas.concat instead.\n",
      "  labs_overall = ( labs_overall.append(pd.Series(\n",
      "/var/folders/yc/p9m4grcn3n58sspfj1mcsgyr0000gn/T/ipykernel_2148/117283708.py:57: FutureWarning: The frame.append method is deprecated and will be removed from pandas in a future version. Use pandas.concat instead.\n",
      "  labs_overall = ( labs_overall.append(pd.Series(\n"
     ]
    },
    {
     "name": "stdout",
     "output_type": "stream",
     "text": [
      "['Week 19', 'Lab Imbalance\\nRequired', 'Amelie Haberland', '', '']\n",
      "['Week 19', 'Lab Imbalance\\nRequired', 'Angela Arredondo Mendoza', '', '']\n",
      "['Week 19', 'Lab Imbalance\\nRequired', 'Damiano Serra', '', '']\n",
      "['Week 19', 'Lab Imbalance\\nRequired', 'Daniel J Mendez Borges', '', '']\n"
     ]
    },
    {
     "name": "stderr",
     "output_type": "stream",
     "text": [
      "/var/folders/yc/p9m4grcn3n58sspfj1mcsgyr0000gn/T/ipykernel_2148/117283708.py:57: FutureWarning: The frame.append method is deprecated and will be removed from pandas in a future version. Use pandas.concat instead.\n",
      "  labs_overall = ( labs_overall.append(pd.Series(\n",
      "/var/folders/yc/p9m4grcn3n58sspfj1mcsgyr0000gn/T/ipykernel_2148/117283708.py:57: FutureWarning: The frame.append method is deprecated and will be removed from pandas in a future version. Use pandas.concat instead.\n",
      "  labs_overall = ( labs_overall.append(pd.Series(\n",
      "/var/folders/yc/p9m4grcn3n58sspfj1mcsgyr0000gn/T/ipykernel_2148/117283708.py:57: FutureWarning: The frame.append method is deprecated and will be removed from pandas in a future version. Use pandas.concat instead.\n",
      "  labs_overall = ( labs_overall.append(pd.Series(\n"
     ]
    },
    {
     "name": "stdout",
     "output_type": "stream",
     "text": [
      "['Week 19', 'Lab Imbalance\\nRequired', 'Fabio Blank Da Costa', '', '']\n",
      "['Week 19', 'Lab Imbalance\\nRequired', 'Federico Cavanagh', '', '']\n",
      "['Week 19', 'Lab Imbalance\\nRequired', 'Francisco Javier De Las Heras Jimenez', '', '']\n",
      "['Week 19', 'Lab Imbalance\\nRequired', 'Gregor Seegers', '', '']\n"
     ]
    },
    {
     "name": "stderr",
     "output_type": "stream",
     "text": [
      "/var/folders/yc/p9m4grcn3n58sspfj1mcsgyr0000gn/T/ipykernel_2148/117283708.py:57: FutureWarning: The frame.append method is deprecated and will be removed from pandas in a future version. Use pandas.concat instead.\n",
      "  labs_overall = ( labs_overall.append(pd.Series(\n",
      "/var/folders/yc/p9m4grcn3n58sspfj1mcsgyr0000gn/T/ipykernel_2148/117283708.py:57: FutureWarning: The frame.append method is deprecated and will be removed from pandas in a future version. Use pandas.concat instead.\n",
      "  labs_overall = ( labs_overall.append(pd.Series(\n",
      "/var/folders/yc/p9m4grcn3n58sspfj1mcsgyr0000gn/T/ipykernel_2148/117283708.py:57: FutureWarning: The frame.append method is deprecated and will be removed from pandas in a future version. Use pandas.concat instead.\n",
      "  labs_overall = ( labs_overall.append(pd.Series(\n",
      "/var/folders/yc/p9m4grcn3n58sspfj1mcsgyr0000gn/T/ipykernel_2148/117283708.py:57: FutureWarning: The frame.append method is deprecated and will be removed from pandas in a future version. Use pandas.concat instead.\n",
      "  labs_overall = ( labs_overall.append(pd.Series(\n"
     ]
    },
    {
     "name": "stdout",
     "output_type": "stream",
     "text": [
      "['Week 19', 'Lab Imbalance\\nRequired', 'Joaquin Valentin', '', '']\n",
      "['Week 19', 'Lab Imbalance\\nRequired', 'Manouk Meilof', '', '']\n",
      "['Week 19', 'Lab Imbalance\\nRequired', 'Marc Gavaldà', '', '']\n",
      "['Week 19', 'Lab Imbalance\\nRequired', 'María Vázquez Casares', '', '']\n"
     ]
    },
    {
     "name": "stderr",
     "output_type": "stream",
     "text": [
      "/var/folders/yc/p9m4grcn3n58sspfj1mcsgyr0000gn/T/ipykernel_2148/117283708.py:57: FutureWarning: The frame.append method is deprecated and will be removed from pandas in a future version. Use pandas.concat instead.\n",
      "  labs_overall = ( labs_overall.append(pd.Series(\n",
      "/var/folders/yc/p9m4grcn3n58sspfj1mcsgyr0000gn/T/ipykernel_2148/117283708.py:57: FutureWarning: The frame.append method is deprecated and will be removed from pandas in a future version. Use pandas.concat instead.\n",
      "  labs_overall = ( labs_overall.append(pd.Series(\n",
      "/var/folders/yc/p9m4grcn3n58sspfj1mcsgyr0000gn/T/ipykernel_2148/117283708.py:57: FutureWarning: The frame.append method is deprecated and will be removed from pandas in a future version. Use pandas.concat instead.\n",
      "  labs_overall = ( labs_overall.append(pd.Series(\n",
      "/var/folders/yc/p9m4grcn3n58sspfj1mcsgyr0000gn/T/ipykernel_2148/117283708.py:57: FutureWarning: The frame.append method is deprecated and will be removed from pandas in a future version. Use pandas.concat instead.\n",
      "  labs_overall = ( labs_overall.append(pd.Series(\n"
     ]
    },
    {
     "name": "stdout",
     "output_type": "stream",
     "text": [
      "['Week 19', 'Lab Imbalance\\nRequired', 'Max Grempel', '', '']\n",
      "['Week 19', 'Lab Imbalance\\nRequired', 'Shilei Tan Tan', '', '']\n",
      "['Week 19', 'Lab Imbalance\\nRequired', 'Suparna Mandal', '', '']\n",
      "['Week 19', 'Lab Imbalance\\nRequired', 'Vanessa Andrade', '', '']\n"
     ]
    },
    {
     "name": "stderr",
     "output_type": "stream",
     "text": [
      "/var/folders/yc/p9m4grcn3n58sspfj1mcsgyr0000gn/T/ipykernel_2148/117283708.py:57: FutureWarning: The frame.append method is deprecated and will be removed from pandas in a future version. Use pandas.concat instead.\n",
      "  labs_overall = ( labs_overall.append(pd.Series(\n",
      "/var/folders/yc/p9m4grcn3n58sspfj1mcsgyr0000gn/T/ipykernel_2148/117283708.py:57: FutureWarning: The frame.append method is deprecated and will be removed from pandas in a future version. Use pandas.concat instead.\n",
      "  labs_overall = ( labs_overall.append(pd.Series(\n",
      "/var/folders/yc/p9m4grcn3n58sspfj1mcsgyr0000gn/T/ipykernel_2148/117283708.py:57: FutureWarning: The frame.append method is deprecated and will be removed from pandas in a future version. Use pandas.concat instead.\n",
      "  labs_overall = ( labs_overall.append(pd.Series(\n",
      "/var/folders/yc/p9m4grcn3n58sspfj1mcsgyr0000gn/T/ipykernel_2148/117283708.py:57: FutureWarning: The frame.append method is deprecated and will be removed from pandas in a future version. Use pandas.concat instead.\n",
      "  labs_overall = ( labs_overall.append(pd.Series(\n"
     ]
    },
    {
     "name": "stdout",
     "output_type": "stream",
     "text": [
      "['Week 19', 'Lab Imbalance\\nRequired', 'Óscar Iglesias Roqueiro', '', '']\n",
      "finished grabbing students info for lab Lab Imbalance\n",
      "Required of Week 19\n"
     ]
    },
    {
     "name": "stderr",
     "output_type": "stream",
     "text": [
      "/var/folders/yc/p9m4grcn3n58sspfj1mcsgyr0000gn/T/ipykernel_2148/117283708.py:57: FutureWarning: The frame.append method is deprecated and will be removed from pandas in a future version. Use pandas.concat instead.\n",
      "  labs_overall = ( labs_overall.append(pd.Series(\n"
     ]
    },
    {
     "name": "stdout",
     "output_type": "stream",
     "text": [
      "Lab Supervised Learning - Regression\n",
      "Required\n",
      "20  Students grabbed.\n",
      "['Week 19', 'Lab Supervised Learning - Regression\\nRequired', 'Adrian Flores', '', '']\n",
      "['Week 19', 'Lab Supervised Learning - Regression\\nRequired', 'Aferdita Zherka Zherka', '', '']\n",
      "['Week 19', 'Lab Supervised Learning - Regression\\nRequired', 'Alicia Andrés', '', '']\n"
     ]
    },
    {
     "name": "stderr",
     "output_type": "stream",
     "text": [
      "/var/folders/yc/p9m4grcn3n58sspfj1mcsgyr0000gn/T/ipykernel_2148/117283708.py:57: FutureWarning: The frame.append method is deprecated and will be removed from pandas in a future version. Use pandas.concat instead.\n",
      "  labs_overall = ( labs_overall.append(pd.Series(\n",
      "/var/folders/yc/p9m4grcn3n58sspfj1mcsgyr0000gn/T/ipykernel_2148/117283708.py:57: FutureWarning: The frame.append method is deprecated and will be removed from pandas in a future version. Use pandas.concat instead.\n",
      "  labs_overall = ( labs_overall.append(pd.Series(\n",
      "/var/folders/yc/p9m4grcn3n58sspfj1mcsgyr0000gn/T/ipykernel_2148/117283708.py:57: FutureWarning: The frame.append method is deprecated and will be removed from pandas in a future version. Use pandas.concat instead.\n",
      "  labs_overall = ( labs_overall.append(pd.Series(\n",
      "/var/folders/yc/p9m4grcn3n58sspfj1mcsgyr0000gn/T/ipykernel_2148/117283708.py:57: FutureWarning: The frame.append method is deprecated and will be removed from pandas in a future version. Use pandas.concat instead.\n",
      "  labs_overall = ( labs_overall.append(pd.Series(\n"
     ]
    },
    {
     "name": "stdout",
     "output_type": "stream",
     "text": [
      "['Week 19', 'Lab Supervised Learning - Regression\\nRequired', 'Amelie Haberland', '', '']\n",
      "['Week 19', 'Lab Supervised Learning - Regression\\nRequired', 'Angela Arredondo Mendoza', '', '']\n",
      "['Week 19', 'Lab Supervised Learning - Regression\\nRequired', 'Damiano Serra', '', '']\n",
      "['Week 19', 'Lab Supervised Learning - Regression\\nRequired', 'Daniel J Mendez Borges', '', '']\n"
     ]
    },
    {
     "name": "stderr",
     "output_type": "stream",
     "text": [
      "/var/folders/yc/p9m4grcn3n58sspfj1mcsgyr0000gn/T/ipykernel_2148/117283708.py:57: FutureWarning: The frame.append method is deprecated and will be removed from pandas in a future version. Use pandas.concat instead.\n",
      "  labs_overall = ( labs_overall.append(pd.Series(\n",
      "/var/folders/yc/p9m4grcn3n58sspfj1mcsgyr0000gn/T/ipykernel_2148/117283708.py:57: FutureWarning: The frame.append method is deprecated and will be removed from pandas in a future version. Use pandas.concat instead.\n",
      "  labs_overall = ( labs_overall.append(pd.Series(\n",
      "/var/folders/yc/p9m4grcn3n58sspfj1mcsgyr0000gn/T/ipykernel_2148/117283708.py:57: FutureWarning: The frame.append method is deprecated and will be removed from pandas in a future version. Use pandas.concat instead.\n",
      "  labs_overall = ( labs_overall.append(pd.Series(\n",
      "/var/folders/yc/p9m4grcn3n58sspfj1mcsgyr0000gn/T/ipykernel_2148/117283708.py:57: FutureWarning: The frame.append method is deprecated and will be removed from pandas in a future version. Use pandas.concat instead.\n",
      "  labs_overall = ( labs_overall.append(pd.Series(\n"
     ]
    },
    {
     "name": "stdout",
     "output_type": "stream",
     "text": [
      "['Week 19', 'Lab Supervised Learning - Regression\\nRequired', 'Fabio Blank Da Costa', '', '']\n",
      "['Week 19', 'Lab Supervised Learning - Regression\\nRequired', 'Federico Cavanagh', '', '']\n",
      "['Week 19', 'Lab Supervised Learning - Regression\\nRequired', 'Francisco Javier De Las Heras Jimenez', '', '']\n"
     ]
    },
    {
     "name": "stderr",
     "output_type": "stream",
     "text": [
      "/var/folders/yc/p9m4grcn3n58sspfj1mcsgyr0000gn/T/ipykernel_2148/117283708.py:57: FutureWarning: The frame.append method is deprecated and will be removed from pandas in a future version. Use pandas.concat instead.\n",
      "  labs_overall = ( labs_overall.append(pd.Series(\n",
      "/var/folders/yc/p9m4grcn3n58sspfj1mcsgyr0000gn/T/ipykernel_2148/117283708.py:57: FutureWarning: The frame.append method is deprecated and will be removed from pandas in a future version. Use pandas.concat instead.\n",
      "  labs_overall = ( labs_overall.append(pd.Series(\n",
      "/var/folders/yc/p9m4grcn3n58sspfj1mcsgyr0000gn/T/ipykernel_2148/117283708.py:57: FutureWarning: The frame.append method is deprecated and will be removed from pandas in a future version. Use pandas.concat instead.\n",
      "  labs_overall = ( labs_overall.append(pd.Series(\n"
     ]
    },
    {
     "name": "stdout",
     "output_type": "stream",
     "text": [
      "['Week 19', 'Lab Supervised Learning - Regression\\nRequired', 'Gregor Seegers', '', '']\n",
      "['Week 19', 'Lab Supervised Learning - Regression\\nRequired', 'Joaquin Valentin', '', '']\n",
      "['Week 19', 'Lab Supervised Learning - Regression\\nRequired', 'Manouk Meilof', '', '']\n",
      "['Week 19', 'Lab Supervised Learning - Regression\\nRequired', 'Marc Gavaldà', '', '']\n"
     ]
    },
    {
     "name": "stderr",
     "output_type": "stream",
     "text": [
      "/var/folders/yc/p9m4grcn3n58sspfj1mcsgyr0000gn/T/ipykernel_2148/117283708.py:57: FutureWarning: The frame.append method is deprecated and will be removed from pandas in a future version. Use pandas.concat instead.\n",
      "  labs_overall = ( labs_overall.append(pd.Series(\n",
      "/var/folders/yc/p9m4grcn3n58sspfj1mcsgyr0000gn/T/ipykernel_2148/117283708.py:57: FutureWarning: The frame.append method is deprecated and will be removed from pandas in a future version. Use pandas.concat instead.\n",
      "  labs_overall = ( labs_overall.append(pd.Series(\n",
      "/var/folders/yc/p9m4grcn3n58sspfj1mcsgyr0000gn/T/ipykernel_2148/117283708.py:57: FutureWarning: The frame.append method is deprecated and will be removed from pandas in a future version. Use pandas.concat instead.\n",
      "  labs_overall = ( labs_overall.append(pd.Series(\n",
      "/var/folders/yc/p9m4grcn3n58sspfj1mcsgyr0000gn/T/ipykernel_2148/117283708.py:57: FutureWarning: The frame.append method is deprecated and will be removed from pandas in a future version. Use pandas.concat instead.\n",
      "  labs_overall = ( labs_overall.append(pd.Series(\n"
     ]
    },
    {
     "name": "stdout",
     "output_type": "stream",
     "text": [
      "['Week 19', 'Lab Supervised Learning - Regression\\nRequired', 'María Vázquez Casares', '', '']\n",
      "['Week 19', 'Lab Supervised Learning - Regression\\nRequired', 'Max Grempel', '', '']\n",
      "['Week 19', 'Lab Supervised Learning - Regression\\nRequired', 'Shilei Tan Tan', '', '']\n",
      "['Week 19', 'Lab Supervised Learning - Regression\\nRequired', 'Suparna Mandal', '', '']\n"
     ]
    },
    {
     "name": "stderr",
     "output_type": "stream",
     "text": [
      "/var/folders/yc/p9m4grcn3n58sspfj1mcsgyr0000gn/T/ipykernel_2148/117283708.py:57: FutureWarning: The frame.append method is deprecated and will be removed from pandas in a future version. Use pandas.concat instead.\n",
      "  labs_overall = ( labs_overall.append(pd.Series(\n",
      "/var/folders/yc/p9m4grcn3n58sspfj1mcsgyr0000gn/T/ipykernel_2148/117283708.py:57: FutureWarning: The frame.append method is deprecated and will be removed from pandas in a future version. Use pandas.concat instead.\n",
      "  labs_overall = ( labs_overall.append(pd.Series(\n",
      "/var/folders/yc/p9m4grcn3n58sspfj1mcsgyr0000gn/T/ipykernel_2148/117283708.py:57: FutureWarning: The frame.append method is deprecated and will be removed from pandas in a future version. Use pandas.concat instead.\n",
      "  labs_overall = ( labs_overall.append(pd.Series(\n",
      "/var/folders/yc/p9m4grcn3n58sspfj1mcsgyr0000gn/T/ipykernel_2148/117283708.py:57: FutureWarning: The frame.append method is deprecated and will be removed from pandas in a future version. Use pandas.concat instead.\n",
      "  labs_overall = ( labs_overall.append(pd.Series(\n"
     ]
    },
    {
     "name": "stdout",
     "output_type": "stream",
     "text": [
      "['Week 19', 'Lab Supervised Learning - Regression\\nRequired', 'Vanessa Andrade', '', '']\n",
      "['Week 19', 'Lab Supervised Learning - Regression\\nRequired', 'Óscar Iglesias Roqueiro', '', '']\n",
      "finished grabbing students info for lab Lab Supervised Learning - Regression\n",
      "Required of Week 19\n"
     ]
    },
    {
     "name": "stderr",
     "output_type": "stream",
     "text": [
      "/var/folders/yc/p9m4grcn3n58sspfj1mcsgyr0000gn/T/ipykernel_2148/117283708.py:57: FutureWarning: The frame.append method is deprecated and will be removed from pandas in a future version. Use pandas.concat instead.\n",
      "  labs_overall = ( labs_overall.append(pd.Series(\n"
     ]
    },
    {
     "name": "stdout",
     "output_type": "stream",
     "text": [
      "Lab Supervised Learning - Classification\n",
      "Required\n",
      "20  Students grabbed.\n",
      "['Week 19', 'Lab Supervised Learning - Classification\\nRequired', 'Adrian Flores', '', '']\n",
      "['Week 19', 'Lab Supervised Learning - Classification\\nRequired', 'Aferdita Zherka Zherka', '', '']\n",
      "['Week 19', 'Lab Supervised Learning - Classification\\nRequired', 'Alicia Andrés', '', '']\n"
     ]
    },
    {
     "name": "stderr",
     "output_type": "stream",
     "text": [
      "/var/folders/yc/p9m4grcn3n58sspfj1mcsgyr0000gn/T/ipykernel_2148/117283708.py:57: FutureWarning: The frame.append method is deprecated and will be removed from pandas in a future version. Use pandas.concat instead.\n",
      "  labs_overall = ( labs_overall.append(pd.Series(\n",
      "/var/folders/yc/p9m4grcn3n58sspfj1mcsgyr0000gn/T/ipykernel_2148/117283708.py:57: FutureWarning: The frame.append method is deprecated and will be removed from pandas in a future version. Use pandas.concat instead.\n",
      "  labs_overall = ( labs_overall.append(pd.Series(\n",
      "/var/folders/yc/p9m4grcn3n58sspfj1mcsgyr0000gn/T/ipykernel_2148/117283708.py:57: FutureWarning: The frame.append method is deprecated and will be removed from pandas in a future version. Use pandas.concat instead.\n",
      "  labs_overall = ( labs_overall.append(pd.Series(\n",
      "/var/folders/yc/p9m4grcn3n58sspfj1mcsgyr0000gn/T/ipykernel_2148/117283708.py:57: FutureWarning: The frame.append method is deprecated and will be removed from pandas in a future version. Use pandas.concat instead.\n",
      "  labs_overall = ( labs_overall.append(pd.Series(\n"
     ]
    },
    {
     "name": "stdout",
     "output_type": "stream",
     "text": [
      "['Week 19', 'Lab Supervised Learning - Classification\\nRequired', 'Amelie Haberland', '', '']\n",
      "['Week 19', 'Lab Supervised Learning - Classification\\nRequired', 'Angela Arredondo Mendoza', '', '']\n",
      "['Week 19', 'Lab Supervised Learning - Classification\\nRequired', 'Damiano Serra', '', '']\n"
     ]
    },
    {
     "name": "stderr",
     "output_type": "stream",
     "text": [
      "/var/folders/yc/p9m4grcn3n58sspfj1mcsgyr0000gn/T/ipykernel_2148/117283708.py:57: FutureWarning: The frame.append method is deprecated and will be removed from pandas in a future version. Use pandas.concat instead.\n",
      "  labs_overall = ( labs_overall.append(pd.Series(\n",
      "/var/folders/yc/p9m4grcn3n58sspfj1mcsgyr0000gn/T/ipykernel_2148/117283708.py:57: FutureWarning: The frame.append method is deprecated and will be removed from pandas in a future version. Use pandas.concat instead.\n",
      "  labs_overall = ( labs_overall.append(pd.Series(\n",
      "/var/folders/yc/p9m4grcn3n58sspfj1mcsgyr0000gn/T/ipykernel_2148/117283708.py:57: FutureWarning: The frame.append method is deprecated and will be removed from pandas in a future version. Use pandas.concat instead.\n",
      "  labs_overall = ( labs_overall.append(pd.Series(\n",
      "/var/folders/yc/p9m4grcn3n58sspfj1mcsgyr0000gn/T/ipykernel_2148/117283708.py:57: FutureWarning: The frame.append method is deprecated and will be removed from pandas in a future version. Use pandas.concat instead.\n",
      "  labs_overall = ( labs_overall.append(pd.Series(\n"
     ]
    },
    {
     "name": "stdout",
     "output_type": "stream",
     "text": [
      "['Week 19', 'Lab Supervised Learning - Classification\\nRequired', 'Daniel J Mendez Borges', '', '']\n",
      "['Week 19', 'Lab Supervised Learning - Classification\\nRequired', 'Fabio Blank Da Costa', '', '']\n",
      "['Week 19', 'Lab Supervised Learning - Classification\\nRequired', 'Federico Cavanagh', '', '']\n",
      "['Week 19', 'Lab Supervised Learning - Classification\\nRequired', 'Francisco Javier De Las Heras Jimenez', '', '']\n"
     ]
    },
    {
     "name": "stderr",
     "output_type": "stream",
     "text": [
      "/var/folders/yc/p9m4grcn3n58sspfj1mcsgyr0000gn/T/ipykernel_2148/117283708.py:57: FutureWarning: The frame.append method is deprecated and will be removed from pandas in a future version. Use pandas.concat instead.\n",
      "  labs_overall = ( labs_overall.append(pd.Series(\n",
      "/var/folders/yc/p9m4grcn3n58sspfj1mcsgyr0000gn/T/ipykernel_2148/117283708.py:57: FutureWarning: The frame.append method is deprecated and will be removed from pandas in a future version. Use pandas.concat instead.\n",
      "  labs_overall = ( labs_overall.append(pd.Series(\n",
      "/var/folders/yc/p9m4grcn3n58sspfj1mcsgyr0000gn/T/ipykernel_2148/117283708.py:57: FutureWarning: The frame.append method is deprecated and will be removed from pandas in a future version. Use pandas.concat instead.\n",
      "  labs_overall = ( labs_overall.append(pd.Series(\n",
      "/var/folders/yc/p9m4grcn3n58sspfj1mcsgyr0000gn/T/ipykernel_2148/117283708.py:57: FutureWarning: The frame.append method is deprecated and will be removed from pandas in a future version. Use pandas.concat instead.\n",
      "  labs_overall = ( labs_overall.append(pd.Series(\n"
     ]
    },
    {
     "name": "stdout",
     "output_type": "stream",
     "text": [
      "['Week 19', 'Lab Supervised Learning - Classification\\nRequired', 'Gregor Seegers', '', '']\n",
      "['Week 19', 'Lab Supervised Learning - Classification\\nRequired', 'Joaquin Valentin', '', '']\n",
      "['Week 19', 'Lab Supervised Learning - Classification\\nRequired', 'Manouk Meilof', '', '']\n",
      "['Week 19', 'Lab Supervised Learning - Classification\\nRequired', 'Marc Gavaldà', '', '']\n"
     ]
    },
    {
     "name": "stderr",
     "output_type": "stream",
     "text": [
      "/var/folders/yc/p9m4grcn3n58sspfj1mcsgyr0000gn/T/ipykernel_2148/117283708.py:57: FutureWarning: The frame.append method is deprecated and will be removed from pandas in a future version. Use pandas.concat instead.\n",
      "  labs_overall = ( labs_overall.append(pd.Series(\n",
      "/var/folders/yc/p9m4grcn3n58sspfj1mcsgyr0000gn/T/ipykernel_2148/117283708.py:57: FutureWarning: The frame.append method is deprecated and will be removed from pandas in a future version. Use pandas.concat instead.\n",
      "  labs_overall = ( labs_overall.append(pd.Series(\n",
      "/var/folders/yc/p9m4grcn3n58sspfj1mcsgyr0000gn/T/ipykernel_2148/117283708.py:57: FutureWarning: The frame.append method is deprecated and will be removed from pandas in a future version. Use pandas.concat instead.\n",
      "  labs_overall = ( labs_overall.append(pd.Series(\n",
      "/var/folders/yc/p9m4grcn3n58sspfj1mcsgyr0000gn/T/ipykernel_2148/117283708.py:57: FutureWarning: The frame.append method is deprecated and will be removed from pandas in a future version. Use pandas.concat instead.\n",
      "  labs_overall = ( labs_overall.append(pd.Series(\n"
     ]
    },
    {
     "name": "stdout",
     "output_type": "stream",
     "text": [
      "['Week 19', 'Lab Supervised Learning - Classification\\nRequired', 'María Vázquez Casares', '', '']\n",
      "['Week 19', 'Lab Supervised Learning - Classification\\nRequired', 'Max Grempel', '', '']\n",
      "['Week 19', 'Lab Supervised Learning - Classification\\nRequired', 'Shilei Tan Tan', '', '']\n",
      "['Week 19', 'Lab Supervised Learning - Classification\\nRequired', 'Suparna Mandal', '', '']\n"
     ]
    },
    {
     "name": "stderr",
     "output_type": "stream",
     "text": [
      "/var/folders/yc/p9m4grcn3n58sspfj1mcsgyr0000gn/T/ipykernel_2148/117283708.py:57: FutureWarning: The frame.append method is deprecated and will be removed from pandas in a future version. Use pandas.concat instead.\n",
      "  labs_overall = ( labs_overall.append(pd.Series(\n",
      "/var/folders/yc/p9m4grcn3n58sspfj1mcsgyr0000gn/T/ipykernel_2148/117283708.py:57: FutureWarning: The frame.append method is deprecated and will be removed from pandas in a future version. Use pandas.concat instead.\n",
      "  labs_overall = ( labs_overall.append(pd.Series(\n",
      "/var/folders/yc/p9m4grcn3n58sspfj1mcsgyr0000gn/T/ipykernel_2148/117283708.py:57: FutureWarning: The frame.append method is deprecated and will be removed from pandas in a future version. Use pandas.concat instead.\n",
      "  labs_overall = ( labs_overall.append(pd.Series(\n"
     ]
    },
    {
     "name": "stdout",
     "output_type": "stream",
     "text": [
      "['Week 19', 'Lab Supervised Learning - Classification\\nRequired', 'Vanessa Andrade', '', '']\n",
      "['Week 19', 'Lab Supervised Learning - Classification\\nRequired', 'Óscar Iglesias Roqueiro', '', '']\n",
      "finished grabbing students info for lab Lab Supervised Learning - Classification\n",
      "Required of Week 19\n"
     ]
    },
    {
     "name": "stderr",
     "output_type": "stream",
     "text": [
      "/var/folders/yc/p9m4grcn3n58sspfj1mcsgyr0000gn/T/ipykernel_2148/117283708.py:57: FutureWarning: The frame.append method is deprecated and will be removed from pandas in a future version. Use pandas.concat instead.\n",
      "  labs_overall = ( labs_overall.append(pd.Series(\n"
     ]
    },
    {
     "name": "stdout",
     "output_type": "stream",
     "text": [
      "Week 21\n",
      "Lab Unsupervised Learning\n",
      "Required\n",
      "20  Students grabbed.\n",
      "['Week 21', 'Lab Unsupervised Learning\\nRequired', 'Adrian Flores', '', '']\n",
      "['Week 21', 'Lab Unsupervised Learning\\nRequired', 'Aferdita Zherka Zherka', '', '']\n",
      "['Week 21', 'Lab Unsupervised Learning\\nRequired', 'Alicia Andrés', '', '']\n"
     ]
    },
    {
     "name": "stderr",
     "output_type": "stream",
     "text": [
      "/var/folders/yc/p9m4grcn3n58sspfj1mcsgyr0000gn/T/ipykernel_2148/117283708.py:57: FutureWarning: The frame.append method is deprecated and will be removed from pandas in a future version. Use pandas.concat instead.\n",
      "  labs_overall = ( labs_overall.append(pd.Series(\n",
      "/var/folders/yc/p9m4grcn3n58sspfj1mcsgyr0000gn/T/ipykernel_2148/117283708.py:57: FutureWarning: The frame.append method is deprecated and will be removed from pandas in a future version. Use pandas.concat instead.\n",
      "  labs_overall = ( labs_overall.append(pd.Series(\n",
      "/var/folders/yc/p9m4grcn3n58sspfj1mcsgyr0000gn/T/ipykernel_2148/117283708.py:57: FutureWarning: The frame.append method is deprecated and will be removed from pandas in a future version. Use pandas.concat instead.\n",
      "  labs_overall = ( labs_overall.append(pd.Series(\n",
      "/var/folders/yc/p9m4grcn3n58sspfj1mcsgyr0000gn/T/ipykernel_2148/117283708.py:57: FutureWarning: The frame.append method is deprecated and will be removed from pandas in a future version. Use pandas.concat instead.\n",
      "  labs_overall = ( labs_overall.append(pd.Series(\n"
     ]
    },
    {
     "name": "stdout",
     "output_type": "stream",
     "text": [
      "['Week 21', 'Lab Unsupervised Learning\\nRequired', 'Amelie Haberland', '', '']\n",
      "['Week 21', 'Lab Unsupervised Learning\\nRequired', 'Angela Arredondo Mendoza', '', '']\n",
      "['Week 21', 'Lab Unsupervised Learning\\nRequired', 'Damiano Serra', '', '']\n"
     ]
    },
    {
     "name": "stderr",
     "output_type": "stream",
     "text": [
      "/var/folders/yc/p9m4grcn3n58sspfj1mcsgyr0000gn/T/ipykernel_2148/117283708.py:57: FutureWarning: The frame.append method is deprecated and will be removed from pandas in a future version. Use pandas.concat instead.\n",
      "  labs_overall = ( labs_overall.append(pd.Series(\n",
      "/var/folders/yc/p9m4grcn3n58sspfj1mcsgyr0000gn/T/ipykernel_2148/117283708.py:57: FutureWarning: The frame.append method is deprecated and will be removed from pandas in a future version. Use pandas.concat instead.\n",
      "  labs_overall = ( labs_overall.append(pd.Series(\n",
      "/var/folders/yc/p9m4grcn3n58sspfj1mcsgyr0000gn/T/ipykernel_2148/117283708.py:57: FutureWarning: The frame.append method is deprecated and will be removed from pandas in a future version. Use pandas.concat instead.\n",
      "  labs_overall = ( labs_overall.append(pd.Series(\n"
     ]
    },
    {
     "name": "stdout",
     "output_type": "stream",
     "text": [
      "['Week 21', 'Lab Unsupervised Learning\\nRequired', 'Daniel J Mendez Borges', '', '']\n",
      "['Week 21', 'Lab Unsupervised Learning\\nRequired', 'Fabio Blank Da Costa', '', '']\n",
      "['Week 21', 'Lab Unsupervised Learning\\nRequired', 'Federico Cavanagh', '', '']\n",
      "['Week 21', 'Lab Unsupervised Learning\\nRequired', 'Francisco Javier De Las Heras Jimenez', '', '']\n"
     ]
    },
    {
     "name": "stderr",
     "output_type": "stream",
     "text": [
      "/var/folders/yc/p9m4grcn3n58sspfj1mcsgyr0000gn/T/ipykernel_2148/117283708.py:57: FutureWarning: The frame.append method is deprecated and will be removed from pandas in a future version. Use pandas.concat instead.\n",
      "  labs_overall = ( labs_overall.append(pd.Series(\n",
      "/var/folders/yc/p9m4grcn3n58sspfj1mcsgyr0000gn/T/ipykernel_2148/117283708.py:57: FutureWarning: The frame.append method is deprecated and will be removed from pandas in a future version. Use pandas.concat instead.\n",
      "  labs_overall = ( labs_overall.append(pd.Series(\n",
      "/var/folders/yc/p9m4grcn3n58sspfj1mcsgyr0000gn/T/ipykernel_2148/117283708.py:57: FutureWarning: The frame.append method is deprecated and will be removed from pandas in a future version. Use pandas.concat instead.\n",
      "  labs_overall = ( labs_overall.append(pd.Series(\n",
      "/var/folders/yc/p9m4grcn3n58sspfj1mcsgyr0000gn/T/ipykernel_2148/117283708.py:57: FutureWarning: The frame.append method is deprecated and will be removed from pandas in a future version. Use pandas.concat instead.\n",
      "  labs_overall = ( labs_overall.append(pd.Series(\n"
     ]
    },
    {
     "name": "stdout",
     "output_type": "stream",
     "text": [
      "['Week 21', 'Lab Unsupervised Learning\\nRequired', 'Gregor Seegers', '', '']\n",
      "['Week 21', 'Lab Unsupervised Learning\\nRequired', 'Joaquin Valentin', '', '']\n",
      "['Week 21', 'Lab Unsupervised Learning\\nRequired', 'Manouk Meilof', '', '']\n",
      "['Week 21', 'Lab Unsupervised Learning\\nRequired', 'Marc Gavaldà', '', '']\n"
     ]
    },
    {
     "name": "stderr",
     "output_type": "stream",
     "text": [
      "/var/folders/yc/p9m4grcn3n58sspfj1mcsgyr0000gn/T/ipykernel_2148/117283708.py:57: FutureWarning: The frame.append method is deprecated and will be removed from pandas in a future version. Use pandas.concat instead.\n",
      "  labs_overall = ( labs_overall.append(pd.Series(\n",
      "/var/folders/yc/p9m4grcn3n58sspfj1mcsgyr0000gn/T/ipykernel_2148/117283708.py:57: FutureWarning: The frame.append method is deprecated and will be removed from pandas in a future version. Use pandas.concat instead.\n",
      "  labs_overall = ( labs_overall.append(pd.Series(\n",
      "/var/folders/yc/p9m4grcn3n58sspfj1mcsgyr0000gn/T/ipykernel_2148/117283708.py:57: FutureWarning: The frame.append method is deprecated and will be removed from pandas in a future version. Use pandas.concat instead.\n",
      "  labs_overall = ( labs_overall.append(pd.Series(\n",
      "/var/folders/yc/p9m4grcn3n58sspfj1mcsgyr0000gn/T/ipykernel_2148/117283708.py:57: FutureWarning: The frame.append method is deprecated and will be removed from pandas in a future version. Use pandas.concat instead.\n",
      "  labs_overall = ( labs_overall.append(pd.Series(\n"
     ]
    },
    {
     "name": "stdout",
     "output_type": "stream",
     "text": [
      "['Week 21', 'Lab Unsupervised Learning\\nRequired', 'María Vázquez Casares', '', '']\n",
      "['Week 21', 'Lab Unsupervised Learning\\nRequired', 'Max Grempel', '', '']\n",
      "['Week 21', 'Lab Unsupervised Learning\\nRequired', 'Shilei Tan Tan', '', '']\n",
      "['Week 21', 'Lab Unsupervised Learning\\nRequired', 'Suparna Mandal', '', '']\n"
     ]
    },
    {
     "name": "stderr",
     "output_type": "stream",
     "text": [
      "/var/folders/yc/p9m4grcn3n58sspfj1mcsgyr0000gn/T/ipykernel_2148/117283708.py:57: FutureWarning: The frame.append method is deprecated and will be removed from pandas in a future version. Use pandas.concat instead.\n",
      "  labs_overall = ( labs_overall.append(pd.Series(\n",
      "/var/folders/yc/p9m4grcn3n58sspfj1mcsgyr0000gn/T/ipykernel_2148/117283708.py:57: FutureWarning: The frame.append method is deprecated and will be removed from pandas in a future version. Use pandas.concat instead.\n",
      "  labs_overall = ( labs_overall.append(pd.Series(\n",
      "/var/folders/yc/p9m4grcn3n58sspfj1mcsgyr0000gn/T/ipykernel_2148/117283708.py:57: FutureWarning: The frame.append method is deprecated and will be removed from pandas in a future version. Use pandas.concat instead.\n",
      "  labs_overall = ( labs_overall.append(pd.Series(\n",
      "/var/folders/yc/p9m4grcn3n58sspfj1mcsgyr0000gn/T/ipykernel_2148/117283708.py:57: FutureWarning: The frame.append method is deprecated and will be removed from pandas in a future version. Use pandas.concat instead.\n",
      "  labs_overall = ( labs_overall.append(pd.Series(\n"
     ]
    },
    {
     "name": "stdout",
     "output_type": "stream",
     "text": [
      "['Week 21', 'Lab Unsupervised Learning\\nRequired', 'Vanessa Andrade', '', '']\n",
      "['Week 21', 'Lab Unsupervised Learning\\nRequired', 'Óscar Iglesias Roqueiro', '', '']\n",
      "finished grabbing students info for lab Lab Unsupervised Learning\n",
      "Required of Week 21\n"
     ]
    },
    {
     "name": "stderr",
     "output_type": "stream",
     "text": [
      "/var/folders/yc/p9m4grcn3n58sspfj1mcsgyr0000gn/T/ipykernel_2148/117283708.py:57: FutureWarning: The frame.append method is deprecated and will be removed from pandas in a future version. Use pandas.concat instead.\n",
      "  labs_overall = ( labs_overall.append(pd.Series(\n"
     ]
    },
    {
     "name": "stdout",
     "output_type": "stream",
     "text": [
      "Lab Problems in ML\n",
      "Required\n",
      "20  Students grabbed.\n",
      "['Week 21', 'Lab Problems in ML\\nRequired', 'Adrian Flores', '', '']\n",
      "['Week 21', 'Lab Problems in ML\\nRequired', 'Aferdita Zherka Zherka', '', '']\n",
      "['Week 21', 'Lab Problems in ML\\nRequired', 'Alicia Andrés', '', '']\n"
     ]
    },
    {
     "name": "stderr",
     "output_type": "stream",
     "text": [
      "/var/folders/yc/p9m4grcn3n58sspfj1mcsgyr0000gn/T/ipykernel_2148/117283708.py:57: FutureWarning: The frame.append method is deprecated and will be removed from pandas in a future version. Use pandas.concat instead.\n",
      "  labs_overall = ( labs_overall.append(pd.Series(\n",
      "/var/folders/yc/p9m4grcn3n58sspfj1mcsgyr0000gn/T/ipykernel_2148/117283708.py:57: FutureWarning: The frame.append method is deprecated and will be removed from pandas in a future version. Use pandas.concat instead.\n",
      "  labs_overall = ( labs_overall.append(pd.Series(\n",
      "/var/folders/yc/p9m4grcn3n58sspfj1mcsgyr0000gn/T/ipykernel_2148/117283708.py:57: FutureWarning: The frame.append method is deprecated and will be removed from pandas in a future version. Use pandas.concat instead.\n",
      "  labs_overall = ( labs_overall.append(pd.Series(\n",
      "/var/folders/yc/p9m4grcn3n58sspfj1mcsgyr0000gn/T/ipykernel_2148/117283708.py:57: FutureWarning: The frame.append method is deprecated and will be removed from pandas in a future version. Use pandas.concat instead.\n",
      "  labs_overall = ( labs_overall.append(pd.Series(\n"
     ]
    },
    {
     "name": "stdout",
     "output_type": "stream",
     "text": [
      "['Week 21', 'Lab Problems in ML\\nRequired', 'Amelie Haberland', '', '']\n",
      "['Week 21', 'Lab Problems in ML\\nRequired', 'Angela Arredondo Mendoza', '', '']\n",
      "['Week 21', 'Lab Problems in ML\\nRequired', 'Damiano Serra', '', '']\n",
      "['Week 21', 'Lab Problems in ML\\nRequired', 'Daniel J Mendez Borges', '', '']\n"
     ]
    },
    {
     "name": "stderr",
     "output_type": "stream",
     "text": [
      "/var/folders/yc/p9m4grcn3n58sspfj1mcsgyr0000gn/T/ipykernel_2148/117283708.py:57: FutureWarning: The frame.append method is deprecated and will be removed from pandas in a future version. Use pandas.concat instead.\n",
      "  labs_overall = ( labs_overall.append(pd.Series(\n",
      "/var/folders/yc/p9m4grcn3n58sspfj1mcsgyr0000gn/T/ipykernel_2148/117283708.py:57: FutureWarning: The frame.append method is deprecated and will be removed from pandas in a future version. Use pandas.concat instead.\n",
      "  labs_overall = ( labs_overall.append(pd.Series(\n",
      "/var/folders/yc/p9m4grcn3n58sspfj1mcsgyr0000gn/T/ipykernel_2148/117283708.py:57: FutureWarning: The frame.append method is deprecated and will be removed from pandas in a future version. Use pandas.concat instead.\n",
      "  labs_overall = ( labs_overall.append(pd.Series(\n",
      "/var/folders/yc/p9m4grcn3n58sspfj1mcsgyr0000gn/T/ipykernel_2148/117283708.py:57: FutureWarning: The frame.append method is deprecated and will be removed from pandas in a future version. Use pandas.concat instead.\n",
      "  labs_overall = ( labs_overall.append(pd.Series(\n"
     ]
    },
    {
     "name": "stdout",
     "output_type": "stream",
     "text": [
      "['Week 21', 'Lab Problems in ML\\nRequired', 'Fabio Blank Da Costa', '', '']\n",
      "['Week 21', 'Lab Problems in ML\\nRequired', 'Federico Cavanagh', '', '']\n",
      "['Week 21', 'Lab Problems in ML\\nRequired', 'Francisco Javier De Las Heras Jimenez', '', '']\n"
     ]
    },
    {
     "name": "stderr",
     "output_type": "stream",
     "text": [
      "/var/folders/yc/p9m4grcn3n58sspfj1mcsgyr0000gn/T/ipykernel_2148/117283708.py:57: FutureWarning: The frame.append method is deprecated and will be removed from pandas in a future version. Use pandas.concat instead.\n",
      "  labs_overall = ( labs_overall.append(pd.Series(\n",
      "/var/folders/yc/p9m4grcn3n58sspfj1mcsgyr0000gn/T/ipykernel_2148/117283708.py:57: FutureWarning: The frame.append method is deprecated and will be removed from pandas in a future version. Use pandas.concat instead.\n",
      "  labs_overall = ( labs_overall.append(pd.Series(\n",
      "/var/folders/yc/p9m4grcn3n58sspfj1mcsgyr0000gn/T/ipykernel_2148/117283708.py:57: FutureWarning: The frame.append method is deprecated and will be removed from pandas in a future version. Use pandas.concat instead.\n",
      "  labs_overall = ( labs_overall.append(pd.Series(\n"
     ]
    },
    {
     "name": "stdout",
     "output_type": "stream",
     "text": [
      "['Week 21', 'Lab Problems in ML\\nRequired', 'Gregor Seegers', '', '']\n",
      "['Week 21', 'Lab Problems in ML\\nRequired', 'Joaquin Valentin', '', '']\n",
      "['Week 21', 'Lab Problems in ML\\nRequired', 'Manouk Meilof', '', '']\n",
      "['Week 21', 'Lab Problems in ML\\nRequired', 'Marc Gavaldà', '', '']\n"
     ]
    },
    {
     "name": "stderr",
     "output_type": "stream",
     "text": [
      "/var/folders/yc/p9m4grcn3n58sspfj1mcsgyr0000gn/T/ipykernel_2148/117283708.py:57: FutureWarning: The frame.append method is deprecated and will be removed from pandas in a future version. Use pandas.concat instead.\n",
      "  labs_overall = ( labs_overall.append(pd.Series(\n",
      "/var/folders/yc/p9m4grcn3n58sspfj1mcsgyr0000gn/T/ipykernel_2148/117283708.py:57: FutureWarning: The frame.append method is deprecated and will be removed from pandas in a future version. Use pandas.concat instead.\n",
      "  labs_overall = ( labs_overall.append(pd.Series(\n",
      "/var/folders/yc/p9m4grcn3n58sspfj1mcsgyr0000gn/T/ipykernel_2148/117283708.py:57: FutureWarning: The frame.append method is deprecated and will be removed from pandas in a future version. Use pandas.concat instead.\n",
      "  labs_overall = ( labs_overall.append(pd.Series(\n",
      "/var/folders/yc/p9m4grcn3n58sspfj1mcsgyr0000gn/T/ipykernel_2148/117283708.py:57: FutureWarning: The frame.append method is deprecated and will be removed from pandas in a future version. Use pandas.concat instead.\n",
      "  labs_overall = ( labs_overall.append(pd.Series(\n"
     ]
    },
    {
     "name": "stdout",
     "output_type": "stream",
     "text": [
      "['Week 21', 'Lab Problems in ML\\nRequired', 'María Vázquez Casares', '', '']\n",
      "['Week 21', 'Lab Problems in ML\\nRequired', 'Max Grempel', '', '']\n",
      "['Week 21', 'Lab Problems in ML\\nRequired', 'Shilei Tan Tan', '', '']\n",
      "['Week 21', 'Lab Problems in ML\\nRequired', 'Suparna Mandal', '', '']\n"
     ]
    },
    {
     "name": "stderr",
     "output_type": "stream",
     "text": [
      "/var/folders/yc/p9m4grcn3n58sspfj1mcsgyr0000gn/T/ipykernel_2148/117283708.py:57: FutureWarning: The frame.append method is deprecated and will be removed from pandas in a future version. Use pandas.concat instead.\n",
      "  labs_overall = ( labs_overall.append(pd.Series(\n",
      "/var/folders/yc/p9m4grcn3n58sspfj1mcsgyr0000gn/T/ipykernel_2148/117283708.py:57: FutureWarning: The frame.append method is deprecated and will be removed from pandas in a future version. Use pandas.concat instead.\n",
      "  labs_overall = ( labs_overall.append(pd.Series(\n",
      "/var/folders/yc/p9m4grcn3n58sspfj1mcsgyr0000gn/T/ipykernel_2148/117283708.py:57: FutureWarning: The frame.append method is deprecated and will be removed from pandas in a future version. Use pandas.concat instead.\n",
      "  labs_overall = ( labs_overall.append(pd.Series(\n",
      "/var/folders/yc/p9m4grcn3n58sspfj1mcsgyr0000gn/T/ipykernel_2148/117283708.py:57: FutureWarning: The frame.append method is deprecated and will be removed from pandas in a future version. Use pandas.concat instead.\n",
      "  labs_overall = ( labs_overall.append(pd.Series(\n"
     ]
    },
    {
     "name": "stdout",
     "output_type": "stream",
     "text": [
      "['Week 21', 'Lab Problems in ML\\nRequired', 'Vanessa Andrade', '', '']\n",
      "['Week 21', 'Lab Problems in ML\\nRequired', 'Óscar Iglesias Roqueiro', '', '']\n",
      "finished grabbing students info for lab Lab Problems in ML\n",
      "Required of Week 21\n"
     ]
    },
    {
     "name": "stderr",
     "output_type": "stream",
     "text": [
      "/var/folders/yc/p9m4grcn3n58sspfj1mcsgyr0000gn/T/ipykernel_2148/117283708.py:57: FutureWarning: The frame.append method is deprecated and will be removed from pandas in a future version. Use pandas.concat instead.\n",
      "  labs_overall = ( labs_overall.append(pd.Series(\n"
     ]
    },
    {
     "name": "stdout",
     "output_type": "stream",
     "text": [
      "Week 22\n",
      "Lab NLP\n",
      "Required\n",
      "20  Students grabbed.\n",
      "['Week 22', 'Lab NLP\\nRequired', 'Adrian Flores', '', '']\n",
      "['Week 22', 'Lab NLP\\nRequired', 'Aferdita Zherka Zherka', '', '']\n",
      "['Week 22', 'Lab NLP\\nRequired', 'Alicia Andrés', '', '']\n"
     ]
    },
    {
     "name": "stderr",
     "output_type": "stream",
     "text": [
      "/var/folders/yc/p9m4grcn3n58sspfj1mcsgyr0000gn/T/ipykernel_2148/117283708.py:57: FutureWarning: The frame.append method is deprecated and will be removed from pandas in a future version. Use pandas.concat instead.\n",
      "  labs_overall = ( labs_overall.append(pd.Series(\n",
      "/var/folders/yc/p9m4grcn3n58sspfj1mcsgyr0000gn/T/ipykernel_2148/117283708.py:57: FutureWarning: The frame.append method is deprecated and will be removed from pandas in a future version. Use pandas.concat instead.\n",
      "  labs_overall = ( labs_overall.append(pd.Series(\n",
      "/var/folders/yc/p9m4grcn3n58sspfj1mcsgyr0000gn/T/ipykernel_2148/117283708.py:57: FutureWarning: The frame.append method is deprecated and will be removed from pandas in a future version. Use pandas.concat instead.\n",
      "  labs_overall = ( labs_overall.append(pd.Series(\n"
     ]
    },
    {
     "name": "stdout",
     "output_type": "stream",
     "text": [
      "['Week 22', 'Lab NLP\\nRequired', 'Amelie Haberland', '', '']\n",
      "['Week 22', 'Lab NLP\\nRequired', 'Angela Arredondo Mendoza', '', '']\n",
      "['Week 22', 'Lab NLP\\nRequired', 'Damiano Serra', '', '']\n",
      "['Week 22', 'Lab NLP\\nRequired', 'Daniel J Mendez Borges', '', '']\n"
     ]
    },
    {
     "name": "stderr",
     "output_type": "stream",
     "text": [
      "/var/folders/yc/p9m4grcn3n58sspfj1mcsgyr0000gn/T/ipykernel_2148/117283708.py:57: FutureWarning: The frame.append method is deprecated and will be removed from pandas in a future version. Use pandas.concat instead.\n",
      "  labs_overall = ( labs_overall.append(pd.Series(\n",
      "/var/folders/yc/p9m4grcn3n58sspfj1mcsgyr0000gn/T/ipykernel_2148/117283708.py:57: FutureWarning: The frame.append method is deprecated and will be removed from pandas in a future version. Use pandas.concat instead.\n",
      "  labs_overall = ( labs_overall.append(pd.Series(\n",
      "/var/folders/yc/p9m4grcn3n58sspfj1mcsgyr0000gn/T/ipykernel_2148/117283708.py:57: FutureWarning: The frame.append method is deprecated and will be removed from pandas in a future version. Use pandas.concat instead.\n",
      "  labs_overall = ( labs_overall.append(pd.Series(\n",
      "/var/folders/yc/p9m4grcn3n58sspfj1mcsgyr0000gn/T/ipykernel_2148/117283708.py:57: FutureWarning: The frame.append method is deprecated and will be removed from pandas in a future version. Use pandas.concat instead.\n",
      "  labs_overall = ( labs_overall.append(pd.Series(\n"
     ]
    },
    {
     "name": "stdout",
     "output_type": "stream",
     "text": [
      "['Week 22', 'Lab NLP\\nRequired', 'Fabio Blank Da Costa', '', '']\n",
      "['Week 22', 'Lab NLP\\nRequired', 'Federico Cavanagh', '', '']\n",
      "['Week 22', 'Lab NLP\\nRequired', 'Francisco Javier De Las Heras Jimenez', '', '']\n",
      "['Week 22', 'Lab NLP\\nRequired', 'Gregor Seegers', '', '']\n"
     ]
    },
    {
     "name": "stderr",
     "output_type": "stream",
     "text": [
      "/var/folders/yc/p9m4grcn3n58sspfj1mcsgyr0000gn/T/ipykernel_2148/117283708.py:57: FutureWarning: The frame.append method is deprecated and will be removed from pandas in a future version. Use pandas.concat instead.\n",
      "  labs_overall = ( labs_overall.append(pd.Series(\n",
      "/var/folders/yc/p9m4grcn3n58sspfj1mcsgyr0000gn/T/ipykernel_2148/117283708.py:57: FutureWarning: The frame.append method is deprecated and will be removed from pandas in a future version. Use pandas.concat instead.\n",
      "  labs_overall = ( labs_overall.append(pd.Series(\n",
      "/var/folders/yc/p9m4grcn3n58sspfj1mcsgyr0000gn/T/ipykernel_2148/117283708.py:57: FutureWarning: The frame.append method is deprecated and will be removed from pandas in a future version. Use pandas.concat instead.\n",
      "  labs_overall = ( labs_overall.append(pd.Series(\n",
      "/var/folders/yc/p9m4grcn3n58sspfj1mcsgyr0000gn/T/ipykernel_2148/117283708.py:57: FutureWarning: The frame.append method is deprecated and will be removed from pandas in a future version. Use pandas.concat instead.\n",
      "  labs_overall = ( labs_overall.append(pd.Series(\n"
     ]
    },
    {
     "name": "stdout",
     "output_type": "stream",
     "text": [
      "['Week 22', 'Lab NLP\\nRequired', 'Joaquin Valentin', '', '']\n",
      "['Week 22', 'Lab NLP\\nRequired', 'Manouk Meilof', '', '']\n",
      "['Week 22', 'Lab NLP\\nRequired', 'Marc Gavaldà', '', '']\n",
      "['Week 22', 'Lab NLP\\nRequired', 'María Vázquez Casares', '', '']\n"
     ]
    },
    {
     "name": "stderr",
     "output_type": "stream",
     "text": [
      "/var/folders/yc/p9m4grcn3n58sspfj1mcsgyr0000gn/T/ipykernel_2148/117283708.py:57: FutureWarning: The frame.append method is deprecated and will be removed from pandas in a future version. Use pandas.concat instead.\n",
      "  labs_overall = ( labs_overall.append(pd.Series(\n",
      "/var/folders/yc/p9m4grcn3n58sspfj1mcsgyr0000gn/T/ipykernel_2148/117283708.py:57: FutureWarning: The frame.append method is deprecated and will be removed from pandas in a future version. Use pandas.concat instead.\n",
      "  labs_overall = ( labs_overall.append(pd.Series(\n",
      "/var/folders/yc/p9m4grcn3n58sspfj1mcsgyr0000gn/T/ipykernel_2148/117283708.py:57: FutureWarning: The frame.append method is deprecated and will be removed from pandas in a future version. Use pandas.concat instead.\n",
      "  labs_overall = ( labs_overall.append(pd.Series(\n",
      "/var/folders/yc/p9m4grcn3n58sspfj1mcsgyr0000gn/T/ipykernel_2148/117283708.py:57: FutureWarning: The frame.append method is deprecated and will be removed from pandas in a future version. Use pandas.concat instead.\n",
      "  labs_overall = ( labs_overall.append(pd.Series(\n"
     ]
    },
    {
     "name": "stdout",
     "output_type": "stream",
     "text": [
      "['Week 22', 'Lab NLP\\nRequired', 'Max Grempel', '', '']\n",
      "['Week 22', 'Lab NLP\\nRequired', 'Shilei Tan Tan', '', '']\n",
      "['Week 22', 'Lab NLP\\nRequired', 'Suparna Mandal', '', '']\n"
     ]
    },
    {
     "name": "stderr",
     "output_type": "stream",
     "text": [
      "/var/folders/yc/p9m4grcn3n58sspfj1mcsgyr0000gn/T/ipykernel_2148/117283708.py:57: FutureWarning: The frame.append method is deprecated and will be removed from pandas in a future version. Use pandas.concat instead.\n",
      "  labs_overall = ( labs_overall.append(pd.Series(\n",
      "/var/folders/yc/p9m4grcn3n58sspfj1mcsgyr0000gn/T/ipykernel_2148/117283708.py:57: FutureWarning: The frame.append method is deprecated and will be removed from pandas in a future version. Use pandas.concat instead.\n",
      "  labs_overall = ( labs_overall.append(pd.Series(\n",
      "/var/folders/yc/p9m4grcn3n58sspfj1mcsgyr0000gn/T/ipykernel_2148/117283708.py:57: FutureWarning: The frame.append method is deprecated and will be removed from pandas in a future version. Use pandas.concat instead.\n",
      "  labs_overall = ( labs_overall.append(pd.Series(\n"
     ]
    },
    {
     "name": "stdout",
     "output_type": "stream",
     "text": [
      "['Week 22', 'Lab NLP\\nRequired', 'Vanessa Andrade', '', '']\n",
      "['Week 22', 'Lab NLP\\nRequired', 'Óscar Iglesias Roqueiro', '', '']\n",
      "finished grabbing students info for lab Lab NLP\n",
      "Required of Week 22\n"
     ]
    },
    {
     "name": "stderr",
     "output_type": "stream",
     "text": [
      "/var/folders/yc/p9m4grcn3n58sspfj1mcsgyr0000gn/T/ipykernel_2148/117283708.py:57: FutureWarning: The frame.append method is deprecated and will be removed from pandas in a future version. Use pandas.concat instead.\n",
      "  labs_overall = ( labs_overall.append(pd.Series(\n",
      "/var/folders/yc/p9m4grcn3n58sspfj1mcsgyr0000gn/T/ipykernel_2148/117283708.py:57: FutureWarning: The frame.append method is deprecated and will be removed from pandas in a future version. Use pandas.concat instead.\n",
      "  labs_overall = ( labs_overall.append(pd.Series(\n"
     ]
    },
    {
     "name": "stdout",
     "output_type": "stream",
     "text": [
      "Lab Deep Learning\n",
      "Required\n",
      "20  Students grabbed.\n",
      "['Week 22', 'Lab Deep Learning\\nRequired', 'Adrian Flores', '', '']\n",
      "['Week 22', 'Lab Deep Learning\\nRequired', 'Aferdita Zherka Zherka', '', '']\n",
      "['Week 22', 'Lab Deep Learning\\nRequired', 'Alicia Andrés', '', '']\n"
     ]
    },
    {
     "name": "stderr",
     "output_type": "stream",
     "text": [
      "/var/folders/yc/p9m4grcn3n58sspfj1mcsgyr0000gn/T/ipykernel_2148/117283708.py:57: FutureWarning: The frame.append method is deprecated and will be removed from pandas in a future version. Use pandas.concat instead.\n",
      "  labs_overall = ( labs_overall.append(pd.Series(\n",
      "/var/folders/yc/p9m4grcn3n58sspfj1mcsgyr0000gn/T/ipykernel_2148/117283708.py:57: FutureWarning: The frame.append method is deprecated and will be removed from pandas in a future version. Use pandas.concat instead.\n",
      "  labs_overall = ( labs_overall.append(pd.Series(\n",
      "/var/folders/yc/p9m4grcn3n58sspfj1mcsgyr0000gn/T/ipykernel_2148/117283708.py:57: FutureWarning: The frame.append method is deprecated and will be removed from pandas in a future version. Use pandas.concat instead.\n",
      "  labs_overall = ( labs_overall.append(pd.Series(\n",
      "/var/folders/yc/p9m4grcn3n58sspfj1mcsgyr0000gn/T/ipykernel_2148/117283708.py:57: FutureWarning: The frame.append method is deprecated and will be removed from pandas in a future version. Use pandas.concat instead.\n",
      "  labs_overall = ( labs_overall.append(pd.Series(\n"
     ]
    },
    {
     "name": "stdout",
     "output_type": "stream",
     "text": [
      "['Week 22', 'Lab Deep Learning\\nRequired', 'Amelie Haberland', '', '']\n",
      "['Week 22', 'Lab Deep Learning\\nRequired', 'Angela Arredondo Mendoza', '', '']\n",
      "['Week 22', 'Lab Deep Learning\\nRequired', 'Damiano Serra', '', '']\n",
      "['Week 22', 'Lab Deep Learning\\nRequired', 'Daniel J Mendez Borges', '', '']\n"
     ]
    },
    {
     "name": "stderr",
     "output_type": "stream",
     "text": [
      "/var/folders/yc/p9m4grcn3n58sspfj1mcsgyr0000gn/T/ipykernel_2148/117283708.py:57: FutureWarning: The frame.append method is deprecated and will be removed from pandas in a future version. Use pandas.concat instead.\n",
      "  labs_overall = ( labs_overall.append(pd.Series(\n",
      "/var/folders/yc/p9m4grcn3n58sspfj1mcsgyr0000gn/T/ipykernel_2148/117283708.py:57: FutureWarning: The frame.append method is deprecated and will be removed from pandas in a future version. Use pandas.concat instead.\n",
      "  labs_overall = ( labs_overall.append(pd.Series(\n",
      "/var/folders/yc/p9m4grcn3n58sspfj1mcsgyr0000gn/T/ipykernel_2148/117283708.py:57: FutureWarning: The frame.append method is deprecated and will be removed from pandas in a future version. Use pandas.concat instead.\n",
      "  labs_overall = ( labs_overall.append(pd.Series(\n",
      "/var/folders/yc/p9m4grcn3n58sspfj1mcsgyr0000gn/T/ipykernel_2148/117283708.py:57: FutureWarning: The frame.append method is deprecated and will be removed from pandas in a future version. Use pandas.concat instead.\n",
      "  labs_overall = ( labs_overall.append(pd.Series(\n"
     ]
    },
    {
     "name": "stdout",
     "output_type": "stream",
     "text": [
      "['Week 22', 'Lab Deep Learning\\nRequired', 'Fabio Blank Da Costa', '', '']\n",
      "['Week 22', 'Lab Deep Learning\\nRequired', 'Federico Cavanagh', '', '']\n",
      "['Week 22', 'Lab Deep Learning\\nRequired', 'Francisco Javier De Las Heras Jimenez', '', '']\n",
      "['Week 22', 'Lab Deep Learning\\nRequired', 'Gregor Seegers', '', '']\n"
     ]
    },
    {
     "name": "stderr",
     "output_type": "stream",
     "text": [
      "/var/folders/yc/p9m4grcn3n58sspfj1mcsgyr0000gn/T/ipykernel_2148/117283708.py:57: FutureWarning: The frame.append method is deprecated and will be removed from pandas in a future version. Use pandas.concat instead.\n",
      "  labs_overall = ( labs_overall.append(pd.Series(\n",
      "/var/folders/yc/p9m4grcn3n58sspfj1mcsgyr0000gn/T/ipykernel_2148/117283708.py:57: FutureWarning: The frame.append method is deprecated and will be removed from pandas in a future version. Use pandas.concat instead.\n",
      "  labs_overall = ( labs_overall.append(pd.Series(\n",
      "/var/folders/yc/p9m4grcn3n58sspfj1mcsgyr0000gn/T/ipykernel_2148/117283708.py:57: FutureWarning: The frame.append method is deprecated and will be removed from pandas in a future version. Use pandas.concat instead.\n",
      "  labs_overall = ( labs_overall.append(pd.Series(\n",
      "/var/folders/yc/p9m4grcn3n58sspfj1mcsgyr0000gn/T/ipykernel_2148/117283708.py:57: FutureWarning: The frame.append method is deprecated and will be removed from pandas in a future version. Use pandas.concat instead.\n",
      "  labs_overall = ( labs_overall.append(pd.Series(\n"
     ]
    },
    {
     "name": "stdout",
     "output_type": "stream",
     "text": [
      "['Week 22', 'Lab Deep Learning\\nRequired', 'Joaquin Valentin', '', '']\n",
      "['Week 22', 'Lab Deep Learning\\nRequired', 'Manouk Meilof', '', '']\n",
      "['Week 22', 'Lab Deep Learning\\nRequired', 'Marc Gavaldà', '', '']\n"
     ]
    },
    {
     "name": "stderr",
     "output_type": "stream",
     "text": [
      "/var/folders/yc/p9m4grcn3n58sspfj1mcsgyr0000gn/T/ipykernel_2148/117283708.py:57: FutureWarning: The frame.append method is deprecated and will be removed from pandas in a future version. Use pandas.concat instead.\n",
      "  labs_overall = ( labs_overall.append(pd.Series(\n",
      "/var/folders/yc/p9m4grcn3n58sspfj1mcsgyr0000gn/T/ipykernel_2148/117283708.py:57: FutureWarning: The frame.append method is deprecated and will be removed from pandas in a future version. Use pandas.concat instead.\n",
      "  labs_overall = ( labs_overall.append(pd.Series(\n",
      "/var/folders/yc/p9m4grcn3n58sspfj1mcsgyr0000gn/T/ipykernel_2148/117283708.py:57: FutureWarning: The frame.append method is deprecated and will be removed from pandas in a future version. Use pandas.concat instead.\n",
      "  labs_overall = ( labs_overall.append(pd.Series(\n",
      "/var/folders/yc/p9m4grcn3n58sspfj1mcsgyr0000gn/T/ipykernel_2148/117283708.py:57: FutureWarning: The frame.append method is deprecated and will be removed from pandas in a future version. Use pandas.concat instead.\n",
      "  labs_overall = ( labs_overall.append(pd.Series(\n"
     ]
    },
    {
     "name": "stdout",
     "output_type": "stream",
     "text": [
      "['Week 22', 'Lab Deep Learning\\nRequired', 'María Vázquez Casares', '', '']\n",
      "['Week 22', 'Lab Deep Learning\\nRequired', 'Max Grempel', '', '']\n",
      "['Week 22', 'Lab Deep Learning\\nRequired', 'Shilei Tan Tan', '', '']\n",
      "['Week 22', 'Lab Deep Learning\\nRequired', 'Suparna Mandal', '', '']\n"
     ]
    },
    {
     "name": "stderr",
     "output_type": "stream",
     "text": [
      "/var/folders/yc/p9m4grcn3n58sspfj1mcsgyr0000gn/T/ipykernel_2148/117283708.py:57: FutureWarning: The frame.append method is deprecated and will be removed from pandas in a future version. Use pandas.concat instead.\n",
      "  labs_overall = ( labs_overall.append(pd.Series(\n",
      "/var/folders/yc/p9m4grcn3n58sspfj1mcsgyr0000gn/T/ipykernel_2148/117283708.py:57: FutureWarning: The frame.append method is deprecated and will be removed from pandas in a future version. Use pandas.concat instead.\n",
      "  labs_overall = ( labs_overall.append(pd.Series(\n",
      "/var/folders/yc/p9m4grcn3n58sspfj1mcsgyr0000gn/T/ipykernel_2148/117283708.py:57: FutureWarning: The frame.append method is deprecated and will be removed from pandas in a future version. Use pandas.concat instead.\n",
      "  labs_overall = ( labs_overall.append(pd.Series(\n",
      "/var/folders/yc/p9m4grcn3n58sspfj1mcsgyr0000gn/T/ipykernel_2148/117283708.py:57: FutureWarning: The frame.append method is deprecated and will be removed from pandas in a future version. Use pandas.concat instead.\n",
      "  labs_overall = ( labs_overall.append(pd.Series(\n"
     ]
    },
    {
     "name": "stdout",
     "output_type": "stream",
     "text": [
      "['Week 22', 'Lab Deep Learning\\nRequired', 'Vanessa Andrade', '', '']\n",
      "['Week 22', 'Lab Deep Learning\\nRequired', 'Óscar Iglesias Roqueiro', '', '']\n",
      "finished grabbing students info for lab Lab Deep Learning\n",
      "Required of Week 22\n"
     ]
    }
   ],
   "source": [
    "#DataFrame where we'll store our students labs info:\n",
    "labs_overall = pd.DataFrame( columns= [\"week\", \"lab_name\", \"student_name\", \"lab_status\", \"delivery_date\"])\n",
    "\n",
    "#Iterate through all weeks, start at 1 because, index 0 corresponds to the header:\n",
    "for week_number in range(len(weeks_table)):\n",
    "    if week_number < 1:\n",
    "        pass\n",
    "    else: \n",
    "        try:\n",
    "\n",
    "            #Drop down Weeks separator to see the labs:\n",
    "            drop_down_weeks = weeks_table[week_number].find_element(By.CSS_SELECTOR,\"div[class^='MuiButtonBase-root']\")\n",
    "            drop_down_weeks.click()\n",
    "            time.sleep(3)\n",
    "\n",
    "            #Get week number string:\n",
    "            week = weeks_table[week_number].find_element(By.CSS_SELECTOR, \"td[class^='MuiTableCell-root MuiTableCell-body column-display_name']\").text\n",
    "            print(week)\n",
    "\n",
    "\n",
    "            #Gets the html content inside the week in search :\n",
    "            labs_table =   driver.find_elements(By.CSS_SELECTOR,\"td[class^='MuiTableCell-root MuiTableCell-body MuiTableCell-sizeSmall']\")\n",
    "            \n",
    "            #Get lab name and directions of dropdown of labs:\n",
    "            lab_names = labs_table[0].find_elements(By.CLASS_NAME, \"MuiBadge-root\")\n",
    "            drop_down_labs = labs_table[0].find_elements(By.CSS_SELECTOR,\"div[class^='MuiButtonBase-root']\")\n",
    "\n",
    "            #Go for each lab inside the respective week:\n",
    "            for index in range(len(lab_names)):\n",
    "                each_lab_name = lab_names[index].text\n",
    "                print(each_lab_name)\n",
    "\n",
    "                #Check lab info table (ex drop down on Lab Strings):\n",
    "                #Dropdown inside the lab to see students statuses:\n",
    "                drop_down_labs[index].click()\n",
    "                time.sleep(4)\n",
    "\n",
    "\n",
    "                #Get number of students:\n",
    "                n_students = len(labs_table[0].find_elements(By.CSS_SELECTOR, \"td[class^='MuiTableCell-root MuiTableCell-body column-first_name']\"))\n",
    "                print(n_students, \" Students grabbed.\")\n",
    "                for i in range(n_students):\n",
    "\n",
    "                    #Find name, status and delivery date of each student:\n",
    "                    #Empty list:\n",
    "                    student_lab = []\n",
    "\n",
    "                    student_name = labs_table[0].find_elements(By.CSS_SELECTOR, \"td[class^='MuiTableCell-root MuiTableCell-body column-first_name']\")[i].text\n",
    "                    lab_status = labs_table[0].find_elements(By.CSS_SELECTOR, \"td[class^='MuiTableCell-root MuiTableCell-body column-status']\")[i].text\n",
    "                    delivery_date = labs_table[0].find_elements(By.CSS_SELECTOR, \"td[class^='MuiTableCell-root MuiTableCell-body column-submit_date']\")[i].text\n",
    "\n",
    "\n",
    "                #Append elements into a full row of student info:\n",
    "                    student_lab.extend([week, each_lab_name, student_name, lab_status, delivery_date])\n",
    "                    print(student_lab)\n",
    "\n",
    "                    labs_overall = ( labs_overall.append(pd.Series(\n",
    "                        student_lab,\n",
    "                        index = labs_overall.columns),\n",
    "                        ignore_index=True)\n",
    "                        )\n",
    "                print(\"finished grabbing students info for lab {0} of {1}\".format(each_lab_name, week))\n",
    "\n",
    "                time.sleep(3)\n",
    "                drop_down_labs[index].click()\n",
    "                time.sleep(3)\n",
    "            \n",
    "            drop_down_weeks.click()\n",
    "            time.sleep(2)\n",
    "        \n",
    "        except:\n",
    "            print(\n",
    "                \"\"\"Got an error.\n",
    "                Last variables found were :\"\"\",student_lab)\n",
    "\n",
    "\n",
    "        \n",
    "\n",
    "\n",
    "\n",
    "\n"
   ]
  },
  {
   "cell_type": "code",
   "execution_count": 30,
   "metadata": {},
   "outputs": [],
   "source": [
    "# Create a column with week number as numeric type\n",
    "labs_overall[\"week_num\"] = labs_overall[\"week\"].apply(lambda x: int(x.split()[1]))"
   ]
  },
  {
   "cell_type": "code",
   "execution_count": 59,
   "metadata": {},
   "outputs": [],
   "source": [
    "# Clean the lab_name column to remove \"\\nRequired\"\n",
    "labs_overall[\"lab_name\"] = labs_overall[\"lab_name\"].apply(lambda x: x.split(\"\\n\")[0])"
   ]
  },
  {
   "cell_type": "code",
   "execution_count": 141,
   "metadata": {
    "scrolled": true
   },
   "outputs": [],
   "source": [
    "# Get a list of students and their emails and create a dictionary with both lists\n",
    "student_names = list(labs_overall[\"student_name\"].unique())\n",
    "student_names.remove(\"Manouk Meilof\")\n",
    "\n",
    "student_emails = [\"adrianfg88@gmail.com\",\n",
    "\"zherka.aferdita@outlook.com\",\n",
    "\"aliciaandressalguero@gmail.com\",\n",
    "\"amelie.haberland@ironhack.com\",\n",
    "\"angela.arredondo99@gmail.com\",\n",
    "\"damsvpn@protonmail.com\",\n",
    "\"djmborges92@gmail.com\",\n",
    "\"fabioblankc@gmail.com\",\n",
    "\"fedecavanagh@live.com\",\n",
    "\"javierherasjimenez@hotmail.com\",\n",
    "\"gregor.seegers@gmail.com\",\n",
    "\"quino117@hotmail.com\",\n",
    "\"gavalda.marc@gmail.com\",\n",
    "\"maria.vazquez.casares@gmail.com\",\n",
    "\"maximilian.grempel@gmail.com\",\n",
    "\"tanshilei@gmail.com\",\n",
    "\"roque.ourense@gmail.com\",\n",
    "\"suparna.sahoo@gmail.com\",\n",
    "\"anvergara95@gmail.com\"]\n",
    "\n",
    "students_dict = dict(zip(student_names, student_emails))"
   ]
  },
  {
   "cell_type": "code",
   "execution_count": 214,
   "metadata": {},
   "outputs": [],
   "source": [
    "for student in student_names:\n",
    "    \n",
    "    # Filtering by student\n",
    "    student_sub = labs_overall[labs_overall[\"student_name\"] == student]\n",
    "    \n",
    "    # Filtering by week number\n",
    "    student_sub_week = student_sub[student_sub[\"week_num\"] <= week_number_email]\n",
    "    \n",
    "    # Count delivered and not delivered labs\n",
    "    submissions = student_sub_week[\"lab_status\"].value_counts()\n",
    "    delivered = submissions[\"Delivered\"]\n",
    "    try:\n",
    "        not_delivered = submissions[\"\"]\n",
    "    except:\n",
    "        not_delivered = 0\n",
    "    \n",
    "    # Get the lab names of non delivered ones\n",
    "    pending_labs = student_sub_week[student_sub_week[\"lab_status\"] == \"\"][\"lab_name\"].values.tolist()\n",
    "    pending_labs_strings = \"\\n\".join(pending_labs)\n",
    "    \n",
    "    # Calculate the percentage of delivered labs\n",
    "    lab_percent = round((delivered / (delivered+not_delivered))*100)\n",
    "                        \n",
    "    if lab_percent < 80:\n",
    "        body = f'''Dear {student.split()[0]}, we have been checking your lab sumissions status. From a total of {delivered + not_delivered} labs, you have submitted {delivered}, this represents the {lab_percent}% of the total until now.\n",
    "Remember that ironhack rules mark 80% as the threshold to complete the course. Don't hesitate in contacting us if you need help to meet that threshold. We will be happy to support you!\n",
    "\n",
    "The labs that you are missing are:\n",
    "{pending_labs_strings}\n",
    "        \n",
    "Ironhack Teaching Team\n",
    "        '''\n",
    "                        \n",
    "    elif lab_percent == 100:\n",
    "        body = f'''Dear {student.split()[0]}, we have been checking your lab sumissions status. From a total of {delivered + not_delivered} labs, you have submitted {delivered}, this represents the {lab_percent}% of the total until now.\n",
    "You have submitted all the labs so far, so congratulations for this hard job!\n",
    "        \n",
    "Ironhack Teaching Team\n",
    "        '''\n",
    "    \n",
    "    else:\n",
    "        body = f'''Dear {student.split()[0]}, we have been checking your lab sumissions status. From a total of {delivered + not_delivered} labs, you have submitted {delivered}, this represents the {lab_percent}% of the total until now.\n",
    "You are over the 80% threshold marked by Ironhack to complete the course so congratulations! You are properly following the course progress.\n",
    "Anyway,there are some labs that are still missing:\n",
    "{pending_labs_strings}\n",
    "\n",
    "Keep going with the hard job!\n",
    "        \n",
    "Ironhack Teaching Team\n",
    "        '''\n",
    "        \n",
    "    email_receiver = \"miguelsimonmoya@gmail.com\"\n",
    "    subject = \"Ironhack lab status\"\n",
    "    \n",
    "    em = EmailMessage()\n",
    "    em[\"From\"] = email_sender\n",
    "    em[\"To\"] = email_receiver\n",
    "    em[\"subject\"] = subject\n",
    "    em.set_content(body)\n",
    "\n",
    "    context = ssl.create_default_context()\n",
    "\n",
    "    with smtplib.SMTP_SSL(\"smtp.gmail.com\", context = context) as smtp:\n",
    "        smtp.login(email_sender, email_password)\n",
    "        smtp.sendmail(email_sender, email_receiver, em.as_string())\n",
    "    \n",
    "                        \n",
    "    time.sleep(2)\n",
    "                        \n",
    "                        "
   ]
  },
  {
   "cell_type": "code",
   "execution_count": null,
   "metadata": {},
   "outputs": [],
   "source": []
  }
 ],
 "metadata": {
  "kernelspec": {
   "display_name": "Python 3 (ipykernel)",
   "language": "python",
   "name": "python3"
  },
  "language_info": {
   "codemirror_mode": {
    "name": "ipython",
    "version": 3
   },
   "file_extension": ".py",
   "mimetype": "text/x-python",
   "name": "python",
   "nbconvert_exporter": "python",
   "pygments_lexer": "ipython3",
   "version": "3.9.13"
  },
  "toc": {
   "base_numbering": 1,
   "nav_menu": {},
   "number_sections": false,
   "sideBar": true,
   "skip_h1_title": false,
   "title_cell": "Table of Contents",
   "title_sidebar": "Contents",
   "toc_cell": false,
   "toc_position": {},
   "toc_section_display": true,
   "toc_window_display": false
  },
  "varInspector": {
   "cols": {
    "lenName": 16,
    "lenType": 16,
    "lenVar": 40
   },
   "kernels_config": {
    "python": {
     "delete_cmd_postfix": "",
     "delete_cmd_prefix": "del ",
     "library": "var_list.py",
     "varRefreshCmd": "print(var_dic_list())"
    },
    "r": {
     "delete_cmd_postfix": ") ",
     "delete_cmd_prefix": "rm(",
     "library": "var_list.r",
     "varRefreshCmd": "cat(var_dic_list()) "
    }
   },
   "types_to_exclude": [
    "module",
    "function",
    "builtin_function_or_method",
    "instance",
    "_Feature"
   ],
   "window_display": false
  },
  "vscode": {
   "interpreter": {
    "hash": "820c7463e72d91cf45e1d86687aa3ecb3ab17ccc07a7fa9ff77c530a1988c107"
   }
  }
 },
 "nbformat": 4,
 "nbformat_minor": 2
}
