{
 "cells": [
  {
   "cell_type": "code",
   "execution_count": 1,
   "metadata": {},
   "outputs": [],
   "source": [
    "# import pandas as pd\n",
    "# import requests\n",
    "# import openpyxl"
   ]
  },
  {
   "cell_type": "code",
   "execution_count": 2,
   "metadata": {},
   "outputs": [],
   "source": [
    "alias = {'ana silva': 'anasilva',\n",
    "        'matias': 'anamatias',\n",
    "        'gusto': 'augusto',\n",
    "        'muniz': 'barbara',\n",
    "        'cecil': 'cecilia',   \n",
    "        'eun': 'eunice',\n",
    "        'gonçalo': 'goncalo', \n",
    "        'joao': 'joao',\n",
    "        'mig': 'miguel',\n",
    "        'etazevedo' : 'eunice'}"
   ]
  },
  {
   "cell_type": "markdown",
   "metadata": {},
   "source": [
    "# Week 1"
   ]
  },
  {
   "cell_type": "markdown",
   "metadata": {},
   "source": [
    "### lab-list-comprehension"
   ]
  },
  {
   "cell_type": "code",
   "execution_count": 3,
   "metadata": {},
   "outputs": [
    {
     "name": "stdout",
     "output_type": "stream",
     "text": [
      "0    [lab-list-comprehensions]Augusto Eira\n",
      "Name: title, dtype: object\n",
      "['Augusto Eira']\n",
      "['augusto']\n"
     ]
    }
   ],
   "source": [
    "response = requests.get('https://api.github.com/repos/ta-data-lis/lab-list-comprehensions/pulls')\n",
    "data = pd.DataFrame(response.json())\n",
    "pr = data['title']\n",
    "pr_name = [a.split(']')[1].strip() for a in pr if len(a.split(']')) > 1]\n",
    "\n",
    "print(pr)\n",
    "print(pr_name)\n",
    "\n",
    "names = []\n",
    "\n",
    "for x in alias:\n",
    "    for a in pr_name:\n",
    "        if a.lower().find(x) != -1:\n",
    "            names.append(alias[x])\n",
    "\n",
    "print(names)\n",
    "\n",
    "book = openpyxl.load_workbook('labs.xlsx')\n",
    "\n",
    "for name in names:\n",
    "    sheet = book[name]\n",
    "    sheet['B3'] = 'Delivered'\n",
    "\n",
    "book.save('Labs.xlsx')"
   ]
  },
  {
   "cell_type": "markdown",
   "metadata": {},
   "source": [
    "### lab-tuple-set-dict"
   ]
  },
  {
   "cell_type": "code",
   "execution_count": 4,
   "metadata": {},
   "outputs": [
    {
     "ename": "KeyError",
     "evalue": "'title'",
     "output_type": "error",
     "traceback": [
      "\u001b[1;31m---------------------------------------------------------------------------\u001b[0m",
      "\u001b[1;31mKeyError\u001b[0m                                  Traceback (most recent call last)",
      "\u001b[1;32mD:\\anaconda\\envs\\ironhack\\lib\\site-packages\\pandas\\core\\indexes\\base.py\u001b[0m in \u001b[0;36mget_loc\u001b[1;34m(self, key, method, tolerance)\u001b[0m\n\u001b[0;32m   3360\u001b[0m             \u001b[1;32mtry\u001b[0m\u001b[1;33m:\u001b[0m\u001b[1;33m\u001b[0m\u001b[1;33m\u001b[0m\u001b[0m\n\u001b[1;32m-> 3361\u001b[1;33m                 \u001b[1;32mreturn\u001b[0m \u001b[0mself\u001b[0m\u001b[1;33m.\u001b[0m\u001b[0m_engine\u001b[0m\u001b[1;33m.\u001b[0m\u001b[0mget_loc\u001b[0m\u001b[1;33m(\u001b[0m\u001b[0mcasted_key\u001b[0m\u001b[1;33m)\u001b[0m\u001b[1;33m\u001b[0m\u001b[1;33m\u001b[0m\u001b[0m\n\u001b[0m\u001b[0;32m   3362\u001b[0m             \u001b[1;32mexcept\u001b[0m \u001b[0mKeyError\u001b[0m \u001b[1;32mas\u001b[0m \u001b[0merr\u001b[0m\u001b[1;33m:\u001b[0m\u001b[1;33m\u001b[0m\u001b[1;33m\u001b[0m\u001b[0m\n",
      "\u001b[1;32mD:\\anaconda\\envs\\ironhack\\lib\\site-packages\\pandas\\_libs\\index.pyx\u001b[0m in \u001b[0;36mpandas._libs.index.IndexEngine.get_loc\u001b[1;34m()\u001b[0m\n",
      "\u001b[1;32mD:\\anaconda\\envs\\ironhack\\lib\\site-packages\\pandas\\_libs\\index.pyx\u001b[0m in \u001b[0;36mpandas._libs.index.IndexEngine.get_loc\u001b[1;34m()\u001b[0m\n",
      "\u001b[1;32mpandas\\_libs\\hashtable_class_helper.pxi\u001b[0m in \u001b[0;36mpandas._libs.hashtable.PyObjectHashTable.get_item\u001b[1;34m()\u001b[0m\n",
      "\u001b[1;32mpandas\\_libs\\hashtable_class_helper.pxi\u001b[0m in \u001b[0;36mpandas._libs.hashtable.PyObjectHashTable.get_item\u001b[1;34m()\u001b[0m\n",
      "\u001b[1;31mKeyError\u001b[0m: 'title'",
      "\nThe above exception was the direct cause of the following exception:\n",
      "\u001b[1;31mKeyError\u001b[0m                                  Traceback (most recent call last)",
      "\u001b[1;32m~\\AppData\\Local\\Temp/ipykernel_1664/3675040071.py\u001b[0m in \u001b[0;36m<module>\u001b[1;34m\u001b[0m\n\u001b[0;32m      1\u001b[0m \u001b[0mresponse\u001b[0m \u001b[1;33m=\u001b[0m \u001b[0mrequests\u001b[0m\u001b[1;33m.\u001b[0m\u001b[0mget\u001b[0m\u001b[1;33m(\u001b[0m\u001b[1;34m'https://api.github.com/repos/ta-data-lis/lab-tuple-set-dict/pulls'\u001b[0m\u001b[1;33m)\u001b[0m\u001b[1;33m\u001b[0m\u001b[1;33m\u001b[0m\u001b[0m\n\u001b[0;32m      2\u001b[0m \u001b[0mdata\u001b[0m \u001b[1;33m=\u001b[0m \u001b[0mpd\u001b[0m\u001b[1;33m.\u001b[0m\u001b[0mDataFrame\u001b[0m\u001b[1;33m(\u001b[0m\u001b[0mresponse\u001b[0m\u001b[1;33m.\u001b[0m\u001b[0mjson\u001b[0m\u001b[1;33m(\u001b[0m\u001b[1;33m)\u001b[0m\u001b[1;33m)\u001b[0m\u001b[1;33m\u001b[0m\u001b[1;33m\u001b[0m\u001b[0m\n\u001b[1;32m----> 3\u001b[1;33m \u001b[0mpr\u001b[0m \u001b[1;33m=\u001b[0m \u001b[0mdata\u001b[0m\u001b[1;33m[\u001b[0m\u001b[1;34m'title'\u001b[0m\u001b[1;33m]\u001b[0m\u001b[1;33m\u001b[0m\u001b[1;33m\u001b[0m\u001b[0m\n\u001b[0m\u001b[0;32m      4\u001b[0m \u001b[0mpr_name\u001b[0m \u001b[1;33m=\u001b[0m \u001b[1;33m[\u001b[0m\u001b[0ma\u001b[0m\u001b[1;33m.\u001b[0m\u001b[0msplit\u001b[0m\u001b[1;33m(\u001b[0m\u001b[1;34m']'\u001b[0m\u001b[1;33m)\u001b[0m\u001b[1;33m[\u001b[0m\u001b[1;36m1\u001b[0m\u001b[1;33m]\u001b[0m\u001b[1;33m.\u001b[0m\u001b[0mstrip\u001b[0m\u001b[1;33m(\u001b[0m\u001b[1;33m)\u001b[0m \u001b[1;32mfor\u001b[0m \u001b[0ma\u001b[0m \u001b[1;32min\u001b[0m \u001b[0mpr\u001b[0m \u001b[1;32mif\u001b[0m \u001b[0mlen\u001b[0m\u001b[1;33m(\u001b[0m\u001b[0ma\u001b[0m\u001b[1;33m.\u001b[0m\u001b[0msplit\u001b[0m\u001b[1;33m(\u001b[0m\u001b[1;34m']'\u001b[0m\u001b[1;33m)\u001b[0m\u001b[1;33m)\u001b[0m \u001b[1;33m>\u001b[0m \u001b[1;36m1\u001b[0m\u001b[1;33m]\u001b[0m\u001b[1;33m\u001b[0m\u001b[1;33m\u001b[0m\u001b[0m\n\u001b[0;32m      5\u001b[0m \u001b[1;33m\u001b[0m\u001b[0m\n",
      "\u001b[1;32mD:\\anaconda\\envs\\ironhack\\lib\\site-packages\\pandas\\core\\frame.py\u001b[0m in \u001b[0;36m__getitem__\u001b[1;34m(self, key)\u001b[0m\n\u001b[0;32m   3456\u001b[0m             \u001b[1;32mif\u001b[0m \u001b[0mself\u001b[0m\u001b[1;33m.\u001b[0m\u001b[0mcolumns\u001b[0m\u001b[1;33m.\u001b[0m\u001b[0mnlevels\u001b[0m \u001b[1;33m>\u001b[0m \u001b[1;36m1\u001b[0m\u001b[1;33m:\u001b[0m\u001b[1;33m\u001b[0m\u001b[1;33m\u001b[0m\u001b[0m\n\u001b[0;32m   3457\u001b[0m                 \u001b[1;32mreturn\u001b[0m \u001b[0mself\u001b[0m\u001b[1;33m.\u001b[0m\u001b[0m_getitem_multilevel\u001b[0m\u001b[1;33m(\u001b[0m\u001b[0mkey\u001b[0m\u001b[1;33m)\u001b[0m\u001b[1;33m\u001b[0m\u001b[1;33m\u001b[0m\u001b[0m\n\u001b[1;32m-> 3458\u001b[1;33m             \u001b[0mindexer\u001b[0m \u001b[1;33m=\u001b[0m \u001b[0mself\u001b[0m\u001b[1;33m.\u001b[0m\u001b[0mcolumns\u001b[0m\u001b[1;33m.\u001b[0m\u001b[0mget_loc\u001b[0m\u001b[1;33m(\u001b[0m\u001b[0mkey\u001b[0m\u001b[1;33m)\u001b[0m\u001b[1;33m\u001b[0m\u001b[1;33m\u001b[0m\u001b[0m\n\u001b[0m\u001b[0;32m   3459\u001b[0m             \u001b[1;32mif\u001b[0m \u001b[0mis_integer\u001b[0m\u001b[1;33m(\u001b[0m\u001b[0mindexer\u001b[0m\u001b[1;33m)\u001b[0m\u001b[1;33m:\u001b[0m\u001b[1;33m\u001b[0m\u001b[1;33m\u001b[0m\u001b[0m\n\u001b[0;32m   3460\u001b[0m                 \u001b[0mindexer\u001b[0m \u001b[1;33m=\u001b[0m \u001b[1;33m[\u001b[0m\u001b[0mindexer\u001b[0m\u001b[1;33m]\u001b[0m\u001b[1;33m\u001b[0m\u001b[1;33m\u001b[0m\u001b[0m\n",
      "\u001b[1;32mD:\\anaconda\\envs\\ironhack\\lib\\site-packages\\pandas\\core\\indexes\\base.py\u001b[0m in \u001b[0;36mget_loc\u001b[1;34m(self, key, method, tolerance)\u001b[0m\n\u001b[0;32m   3361\u001b[0m                 \u001b[1;32mreturn\u001b[0m \u001b[0mself\u001b[0m\u001b[1;33m.\u001b[0m\u001b[0m_engine\u001b[0m\u001b[1;33m.\u001b[0m\u001b[0mget_loc\u001b[0m\u001b[1;33m(\u001b[0m\u001b[0mcasted_key\u001b[0m\u001b[1;33m)\u001b[0m\u001b[1;33m\u001b[0m\u001b[1;33m\u001b[0m\u001b[0m\n\u001b[0;32m   3362\u001b[0m             \u001b[1;32mexcept\u001b[0m \u001b[0mKeyError\u001b[0m \u001b[1;32mas\u001b[0m \u001b[0merr\u001b[0m\u001b[1;33m:\u001b[0m\u001b[1;33m\u001b[0m\u001b[1;33m\u001b[0m\u001b[0m\n\u001b[1;32m-> 3363\u001b[1;33m                 \u001b[1;32mraise\u001b[0m \u001b[0mKeyError\u001b[0m\u001b[1;33m(\u001b[0m\u001b[0mkey\u001b[0m\u001b[1;33m)\u001b[0m \u001b[1;32mfrom\u001b[0m \u001b[0merr\u001b[0m\u001b[1;33m\u001b[0m\u001b[1;33m\u001b[0m\u001b[0m\n\u001b[0m\u001b[0;32m   3364\u001b[0m \u001b[1;33m\u001b[0m\u001b[0m\n\u001b[0;32m   3365\u001b[0m         \u001b[1;32mif\u001b[0m \u001b[0mis_scalar\u001b[0m\u001b[1;33m(\u001b[0m\u001b[0mkey\u001b[0m\u001b[1;33m)\u001b[0m \u001b[1;32mand\u001b[0m \u001b[0misna\u001b[0m\u001b[1;33m(\u001b[0m\u001b[0mkey\u001b[0m\u001b[1;33m)\u001b[0m \u001b[1;32mand\u001b[0m \u001b[1;32mnot\u001b[0m \u001b[0mself\u001b[0m\u001b[1;33m.\u001b[0m\u001b[0mhasnans\u001b[0m\u001b[1;33m:\u001b[0m\u001b[1;33m\u001b[0m\u001b[1;33m\u001b[0m\u001b[0m\n",
      "\u001b[1;31mKeyError\u001b[0m: 'title'"
     ]
    }
   ],
   "source": [
    "response = requests.get('https://api.github.com/repos/ta-data-lis/lab-tuple-set-dict/pulls')\n",
    "data = pd.DataFrame(response.json())\n",
    "pr = data['title']\n",
    "pr_name = [a.split(']')[1].strip() for a in pr if len(a.split(']')) > 1]\n",
    "\n",
    "print(pr)\n",
    "print(pr_name)\n",
    "\n",
    "names = []\n",
    "\n",
    "for x in alias:\n",
    "    for a in pr_name:\n",
    "        if a.lower().find(x) != -1:\n",
    "            names.append(alias[x])\n",
    "\n",
    "print(names)\n",
    "\n",
    "book = openpyxl.load_workbook('labs.xlsx')\n",
    "\n",
    "for name in names:\n",
    "    sheet = book[name]\n",
    "    sheet['B4'] = 'Delivered'\n",
    "\n",
    "book.save('Labs.xlsx')"
   ]
  },
  {
   "cell_type": "markdown",
   "metadata": {},
   "source": [
    "### lab-string-operations"
   ]
  },
  {
   "cell_type": "code",
   "execution_count": 5,
   "metadata": {},
   "outputs": [
    {
     "name": "stdout",
     "output_type": "stream",
     "text": [
      "0    arturspriet\n",
      "Name: title, dtype: object\n",
      "[]\n",
      "[]\n"
     ]
    }
   ],
   "source": [
    "response = requests.get('https://api.github.com/repos/ta-data-lis/lab-string-operations/pulls')\n",
    "data = pd.DataFrame(response.json())\n",
    "pr = data['title']\n",
    "pr_name = [a.split(']')[1].strip() for a in pr if len(a.split(']')) > 1]\n",
    "\n",
    "print(pr)\n",
    "print(pr_name)\n",
    "\n",
    "names = []\n",
    "\n",
    "for x in alias:\n",
    "    for a in pr_name:\n",
    "        if a.lower().find(x) != -1:\n",
    "            names.append(alias[x])\n",
    "\n",
    "print(names)\n",
    "\n",
    "book = openpyxl.load_workbook('labs.xlsx')\n",
    "\n",
    "for name in names:\n",
    "    sheet = book[name]\n",
    "    sheet['B5'] = 'Delivered'\n",
    "\n",
    "book.save('Labs.xlsx')"
   ]
  },
  {
   "cell_type": "markdown",
   "metadata": {},
   "source": [
    "### lab-numpy"
   ]
  },
  {
   "cell_type": "code",
   "execution_count": 6,
   "metadata": {},
   "outputs": [
    {
     "name": "stdout",
     "output_type": "stream",
     "text": [
      "0    arthurspriet\n",
      "Name: title, dtype: object\n",
      "[]\n",
      "[]\n"
     ]
    }
   ],
   "source": [
    "response = requests.get('https://api.github.com/repos/ta-data-lis/lab-numpy/pulls')\n",
    "data = pd.DataFrame(response.json())\n",
    "pr = data['title']\n",
    "pr_name = [a.split(']')[1].strip() for a in pr if len(a.split(']')) > 1]\n",
    "\n",
    "print(pr)\n",
    "print(pr_name)\n",
    "\n",
    "names = []\n",
    "\n",
    "for x in alias:\n",
    "    for a in pr_name:\n",
    "        if a.lower().find(x) != -1:\n",
    "            names.append(alias[x])\n",
    "\n",
    "print(names)\n",
    "\n",
    "book = openpyxl.load_workbook('labs.xlsx')\n",
    "\n",
    "for name in names:\n",
    "    sheet = book[name]\n",
    "    sheet['B6'] = 'Delivered'\n",
    "\n",
    "book.save('Labs.xlsx')"
   ]
  },
  {
   "cell_type": "markdown",
   "metadata": {},
   "source": [
    "### lab-intro-pandas"
   ]
  },
  {
   "cell_type": "code",
   "execution_count": 7,
   "metadata": {},
   "outputs": [
    {
     "name": "stdout",
     "output_type": "stream",
     "text": [
      "0    [lab-intro-pandas] [renato] first attempt\n",
      "Name: title, dtype: object\n",
      "['[renato']\n",
      "[]\n"
     ]
    }
   ],
   "source": [
    "response = requests.get('https://api.github.com/repos/ta-data-lis/lab-intro-pandas/pulls')\n",
    "data = pd.DataFrame(response.json())\n",
    "pr = data['title']\n",
    "pr_name = [a.split(']')[1].strip() for a in pr if len(a.split(']')) > 1]\n",
    "\n",
    "print(pr)\n",
    "print(pr_name)\n",
    "\n",
    "names = []\n",
    "\n",
    "for x in alias:\n",
    "    for a in pr_name:\n",
    "        if a.lower().find(x) != -1:\n",
    "            names.append(alias[x])\n",
    "\n",
    "print(names)\n",
    "\n",
    "book = openpyxl.load_workbook('labs.xlsx')\n",
    "\n",
    "for name in names:\n",
    "    sheet = book[name]\n",
    "    sheet['B7'] = 'Delivered'\n",
    "\n",
    "book.save('Labs.xlsx')"
   ]
  },
  {
   "cell_type": "markdown",
   "metadata": {},
   "source": [
    "# Week 2"
   ]
  },
  {
   "cell_type": "markdown",
   "metadata": {},
   "source": [
    "### my-first-queries"
   ]
  },
  {
   "cell_type": "code",
   "execution_count": 8,
   "metadata": {},
   "outputs": [
    {
     "ename": "KeyError",
     "evalue": "'title'",
     "output_type": "error",
     "traceback": [
      "\u001b[1;31m---------------------------------------------------------------------------\u001b[0m",
      "\u001b[1;31mKeyError\u001b[0m                                  Traceback (most recent call last)",
      "\u001b[1;32mD:\\anaconda\\envs\\ironhack\\lib\\site-packages\\pandas\\core\\indexes\\base.py\u001b[0m in \u001b[0;36mget_loc\u001b[1;34m(self, key, method, tolerance)\u001b[0m\n\u001b[0;32m   3360\u001b[0m             \u001b[1;32mtry\u001b[0m\u001b[1;33m:\u001b[0m\u001b[1;33m\u001b[0m\u001b[1;33m\u001b[0m\u001b[0m\n\u001b[1;32m-> 3361\u001b[1;33m                 \u001b[1;32mreturn\u001b[0m \u001b[0mself\u001b[0m\u001b[1;33m.\u001b[0m\u001b[0m_engine\u001b[0m\u001b[1;33m.\u001b[0m\u001b[0mget_loc\u001b[0m\u001b[1;33m(\u001b[0m\u001b[0mcasted_key\u001b[0m\u001b[1;33m)\u001b[0m\u001b[1;33m\u001b[0m\u001b[1;33m\u001b[0m\u001b[0m\n\u001b[0m\u001b[0;32m   3362\u001b[0m             \u001b[1;32mexcept\u001b[0m \u001b[0mKeyError\u001b[0m \u001b[1;32mas\u001b[0m \u001b[0merr\u001b[0m\u001b[1;33m:\u001b[0m\u001b[1;33m\u001b[0m\u001b[1;33m\u001b[0m\u001b[0m\n",
      "\u001b[1;32mD:\\anaconda\\envs\\ironhack\\lib\\site-packages\\pandas\\_libs\\index.pyx\u001b[0m in \u001b[0;36mpandas._libs.index.IndexEngine.get_loc\u001b[1;34m()\u001b[0m\n",
      "\u001b[1;32mD:\\anaconda\\envs\\ironhack\\lib\\site-packages\\pandas\\_libs\\index.pyx\u001b[0m in \u001b[0;36mpandas._libs.index.IndexEngine.get_loc\u001b[1;34m()\u001b[0m\n",
      "\u001b[1;32mpandas\\_libs\\hashtable_class_helper.pxi\u001b[0m in \u001b[0;36mpandas._libs.hashtable.PyObjectHashTable.get_item\u001b[1;34m()\u001b[0m\n",
      "\u001b[1;32mpandas\\_libs\\hashtable_class_helper.pxi\u001b[0m in \u001b[0;36mpandas._libs.hashtable.PyObjectHashTable.get_item\u001b[1;34m()\u001b[0m\n",
      "\u001b[1;31mKeyError\u001b[0m: 'title'",
      "\nThe above exception was the direct cause of the following exception:\n",
      "\u001b[1;31mKeyError\u001b[0m                                  Traceback (most recent call last)",
      "\u001b[1;32m~\\AppData\\Local\\Temp/ipykernel_1664/4014496833.py\u001b[0m in \u001b[0;36m<module>\u001b[1;34m\u001b[0m\n\u001b[0;32m      1\u001b[0m \u001b[0mresponse\u001b[0m \u001b[1;33m=\u001b[0m \u001b[0mrequests\u001b[0m\u001b[1;33m.\u001b[0m\u001b[0mget\u001b[0m\u001b[1;33m(\u001b[0m\u001b[1;34m'https://api.github.com/repos/ta-data-lis/lab-mysql-first-queries/pulls'\u001b[0m\u001b[1;33m)\u001b[0m\u001b[1;33m\u001b[0m\u001b[1;33m\u001b[0m\u001b[0m\n\u001b[0;32m      2\u001b[0m \u001b[0mdata\u001b[0m \u001b[1;33m=\u001b[0m \u001b[0mpd\u001b[0m\u001b[1;33m.\u001b[0m\u001b[0mDataFrame\u001b[0m\u001b[1;33m(\u001b[0m\u001b[0mresponse\u001b[0m\u001b[1;33m.\u001b[0m\u001b[0mjson\u001b[0m\u001b[1;33m(\u001b[0m\u001b[1;33m)\u001b[0m\u001b[1;33m)\u001b[0m\u001b[1;33m\u001b[0m\u001b[1;33m\u001b[0m\u001b[0m\n\u001b[1;32m----> 3\u001b[1;33m \u001b[0mpr\u001b[0m \u001b[1;33m=\u001b[0m \u001b[0mdata\u001b[0m\u001b[1;33m[\u001b[0m\u001b[1;34m'title'\u001b[0m\u001b[1;33m]\u001b[0m\u001b[1;33m\u001b[0m\u001b[1;33m\u001b[0m\u001b[0m\n\u001b[0m\u001b[0;32m      4\u001b[0m \u001b[0mpr_name\u001b[0m \u001b[1;33m=\u001b[0m \u001b[1;33m[\u001b[0m\u001b[0ma\u001b[0m\u001b[1;33m.\u001b[0m\u001b[0msplit\u001b[0m\u001b[1;33m(\u001b[0m\u001b[1;34m']'\u001b[0m\u001b[1;33m)\u001b[0m\u001b[1;33m[\u001b[0m\u001b[1;36m1\u001b[0m\u001b[1;33m]\u001b[0m\u001b[1;33m.\u001b[0m\u001b[0mstrip\u001b[0m\u001b[1;33m(\u001b[0m\u001b[1;33m)\u001b[0m \u001b[1;32mfor\u001b[0m \u001b[0ma\u001b[0m \u001b[1;32min\u001b[0m \u001b[0mpr\u001b[0m \u001b[1;32mif\u001b[0m \u001b[0mlen\u001b[0m\u001b[1;33m(\u001b[0m\u001b[0ma\u001b[0m\u001b[1;33m.\u001b[0m\u001b[0msplit\u001b[0m\u001b[1;33m(\u001b[0m\u001b[1;34m']'\u001b[0m\u001b[1;33m)\u001b[0m\u001b[1;33m)\u001b[0m \u001b[1;33m>\u001b[0m \u001b[1;36m1\u001b[0m\u001b[1;33m]\u001b[0m\u001b[1;33m\u001b[0m\u001b[1;33m\u001b[0m\u001b[0m\n\u001b[0;32m      5\u001b[0m \u001b[1;33m\u001b[0m\u001b[0m\n",
      "\u001b[1;32mD:\\anaconda\\envs\\ironhack\\lib\\site-packages\\pandas\\core\\frame.py\u001b[0m in \u001b[0;36m__getitem__\u001b[1;34m(self, key)\u001b[0m\n\u001b[0;32m   3456\u001b[0m             \u001b[1;32mif\u001b[0m \u001b[0mself\u001b[0m\u001b[1;33m.\u001b[0m\u001b[0mcolumns\u001b[0m\u001b[1;33m.\u001b[0m\u001b[0mnlevels\u001b[0m \u001b[1;33m>\u001b[0m \u001b[1;36m1\u001b[0m\u001b[1;33m:\u001b[0m\u001b[1;33m\u001b[0m\u001b[1;33m\u001b[0m\u001b[0m\n\u001b[0;32m   3457\u001b[0m                 \u001b[1;32mreturn\u001b[0m \u001b[0mself\u001b[0m\u001b[1;33m.\u001b[0m\u001b[0m_getitem_multilevel\u001b[0m\u001b[1;33m(\u001b[0m\u001b[0mkey\u001b[0m\u001b[1;33m)\u001b[0m\u001b[1;33m\u001b[0m\u001b[1;33m\u001b[0m\u001b[0m\n\u001b[1;32m-> 3458\u001b[1;33m             \u001b[0mindexer\u001b[0m \u001b[1;33m=\u001b[0m \u001b[0mself\u001b[0m\u001b[1;33m.\u001b[0m\u001b[0mcolumns\u001b[0m\u001b[1;33m.\u001b[0m\u001b[0mget_loc\u001b[0m\u001b[1;33m(\u001b[0m\u001b[0mkey\u001b[0m\u001b[1;33m)\u001b[0m\u001b[1;33m\u001b[0m\u001b[1;33m\u001b[0m\u001b[0m\n\u001b[0m\u001b[0;32m   3459\u001b[0m             \u001b[1;32mif\u001b[0m \u001b[0mis_integer\u001b[0m\u001b[1;33m(\u001b[0m\u001b[0mindexer\u001b[0m\u001b[1;33m)\u001b[0m\u001b[1;33m:\u001b[0m\u001b[1;33m\u001b[0m\u001b[1;33m\u001b[0m\u001b[0m\n\u001b[0;32m   3460\u001b[0m                 \u001b[0mindexer\u001b[0m \u001b[1;33m=\u001b[0m \u001b[1;33m[\u001b[0m\u001b[0mindexer\u001b[0m\u001b[1;33m]\u001b[0m\u001b[1;33m\u001b[0m\u001b[1;33m\u001b[0m\u001b[0m\n",
      "\u001b[1;32mD:\\anaconda\\envs\\ironhack\\lib\\site-packages\\pandas\\core\\indexes\\base.py\u001b[0m in \u001b[0;36mget_loc\u001b[1;34m(self, key, method, tolerance)\u001b[0m\n\u001b[0;32m   3361\u001b[0m                 \u001b[1;32mreturn\u001b[0m \u001b[0mself\u001b[0m\u001b[1;33m.\u001b[0m\u001b[0m_engine\u001b[0m\u001b[1;33m.\u001b[0m\u001b[0mget_loc\u001b[0m\u001b[1;33m(\u001b[0m\u001b[0mcasted_key\u001b[0m\u001b[1;33m)\u001b[0m\u001b[1;33m\u001b[0m\u001b[1;33m\u001b[0m\u001b[0m\n\u001b[0;32m   3362\u001b[0m             \u001b[1;32mexcept\u001b[0m \u001b[0mKeyError\u001b[0m \u001b[1;32mas\u001b[0m \u001b[0merr\u001b[0m\u001b[1;33m:\u001b[0m\u001b[1;33m\u001b[0m\u001b[1;33m\u001b[0m\u001b[0m\n\u001b[1;32m-> 3363\u001b[1;33m                 \u001b[1;32mraise\u001b[0m \u001b[0mKeyError\u001b[0m\u001b[1;33m(\u001b[0m\u001b[0mkey\u001b[0m\u001b[1;33m)\u001b[0m \u001b[1;32mfrom\u001b[0m \u001b[0merr\u001b[0m\u001b[1;33m\u001b[0m\u001b[1;33m\u001b[0m\u001b[0m\n\u001b[0m\u001b[0;32m   3364\u001b[0m \u001b[1;33m\u001b[0m\u001b[0m\n\u001b[0;32m   3365\u001b[0m         \u001b[1;32mif\u001b[0m \u001b[0mis_scalar\u001b[0m\u001b[1;33m(\u001b[0m\u001b[0mkey\u001b[0m\u001b[1;33m)\u001b[0m \u001b[1;32mand\u001b[0m \u001b[0misna\u001b[0m\u001b[1;33m(\u001b[0m\u001b[0mkey\u001b[0m\u001b[1;33m)\u001b[0m \u001b[1;32mand\u001b[0m \u001b[1;32mnot\u001b[0m \u001b[0mself\u001b[0m\u001b[1;33m.\u001b[0m\u001b[0mhasnans\u001b[0m\u001b[1;33m:\u001b[0m\u001b[1;33m\u001b[0m\u001b[1;33m\u001b[0m\u001b[0m\n",
      "\u001b[1;31mKeyError\u001b[0m: 'title'"
     ]
    }
   ],
   "source": [
    "response = requests.get('https://api.github.com/repos/ta-data-lis/lab-mysql-first-queries/pulls')\n",
    "data = pd.DataFrame(response.json())\n",
    "pr = data['title']\n",
    "pr_name = [a.split(']')[1].strip() for a in pr if len(a.split(']')) > 1]\n",
    "\n",
    "print(pr)\n",
    "print(pr_name)\n",
    "\n",
    "names = []\n",
    "\n",
    "for x in alias:\n",
    "    for a in pr_name:\n",
    "        if a.lower().find(x) != -1:\n",
    "            names.append(alias[x])\n",
    "\n",
    "print(names)\n",
    "\n",
    "book = openpyxl.load_workbook('labs.xlsx')\n",
    "\n",
    "for name in names:\n",
    "    sheet = book[name]\n",
    "    sheet['D3'] = 'Delivered'\n",
    "\n",
    "book.save('Labs.xlsx')"
   ]
  },
  {
   "cell_type": "markdown",
   "metadata": {},
   "source": [
    "### mysql-select"
   ]
  },
  {
   "cell_type": "code",
   "execution_count": 9,
   "metadata": {},
   "outputs": [
    {
     "name": "stdout",
     "output_type": "stream",
     "text": [
      "0     Update solution.sql\n",
      "1    Add files via upload\n",
      "Name: title, dtype: object\n",
      "[]\n",
      "[]\n"
     ]
    }
   ],
   "source": [
    "response = requests.get('https://api.github.com/repos/ta-data-lis/lab-mysql-select/pulls')\n",
    "data = pd.DataFrame(response.json())\n",
    "pr = data['title']\n",
    "pr_name = [a.split(']')[1].strip() for a in pr if len(a.split(']')) > 1]\n",
    "\n",
    "print(pr)\n",
    "print(pr_name)\n",
    "\n",
    "names = []\n",
    "\n",
    "for x in alias:\n",
    "    for a in pr_name:\n",
    "        if a.lower().find(x) != -1:\n",
    "            names.append(alias[x])\n",
    "\n",
    "print(names)\n",
    "\n",
    "book = openpyxl.load_workbook('labs.xlsx')\n",
    "\n",
    "for name in names:\n",
    "    sheet = book[name]\n",
    "    sheet['D4'] = 'Delivered'\n",
    "\n",
    "book.save('Labs.xlsx')"
   ]
  },
  {
   "cell_type": "markdown",
   "metadata": {},
   "source": [
    "### mysql-actions"
   ]
  },
  {
   "cell_type": "code",
   "execution_count": 10,
   "metadata": {},
   "outputs": [
    {
     "name": "stdout",
     "output_type": "stream",
     "text": [
      "0                         NS DA/PT NOV21\n",
      "1     [lab_mysql] [renato] first attempt\n",
      "2               [lab-mysql] Filipe Costa\n",
      "3                   [lab-mysql] Bernardo\n",
      "4              [lab_mysql]Sidnei Andrade\n",
      "5         [lab-mysql] Isabelle van Hoorn\n",
      "6              [lab-mysql-actions]Joseph\n",
      "7               [lab-mysql]GoncaloJardim\n",
      "8             [lab-mysql] Filipe Gardete\n",
      "9                   [lab-mysql]StanRocha\n",
      "10                    [lab-mysql] gladys\n",
      "Name: title, dtype: object\n",
      "['[renato', 'Filipe Costa', 'Bernardo', 'Sidnei Andrade', 'Isabelle van Hoorn', 'Joseph', 'GoncaloJardim', 'Filipe Gardete', 'StanRocha', 'gladys']\n",
      "[]\n"
     ]
    }
   ],
   "source": [
    "response = requests.get('https://api.github.com/repos/ta-data-lis/lab-mysql/pulls')\n",
    "data = pd.DataFrame(response.json())\n",
    "pr = data['title']\n",
    "pr_name = [a.split(']')[1].strip() for a in pr if len(a.split(']')) > 1]\n",
    "\n",
    "print(pr)\n",
    "print(pr_name)\n",
    "\n",
    "names = []\n",
    "\n",
    "for x in alias:\n",
    "    for a in pr_name:\n",
    "        if a.lower().find(x) != -1:\n",
    "            names.append(alias[x])\n",
    "\n",
    "print(names)\n",
    "\n",
    "book = openpyxl.load_workbook('labs.xlsx')\n",
    "\n",
    "for name in names:\n",
    "    sheet = book[name]\n",
    "    sheet['D5'] = 'Delivered'\n",
    "\n",
    "book.save('Labs.xlsx')"
   ]
  },
  {
   "cell_type": "markdown",
   "metadata": {},
   "source": [
    "### dataframe-calculations"
   ]
  },
  {
   "cell_type": "code",
   "execution_count": 11,
   "metadata": {},
   "outputs": [
    {
     "name": "stdout",
     "output_type": "stream",
     "text": [
      "0                Olha Popova lab dataframe calculation\n",
      "1    [lab-dataframe-calculations] [renato] first at...\n",
      "Name: title, dtype: object\n",
      "['[renato']\n",
      "[]\n"
     ]
    }
   ],
   "source": [
    "response = requests.get('https://api.github.com/repos/ta-data-lis/lab-dataframe-calculations/pulls')\n",
    "data = pd.DataFrame(response.json())\n",
    "pr = data['title']\n",
    "pr_name = [a.split(']')[1].strip() for a in pr if len(a.split(']')) > 1]\n",
    "\n",
    "print(pr)\n",
    "print(pr_name)\n",
    "\n",
    "names = []\n",
    "\n",
    "for x in alias:\n",
    "    for a in pr_name:\n",
    "        if a.lower().find(x) != -1:\n",
    "            names.append(alias[x])\n",
    "\n",
    "print(names)\n",
    "\n",
    "book = openpyxl.load_workbook('labs.xlsx')\n",
    "\n",
    "for name in names:\n",
    "    sheet = book[name]\n",
    "    sheet['D6'] = 'Delivered'\n",
    "\n",
    "book.save('Labs.xlsx')"
   ]
  },
  {
   "cell_type": "markdown",
   "metadata": {},
   "source": [
    "### advanced-pandas"
   ]
  },
  {
   "cell_type": "code",
   "execution_count": 12,
   "metadata": {},
   "outputs": [
    {
     "name": "stdout",
     "output_type": "stream",
     "text": [
      "0    [lab-advanced-pandas] [renato] first attempt\n",
      "1                     [lab-advanced-pandas]Joseph\n",
      "Name: title, dtype: object\n",
      "['[renato', 'Joseph']\n",
      "[]\n"
     ]
    }
   ],
   "source": [
    "response = requests.get('https://api.github.com/repos/ta-data-lis/lab-advanced-pandas/pulls')\n",
    "data = pd.DataFrame(response.json())\n",
    "pr = data['title']\n",
    "pr_name = [a.split(']')[1].strip() for a in pr if len(a.split(']')) > 1]\n",
    "\n",
    "print(pr)\n",
    "print(pr_name)\n",
    "\n",
    "names = []\n",
    "\n",
    "for x in alias:\n",
    "    for a in pr_name:\n",
    "        if a.lower().find(x) != -1:\n",
    "            names.append(alias[x])\n",
    "\n",
    "print(names)\n",
    "\n",
    "book = openpyxl.load_workbook('labs.xlsx')\n",
    "\n",
    "for name in names:\n",
    "    sheet = book[name]\n",
    "    sheet['D7'] = 'Delivered'\n",
    "\n",
    "book.save('Labs.xlsx')"
   ]
  },
  {
   "cell_type": "markdown",
   "metadata": {},
   "source": [
    "### import-export"
   ]
  },
  {
   "cell_type": "code",
   "execution_count": 13,
   "metadata": {},
   "outputs": [
    {
     "name": "stdout",
     "output_type": "stream",
     "text": [
      "0    [lab-import-export] [renato] first attempt\n",
      "Name: title, dtype: object\n",
      "['[renato']\n",
      "[]\n"
     ]
    }
   ],
   "source": [
    "response = requests.get('https://api.github.com/repos/ta-data-lis/lab-import-export/pulls')\n",
    "data = pd.DataFrame(response.json())\n",
    "pr = data['title']\n",
    "pr_name = [a.split(']')[1].strip() for a in pr if len(a.split(']')) > 1]\n",
    "\n",
    "print(pr)\n",
    "print(pr_name)\n",
    "\n",
    "names = []\n",
    "\n",
    "for x in alias:\n",
    "    for a in pr_name:\n",
    "        if a.lower().find(x) != -1:\n",
    "            names.append(alias[x])\n",
    "\n",
    "print(names)\n",
    "\n",
    "book = openpyxl.load_workbook('labs.xlsx')\n",
    "\n",
    "for name in names:\n",
    "    sheet = book[name]\n",
    "    sheet['D8'] = 'Delivered'\n",
    "\n",
    "book.save('Labs.xlsx')"
   ]
  },
  {
   "cell_type": "markdown",
   "metadata": {},
   "source": [
    "### data-cleaning"
   ]
  },
  {
   "cell_type": "code",
   "execution_count": 14,
   "metadata": {},
   "outputs": [
    {
     "name": "stdout",
     "output_type": "stream",
     "text": [
      "0    [lab-data-cleaning] [renato] first attempt\n",
      "Name: title, dtype: object\n",
      "['[renato']\n",
      "[]\n"
     ]
    }
   ],
   "source": [
    "response = requests.get('https://api.github.com/repos/ta-data-lis/lab-data-cleaning/pulls')\n",
    "data = pd.DataFrame(response.json())\n",
    "pr = data['title']\n",
    "pr_name = [a.split(']')[1].strip() for a in pr if len(a.split(']')) > 1]\n",
    "\n",
    "print(pr)\n",
    "print(pr_name)\n",
    "\n",
    "names = []\n",
    "\n",
    "for x in alias:\n",
    "    for a in pr_name:\n",
    "        if a.lower().find(x) != -1:\n",
    "            names.append(alias[x])\n",
    "\n",
    "print(names)\n",
    "\n",
    "book = openpyxl.load_workbook('labs.xlsx')\n",
    "\n",
    "for name in names:\n",
    "    sheet = book[name]\n",
    "    sheet['D9'] = 'Delivered'\n",
    "\n",
    "book.save('Labs.xlsx')"
   ]
  },
  {
   "cell_type": "markdown",
   "metadata": {},
   "source": [
    "### lambda functions"
   ]
  },
  {
   "cell_type": "code",
   "execution_count": 15,
   "metadata": {},
   "outputs": [
    {
     "name": "stdout",
     "output_type": "stream",
     "text": [
      "0    [lab-lambda-functons] [renato] first attempt\n",
      "1                                  [Lambda]Joseph\n",
      "Name: title, dtype: object\n",
      "['[renato', 'Joseph']\n",
      "[]\n"
     ]
    }
   ],
   "source": [
    "response = requests.get('https://api.github.com/repos/ta-data-lis/lab-lambda-functions/pulls')\n",
    "data = pd.DataFrame(response.json())\n",
    "pr = data['title']\n",
    "pr_name = [a.split(']')[1].strip() for a in pr if len(a.split(']')) > 1]\n",
    "\n",
    "print(pr)\n",
    "print(pr_name)\n",
    "\n",
    "names = []\n",
    "\n",
    "for x in alias:\n",
    "    for a in pr_name:\n",
    "        if a.lower().find(x) != -1:\n",
    "            names.append(alias[x])\n",
    "\n",
    "print(names)\n",
    "\n",
    "book = openpyxl.load_workbook('labs.xlsx')\n",
    "\n",
    "for name in names:\n",
    "    sheet = book[name]\n",
    "    sheet['D10'] = 'Delivered'\n",
    "\n",
    "book.save('Labs.xlsx')"
   ]
  },
  {
   "cell_type": "markdown",
   "metadata": {},
   "source": [
    "# Week 3"
   ]
  },
  {
   "cell_type": "markdown",
   "metadata": {},
   "source": [
    "### API Scavenger Game"
   ]
  },
  {
   "cell_type": "code",
   "execution_count": 3,
   "metadata": {},
   "outputs": [
    {
     "name": "stdout",
     "output_type": "stream",
     "text": [
      "0    [lab-api-scavenger] [renato] first attemp\n",
      "1             [lab-api-scavenger] Filipe Costa\n",
      "2        [ab-api-scavenger] Isabelle van Hoorn\n",
      "3                 [lab-api-scavenger] Bernardo\n",
      "4                     [api_scavenger]StanRocha\n",
      "5               [API scavenger] SIdnei Andrade\n",
      "6          [ lab-api-scavenger] Filipe Gardete\n",
      "7                   [lab-api-scavenger] gladys\n",
      "8           [ lab-api-scavenger ]GoncaloJardim\n",
      "Name: title, dtype: object\n",
      "['[renato', 'Filipe Costa', 'Isabelle van Hoorn', 'Bernardo', 'StanRocha', 'SIdnei Andrade', 'Filipe Gardete', 'gladys', 'GoncaloJardim']\n",
      "[]\n"
     ]
    }
   ],
   "source": [
    "response = requests.get('https://api.github.com/repos/ta-data-lis/lab-api-scavenger/pulls')\n",
    "data = pd.DataFrame(response.json())\n",
    "pr = data['title']\n",
    "pr_name = [a.split(']')[1].strip() for a in pr if len(a.split(']')) > 1]\n",
    "\n",
    "print(pr)\n",
    "print(pr_name)\n",
    "\n",
    "names = []\n",
    "\n",
    "for x in alias:\n",
    "    for a in pr_name:\n",
    "        if a.lower().find(x) != -1:\n",
    "            names.append(alias[x])\n",
    "\n",
    "print(names)\n",
    "\n",
    "book = openpyxl.load_workbook('labs.xlsx')\n",
    "\n",
    "for name in names:\n",
    "    sheet = book[name]\n",
    "    sheet['F3'] = 'Delivered'\n",
    "\n",
    "book.save('Labs.xlsx')"
   ]
  },
  {
   "cell_type": "markdown",
   "metadata": {},
   "source": [
    "### Web scraping"
   ]
  },
  {
   "cell_type": "code",
   "execution_count": 4,
   "metadata": {},
   "outputs": [
    {
     "name": "stdout",
     "output_type": "stream",
     "text": [
      "0                             Update main.ipynb\n",
      "1               [lab-web-scraping] Rafael Silva\n",
      "2    [lab-web-scraping] [renato] second attempt\n",
      "Name: title, dtype: object\n",
      "['Rafael Silva', '[renato']\n",
      "[]\n"
     ]
    }
   ],
   "source": [
    "response = requests.get('https://api.github.com/repos/ta-data-lis/lab-web-scraping/pulls')\n",
    "data = pd.DataFrame(response.json())\n",
    "pr = data['title']\n",
    "pr_name = [a.split(']')[1].strip() for a in pr if len(a.split(']')) > 1]\n",
    "\n",
    "print(pr)\n",
    "print(pr_name)\n",
    "\n",
    "names = []\n",
    "\n",
    "for x in alias:\n",
    "    for a in pr_name:\n",
    "        if a.lower().find(x) != -1:\n",
    "            names.append(alias[x])\n",
    "\n",
    "print(names)\n",
    "\n",
    "book = openpyxl.load_workbook('labs.xlsx')\n",
    "\n",
    "for name in names:\n",
    "    sheet = book[name]\n",
    "    sheet['F4'] = 'Delivered'\n",
    "\n",
    "book.save('Labs.xlsx')"
   ]
  },
  {
   "cell_type": "markdown",
   "metadata": {},
   "source": [
    "### Pandas deep dive"
   ]
  },
  {
   "cell_type": "code",
   "execution_count": 5,
   "metadata": {},
   "outputs": [
    {
     "name": "stdout",
     "output_type": "stream",
     "text": [
      "0             [lab-pandas-deep-dive]Bárbara Muniz\n",
      "1    [lab-pandas-deep-dive] [renato] first attemp\n",
      "Name: title, dtype: object\n",
      "['Bárbara Muniz', '[renato']\n",
      "['barbara']\n"
     ]
    }
   ],
   "source": [
    "response = requests.get('https://api.github.com/repos/ta-data-lis/lab-pandas-deep-dive/pulls')\n",
    "data = pd.DataFrame(response.json())\n",
    "pr = data['title']\n",
    "pr_name = [a.split(']')[1].strip() for a in pr if len(a.split(']')) > 1]\n",
    "\n",
    "print(pr)\n",
    "print(pr_name)\n",
    "\n",
    "names = []\n",
    "\n",
    "for x in alias:\n",
    "    for a in pr_name:\n",
    "        if a.lower().find(x) != -1:\n",
    "            names.append(alias[x])\n",
    "\n",
    "print(names)\n",
    "\n",
    "book = openpyxl.load_workbook('labs.xlsx')\n",
    "\n",
    "for name in names:\n",
    "    sheet = book[name]\n",
    "    sheet['F5'] = 'Delivered'\n",
    "\n",
    "book.save('Labs.xlsx')"
   ]
  },
  {
   "cell_type": "markdown",
   "metadata": {},
   "source": [
    "### Advanced regex"
   ]
  },
  {
   "cell_type": "code",
   "execution_count": 6,
   "metadata": {},
   "outputs": [
    {
     "name": "stdout",
     "output_type": "stream",
     "text": [
      "0                               Update main.ipynb\n",
      "1                      [lab-advanced-regex]Joseph\n",
      "2                   [lab-advanced-regex] Bernardo\n",
      "3                                            done\n",
      "4               [lab-advanced-regex] Filipe Costa\n",
      "5                 [Advanced Regex] Sidnei Andrade\n",
      "6     [lab-advanced-regex] [renato] first attempt\n",
      "7               [lab-advanced-regex]GoncaloJardim\n",
      "8                  [ lab-advanced-regex]StanRocha\n",
      "9          [lab-advanced-regex]Isabelle van Hoorn\n",
      "10           [ lab-advanced-regex] Filipe Gardete\n",
      "11                  Arthur Spriet[Advanced_regex]\n",
      "Name: title, dtype: object\n",
      "['Joseph', 'Bernardo', 'Filipe Costa', 'Sidnei Andrade', '[renato', 'GoncaloJardim', 'StanRocha', 'Isabelle van Hoorn', 'Filipe Gardete', '']\n",
      "[]\n"
     ]
    }
   ],
   "source": [
    "response = requests.get('https://api.github.com/repos/ta-data-lis/lab-advanced-regex/pulls')\n",
    "data = pd.DataFrame(response.json())\n",
    "pr = data['title']\n",
    "pr_name = [a.split(']')[1].strip() for a in pr if len(a.split(']')) > 1]\n",
    "\n",
    "print(pr)\n",
    "print(pr_name)\n",
    "\n",
    "names = []\n",
    "\n",
    "for x in alias:\n",
    "    for a in pr_name:\n",
    "        if a.lower().find(x) != -1:\n",
    "            names.append(alias[x])\n",
    "\n",
    "print(names)\n",
    "\n",
    "book = openpyxl.load_workbook('labs.xlsx')\n",
    "\n",
    "for name in names:\n",
    "    sheet = book[name]\n",
    "    sheet['F6'] = 'Delivered'\n",
    "\n",
    "book.save('Labs.xlsx')"
   ]
  },
  {
   "cell_type": "markdown",
   "metadata": {},
   "source": [
    "### Matplotlib and seaborn"
   ]
  },
  {
   "cell_type": "code",
   "execution_count": 7,
   "metadata": {},
   "outputs": [
    {
     "name": "stdout",
     "output_type": "stream",
     "text": [
      "0    [lab-matplotlib-seaborn] Rafael SIlva\n",
      "1    [lab-matplotlib-seaborn] Filipe Costa\n",
      "Name: title, dtype: object\n",
      "['Rafael SIlva', 'Filipe Costa']\n",
      "[]\n"
     ]
    }
   ],
   "source": [
    "response = requests.get('https://api.github.com/repos/ta-data-lis/lab-matplotlib-seaborn/pulls')\n",
    "data = pd.DataFrame(response.json())\n",
    "pr = data['title']\n",
    "pr_name = [a.split(']')[1].strip() for a in pr if len(a.split(']')) > 1]\n",
    "\n",
    "print(pr)\n",
    "print(pr_name)\n",
    "\n",
    "names = []\n",
    "\n",
    "for x in alias:\n",
    "    for a in pr_name:\n",
    "        if a.lower().find(x) != -1:\n",
    "            names.append(alias[x])\n",
    "\n",
    "print(names)\n",
    "\n",
    "book = openpyxl.load_workbook('labs.xlsx')\n",
    "\n",
    "for name in names:\n",
    "    sheet = book[name]\n",
    "    sheet['F7'] = 'Delivered'\n",
    "\n",
    "book.save('Labs.xlsx')"
   ]
  },
  {
   "cell_type": "markdown",
   "metadata": {},
   "source": [
    "# Week 4"
   ]
  },
  {
   "cell_type": "markdown",
   "metadata": {},
   "source": [
    "### lab-intro-bi-tableau"
   ]
  },
  {
   "cell_type": "code",
   "execution_count": 3,
   "metadata": {},
   "outputs": [
    {
     "name": "stdout",
     "output_type": "stream",
     "text": [
      "0                   [lab-intro-bi-tableau] Cecilia\n",
      "1             [lab-intro-bi-tableau] Bárbara Muniz\n",
      "2                       [lab-intro-bi-tableau]Joao\n",
      "3     [lab-intro-bi-tableau] [renato] first attemp\n",
      "4            [Lab intro to tableau] Sidnei Andrade\n",
      "5                 [ lab-intro-bi-tableau] Bernardo\n",
      "6              [lab-intro-bi-tableau] Filipe Costa\n",
      "7       [ lab-intro-bi-tableau] Isabelle van Hoorn\n",
      "8                                             Done\n",
      "9                        [lab-intro-tableau]Joseph\n",
      "10                [ lab-intro-bi-tableau]StanRocha\n",
      "Name: title, dtype: object\n",
      "['Cecilia', 'Bárbara Muniz', 'Joao', '[renato', 'Sidnei Andrade', 'Bernardo', 'Filipe Costa', 'Isabelle van Hoorn', 'Joseph', 'StanRocha']\n",
      "['barbara', 'cecilia', 'joao']\n"
     ]
    }
   ],
   "source": [
    "response = requests.get('https://api.github.com/repos/ta-data-lis/lab-intro-bi-tableau/pulls')\n",
    "data = pd.DataFrame(response.json())\n",
    "pr = data['title']\n",
    "pr_name = [a.split(']')[1].strip() for a in pr if len(a.split(']')) > 1]\n",
    "\n",
    "print(pr)\n",
    "print(pr_name)\n",
    "\n",
    "names = []\n",
    "\n",
    "for x in alias:\n",
    "    for a in pr_name:\n",
    "        if a.lower().find(x) != -1:\n",
    "            names.append(alias[x])\n",
    "\n",
    "print(names)\n",
    "\n",
    "book = openpyxl.load_workbook('labs.xlsx')\n",
    "\n",
    "for name in names:\n",
    "    sheet = book[name]\n",
    "    sheet['B13'] = 'Delivered'\n",
    "\n",
    "book.save('Labs.xlsx')"
   ]
  },
  {
   "cell_type": "markdown",
   "metadata": {},
   "source": [
    "### lab-bi-analysis-tableau"
   ]
  },
  {
   "cell_type": "code",
   "execution_count": 4,
   "metadata": {},
   "outputs": [
    {
     "name": "stdout",
     "output_type": "stream",
     "text": [
      "0    [lab-bi-analysis-tableau] [renato] first attempt\n",
      "1              [lab-bi-analysis-tableau] Filipe Costa\n",
      "2                                                done\n",
      "3                     [lab_bi-analysis-tableau]Joseph\n",
      "4        [lab-bi-analysis-tableau] Isabelle van Hoorn\n",
      "5              [lab-bi-analysis-tableau]GoncaloJardim\n",
      "6                  [lab-bi-analysis-tableau]StaNrOCHA\n",
      "7            [lab-bi-analysis-tableau] Filipe Gardete\n",
      "8                    [lab-bi-analysis-tableau] gladys\n",
      "Name: title, dtype: object\n",
      "['[renato', 'Filipe Costa', 'Joseph', 'Isabelle van Hoorn', 'GoncaloJardim', 'StaNrOCHA', 'Filipe Gardete', 'gladys']\n",
      "[]\n"
     ]
    }
   ],
   "source": [
    "response = requests.get('https://api.github.com/repos/ta-data-lis/lab-bi-analysis-tableau/pulls')\n",
    "data = pd.DataFrame(response.json())\n",
    "pr = data['title']\n",
    "pr_name = [a.split(']')[1].strip() for a in pr if len(a.split(']')) > 1]\n",
    "\n",
    "print(pr)\n",
    "print(pr_name)\n",
    "\n",
    "names = []\n",
    "\n",
    "for x in alias:\n",
    "    for a in pr_name:\n",
    "        if a.lower().find(x) != -1:\n",
    "            names.append(alias[x])\n",
    "\n",
    "print(names)\n",
    "\n",
    "book = openpyxl.load_workbook('labs.xlsx')\n",
    "\n",
    "for name in names:\n",
    "    sheet = book[name]\n",
    "    sheet['B14'] = 'Delivered'\n",
    "\n",
    "book.save('Labs.xlsx')"
   ]
  },
  {
   "cell_type": "markdown",
   "metadata": {},
   "source": [
    "### lab-pivot-table-and-correlation"
   ]
  },
  {
   "cell_type": "code",
   "execution_count": 5,
   "metadata": {},
   "outputs": [
    {
     "name": "stdout",
     "output_type": "stream",
     "text": [
      "0                 [lab-pivot-table-and-correlation]Joao\n",
      "1     [lab-pivot-table-and-correlation] - Rita Oliveira\n",
      "2     [lab-pivot-table-and-correlation] - Andre Pint...\n",
      "3              [lab-pivot-table-and-correlation]_AndreG\n",
      "4          Olha Popova lab pivot tables and correlation\n",
      "5        [lab-pivot-table-and-correlation] Rafael Silva\n",
      "6     Lab Pivot Table and Correlation - Beatriz Ramalho\n",
      "7             [lab-pivot-table-and-correlation]-matheus\n",
      "8     [lab-pivot-table-and-correlation] [renato] fir...\n",
      "9               [Lab pivot table and correlation]Joseph\n",
      "10           [lab-pivot-table-and-correlation] Bernardo\n",
      "11       [lab-pivot-table-and-correlation] Filipe Costa\n",
      "12                                                 Done\n",
      "13    [lab-pivot-table-and-correlation] Isabelle van...\n",
      "14          [ lab-pivot-table-and-correlation]StanRocha\n",
      "15     [lab-pivot-table-and-correlation] Filipe Gardete\n",
      "16       [lab-pivot-table-and-correlation]GoncaloJardim\n",
      "17             [lab-pivot-table-and-correlation] gladys\n",
      "Name: title, dtype: object\n",
      "['Joao', '- Rita Oliveira', '- Andre Pinto - November/Lisboa', '_AndreG', 'Rafael Silva', '-matheus', '[renato', 'Joseph', 'Bernardo', 'Filipe Costa', 'Isabelle van Hoorn', 'StanRocha', 'Filipe Gardete', 'GoncaloJardim', 'gladys']\n",
      "['joao']\n"
     ]
    }
   ],
   "source": [
    "response = requests.get('https://api.github.com/repos/ta-data-lis/lab-pivot-table-and-correlation/pulls')\n",
    "data = pd.DataFrame(response.json())\n",
    "pr = data['title']\n",
    "pr_name = [a.split(']')[1].strip() for a in pr if len(a.split(']')) > 1]\n",
    "\n",
    "print(pr)\n",
    "print(pr_name)\n",
    "\n",
    "names = []\n",
    "\n",
    "for x in alias:\n",
    "    for a in pr_name:\n",
    "        if a.lower().find(x) != -1:\n",
    "            names.append(alias[x])\n",
    "\n",
    "print(names)\n",
    "\n",
    "book = openpyxl.load_workbook('labs.xlsx')\n",
    "\n",
    "for name in names:\n",
    "    sheet = book[name]\n",
    "    sheet['B15'] = 'Delivered'\n",
    "\n",
    "book.save('Labs.xlsx')"
   ]
  },
  {
   "cell_type": "markdown",
   "metadata": {},
   "source": [
    "### Descriptive-Stats"
   ]
  },
  {
   "cell_type": "code",
   "execution_count": 6,
   "metadata": {},
   "outputs": [
    {
     "name": "stdout",
     "output_type": "stream",
     "text": [
      "0                    [Descriptive-Stats] Gonçalo\n",
      "1                    [Descriptive-Stats] Cecilia\n",
      "2                  [Descriptive-Stats] Ana Silva\n",
      "3     [Descriptive-Stats] [renato] first attempt\n",
      "4             [Lab Descriptive Statistics]Joseph\n",
      "5               [Descriptive-Stats] Filipe Costa\n",
      "6                   [Descriptive-Stats] Bernardo\n",
      "7                  [Descriptive-Stats] StanRocha\n",
      "8                                         spriet\n",
      "9                     [Descriptive-Stats] gladys\n",
      "10              [Descriptive-Stats]GoncaloJardim\n",
      "11            [Descriptive-Stats] Filipe Gardete\n",
      "Name: title, dtype: object\n",
      "['Gonçalo', 'Cecilia', 'Ana Silva', '[renato', 'Joseph', 'Filipe Costa', 'Bernardo', 'StanRocha', 'gladys', 'GoncaloJardim', 'Filipe Gardete']\n",
      "['anasilva', 'cecilia', 'goncalo']\n"
     ]
    }
   ],
   "source": [
    "response = requests.get('https://api.github.com/repos/ta-data-lis/Descriptive-Stats/pulls')\n",
    "data = pd.DataFrame(response.json())\n",
    "pr = data['title']\n",
    "pr_name = [a.split(']')[1].strip() for a in pr if len(a.split(']')) > 1]\n",
    "\n",
    "print(pr)\n",
    "print(pr_name)\n",
    "\n",
    "names = []\n",
    "\n",
    "for x in alias:\n",
    "    for a in pr_name:\n",
    "        if a.lower().find(x) != -1:\n",
    "            names.append(alias[x])\n",
    "\n",
    "print(names)\n",
    "\n",
    "book = openpyxl.load_workbook('labs.xlsx')\n",
    "\n",
    "for name in names:\n",
    "    sheet = book[name]\n",
    "    sheet['B16'] = 'Delivered'\n",
    "\n",
    "book.save('Labs.xlsx')"
   ]
  },
  {
   "cell_type": "markdown",
   "metadata": {},
   "source": [
    "### lab-regression-analysis"
   ]
  },
  {
   "cell_type": "code",
   "execution_count": 7,
   "metadata": {},
   "outputs": [
    {
     "name": "stdout",
     "output_type": "stream",
     "text": [
      "0             [lab-regression-analysis] - Rita Oliveira\n",
      "1     [lab-regression-analysis] - Andre Pinto - Nove...\n",
      "2                     [lab-regression-analysis] Gonçalo\n",
      "3                     [lab-regression-analysis] Cecilia\n",
      "4                   Olha Popova lab regression analysis\n",
      "5                      [lab-regression-analysis]_AndreG\n",
      "6                [lab-regression-analysis] Rafael Silva\n",
      "7             Lab Regression Analysis - Beatriz Ramalho\n",
      "8                     [lab-regression-analysis]-matheus\n",
      "9      [lab-regression-analysis] [renato] first attempt\n",
      "10                      [Lab regression analysis]Joseph\n",
      "11               [lab-regression-analysis] Filipe Costa\n",
      "12             [Lab regression analisys] Sidnei Andrade\n",
      "13                  [ lab-regression-analysis] Bernardo\n",
      "14                                                 done\n",
      "15         [lab-regression-analysis] Isabelle van Hoorn\n",
      "16                  [lab-regression-analysis] StanRocha\n",
      "17                     [lab-regression-analysis] gladys\n",
      "18             [lab-regression-analysis] Filipe Gardete\n",
      "19              [ lab-regression-analysis]GoncaloJardim\n",
      "Name: title, dtype: object\n",
      "['- Rita Oliveira', '- Andre Pinto - November/Lisboa', 'Gonçalo', 'Cecilia', '_AndreG', 'Rafael Silva', '-matheus', '[renato', 'Joseph', 'Filipe Costa', 'Sidnei Andrade', 'Bernardo', 'Isabelle van Hoorn', 'StanRocha', 'gladys', 'Filipe Gardete', 'GoncaloJardim']\n",
      "['cecilia', 'goncalo']\n"
     ]
    }
   ],
   "source": [
    "response = requests.get('https://api.github.com/repos/ta-data-lis/lab-regression-analysis/pulls')\n",
    "data = pd.DataFrame(response.json())\n",
    "pr = data['title']\n",
    "pr_name = [a.split(']')[1].strip() for a in pr if len(a.split(']')) > 1]\n",
    "\n",
    "print(pr)\n",
    "print(pr_name)\n",
    "\n",
    "names = []\n",
    "\n",
    "for x in alias:\n",
    "    for a in pr_name:\n",
    "        if a.lower().find(x) != -1:\n",
    "            names.append(alias[x])\n",
    "\n",
    "print(names)\n",
    "\n",
    "book = openpyxl.load_workbook('labs.xlsx')\n",
    "\n",
    "for name in names:\n",
    "    sheet = book[name]\n",
    "    sheet['B17'] = 'Delivered'\n",
    "\n",
    "book.save('Labs.xlsx')"
   ]
  },
  {
   "cell_type": "markdown",
   "metadata": {},
   "source": [
    "### lab-subsetting-and-descriptive-stats"
   ]
  },
  {
   "cell_type": "code",
   "execution_count": 8,
   "metadata": {},
   "outputs": [
    {
     "name": "stdout",
     "output_type": "stream",
     "text": [
      "0        [lab-subsetting-and-descriptive-stats] Gonçalo\n",
      "1        [lab-subsetting-and-descriptive-stats] Cecilia\n",
      "2      [lab-subsetting-and-descriptive-stats] Ana Silva\n",
      "3     [lab-subsetting-and-descriptive-stats] [renato...\n",
      "4     [lab-subsetting-and-descriptive-stats] Filipe ...\n",
      "5     [subsetting and descriptive stats] Sidnei Andrade\n",
      "6                                                  done\n",
      "7       [lab-subsetting-and-descriptive-stats] Bernardo\n",
      "8     [ lab-subsetting-and-descriptive-stats] StanRocha\n",
      "9     [lab-subsetting-and-descriptive-stats] Isabell...\n",
      "10    [lab-subsetting-and-descriptive-stats] Filipe ...\n",
      "11        [lab-subsetting-and-descriptive-stats] gladys\n",
      "12    [ lab-subsetting-and-descriptive-stats]Goncalo...\n",
      "Name: title, dtype: object\n",
      "['Gonçalo', 'Cecilia', 'Ana Silva', '[renato', 'Filipe Costa', 'Sidnei Andrade', 'Bernardo', 'StanRocha', 'Isabelle van Hoorn', 'Filipe Gardete', 'gladys', 'GoncaloJardim']\n",
      "['anasilva', 'cecilia', 'goncalo']\n"
     ]
    }
   ],
   "source": [
    "response = requests.get('https://api.github.com/repos/ta-data-lis/lab-subsetting-and-descriptive-stats/pulls')\n",
    "data = pd.DataFrame(response.json())\n",
    "pr = data['title']\n",
    "pr_name = [a.split(']')[1].strip() for a in pr if len(a.split(']')) > 1]\n",
    "\n",
    "print(pr)\n",
    "print(pr_name)\n",
    "\n",
    "names = []\n",
    "\n",
    "for x in alias:\n",
    "    for a in pr_name:\n",
    "        if a.lower().find(x) != -1:\n",
    "            names.append(alias[x])\n",
    "\n",
    "print(names)\n",
    "\n",
    "book = openpyxl.load_workbook('labs.xlsx')\n",
    "\n",
    "for name in names:\n",
    "    sheet = book[name]\n",
    "    sheet['B18'] = 'Delivered'\n",
    "\n",
    "book.save('Labs.xlsx')"
   ]
  },
  {
   "cell_type": "markdown",
   "metadata": {},
   "source": [
    "# Week 5"
   ]
  },
  {
   "cell_type": "markdown",
   "metadata": {},
   "source": [
    "### lab-intro-prob"
   ]
  },
  {
   "cell_type": "code",
   "execution_count": 9,
   "metadata": {},
   "outputs": [
    {
     "name": "stdout",
     "output_type": "stream",
     "text": [
      "0     [lab-intro-prob] - Andre Pinto - November/Lisboa\n",
      "1                             [lab-intro-prob] Cecilia\n",
      "2                           [lab-intro-prob] Ana Silva\n",
      "3                                 [lab-intro-prob]Joao\n",
      "4                             [lab-intro-prob] Gonçalo\n",
      "5                           [lab-intro-prob] anamatias\n",
      "6              Olha Popova introduction to probability\n",
      "7                     [lab-intro-prob] - Rita Oliveira\n",
      "8                              [lab-intro-prob]_AndreG\n",
      "9                     lab Intro Prob - Beatriz Ramalho\n",
      "10                       [lab-intro-prob] Rafael Silva\n",
      "11                            [lab-intro-prob]-matheus\n",
      "12                          [intro prb] Sidnei Andrade\n",
      "13                       [lab-intro-prob] Filipe Costa\n",
      "14             [lab-intro-prob] [renato] first attempt\n",
      "15                           [lab-intro-prob] Bernardo\n",
      "16                             [Lab intro prob] Joseph\n",
      "17                                        arthurspriet\n",
      "18                 [lab-intro-prob] Isabelle van Hoorn\n",
      "19                             [lab-intro-prob] gladys\n",
      "20                       [lab-intro-prob]GoncaloJardim\n",
      "21                     [lab-intro-prob] Filipe Gardete\n",
      "22                          [ lab-intro-prob]StanRocha\n",
      "Name: title, dtype: object\n",
      "['- Andre Pinto - November/Lisboa', 'Cecilia', 'Ana Silva', 'Joao', 'Gonçalo', 'anamatias', '- Rita Oliveira', '_AndreG', 'Rafael Silva', '-matheus', 'Sidnei Andrade', 'Filipe Costa', '[renato', 'Bernardo', 'Joseph', 'Isabelle van Hoorn', 'gladys', 'GoncaloJardim', 'Filipe Gardete', 'StanRocha']\n",
      "['anasilva', 'anamatias', 'cecilia', 'goncalo', 'joao']\n"
     ]
    }
   ],
   "source": [
    "response = requests.get('https://api.github.com/repos/ta-data-lis/lab-intro-prob/pulls')\n",
    "data = pd.DataFrame(response.json())\n",
    "pr = data['title']\n",
    "pr_name = [a.split(']')[1].strip() for a in pr if len(a.split(']')) > 1]\n",
    "\n",
    "print(pr)\n",
    "print(pr_name)\n",
    "\n",
    "names = []\n",
    "\n",
    "for x in alias:\n",
    "    for a in pr_name:\n",
    "        if a.lower().find(x) != -1:\n",
    "            names.append(alias[x])\n",
    "\n",
    "print(names)\n",
    "\n",
    "book = openpyxl.load_workbook('labs.xlsx')\n",
    "\n",
    "for name in names:\n",
    "    sheet = book[name]\n",
    "    sheet['D13'] = 'Delivered'\n",
    "\n",
    "book.save('Labs.xlsx')"
   ]
  },
  {
   "cell_type": "markdown",
   "metadata": {},
   "source": [
    "### lab-probability-distributions"
   ]
  },
  {
   "cell_type": "code",
   "execution_count": 10,
   "metadata": {},
   "outputs": [
    {
     "name": "stdout",
     "output_type": "stream",
     "text": [
      "0             [lab-probability-distributions] anamatias\n",
      "1                   [lab-probability-distributions]Joao\n",
      "2               [lab-probability-distributions] Cecilia\n",
      "3               [lab-probability-distributions] Gonçalo\n",
      "4        Lab Probability Distribution - Beatriz Ramalho\n",
      "5                [lab-probability-distributions]_AndreG\n",
      "6          [lab-probability-distributions] Rafael Silva\n",
      "7              [ lab-probability-distributions]-matheus\n",
      "8            [probability distributions] Sidnei Andrade\n",
      "9              [lab-probability-distributions] Bernardo\n",
      "10         [lab-probability-distributions] Filipe Costa\n",
      "11                [Lab probability distributions]Joseph\n",
      "12                                         arthurspriet\n",
      "13    [lab-probability-distributions] Isabelle van H...\n",
      "14                                                 done\n",
      "15               [lab-probability-distributions] gladys\n",
      "16            [ lab-probability-distributions]StanRocha\n",
      "17        [ lab-probability-distributions]GoncaloJardim\n",
      "18       [lab-probability-distributions] Filipe Gardete\n",
      "Name: title, dtype: object\n",
      "['anamatias', 'Joao', 'Cecilia', 'Gonçalo', '_AndreG', 'Rafael Silva', '-matheus', 'Sidnei Andrade', 'Bernardo', 'Filipe Costa', 'Joseph', 'Isabelle van Hoorn', 'gladys', 'StanRocha', 'GoncaloJardim', 'Filipe Gardete']\n",
      "['anamatias', 'cecilia', 'goncalo', 'joao']\n"
     ]
    }
   ],
   "source": [
    "response = requests.get('https://api.github.com/repos/ta-data-lis/lab-probability-distributions/pulls')\n",
    "data = pd.DataFrame(response.json())\n",
    "pr = data['title']\n",
    "pr_name = [a.split(']')[1].strip() for a in pr if len(a.split(']')) > 1]\n",
    "\n",
    "print(pr)\n",
    "print(pr_name)\n",
    "\n",
    "names = []\n",
    "\n",
    "for x in alias:\n",
    "    for a in pr_name:\n",
    "        if a.lower().find(x) != -1:\n",
    "            names.append(alias[x])\n",
    "\n",
    "print(names)\n",
    "\n",
    "book = openpyxl.load_workbook('labs.xlsx')\n",
    "\n",
    "for name in names:\n",
    "    sheet = book[name]\n",
    "    sheet['D14'] = 'Delivered'\n",
    "\n",
    "book.save('Labs.xlsx')"
   ]
  },
  {
   "cell_type": "markdown",
   "metadata": {},
   "source": [
    "### M2-mini-project2"
   ]
  },
  {
   "cell_type": "code",
   "execution_count": 11,
   "metadata": {},
   "outputs": [
    {
     "name": "stdout",
     "output_type": "stream",
     "text": [
      "0             [M2-mini-project] Joseph\n",
      "1            [M2-mini-project2] gladys\n",
      "2    \"M2-mini-project2\" Filipe Gardete\n",
      "3        [ M2-mini-project2] StanRocha\n",
      "4      [M2-mini-project2]GoncaloJardim\n",
      "Name: title, dtype: object\n",
      "['Joseph', 'gladys', 'StanRocha', 'GoncaloJardim']\n",
      "[]\n"
     ]
    }
   ],
   "source": [
    "response = requests.get('https://api.github.com/repos/ta-data-lis/M2-mini-project2/pulls')\n",
    "data = pd.DataFrame(response.json())\n",
    "pr = data['title']\n",
    "pr_name = [a.split(']')[1].strip() for a in pr if len(a.split(']')) > 1]\n",
    "\n",
    "print(pr)\n",
    "print(pr_name)\n",
    "\n",
    "names = []\n",
    "\n",
    "for x in alias:\n",
    "    for a in pr_name:\n",
    "        if a.lower().find(x) != -1:\n",
    "            names.append(alias[x])\n",
    "\n",
    "print(names)\n",
    "\n",
    "book = openpyxl.load_workbook('labs.xlsx')\n",
    "\n",
    "for name in names:\n",
    "    sheet = book[name]\n",
    "    sheet['D15'] = 'Delivered'\n",
    "\n",
    "book.save('Labs.xlsx')"
   ]
  },
  {
   "cell_type": "markdown",
   "metadata": {},
   "source": [
    "### lab-confidence-intervals"
   ]
  },
  {
   "cell_type": "code",
   "execution_count": 12,
   "metadata": {},
   "outputs": [
    {
     "name": "stdout",
     "output_type": "stream",
     "text": [
      "0                  [lab-confidence-intervals] Gonçalo\n",
      "1          Lab Confidence Intervals - Beatriz Ramalho\n",
      "2             [lab-confidence-intervals] Rafael Silva\n",
      "3                  [lab-confidence-intervals]-matheus\n",
      "4     [lab-confidence-interval] [renato] first attemp\n",
      "5               [Confidence intervals] Sidnei Andrade\n",
      "6                 [lab-confidence-intervals] Bernardo\n",
      "7             [lab-confidence-intervals] Filipe Costa\n",
      "8                   [Lab confidence intervals] Joseph\n",
      "9                                        arthurspriet\n",
      "10                                               done\n",
      "11     [ lab-confidence-intervals] Isabelle van Hoorn\n",
      "12                  [lab-confidence-intervals] gladys\n",
      "13               [ lab-confidence-intervals]StanRocha\n",
      "14          [lab-confidence-intervals] Filipe Gardete\n",
      "15           [ lab-confidence-intervals]GoncaloJardim\n",
      "Name: title, dtype: object\n",
      "['Gonçalo', 'Rafael Silva', '-matheus', '[renato', 'Sidnei Andrade', 'Bernardo', 'Filipe Costa', 'Joseph', 'Isabelle van Hoorn', 'gladys', 'StanRocha', 'Filipe Gardete', 'GoncaloJardim']\n",
      "['goncalo']\n"
     ]
    }
   ],
   "source": [
    "response = requests.get('https://api.github.com/repos/ta-data-lis/lab-confidence-intervals/pulls')\n",
    "data = pd.DataFrame(response.json())\n",
    "pr = data['title']\n",
    "pr_name = [a.split(']')[1].strip() for a in pr if len(a.split(']')) > 1]\n",
    "\n",
    "print(pr)\n",
    "print(pr_name)\n",
    "\n",
    "names = []\n",
    "\n",
    "for x in alias:\n",
    "    for a in pr_name:\n",
    "        if a.lower().find(x) != -1:\n",
    "            names.append(alias[x])\n",
    "\n",
    "print(names)\n",
    "\n",
    "book = openpyxl.load_workbook('labs.xlsx')\n",
    "\n",
    "for name in names:\n",
    "    sheet = book[name]\n",
    "    sheet['D16'] = 'Delivered'\n",
    "\n",
    "book.save('Labs.xlsx')"
   ]
  },
  {
   "cell_type": "markdown",
   "metadata": {},
   "source": [
    "### lab-hypothesis-testing-1"
   ]
  },
  {
   "cell_type": "code",
   "execution_count": 13,
   "metadata": {},
   "outputs": [
    {
     "name": "stdout",
     "output_type": "stream",
     "text": [
      "0                   [lab-hypothesis-testing-1]-matheus\n",
      "1           Lab Hypothesis Testing 1 - Beatriz Ramalho\n",
      "2    [lab-hypothesis-testing-1] [renato] first attempt\n",
      "3                 [ lab-hypothesis-testing-1]StanRocha\n",
      "4                    [Lab Hypothesis testing 1] Joseph\n",
      "5                                         arthurspriet\n",
      "6            [lab-hypothesis-testing-1] Filipe Gardete\n",
      "7                    [lab-hypothesis-testing-1] gladys\n",
      "8             [ lab-hypothesis-testing-1]GoncaloJardim\n",
      "Name: title, dtype: object\n",
      "['-matheus', '[renato', 'StanRocha', 'Joseph', 'Filipe Gardete', 'gladys', 'GoncaloJardim']\n",
      "[]\n"
     ]
    }
   ],
   "source": [
    "response = requests.get('https://api.github.com/repos/ta-data-lis/lab-hypothesis-testing-1/pulls')\n",
    "data = pd.DataFrame(response.json())\n",
    "pr = data['title']\n",
    "pr_name = [a.split(']')[1].strip() for a in pr if len(a.split(']')) > 1]\n",
    "\n",
    "print(pr)\n",
    "print(pr_name)\n",
    "\n",
    "names = []\n",
    "\n",
    "for x in alias:\n",
    "    for a in pr_name:\n",
    "        if a.lower().find(x) != -1:\n",
    "            names.append(alias[x])\n",
    "\n",
    "print(names)\n",
    "\n",
    "book = openpyxl.load_workbook('labs.xlsx')\n",
    "\n",
    "for name in names:\n",
    "    sheet = book[name]\n",
    "    sheet['D17'] = 'Delivered'\n",
    "\n",
    "book.save('Labs.xlsx')"
   ]
  },
  {
   "cell_type": "markdown",
   "metadata": {},
   "source": [
    "### lab-hypothesis-testing-2"
   ]
  },
  {
   "cell_type": "code",
   "execution_count": 14,
   "metadata": {},
   "outputs": [
    {
     "name": "stdout",
     "output_type": "stream",
     "text": [
      "0            [lab-hypothesis-testing-2]-matheus\n",
      "1          [ lab-hypothesis-testing-2]StanRocha\n",
      "2             [Lab Hypothesis testing 2] Joseph\n",
      "3    [ lab-hypothesis-testing-2] Filipe Gardete\n",
      "4       [lab-hypothesis-testing-2]GoncaloJardim\n",
      "5             [lab-hypothesis-testing-2] gladys\n",
      "Name: title, dtype: object\n",
      "['-matheus', 'StanRocha', 'Joseph', 'Filipe Gardete', 'GoncaloJardim', 'gladys']\n",
      "[]\n"
     ]
    }
   ],
   "source": [
    "response = requests.get('https://api.github.com/repos/ta-data-lis/lab-hypothesis-testing-2/pulls')\n",
    "data = pd.DataFrame(response.json())\n",
    "pr = data['title']\n",
    "pr_name = [a.split(']')[1].strip() for a in pr if len(a.split(']')) > 1]\n",
    "\n",
    "print(pr)\n",
    "print(pr_name)\n",
    "\n",
    "names = []\n",
    "\n",
    "for x in alias:\n",
    "    for a in pr_name:\n",
    "        if a.lower().find(x) != -1:\n",
    "            names.append(alias[x])\n",
    "\n",
    "print(names)\n",
    "\n",
    "book = openpyxl.load_workbook('labs.xlsx')\n",
    "\n",
    "for name in names:\n",
    "    sheet = book[name]\n",
    "    sheet['D18'] = 'Delivered'\n",
    "\n",
    "book.save('Labs.xlsx')"
   ]
  },
  {
   "cell_type": "markdown",
   "metadata": {},
   "source": [
    "### lab-two-sample-hyp-test"
   ]
  },
  {
   "cell_type": "code",
   "execution_count": 20,
   "metadata": {},
   "outputs": [
    {
     "name": "stdout",
     "output_type": "stream",
     "text": [
      "0           [lab-two-sample-hyp-test]-matheus\n",
      "1          [lab-two-sample-hyp-test] Bernardo\n",
      "2          [lab-two-sample-hyp-test]StanRocha\n",
      "3            [Lab two sample hip test] Joseph\n",
      "4    [lab-two-sample-hyp-test] Filipe Gardete\n",
      "5      [lab-two-sample-hyp-test]GoncaloJardim\n",
      "6            [lab-two-sample-hyp-test] gladys\n",
      "Name: title, dtype: object\n",
      "['-matheus', 'Bernardo', 'StanRocha', 'Joseph', 'Filipe Gardete', 'GoncaloJardim', 'gladys']\n",
      "[]\n"
     ]
    }
   ],
   "source": [
    "response = requests.get('https://api.github.com/repos/ta-data-lis/lab-two-sample-hyp-test/pulls')\n",
    "data = pd.DataFrame(response.json())\n",
    "pr = data['title']\n",
    "pr_name = [a.split(']')[1].strip() for a in pr if len(a.split(']')) > 1]\n",
    "\n",
    "print(pr)\n",
    "print(pr_name)\n",
    "\n",
    "names = []\n",
    "\n",
    "for x in alias:\n",
    "    for a in pr_name:\n",
    "        if a.lower().find(x) != -1:\n",
    "            names.append(alias[x])\n",
    "\n",
    "print(names)\n",
    "\n",
    "book = openpyxl.load_workbook('labs.xlsx')\n",
    "\n",
    "for name in names:\n",
    "    sheet = book[name]\n",
    "    sheet['D19'] = 'Delivered'\n",
    "\n",
    "book.save('Labs.xlsx')"
   ]
  },
  {
   "cell_type": "markdown",
   "metadata": {},
   "source": [
    "### lab-goodfit-indeptests"
   ]
  },
  {
   "cell_type": "code",
   "execution_count": 21,
   "metadata": {},
   "outputs": [
    {
     "name": "stdout",
     "output_type": "stream",
     "text": [
      "0            [lab-goodfit-indeptests]-matheus\n",
      "1    Lab Goodfit Indeptests - Beatriz Ramalho\n",
      "2            [goodness of fit] Sidnei Andrade\n",
      "3          [ lab-goodfit-indeptests] Bernardo\n",
      "4       [lab-goodfit-indeptests] Filipe Costa\n",
      "5     [lab-goodfit-indeptests] Filipe Gardete\n",
      "6           [lab-goodfit-indeptests]StanRocha\n",
      "7            [Lab good fit indeptests] Joseph\n",
      "8      [ lab-goodfit-indeptests]GoncaloJardim\n",
      "Name: title, dtype: object\n",
      "['-matheus', 'Sidnei Andrade', 'Bernardo', 'Filipe Costa', 'Filipe Gardete', 'StanRocha', 'Joseph', 'GoncaloJardim']\n",
      "[]\n"
     ]
    }
   ],
   "source": [
    "response = requests.get('https://api.github.com/repos/ta-data-lis/lab-goodfit-indeptests/pulls')\n",
    "data = pd.DataFrame(response.json())\n",
    "pr = data['title']\n",
    "pr_name = [a.split(']')[1].strip() for a in pr if len(a.split(']')) > 1]\n",
    "\n",
    "print(pr)\n",
    "print(pr_name)\n",
    "\n",
    "names = []\n",
    "\n",
    "for x in alias:\n",
    "    for a in pr_name:\n",
    "        if a.lower().find(x) != -1:\n",
    "            names.append(alias[x])\n",
    "\n",
    "print(names)\n",
    "\n",
    "book = openpyxl.load_workbook('labs.xlsx')\n",
    "\n",
    "for name in names:\n",
    "    sheet = book[name]\n",
    "    sheet['D20'] = 'Delivered'\n",
    "\n",
    "book.save('Labs.xlsx')"
   ]
  },
  {
   "cell_type": "markdown",
   "metadata": {},
   "source": [
    "### lab-intro-to-scipy"
   ]
  },
  {
   "cell_type": "code",
   "execution_count": 22,
   "metadata": {},
   "outputs": [
    {
     "name": "stdout",
     "output_type": "stream",
     "text": [
      "0    [lab-intro-to-scipy] [renato] first attempt\n",
      "1                   [intro scipy] Sidnei Andrade\n",
      "2                  [lab-intro-to-scipy] Bernardo\n",
      "3              [lab-intro-to-scipy] Filipe Costa\n",
      "4           [ lab-intro-to-scipy] Filipe Gardete\n",
      "5                [ lab-intro-to-scipy] StanRocha\n",
      "6        [lab-intro-to-scipy] Isabelle van Hoorn\n",
      "7              [lab-intro-to-scipy]GoncaloJardim\n",
      "Name: title, dtype: object\n",
      "['[renato', 'Sidnei Andrade', 'Bernardo', 'Filipe Costa', 'Filipe Gardete', 'StanRocha', 'Isabelle van Hoorn', 'GoncaloJardim']\n",
      "[]\n"
     ]
    }
   ],
   "source": [
    "response = requests.get('https://api.github.com/repos/ta-data-lis/lab-intro-to-scipy/pulls')\n",
    "data = pd.DataFrame(response.json())\n",
    "pr = data['title']\n",
    "pr_name = [a.split(']')[1].strip() for a in pr if len(a.split(']')) > 1]\n",
    "\n",
    "print(pr)\n",
    "print(pr_name)\n",
    "\n",
    "names = []\n",
    "\n",
    "for x in alias:\n",
    "    for a in pr_name:\n",
    "        if a.lower().find(x) != -1:\n",
    "            names.append(alias[x])\n",
    "\n",
    "print(names)\n",
    "\n",
    "book = openpyxl.load_workbook('labs.xlsx')\n",
    "\n",
    "for name in names:\n",
    "    sheet = book[name]\n",
    "    sheet['D21'] = 'Delivered'\n",
    "\n",
    "book.save('Labs.xlsx')"
   ]
  },
  {
   "cell_type": "code",
   "execution_count": null,
   "metadata": {},
   "outputs": [],
   "source": []
  }
 ],
 "metadata": {
  "kernelspec": {
   "display_name": "Python 3.10.4 ('model-deployment')",
   "language": "python",
   "name": "python3"
  },
  "language_info": {
   "codemirror_mode": {
    "name": "ipython",
    "version": 3
   },
   "file_extension": ".py",
   "mimetype": "text/x-python",
   "name": "python",
   "nbconvert_exporter": "python",
   "pygments_lexer": "ipython3",
   "version": "3.10.4"
  },
  "vscode": {
   "interpreter": {
    "hash": "d9fae6c475071b47418ff82577c54a33a1ea9b680268661fb2d5582d9995fd43"
   }
  }
 },
 "nbformat": 4,
 "nbformat_minor": 2
}
